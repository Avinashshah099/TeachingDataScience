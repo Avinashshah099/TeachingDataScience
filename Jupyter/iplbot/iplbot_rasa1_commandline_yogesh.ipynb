{
 "cells": [
  {
   "cell_type": "markdown",
   "metadata": {
    "colab_type": "text",
    "id": "3oxVq6vQ76r7"
   },
   "source": [
    "# IPL Chatbot\n",
    "\n",
    "Original: Learn how to Build and Deploy a Chatbot in Minutes using Rasa (IPL Case Study!) - Mohd Sanad Zaki Rizvi, Analytics Vidhya https://www.analyticsvidhya.com/blog/2019/04/learn-build-chatbot-rasa-nlp-ipl)"
   ]
  },
  {
   "cell_type": "markdown",
   "metadata": {
    "colab_type": "text",
    "id": "kIFYA-Kp8aK4"
   },
   "source": [
    "**Objectives** To build a chatbot capable of fetching latest info about the ongoing IPL (Indian Premier League) matches from cricapi.com site.\n",
    "\n",
    "<img src=\"images/ipl.jpg\">"
   ]
  },
  {
   "cell_type": "markdown",
   "metadata": {
    "colab_type": "text",
    "id": "yHYeAA859JGq"
   },
   "source": [
    "### Importing Libraries"
   ]
  },
  {
   "cell_type": "code",
   "execution_count": 2,
   "metadata": {
    "colab": {},
    "colab_type": "code",
    "collapsed": true,
    "id": "TSw6zFmk3iPu",
    "scrolled": true
   },
   "outputs": [],
   "source": [
    "%matplotlib inline\n",
    "import rasa"
   ]
  },
  {
   "cell_type": "markdown",
   "metadata": {},
   "source": [
    "### Creating Project Structure\n",
    "\n",
    "The rasa init command creates all the files that a Rasa project needs and trains a simple bot on some sample data. If you leave out the --no-prompt flag you will be asked some questions about how you want your project to be set up."
   ]
  },
  {
   "cell_type": "raw",
   "metadata": {},
   "source": [
    "!rasa init --no-prompt"
   ]
  },
  {
   "cell_type": "markdown",
   "metadata": {
    "colab_type": "text",
    "id": "oDEAOmaI9o4a"
   },
   "source": [
    "### Preparing the NLU Training Data\n",
    "\n",
    "Training data for extracting the user intent.\n",
    "As you can see, the format of training data for ‘intent’ is quite simple in Rasa. You just have to:\n",
    "\n",
    "- Start the line with “## intent:intent_name”\n",
    "- Supply all the examples in the following lines"
   ]
  },
  {
   "cell_type": "code",
   "execution_count": 1,
   "metadata": {
    "colab": {
     "base_uri": "https://localhost:8080/",
     "height": 34
    },
    "colab_type": "code",
    "id": "RPxeQ1_14CjK",
    "outputId": "bfb5974f-f8ea-46b8-b8cb-9dd4479ed9cc",
    "scrolled": true
   },
   "outputs": [
    {
     "name": "stdout",
     "output_type": "stream",
     "text": [
      "Writing 'nlu_md' (str) to file 'data/nlu.md'.\n"
     ]
    }
   ],
   "source": [
    "nlu_md = \"\"\"\n",
    "## intent:goodbye  \n",
    "- Bye \n",
    "- Goodbye\n",
    "- See you later\n",
    "- Bye bot\n",
    "- Goodbye friend\n",
    "- bye\n",
    "- bye for now\n",
    "- catch you later\n",
    "- gotta go\n",
    "- See you\n",
    "- goodnight\n",
    "- have a nice day\n",
    "- i'm off\n",
    "- see you later alligator\n",
    "- we'll speak soon\n",
    "- end\n",
    "- finish\n",
    "\n",
    "## intent:greet\n",
    "- Hi\n",
    "- Hey\n",
    "- Hi bot\n",
    "- Hey bot\n",
    "- Hello\n",
    "- Good morning\n",
    "- hi again\n",
    "- hi folks\n",
    "- hi Mister\n",
    "- hi pal!\n",
    "- hi there\n",
    "- greetings\n",
    "- hello everybody\n",
    "- hello is anybody there\n",
    "- hello robot\n",
    "- who are you?\n",
    "- what are you?\n",
    "- what's up\n",
    "- how do you do?\n",
    "\n",
    "## intent:thanks\n",
    "- Thanks\n",
    "- Thank you\n",
    "- Thank you so much\n",
    "- Thanks bot\n",
    "- Thanks for that\n",
    "- cheers\n",
    "- cheers bro\n",
    "- ok thanks!\n",
    "- perfect thank you\n",
    "- thanks a bunch for everything\n",
    "- thanks for the help\n",
    "- thanks a lot\n",
    "- amazing, thanks\n",
    "- cool, thanks\n",
    "- cool thank you\n",
    "\n",
    "## intent:affirm\n",
    "- y\n",
    "- Y\n",
    "- yes\n",
    "- yes sure\n",
    "- absolutely\n",
    "- for sure\n",
    "- yes yes yes\n",
    "- definitely\n",
    "- yes, it did.\n",
    "\n",
    "## intent:current_matches\n",
    "- what are the current matches\n",
    "- can you list the matches in ipl 2019\n",
    "- which cricket match is happening right now\n",
    "- which ipl match is next\n",
    "- which teams are playing next in ipl\n",
    "- which team will play next in ipl\n",
    "- tell me some ipl news\n",
    "- i want ipl updates\n",
    "- can you give me ipl latest updates\n",
    "- what are the latest match updates\n",
    "- who won the last ipl match\n",
    "- which teams are competing in the next match\n",
    "- how is ipl going\n",
    "- what was the result of the last match\n",
    "- when is the next match\n",
    "\n",
    "## intent:deny\n",
    "- no\n",
    "- never\n",
    "- I don't think so\n",
    "- don't like that\n",
    "- no way\n",
    "- not really\n",
    "- n\n",
    "- N\n",
    "\"\"\"\n",
    "\n",
    "%store nlu_md > data/nlu.md"
   ]
  },
  {
   "cell_type": "markdown",
   "metadata": {},
   "source": [
    "You can include as many examples as you want for each intent. In fact, make sure to include slangs and short forms that you use while texting. The idea is to make the chatbot understand the way we type text. Feel free to refer to the complete version where I have given plenty of examples for each intent type."
   ]
  },
  {
   "cell_type": "markdown",
   "metadata": {
    "colab_type": "text",
    "id": "ceazcacn9veB"
   },
   "source": [
    "### Defining the NLU Model Configuration\n",
    "\n",
    "This file lets us create a text processing pipeline in Rasa. Luckily for us, Rasa comes with two default settings based on the amount of training data we have:\n",
    "- “spacy_sklearn” pipeline if you have less than 1000 training examples\n",
    "- “tensorflow_embedding” if you have a large amount of data"
   ]
  },
  {
   "cell_type": "code",
   "execution_count": 3,
   "metadata": {
    "colab": {
     "base_uri": "https://localhost:8080/",
     "height": 34
    },
    "colab_type": "code",
    "id": "dF60NWhR4ID6",
    "outputId": "92946645-94fc-4450-aa41-eca8895ff83c"
   },
   "outputs": [
    {
     "name": "stdout",
     "output_type": "stream",
     "text": [
      "Writing 'config' (str) to file 'config.yml'.\n"
     ]
    }
   ],
   "source": [
    "config = \"\"\"# Configuration for Rasa NLU.\n",
    "# https://rasa.com/docs/rasa/nlu/components/\n",
    "language: en\n",
    "pipeline: supervised_embeddings\n",
    "\n",
    "# Configuration for Rasa Core.\n",
    "# https://rasa.com/docs/rasa/core/policies/\n",
    "policies:\n",
    "  - name: MemoizationPolicy\n",
    "  - name: KerasPolicy\n",
    "  - name: MappingPolicy\n",
    "\"\"\"\n",
    "%store config > config.yml"
   ]
  },
  {
   "cell_type": "markdown",
   "metadata": {
    "colab_type": "text",
    "id": "Av3R2GZZ-WJO"
   },
   "source": [
    "## Rasa Core: Making Interactive Conversations\n",
    "\n",
    "One of the most important aspects of a chatbot application is its ability to be interactive. \n",
    "\n",
    "### Designing the conversational flow\n",
    "\n",
    "Think of the simplest conversation our chatbot can have with a user. What would be the flow of such a conversation?\n",
    "\n",
    "---\n",
    "Me: Hi\n",
    "\n",
    "Iplbot: Hey! How may I help you?\n",
    "\n",
    "Me: What was the result of the last match?\n",
    "\n",
    "Iplbot: Here are some IPL quick info:\n",
    "1.The match between Rajasthan Royals and Delhi Capitals was recently held and Delhi Capitals won.\n",
    "2.The next match is Warriors vs Titans on 22 April 2019\n",
    "\n",
    "Iplbot: Did that help you?\n",
    "\n",
    "Me: yes, thank you!\n",
    "\n",
    "Iplbot: Glad that I could help!\n",
    "\n",
    "---\n",
    "Let’s see how we can teach a simple conversation like that to Rasa:\n"
   ]
  },
  {
   "cell_type": "raw",
   "metadata": {},
   "source": [
    "## news path 1\n",
    "* greet\n",
    "  - utter_greet\n",
    "* current_matches\n",
    "  - action_match_news\n",
    "  - utter_did_that_help\n",
    "* affirm or thanks\n",
    "  - utter_gratitude\n",
    "* goodbye\n",
    "  - utter_goodbye"
   ]
  },
  {
   "cell_type": "markdown",
   "metadata": {},
   "source": [
    "The general format is:"
   ]
  },
  {
   "cell_type": "raw",
   "metadata": {},
   "source": [
    "## news path 1           <--- story name for debugging purposes\n",
    "* greet                  <--- intent detected from the user\n",
    "  - utter_greet          <--- what action the bot should take\n",
    "* current_matches        <--- the following intent in the conversation"
   ]
  },
  {
   "cell_type": "markdown",
   "metadata": {},
   "source": [
    "This is called a user story path. I have provided a few stories in the data/stories.md file for your reference. This is the training data for Rasa Core."
   ]
  },
  {
   "cell_type": "markdown",
   "metadata": {
    "colab_type": "text",
    "id": "BKZ63AuS-ZPV"
   },
   "source": [
    "### Writing  Stories\n",
    "\n",
    "The way it works is:\n",
    "\n",
    "- Give some examples of sample story paths that the user is expected to follow\n",
    "- Rasa Core combines them randomly to create more complex user paths\n",
    "- It then builds a probabilistic model out of that. This model is used to predict the next action Rasa should take\n",
    "\n",
    "<img src=\"images/conversation_flow.png\">\n",
    "\n",
    "The above illustration might look complicated, but it’s simply listing out various possible user stories that I have taught Rasa. Here are a few things to note from the above graph:\n",
    "\n",
    "- Except for the START and END boxes, all the colored boxes indicate user intent\n",
    "- All the white boxes are actions that the chatbot performs\n",
    "- Arrows indicate the flow of the conversation\n",
    "- action_match_news is where we hit the CricAPI to get IPL information"
   ]
  },
  {
   "cell_type": "code",
   "execution_count": 4,
   "metadata": {
    "colab": {
     "base_uri": "https://localhost:8080/",
     "height": 34
    },
    "colab_type": "code",
    "id": "W3q1XJ5O4orY",
    "outputId": "a82511c7-b7e5-462c-c5c2-35df3cabd39a"
   },
   "outputs": [
    {
     "name": "stdout",
     "output_type": "stream",
     "text": [
      "Writing 'stories_md' (str) to file 'data/stories.md'.\n"
     ]
    }
   ],
   "source": [
    "stories_md = \"\"\"\n",
    "## news path 1\n",
    "* greet\n",
    "  - utter_greet\n",
    "* current_matches\n",
    "  - action_match_news\n",
    "  - utter_did_that_help\n",
    "* affirm or thanks\n",
    "  - utter_gratitude\n",
    "* goodbye\n",
    "  - utter_goodbye\n",
    "\n",
    "## news path 2\n",
    "* current_matches\n",
    "  - action_match_news\n",
    "  - utter_did_that_help\n",
    "* affirm or thanks\n",
    "  - utter_gratitude\n",
    "* goodbye\n",
    "  - utter_goodbye\n",
    "\n",
    "## news path 3\n",
    "* greet\n",
    "  - utter_greet\n",
    "* current_matches\n",
    "  - action_match_news\n",
    "  - utter_did_that_help\n",
    "* deny\n",
    "  - utter_ask_again\n",
    "* current_matches\n",
    "  - action_match_news\n",
    "  - utter_did_that_help\n",
    "* affirm or thanks\n",
    "  - utter_gratitude\n",
    "* goodbye\n",
    "  - utter_goodbye\n",
    "\n",
    "## greet path\n",
    "* greet\n",
    "  - utter_greet\n",
    "\n",
    "## goodbye path\n",
    "* goodbye\n",
    "  - utter_goodbye\n",
    "\"\"\"\n",
    "\n",
    "%store stories_md > data/stories.md"
   ]
  },
  {
   "cell_type": "markdown",
   "metadata": {
    "colab_type": "text",
    "id": "LnD9v_CX-ePm"
   },
   "source": [
    "### Defining the Domain\n",
    "\n",
    "The domain is the world of your chatbot. It contains everything the chatbot should know, including:\n",
    "\n",
    "- All the actions it is capable of doing\n",
    "- The intents it should understand\n",
    "- The template of all the utterances it should tell the user, and much more"
   ]
  },
  {
   "cell_type": "code",
   "execution_count": 5,
   "metadata": {
    "colab": {
     "base_uri": "https://localhost:8080/",
     "height": 34
    },
    "colab_type": "code",
    "id": "3SzQq1oy5U9T",
    "outputId": "4fde8c0d-9672-457c-cacc-0e86d3ca5c80"
   },
   "outputs": [
    {
     "name": "stdout",
     "output_type": "stream",
     "text": [
      "Writing 'domain_yml' (str) to file 'domain.yml'.\n"
     ]
    }
   ],
   "source": [
    "domain_yml = \"\"\"\n",
    "actions:\n",
    "- utter_greet\n",
    "- utter_did_that_help\n",
    "- utter_goodbye\n",
    "- action_match_news\n",
    "- utter_default\n",
    "- utter_gratitude\n",
    "- utter_ask_again\n",
    "\n",
    "intents:\n",
    "- goodbye\n",
    "- greet\n",
    "- thanks\n",
    "- current_matches\n",
    "- affirm\n",
    "- deny\n",
    "\n",
    "templates:\n",
    "  utter_greet:\n",
    "  - text: \"Hey! What can I do for you?\"\n",
    "  utter_did_that_help:\n",
    "  - text: \"Did that help you?\"\n",
    "  - text: \"I hope that solved your query\"\n",
    "  utter_goodbye:\n",
    "  - text: \"Bye\"\n",
    "  utter_default:\n",
    "  - text: \"I am sorry, I didn't get that. Could you please repeat your query?\"\n",
    "  - text: \"I am not sure what you are aiming for.\"\n",
    "  utter_gratitude:\n",
    "  - text: \"Glad that I could be of help to you!\"\n",
    "  utter_ask_again:\n",
    "  - text: \"Okay! Let's start again, please tell me what do you need?\"\n",
    "  - text: \"No issues! Let's try this again.\"\n",
    "\"\"\"\n",
    "\n",
    "%store domain_yml > domain.yml"
   ]
  },
  {
   "cell_type": "markdown",
   "metadata": {
    "colab_type": "text",
    "id": "ROL3AYs5-iCg"
   },
   "source": [
    "###  Custom Actions\n",
    "\n",
    "Using CricAPI for fetching IPL related news. It is free for 100 requests per day, which (I hope) is more than enough to satiate that cricket crazy passion you have.\n",
    "\n",
    "You need to first signup on the website to get access to their API:\n",
    "https://www.cricapi.com/\n",
    "\n",
    "You should be able to see your API Key once you are logged in:\n",
    "\n",
    "<img src=\"images/lala-1140x399.png\">\n",
    "\n",
    "Modifications to original code:\n",
    "\n",
    "- Instead of showing API key here it has been stored in ENV variable and fetched here\n",
    "- Key \"toss_winner_team\" was subsituted into depreceated key"
   ]
  },
  {
   "cell_type": "code",
   "execution_count": 6,
   "metadata": {
    "colab": {},
    "colab_type": "code",
    "id": "7SbmLMJa5X0E"
   },
   "outputs": [
    {
     "name": "stdout",
     "output_type": "stream",
     "text": [
      "Writing 'actions_py' (str) to file 'actions.py'.\n"
     ]
    }
   ],
   "source": [
    "actions_py=\"\"\"\n",
    "# -*- coding: utf-8 -*-\n",
    "from __future__ import absolute_import\n",
    "from __future__ import division\n",
    "from __future__ import print_function\n",
    "from __future__ import unicode_literals\n",
    "from datetime import datetime\n",
    "\n",
    "import logging\n",
    "import requests\n",
    "import json\n",
    "import os\n",
    "from rasa_sdk import Action\n",
    "\n",
    "logger = logging.getLogger(__name__)\n",
    "\n",
    "API_URL = \"https://cricapi.com/api/\"\n",
    "API_KEY = os.environ.get('CRICINFOAPI',\"\")\n",
    "\n",
    "class ApiAction(Action):\n",
    "    def name(self):\n",
    "        return \"action_match_news\"\n",
    "\n",
    "    def run(self, dispatcher, tracker, domain):\n",
    "        if API_KEY == \"\":\n",
    "            dispatcher.utter_message(\"Need to define environment variable CRICINFOAPI with key from \" + API_URL)\n",
    "            return []    \n",
    "        print(API_URL + \"matches\" + \"?apikey=\" + API_KEY)\n",
    "        res = requests.get(API_URL + \"matches\" + \"?apikey=\" + API_KEY) #, verify=False\n",
    "        if res.status_code == 200:\n",
    "            data = res.json()[\"matches\"]\n",
    "            recent_match = data[0]\n",
    "            upcoming_match = data[1]\n",
    "            upcoming_match[\"date\"] = datetime.strptime(upcoming_match[\"date\"], \"%Y-%m-%dT%H:%M:%S.%fZ\")\n",
    "            next_date = upcoming_match[\"date\"].strftime(\"%d %B %Y\")\n",
    "\n",
    "            out_message = \"Here some IPL quick info: 1.The match between {} and {} was recently held and {} won the toss.\".format(recent_match[\"team-1\"], recent_match[\"team-2\"], recent_match[\"toss_winner_team\"])\n",
    "\n",
    "            dispatcher.utter_message(out_message)\n",
    "\n",
    "            out_message = \"2.The next match is {} vs {} on {}\".format(upcoming_match[\"team-1\"], upcoming_match[\"team-2\"], next_date)\n",
    "\n",
    "            dispatcher.utter_message(out_message)\n",
    "\n",
    "            return []\n",
    "\"\"\"\n",
    "%store actions_py > actions.py"
   ]
  },
  {
   "cell_type": "markdown",
   "metadata": {},
   "source": [
    "Need endpoints yml to execute the actions server.\n",
    "\n",
    "Note: If you have external API call, like REST, need to have \"webhook\" word at the end, else nothing.\n",
    "\n",
    "My own query on this topic: https://forum.rasa.com/t/rasa-core-sdk-not-working/9228"
   ]
  },
  {
   "cell_type": "code",
   "execution_count": 7,
   "metadata": {},
   "outputs": [
    {
     "name": "stdout",
     "output_type": "stream",
     "text": [
      "Writing 'endpoints_yml' (str) to file 'endpoints.yml'.\n"
     ]
    }
   ],
   "source": [
    "endpoints_yml = \"\"\"\n",
    "#action_endpoint:\n",
    "#  url: \"http://ngrokurl:5055/webhook\"\n",
    "  \n",
    "action_endpoint:\n",
    "  url: http://localhost:5055/webhook\n",
    "\n",
    "#nlg:\n",
    "#  url: http://localhost:5056/nlg\n",
    "\n",
    "core_endpoint:\n",
    "  url: http://localhost:5005\n",
    "\"\"\"\n",
    "%store endpoints_yml > endpoints.yml"
   ]
  },
  {
   "cell_type": "markdown",
   "metadata": {
    "colab_type": "text",
    "id": "pCdKD3l7-ua8"
   },
   "source": [
    "### Training both (nlu, core) Models\n",
    "\n",
    "\"rasa train\" command will call the Rasa Core and NLU train functions and store the trained model into the models/ directory. The command will automatically only retrain the different model parts if something has changed in their data or configuration."
   ]
  },
  {
   "cell_type": "raw",
   "metadata": {
    "colab": {
     "base_uri": "https://localhost:8080/",
     "height": 7364
    },
    "colab_type": "code",
    "id": "4D7R-FRO5dxz",
    "outputId": "727adf2a-fa4b-4158-df94-30ad472f62f3"
   },
   "source": [
    "!rasa train"
   ]
  },
  {
   "cell_type": "markdown",
   "metadata": {
    "colab_type": "text",
    "id": "c4911z6y-5rD"
   },
   "source": [
    "## Running: Talk to your Bot\n",
    "\n",
    "So we have the chatbot ready. It’s time to chat"
   ]
  },
  {
   "cell_type": "markdown",
   "metadata": {},
   "source": [
    "In a new window, go to project directory, activate rasa environment and"
   ]
  },
  {
   "cell_type": "raw",
   "metadata": {
    "colab": {
     "base_uri": "https://localhost:8080/",
     "height": 34
    },
    "colab_type": "code",
    "id": "nE4coPam5hry",
    "outputId": "c8ec135b-882b-4e9e-a955-f3e184177817"
   },
   "source": [
    "!python -W ignore -m rasa run actions"
   ]
  },
  {
   "cell_type": "markdown",
   "metadata": {},
   "source": [
    "\"-W ignore\" removes the numpy FutureWarnings\n",
    "\n",
    "In the current window"
   ]
  },
  {
   "cell_type": "raw",
   "metadata": {
    "colab": {
     "base_uri": "https://localhost:8080/",
     "height": 292
    },
    "colab_type": "code",
    "id": "DDVLzhAT5yrP",
    "outputId": "aee3fc83-df97-42b4-c7e0-c8929f76337c"
   },
   "source": [
    "!python -W ignore -m rasa shell --quiet --enable-api --log-file out.log --cors *"
   ]
  },
  {
   "cell_type": "markdown",
   "metadata": {},
   "source": [
    "<img src=\"images/ipl_bot_shell.png\">"
   ]
  },
  {
   "cell_type": "markdown",
   "metadata": {
    "colab": {},
    "colab_type": "code",
    "id": "enJNkbvB54y1"
   },
   "source": [
    "## What Next?\n",
    "\n",
    "- Try to use different pipelines in Rasa Core, explore more Policies, fine-tune those models, \n",
    "- Check out what other features CricAPI provides, etc.\n",
    "- Other APIs\n",
    "- Slot filling\n",
    "- Different languages (Hindi bot?)\n",
    "\n"
   ]
  },
  {
   "cell_type": "code",
   "execution_count": null,
   "metadata": {
    "collapsed": true
   },
   "outputs": [],
   "source": []
  }
 ],
 "metadata": {
  "accelerator": "GPU",
  "anaconda-cloud": {},
  "colab": {
   "include_colab_link": true,
   "name": "Conversational_Chatbot.ipynb",
   "provenance": [],
   "version": "0.3.2"
  },
  "kernelspec": {
   "display_name": "Python [conda env:rasa] *",
   "language": "python",
   "name": "conda-env-rasa-py"
  },
  "language_info": {
   "codemirror_mode": {
    "name": "ipython",
    "version": 3
   },
   "file_extension": ".py",
   "mimetype": "text/x-python",
   "name": "python",
   "nbconvert_exporter": "python",
   "pygments_lexer": "ipython3",
   "version": "3.7.4"
  }
 },
 "nbformat": 4,
 "nbformat_minor": 1
}
