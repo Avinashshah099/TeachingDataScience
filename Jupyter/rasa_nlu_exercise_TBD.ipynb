{
 "cells": [
  {
   "cell_type": "markdown",
   "metadata": {
    "colab_type": "text",
    "id": "3oxVq6vQ76r7"
   },
   "source": [
    "# IPL Chatbot\n",
    "\n",
    "Original: Learn how to Build and Deploy a Chatbot in Minutes using Rasa (IPL Case Study!) - Mohd Sanad Zaki Rizvi, Analytics Vidhya https://www.analyticsvidhya.com/blog/2019/04/learn-build-chatbot-rasa-nlp-ipl)"
   ]
  },
  {
   "cell_type": "markdown",
   "metadata": {
    "colab_type": "text",
    "id": "kIFYA-Kp8aK4"
   },
   "source": [
    "**Objectives** To build a chatbot capable of fetching latest info about the ongoing IPL (Indian Premier League) matches from cricapi.com site.\n",
    "\n",
    "<img src=\"images/ipl.jpg\">"
   ]
  },
  {
   "cell_type": "markdown",
   "metadata": {},
   "source": [
    "## Rasa Stack\n",
    "\n",
    "- Lets you focus on improving the “Chatbot” part of your project \n",
    "- Default set up of Rasa works really well right out of the box for intent extraction and dialogue management\n",
    "- LOCAL models, no API calls for intent extraction and dialogue management, except if your business logic needs external calls."
   ]
  },
  {
   "cell_type": "markdown",
   "metadata": {},
   "source": [
    "## Architecture of chatbot\n",
    "\n",
    "<img src=\"images/rasa_full4.png\">\n",
    "\n",
    "\n",
    "- As soon as Rasa receives a message from the end user, it tries to predict or extract the “intent” and “entities” present in the message. This part is handled by Rasa NLU\n",
    "- Once the user’s intent is identified, the Rasa Stack performs an action called action_match_news to get the updates from the latest IPL match\n",
    "- Rasa then tries to predict what it should do next. This decision is taken considering multiple factors and is handled by Rasa Core\n",
    "- In this example, Rasa is showing the result of the most recent match to the user. It has also predicted the next action that our model should take – to check with the user whether the chatbot was able to solve his/her query"
   ]
  },
  {
   "cell_type": "markdown",
   "metadata": {
    "colab_type": "text",
    "id": "IVAF41hr8jU5"
   },
   "source": [
    "## Installations\n",
    "Official Documentation: https://rasa.com/docs/core/installation/\n",
    "* Python\n",
    "* Rasa Starter Pack\n",
    "* Spacy Language Model\n",
    "\n",
    "\n",
    "### Python\n",
    "* Install Anaconda 4.2.0 for Python 3.5 or Ananconda 5.2.0 for Python 3.6 \n",
    "* Windows Build tools: Make sure the Microsoft $VC++$ Compiler Visual Studio 2015 is installed, so python can compile any dependencies or https://visualstudio.microsoft.com/visual-cpp-build-tools/ Download the installer and select VC++ Build tools in the list.\n",
    "\n",
    "(My Note: on main page of Anaconda is https://www.anaconda.com/distribution/ you see Python 3.7, which is problematic, gives HTTP error while creating env. I had to delete 3.7 and get 3.6. Btw, this site does not mention which Anaconda installer has which Python version. WHY? thats the most crucial info. Anyway, I have given them here.)\n",
    "\n",
    "### Python Environment\n",
    "* By installing conda, you get base or the root environment, which is the default.\n",
    "* Practical tip: DO NOT install any packages in the root. ALWAYS create and env and install inside the new env.\n",
    "* Env is needed esepcially for fragile packages like Python (its treated as a package) and rasa.\n",
    "* So, **conda create -n rasa python=3.6** \n",
    "\n",
    "(My Note: Env management is again a sour point. It creates complete copy (deeeep) of python 3.6 and all other packages inside \"envs\" folder. Goes to 1.5 GB!! Can someone optimize it?)\n",
    "\n",
    "\n",
    "### IPL bot code (for reference)\n",
    "\n",
    "* Clone repo from https://github.com/mohdsanadzakirizvi/iplbot.git\n",
    "* \"Complete Version\" gives latest running application (Some modifications are needed, mentioned below)\n",
    "\n",
    "<!---\n",
    "* Let’s take a look at the folder structure and the files that were created \n",
    "<img src=\"images/nlu.png\">\n",
    "* Install git, can git clone above package.\n",
    "-->\n",
    "\n",
    "* **WE WILL BE CODING IT FROM SCRATCH**\n",
    "* Run following commands:\n",
    "\n",
    "* **mkdir code; cd code;mkdir data**\n",
    "* **activate rasa**\n",
    "* **pip install -r iplbot_requirements.txt** or **conda env create -f environment.yml**\n",
    "\n",
    "\n",
    "### Spacy Language Models\n",
    "* Open cmd in Administrator mode and activate the env\n",
    "* Download medium english by **python -m spacy download en_core_web_md** \n",
    "* Link with **python -m spacy link en_core_web_md en --force**\n",
    "\n",
    "\n",
    "(My Note: First command will show that linking is done, but it may not have happened actually. So, do next step anyway.)\n",
    "\n",
    "### Others\n",
    "* Install nb_conda_kernels to let Jupyter Notebook see the new env\n",
    "* Create account on cricapi.com (free, can login using Google account). Note down API Key and set it as CRICINFOAPI env variable\n",
    "\n",
    "<!---\n",
    "* Need Rasa Core SDK for custom actions **pip install rasa_core_sdk** and run it as **python -m rasa_core_sdk.endpoint --actions actions** where actions.py has all the custom actions\n",
    "* Install pygraphviz by **conda install -c alubbock pygraphviz**\n",
    "-->"
   ]
  },
  {
   "cell_type": "markdown",
   "metadata": {
    "colab_type": "text",
    "id": "yHYeAA859JGq"
   },
   "source": [
    "### Importing Libraries"
   ]
  },
  {
   "cell_type": "code",
   "execution_count": 1,
   "metadata": {
    "colab": {},
    "colab_type": "code",
    "id": "TSw6zFmk3iPu",
    "scrolled": true
   },
   "outputs": [
    {
     "name": "stdout",
     "output_type": "stream",
     "text": [
      "Event loop ready.\n"
     ]
    }
   ],
   "source": [
    "%matplotlib inline\n",
    "\n",
    "import nest_asyncio\n",
    "\n",
    "nest_asyncio.apply()\n",
    "print(\"Event loop ready.\")\n",
    "\n",
    "import logging, io, json, warnings\n",
    "logging.basicConfig(level=\"INFO\")\n",
    "warnings.filterwarnings('ignore')\n",
    "# import rasa\n",
    "import rasa_nlu\n",
    "import rasa_core\n",
    "import spacy"
   ]
  },
  {
   "cell_type": "markdown",
   "metadata": {
    "colab_type": "text",
    "id": "aEw5vhSq9gWa"
   },
   "source": [
    "## Rasa NLU: Extracting User Intent from a Message\n",
    "\n",
    "The first thing we want to do is figure out the intent of the user. What does he or she want to accomplish? Let’s utilize Rasa and build an NLU model to identify user intent and its related entities."
   ]
  },
  {
   "cell_type": "markdown",
   "metadata": {
    "colab_type": "text",
    "id": "oDEAOmaI9o4a"
   },
   "source": [
    "### Preparing the NLU Training Data\n",
    "\n",
    "Training data for extracting the user intent.\n",
    "As you can see, the format of training data for ‘intent’ is quite simple in Rasa. You just have to:\n",
    "\n",
    "- Start the line with “## intent:intent_name”\n",
    "- Supply all the examples in the following lines"
   ]
  },
  {
   "cell_type": "code",
   "execution_count": 2,
   "metadata": {
    "colab": {
     "base_uri": "https://localhost:8080/",
     "height": 34
    },
    "colab_type": "code",
    "id": "RPxeQ1_14CjK",
    "outputId": "bfb5974f-f8ea-46b8-b8cb-9dd4479ed9cc"
   },
   "outputs": [
    {
     "name": "stdout",
     "output_type": "stream",
     "text": [
      "Writing 'nlu_md' (str) to file 'data/nlu_data.md'.\n"
     ]
    }
   ],
   "source": [
    "nlu_md = \"\"\"\n",
    "## intent:goodbye  \n",
    "- Bye \n",
    "- Goodbye\n",
    "- See you later\n",
    "- Bye bot\n",
    "- Goodbye friend\n",
    "- bye\n",
    "- bye for now\n",
    "- catch you later\n",
    "- gotta go\n",
    "- See you\n",
    "- goodnight\n",
    "- have a nice day\n",
    "- i'm off\n",
    "- see you later alligator\n",
    "- we'll speak soon\n",
    "- end\n",
    "- finish\n",
    "\n",
    "## intent:greet\n",
    "- Hi\n",
    "- Hey\n",
    "- Hi bot\n",
    "- Hey bot\n",
    "- Hello\n",
    "- Good morning\n",
    "- hi again\n",
    "- hi folks\n",
    "- hi Mister\n",
    "- hi pal!\n",
    "- hi there\n",
    "- greetings\n",
    "- hello everybody\n",
    "- hello is anybody there\n",
    "- hello robot\n",
    "- who are you?\n",
    "- what are you?\n",
    "- what's up\n",
    "- how do you do?\n",
    "\n",
    "## intent:thanks\n",
    "- Thanks\n",
    "- Thank you\n",
    "- Thank you so much\n",
    "- Thanks bot\n",
    "- Thanks for that\n",
    "- cheers\n",
    "- cheers bro\n",
    "- ok thanks!\n",
    "- perfect thank you\n",
    "- thanks a bunch for everything\n",
    "- thanks for the help\n",
    "- thanks a lot\n",
    "- amazing, thanks\n",
    "- cool, thanks\n",
    "- cool thank you\n",
    "\n",
    "## intent:affirm\n",
    "- y\n",
    "- Y\n",
    "- yes\n",
    "- yes sure\n",
    "- absolutely\n",
    "- for sure\n",
    "- yes yes yes\n",
    "- definitely\n",
    "- yes, it did.\n",
    "\n",
    "## intent:current_matches\n",
    "- what are the current matches\n",
    "- can you list the matches in ipl 2019\n",
    "- which cricket match is happening right now\n",
    "- which ipl match is next\n",
    "- which teams are playing next in ipl\n",
    "- which team will play next in ipl\n",
    "- tell me some ipl news\n",
    "- i want ipl updates\n",
    "- can you give me ipl latest updates\n",
    "- what are the latest match updates\n",
    "- who won the last ipl match\n",
    "- which teams are competing in the next match\n",
    "- how is ipl going\n",
    "- what was the result of the last match\n",
    "- when is the next match\n",
    "\n",
    "## intent:deny\n",
    "- no\n",
    "- never\n",
    "- I don't think so\n",
    "- don't like that\n",
    "- no way\n",
    "- not really\n",
    "- n\n",
    "- N\n",
    "\"\"\"\n",
    "\n",
    "%store nlu_md > data/nlu_data.md"
   ]
  },
  {
   "cell_type": "markdown",
   "metadata": {},
   "source": [
    "You can include as many examples as you want for each intent. In fact, make sure to include slangs and short forms that you use while texting. The idea is to make the chatbot understand the way we type text. Feel free to refer to the complete version where I have given plenty of examples for each intent type."
   ]
  },
  {
   "cell_type": "markdown",
   "metadata": {
    "colab_type": "text",
    "id": "ceazcacn9veB"
   },
   "source": [
    "### Defining the NLU Model Configuration\n",
    "\n",
    "This file lets us create a text processing pipeline in Rasa. Luckily for us, Rasa comes with two default settings based on the amount of training data we have:\n",
    "- “spacy_sklearn” pipeline if you have less than 1000 training examples\n",
    "- “tensorflow_embedding” if you have a large amount of data"
   ]
  },
  {
   "cell_type": "code",
   "execution_count": 3,
   "metadata": {
    "colab": {
     "base_uri": "https://localhost:8080/",
     "height": 34
    },
    "colab_type": "code",
    "id": "dF60NWhR4ID6",
    "outputId": "92946645-94fc-4450-aa41-eca8895ff83c"
   },
   "outputs": [
    {
     "name": "stdout",
     "output_type": "stream",
     "text": [
      "Writing 'config' (str) to file 'config/nlu_config.yml'.\n"
     ]
    }
   ],
   "source": [
    "config = \"\"\"\n",
    "language: \"en\"\n",
    "pipeline: spacy_sklearn\n",
    "\"\"\" \n",
    "\n",
    "%store config > config/nlu_config.yml"
   ]
  },
  {
   "cell_type": "markdown",
   "metadata": {
    "colab_type": "text",
    "id": "ieoWk91X9y8X"
   },
   "source": [
    "### Training the NLU Classifier Model\n",
    "\n",
    "On command line you can run following command:\n",
    "\n",
    "**python -m rasa_nlu.train -c nlu_config.yml --data data/nlu_data.md -o models --fixed_model_name nlu --project current --verbose**\n",
    "\n",
    "Or programmatically you can write code"
   ]
  },
  {
   "cell_type": "code",
   "execution_count": null,
   "metadata": {
    "colab": {
     "base_uri": "https://localhost:8080/",
     "height": 445
    },
    "colab_type": "code",
    "id": "dp3AIHmS4L6x",
    "outputId": "8011c4f7-c789-4138-84d7-4710207615d8"
   },
   "outputs": [],
   "source": [
    "from rasa_nlu.training_data import load_data\n",
    "# from rasa_nlu.converters import load_data\n",
    "from rasa_nlu.config import RasaNLUModelConfig\n",
    "from rasa_nlu.model import Trainer\n",
    "from rasa_nlu import config\n",
    "\n",
    "# loading the nlu training samples\n",
    "training_data = load_data(\"data/nlu_data.md\")\n",
    "\n",
    "# trainer to educate our pipeline\n",
    "trainer = Trainer(config.load(\"config/nlu_config.yml\"))\n",
    "\n",
    "# train the model!\n",
    "interpreter = trainer.train(training_data)\n",
    "\n",
    "# store it for future use\n",
    "model_directory = trainer.persist(\"./models/nlu\", fixed_model_name=\"current\")"
   ]
  },
  {
   "cell_type": "markdown",
   "metadata": {
    "colab_type": "text",
    "id": "Jrfp4xOS95ZZ"
   },
   "source": [
    "### Evaluating the NLU model on a random text (first way)\n",
    "\n",
    "Let’s test how good our model is performing by giving it a sample text that it hasn’t been trained on for extracting intent. "
   ]
  },
  {
   "cell_type": "code",
   "execution_count": null,
   "metadata": {
    "colab": {
     "base_uri": "https://localhost:8080/",
     "height": 867
    },
    "colab_type": "code",
    "id": "4UjzlqMV4N1k",
    "outputId": "37ea93e5-6a71-4e8e-d2b6-a45144d184ad"
   },
   "outputs": [],
   "source": [
    "# A helper function for prettier output\n",
    "\n",
    "def pprint(o):   \n",
    "    print(json.dumps(o, indent=2))\n",
    "    \n",
    "pprint(interpreter.parse(\"what is happening in the cricket world these days?\"))"
   ]
  },
  {
   "cell_type": "markdown",
   "metadata": {},
   "source": [
    "Not only does our NLU model perform well on intent extraction, but it also ranks the other intents based on their confidence scores. This is a nifty little feature that can be really useful when the classifier is confused between multiple intents."
   ]
  },
  {
   "cell_type": "markdown",
   "metadata": {},
   "source": [
    "### Evaluating the NLU model on a random text (2nd way)\n",
    "Let’s test how good our model is performing by giving it a sample text that it hasn’t been trained on for extracting intent. You can open an iPython/Python shell and follow the following steps:"
   ]
  },
  {
   "cell_type": "code",
   "execution_count": null,
   "metadata": {},
   "outputs": [],
   "source": [
    "from rasa_nlu.model import Interpreter\n",
    "nlu_model = Interpreter.load('./models/nlu/current')\n",
    "nlu_model.parse('what is happening in the cricket world these days?')"
   ]
  },
  {
   "cell_type": "markdown",
   "metadata": {
    "colab_type": "text",
    "id": "OPlSd-As-Fz4"
   },
   "source": [
    "### Evaluating the NLU model on a test data\n",
    "(Here we are using the data at hand i.e nlu.md but it isr recommended to use unseen data)"
   ]
  },
  {
   "cell_type": "code",
   "execution_count": null,
   "metadata": {
    "colab": {
     "base_uri": "https://localhost:8080/",
     "height": 1483
    },
    "colab_type": "code",
    "id": "FmRCylbT4jyw",
    "outputId": "fd1bfd57-ebb3-4541-d3b3-b4cbba781164"
   },
   "outputs": [],
   "source": [
    "from rasa_nlu.test import run_evaluation\n",
    "\n",
    "run_evaluation(\"data/nlu_data.md\", model_directory)"
   ]
  },
  {
   "cell_type": "markdown",
   "metadata": {
    "colab_type": "text",
    "id": "Av3R2GZZ-WJO"
   },
   "source": [
    "## Rasa Core: Making Interactive Conversations\n",
    "\n",
    "One of the most important aspects of a chatbot application is its ability to be interactive. \n",
    "\n",
    "### Designing the conversational flow\n",
    "\n",
    "Think of the simplest conversation our chatbot can have with a user. What would be the flow of such a conversation?\n",
    "\n",
    "---\n",
    "Me: Hi\n",
    "\n",
    "Iplbot: Hey! How may I help you?\n",
    "\n",
    "Me: What was the result of the last match?\n",
    "\n",
    "Iplbot: Here are some IPL quick info:\n",
    "1.The match between Rajasthan Royals and Delhi Capitals was recently held and Delhi Capitals won.\n",
    "2.The next match is Warriors vs Titans on 22 April 2019\n",
    "\n",
    "Iplbot: Did that help you?\n",
    "\n",
    "Me: yes, thank you!\n",
    "\n",
    "Iplbot: Glad that I could help!\n",
    "\n",
    "---\n",
    "Let’s see how we can teach a simple conversation like that to Rasa:\n"
   ]
  },
  {
   "cell_type": "raw",
   "metadata": {},
   "source": [
    "## news path 1\n",
    "* greet\n",
    "  - utter_greet\n",
    "* current_matches\n",
    "  - action_match_news\n",
    "  - utter_did_that_help\n",
    "* affirm or thanks\n",
    "  - utter_gratitude\n",
    "* goodbye\n",
    "  - utter_goodbye"
   ]
  },
  {
   "cell_type": "markdown",
   "metadata": {},
   "source": [
    "The general format is:"
   ]
  },
  {
   "cell_type": "raw",
   "metadata": {},
   "source": [
    "## news path 1           <--- story name for debugging purposes\n",
    "* greet                  <--- intent detected from the user\n",
    "  - utter_greet          <--- what action the bot should take\n",
    "* current_matches        <--- the following intent in the conversation"
   ]
  },
  {
   "cell_type": "markdown",
   "metadata": {},
   "source": [
    "This is called a user story path. I have provided a few stories in the data/stories.md file for your reference. This is the training data for Rasa Core."
   ]
  },
  {
   "cell_type": "markdown",
   "metadata": {
    "colab_type": "text",
    "id": "BKZ63AuS-ZPV"
   },
   "source": [
    "### Writing  Stories\n",
    "\n",
    "The way it works is:\n",
    "\n",
    "- Give some examples of sample story paths that the user is expected to follow\n",
    "- Rasa Core combines them randomly to create more complex user paths\n",
    "- It then builds a probabilistic model out of that. This model is used to predict the next action Rasa should take\n",
    "\n",
    "<img src=\"images/conversation_flow.png\">\n",
    "\n",
    "The above illustration might look complicated, but it’s simply listing out various possible user stories that I have taught Rasa. Here are a few things to note from the above graph:\n",
    "\n",
    "- Except for the START and END boxes, all the colored boxes indicate user intent\n",
    "- All the white boxes are actions that the chatbot performs\n",
    "- Arrows indicate the flow of the conversation\n",
    "- action_match_news is where we hit the CricAPI to get IPL information"
   ]
  },
  {
   "cell_type": "code",
   "execution_count": null,
   "metadata": {
    "colab": {
     "base_uri": "https://localhost:8080/",
     "height": 34
    },
    "colab_type": "code",
    "id": "W3q1XJ5O4orY",
    "outputId": "a82511c7-b7e5-462c-c5c2-35df3cabd39a"
   },
   "outputs": [],
   "source": [
    "stories_md = \"\"\"\n",
    "## news path 1\n",
    "* greet\n",
    "  - utter_greet\n",
    "* current_matches\n",
    "  - action_match_news\n",
    "  - utter_did_that_help\n",
    "* affirm or thanks\n",
    "  - utter_gratitude\n",
    "* goodbye\n",
    "  - utter_goodbye\n",
    "\n",
    "## news path 2\n",
    "* current_matches\n",
    "  - action_match_news\n",
    "  - utter_did_that_help\n",
    "* affirm or thanks\n",
    "  - utter_gratitude\n",
    "* goodbye\n",
    "  - utter_goodbye\n",
    "\n",
    "## news path 3\n",
    "* greet\n",
    "  - utter_greet\n",
    "* current_matches\n",
    "  - action_match_news\n",
    "  - utter_did_that_help\n",
    "* deny\n",
    "  - utter_ask_again\n",
    "* current_matches\n",
    "  - action_match_news\n",
    "  - utter_did_that_help\n",
    "* affirm or thanks\n",
    "  - utter_gratitude\n",
    "* goodbye\n",
    "  - utter_goodbye\n",
    "\n",
    "## greet path\n",
    "* greet\n",
    "  - utter_greet\n",
    "\n",
    "## goodbye path\n",
    "* goodbye\n",
    "  - utter_goodbye\n",
    "\"\"\"\n",
    "\n",
    "%store stories_md > data/stories.md"
   ]
  },
  {
   "cell_type": "markdown",
   "metadata": {},
   "source": [
    "Now, generate a similar graph for your stories using the following command:\n",
    "\n",
    "**python -m rasa_core.visualize -d domain.yml -s data/stories.md -o graph.html**\n",
    "\n",
    "This is very helpful when debugging the conversational flow of the chatbot."
   ]
  },
  {
   "cell_type": "markdown",
   "metadata": {
    "colab_type": "text",
    "id": "LnD9v_CX-ePm"
   },
   "source": [
    "### Defining the Domain\n",
    "\n",
    "The domain is the world of your chatbot. It contains everything the chatbot should know, including:\n",
    "\n",
    "- All the actions it is capable of doing\n",
    "- The intents it should understand\n",
    "- The template of all the utterances it should tell the user, and much more"
   ]
  },
  {
   "cell_type": "code",
   "execution_count": null,
   "metadata": {
    "colab": {
     "base_uri": "https://localhost:8080/",
     "height": 34
    },
    "colab_type": "code",
    "id": "3SzQq1oy5U9T",
    "outputId": "4fde8c0d-9672-457c-cacc-0e86d3ca5c80"
   },
   "outputs": [],
   "source": [
    "domain_yml = \"\"\"\n",
    "actions:\n",
    "- utter_greet\n",
    "- utter_did_that_help\n",
    "- utter_goodbye\n",
    "- action_match_news\n",
    "- utter_default\n",
    "- utter_gratitude\n",
    "- utter_ask_again\n",
    "\n",
    "intents:\n",
    "- goodbye\n",
    "- greet\n",
    "- thanks\n",
    "- current_matches\n",
    "- affirm\n",
    "- deny\n",
    "\n",
    "templates:\n",
    "  utter_greet:\n",
    "  - text: \"Hey! What can I do for you?\"\n",
    "  utter_did_that_help:\n",
    "  - text: \"Did that help you?\"\n",
    "  - text: \"I hope that solved your query\"\n",
    "  utter_goodbye:\n",
    "  - text: \"Bye\"\n",
    "  utter_default:\n",
    "  - text: \"I am sorry, I didn't get that. Could you please repeat your query?\"\n",
    "  - text: \"I am not sure what you are aiming for.\"\n",
    "  utter_gratitude:\n",
    "  - text: \"Glad that I could be of help to you!\\nBye\"\n",
    "  utter_ask_again:\n",
    "  - text: \"Okay! Let's start again, please tell me what do you need?\"\n",
    "  - text: \"No issues! Let's try this again.\\n Please repeat your query?\"\n",
    "\"\"\"\n",
    "\n",
    "%store domain_yml > config/domain.yml"
   ]
  },
  {
   "cell_type": "markdown",
   "metadata": {},
   "source": [
    "### Setting Policies\n",
    "\n",
    "Rasa Core generates the training data for the conversational part using the stories we provide. It also lets you define a set of policies to use when deciding the next action of the chatbot. These policies are defined in the policies.yml file."
   ]
  },
  {
   "cell_type": "code",
   "execution_count": null,
   "metadata": {},
   "outputs": [],
   "source": [
    "policies_yml = \"\"\"\n",
    "policies:\n",
    "  - name: KerasPolicy\n",
    "    epochs: 100\n",
    "    max_history: 5\n",
    "  - name: FallbackPolicy\n",
    "    fallback_action_name: 'action_default_fallback'\n",
    "  - name: MemoizationPolicy\n",
    "    max_history: 5\n",
    "\"\"\"\n",
    "\n",
    "%store policies_yml > config/policies.yml"
   ]
  },
  {
   "cell_type": "markdown",
   "metadata": {},
   "source": [
    "Notes:\n",
    "- KerasPolicy uses a neural network implemented in Keras to select the next action. The default architecture is based on an LSTM (Long Short Term Memory) model\n",
    "- MemoizationPolicy memorizes the conversations in your training data. It predicts the next action with confidence 1.0 if this exact conversation exists in the training data, otherwise, it predicts ‘None’ with confidence 0.0\n",
    "- FallbackPolicy invokes a fallback action if the intent recognition has confidence below nlu_threshold or if none of the dialogue policies predict action with confidence higher than core_threshold\n",
    "- One important hyperparameter for Rasa Core policies is the max_history. This controls how much dialogue history the model looks at to decide which action to take next"
   ]
  },
  {
   "cell_type": "markdown",
   "metadata": {
    "colab_type": "text",
    "id": "ROL3AYs5-iCg"
   },
   "source": [
    "###  Custom Actions\n",
    "\n",
    "Using CricAPI for fetching IPL related news. It is free for 100 requests per day, which (I hope) is more than enough to satiate that cricket crazy passion you have.\n",
    "\n",
    "You need to first signup on the website to get access to their API:\n",
    "https://www.cricapi.com/\n",
    "\n",
    "You should be able to see your API Key once you are logged in:\n",
    "\n",
    "<img src=\"images/lala-1140x399.png\">\n",
    "\n",
    "Modifications to original code:\n",
    "\n",
    "- Instead of showing API key here it has been stored in ENV variable and fetched here\n",
    "- Key \"toss_winner_team\" was subsituted into depreceated key"
   ]
  },
  {
   "cell_type": "code",
   "execution_count": null,
   "metadata": {
    "colab": {},
    "colab_type": "code",
    "id": "7SbmLMJa5X0E"
   },
   "outputs": [],
   "source": [
    "actions_py=\"\"\"\n",
    "# -*- coding: utf-8 -*-\n",
    "from __future__ import absolute_import\n",
    "from __future__ import division\n",
    "from __future__ import print_function\n",
    "from __future__ import unicode_literals\n",
    "from datetime import datetime\n",
    "\n",
    "import logging\n",
    "import requests\n",
    "import json\n",
    "import os\n",
    "from rasa_core_sdk import Action\n",
    "\n",
    "logger = logging.getLogger(__name__)\n",
    "\n",
    "API_URL = \"https://cricapi.com/api/\"\n",
    "API_KEY = os.environ.get('CRICINFOAPI')\n",
    "\n",
    "class ApiAction(Action):\n",
    "    def name(self):\n",
    "        return \"action_match_news\"\n",
    "\n",
    "    def run(self, dispatcher, tracker, domain):\n",
    "        print(API_URL + \"matches\" + \"?apikey=\" + API_KEY)\n",
    "        res = requests.get(API_URL + \"matches\" + \"?apikey=\" + API_KEY) #, verify=False\n",
    "        if res.status_code == 200:\n",
    "            data = res.json()[\"matches\"]\n",
    "            recent_match = data[0]\n",
    "            upcoming_match = data[1]\n",
    "            upcoming_match[\"date\"] = datetime.strptime(upcoming_match[\"date\"], \"%Y-%m-%dT%H:%M:%S.%fZ\")\n",
    "            next_date = upcoming_match[\"date\"].strftime(\"%d %B %Y\")\n",
    "\n",
    "            out_message = \"Here some IPL quick info: 1.The match between {} and {} was recently held and {} won the toss.\".format(recent_match[\"team-1\"], recent_match[\"team-2\"], recent_match[\"toss_winner_team\"])\n",
    "\n",
    "            dispatcher.utter_message(out_message)\n",
    "\n",
    "            out_message = \"2.The next match is {} vs {} on {}\".format(upcoming_match[\"team-1\"], upcoming_match[\"team-2\"], next_date)\n",
    "\n",
    "            dispatcher.utter_message(out_message)\n",
    "\n",
    "            return []\n",
    "\"\"\"\n",
    "%store actions_py > actions.py"
   ]
  },
  {
   "cell_type": "markdown",
   "metadata": {},
   "source": [
    "Need endpoints yml to execute the actions server.\n",
    "\n",
    "Note: If you have external API call, like REST, need to have \"webhook\" word at the end, else nothing.\n",
    "\n",
    "My own query on this topic: https://forum.rasa.com/t/rasa-core-sdk-not-working/9228"
   ]
  },
  {
   "cell_type": "code",
   "execution_count": null,
   "metadata": {},
   "outputs": [],
   "source": [
    "endpoints_yml = \"\"\"\n",
    "#action_endpoint:\n",
    "#  url: \"http://localhost:5055/webhook\"\n",
    "  \n",
    "action_endpoint:\n",
    "  url: http://localhost:5055/webhook\n",
    "\n",
    "#nlg:\n",
    "#  url: http://localhost:5056/nlg\n",
    "\n",
    "core_endpoint:\n",
    "  url: http://localhost:5005\n",
    "\"\"\"\n",
    "%store endpoints_yml > endpoints.yml"
   ]
  },
  {
   "cell_type": "markdown",
   "metadata": {},
   "source": [
    "In a separate shell (cmd for Windows):\n",
    "- **activate rasa**\n",
    "- come to directory where actions.py is and then run\n",
    "- **python -m rasa_core_sdk.endpoint --actions actions**\n",
    "\n",
    "This way, custom action server starts ..."
   ]
  },
  {
   "cell_type": "code",
   "execution_count": null,
   "metadata": {},
   "outputs": [],
   "source": [
    "# import sys\n",
    "# python = sys.executable\n",
    "# !{python} -m rasa_core_sdk.endpoint --actions actions"
   ]
  },
  {
   "cell_type": "markdown",
   "metadata": {
    "colab_type": "text",
    "id": "M-jn1g_k-o-m"
   },
   "source": [
    "###  Visualising the Training Data"
   ]
  },
  {
   "cell_type": "raw",
   "metadata": {
    "colab": {
     "base_uri": "https://localhost:8080/",
     "height": 1090
    },
    "colab_type": "code",
    "id": "O1gYRXe15amU",
    "outputId": "9c0838e3-56c1-4eeb-a879-cc09619269d3"
   },
   "source": [
    "\n",
    "from IPython.display import Image, display\n",
    "from rasa_core.agent import Agent\n",
    "%matplotlib inline\n",
    "\n",
    "agent = Agent('config/domain.yml')\n",
    "agent.visualize(\"data/stories.md\", \"story_graph.png\", max_history=2)\n",
    "i = Image(filename=\"story_graph.png\")\n",
    "display(i)"
   ]
  },
  {
   "cell_type": "markdown",
   "metadata": {
    "colab_type": "text",
    "id": "pCdKD3l7-ua8"
   },
   "source": [
    "### Training a Dialogue Model\n",
    "\n",
    "You can train the model using the following command:\n",
    "\n",
    "**python -m rasa_core.train -d domain.yml -s data/stories.md -o models/current/dialogue -c policies.yml**\n",
    "\n",
    "Or do it programmatically as:"
   ]
  },
  {
   "cell_type": "code",
   "execution_count": null,
   "metadata": {
    "colab": {
     "base_uri": "https://localhost:8080/",
     "height": 7364
    },
    "colab_type": "code",
    "id": "4D7R-FRO5dxz",
    "outputId": "727adf2a-fa4b-4158-df94-30ad472f62f3"
   },
   "outputs": [],
   "source": [
    "import asyncio\n",
    "from rasa_core.policies import FallbackPolicy, KerasPolicy, MemoizationPolicy, MappingPolicy\n",
    "from rasa_core.agent import Agent\n",
    "\n",
    "# this will catch predictions the model isn't very certain about\n",
    "# there is a threshold for the NLU predictions as well as the action predictions\n",
    "fallback = FallbackPolicy(fallback_action_name=\"utter_unclear\",\n",
    "                          core_threshold=0.2,\n",
    "                          nlu_threshold=0.1)\n",
    "\n",
    "# agent = Agent('domain.yml', policies=[MemoizationPolicy(), KerasPolicy(), fallback])\n",
    "\n",
    "agent = Agent('config/domain.yml', policies = [MemoizationPolicy(max_history=2), KerasPolicy(validation_split=0.2,epochs=200),MappingPolicy()])\n",
    "# loop = asyncio.get_event_loop() # https://github.com/RasaHQ/rasa/issues/3649\n",
    "# training_data = loop.run_until_complete(agent.load_data('data/stories.md'))\n",
    "training_data = await agent.load_data('data/stories.md') # https://forum.rasa.com/t/call-agent-train-occurs-typeerror-coroutine-object-is-not-iterable/10135/10\n",
    "# loading our neatly defined training dialogues\n",
    "# training_data = agent.load_data('data/stories.md')\n",
    "\n",
    "agent.train(training_data)\n",
    "# FOLLOWING WAY OF giving arguments is depreacted, instead, give these params as arguments to KerasPolicy\n",
    "# agent.train(\n",
    "#     training_data,\n",
    "#     validation_split=0.0,\n",
    "#     epochs=200\n",
    "# )\n",
    "\n",
    "agent.persist('models/current/dialogue')"
   ]
  },
  {
   "cell_type": "markdown",
   "metadata": {
    "colab_type": "text",
    "id": "c4911z6y-5rD"
   },
   "source": [
    "## Running: Talk to your Bot\n",
    "\n",
    "So we have the chatbot ready. It’s time to chat"
   ]
  },
  {
   "cell_type": "markdown",
   "metadata": {},
   "source": [
    "One way is to run following command in shell (windows cmd)\n",
    "- activate the environment,\n",
    "- come to directory where actions.py is and then run\n",
    "- **python -m rasa_core.run -d models/current/dialogue -u models/current/nlu --endpoints endpoints.yml**\n",
    "\n",
    "Or else do programmatically like below\n",
    "\n",
    "Both approaches expect rasa core sdk server running in a separate window, else **python -m rasa_core_sdk.endpoint --actions actions**"
   ]
  },
  {
   "cell_type": "code",
   "execution_count": null,
   "metadata": {
    "colab": {
     "base_uri": "https://localhost:8080/",
     "height": 34
    },
    "colab_type": "code",
    "id": "nE4coPam5hry",
    "outputId": "c8ec135b-882b-4e9e-a955-f3e184177817"
   },
   "outputs": [],
   "source": [
    "# #Starting the Bot\n",
    "\n",
    "import IPython\n",
    "from IPython.display import clear_output\n",
    "from rasa_core.agent import Agent\n",
    "from rasa_core.interpreter import NaturalLanguageInterpreter\n",
    "# from rasa_core.utils import EndpointConfig\n",
    "from rasa.utils.endpoints import EndpointConfig\n",
    "import asyncio\n",
    "import time\n",
    "\n",
    "def load_assistant():\n",
    "    messages = [\"Hi! you can chat in this window. Type 'stop' to end the conversation.\"]\n",
    "    model_dir = 'models/nlu/current' # or model_directory defined earlier\n",
    "    interpreter = NaturalLanguageInterpreter.create(model_dir)\n",
    "    endpoint = EndpointConfig('http://localhost:5055/webhook')\n",
    "    agent = Agent.load('models/current/dialogue', interpreter=interpreter, action_endpoint = endpoint)\n",
    "\n",
    "    print(\"Your bot is ready to talk! Type your messages here or send 'stop'\")\n",
    "    while True:\n",
    "        a = input()\n",
    "        if a == 'stop':\n",
    "            break\n",
    "        responses = asyncio.run(agent.handle_text(a)) # For Python 3.7\n",
    "#         responses = agent.handle_text(a)\n",
    "        for response in responses:\n",
    "            print(response[\"text\"])"
   ]
  },
  {
   "cell_type": "code",
   "execution_count": null,
   "metadata": {
    "colab": {
     "base_uri": "https://localhost:8080/",
     "height": 292
    },
    "colab_type": "code",
    "id": "DDVLzhAT5yrP",
    "outputId": "aee3fc83-df97-42b4-c7e0-c8929f76337c"
   },
   "outputs": [],
   "source": [
    "load_assistant()    "
   ]
  },
  {
   "cell_type": "markdown",
   "metadata": {
    "colab": {},
    "colab_type": "code",
    "id": "enJNkbvB54y1"
   },
   "source": [
    "## What Next?\n",
    "\n",
    "- Try to use different pipelines in Rasa Core, explore more Policies, fine-tune those models, \n",
    "- Check out what other features CricAPI provides, etc.\n",
    "- Other APIs\n",
    "- Slot filling\n",
    "- Different languages (Hindi bot?)\n",
    "\n"
   ]
  },
  {
   "cell_type": "code",
   "execution_count": null,
   "metadata": {},
   "outputs": [],
   "source": []
  }
 ],
 "metadata": {
  "accelerator": "GPU",
  "anaconda-cloud": {},
  "colab": {
   "include_colab_link": true,
   "name": "Conversational_Chatbot.ipynb",
   "provenance": [],
   "version": "0.3.2"
  },
  "kernelspec": {
   "display_name": "Python [conda env:conda-rasa] *",
   "language": "python",
   "name": "conda-env-conda-rasa-py"
  },
  "language_info": {
   "codemirror_mode": {
    "name": "ipython",
    "version": 3
   },
   "file_extension": ".py",
   "mimetype": "text/x-python",
   "name": "python",
   "nbconvert_exporter": "python",
   "pygments_lexer": "ipython3",
   "version": "3.7.4"
  }
 },
 "nbformat": 4,
 "nbformat_minor": 1
}
