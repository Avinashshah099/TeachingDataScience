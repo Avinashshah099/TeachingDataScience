{
 "cells": [
  {
   "cell_type": "markdown",
   "metadata": {
    "colab_type": "text",
    "id": "3oxVq6vQ76r7"
   },
   "source": [
    "# IPL Chatbot\n",
    "\n",
    "Original: Learn how to Build and Deploy a Chatbot in Minutes using Rasa (IPL Case Study!) - Mohd Sanad Zaki Rizvi, Analytics Vidhya https://www.analyticsvidhya.com/blog/2019/04/learn-build-chatbot-rasa-nlp-ipl)"
   ]
  },
  {
   "cell_type": "markdown",
   "metadata": {
    "colab_type": "text",
    "id": "kIFYA-Kp8aK4"
   },
   "source": [
    "**Objectives** To build a chatbot capable of fetching latest info about the ongoing IPL (Indian Premier League) matches from cricapi.com site.\n",
    "\n",
    "<img src=\"images/ipl.jpg\">"
   ]
  },
  {
   "cell_type": "markdown",
   "metadata": {
    "colab_type": "text",
    "id": "yHYeAA859JGq"
   },
   "source": [
    "### Importing Libraries"
   ]
  },
  {
   "cell_type": "code",
   "execution_count": 1,
   "metadata": {
    "colab": {},
    "colab_type": "code",
    "id": "TSw6zFmk3iPu",
    "scrolled": true
   },
   "outputs": [
    {
     "name": "stdout",
     "output_type": "stream",
     "text": [
      "Event loop ready.\n"
     ]
    }
   ],
   "source": [
    "%matplotlib inline\n",
    "\n",
    "# First things first\n",
    "import nest_asyncio\n",
    "nest_asyncio.apply()\n",
    "print(\"Event loop ready.\")\n",
    "\n",
    "import logging, io, json, warnings\n",
    "logging.basicConfig(level=\"INFO\")\n",
    "warnings.filterwarnings('ignore')\n",
    "\n",
    "import rasa_nlu\n",
    "import rasa_core\n",
    "import spacy"
   ]
  },
  {
   "cell_type": "markdown",
   "metadata": {
    "colab_type": "text",
    "id": "oDEAOmaI9o4a"
   },
   "source": [
    "### Preparing the NLU Training Data\n",
    "\n",
    "Training data for extracting the user intent.\n",
    "As you can see, the format of training data for ‘intent’ is quite simple in Rasa. You just have to:\n",
    "\n",
    "- Start the line with “## intent:intent_name”\n",
    "- Supply all the examples in the following lines"
   ]
  },
  {
   "cell_type": "code",
   "execution_count": 2,
   "metadata": {
    "colab": {
     "base_uri": "https://localhost:8080/",
     "height": 34
    },
    "colab_type": "code",
    "id": "RPxeQ1_14CjK",
    "outputId": "bfb5974f-f8ea-46b8-b8cb-9dd4479ed9cc",
    "scrolled": true
   },
   "outputs": [
    {
     "name": "stdout",
     "output_type": "stream",
     "text": [
      "Writing 'nlu_md' (str) to file 'data/nlu.md'.\n"
     ]
    }
   ],
   "source": [
    "nlu_md = \"\"\"\n",
    "## intent:goodbye  \n",
    "- Bye \n",
    "- Goodbye\n",
    "- See you later\n",
    "- Bye bot\n",
    "- Goodbye friend\n",
    "- bye\n",
    "- bye for now\n",
    "- catch you later\n",
    "- gotta go\n",
    "- See you\n",
    "- goodnight\n",
    "- have a nice day\n",
    "- i'm off\n",
    "- see you later alligator\n",
    "- we'll speak soon\n",
    "- end\n",
    "- finish\n",
    "\n",
    "## intent:greet\n",
    "- Hi\n",
    "- Hey\n",
    "- Hi bot\n",
    "- Hey bot\n",
    "- Hello\n",
    "- Good morning\n",
    "- hi again\n",
    "- hi folks\n",
    "- hi Mister\n",
    "- hi pal!\n",
    "- hi there\n",
    "- greetings\n",
    "- hello everybody\n",
    "- hello is anybody there\n",
    "- hello robot\n",
    "- who are you?\n",
    "- what are you?\n",
    "- what's up\n",
    "- how do you do?\n",
    "\n",
    "## intent:thanks\n",
    "- Thanks\n",
    "- Thank you\n",
    "- Thank you so much\n",
    "- Thanks bot\n",
    "- Thanks for that\n",
    "- cheers\n",
    "- cheers bro\n",
    "- ok thanks!\n",
    "- perfect thank you\n",
    "- thanks a bunch for everything\n",
    "- thanks for the help\n",
    "- thanks a lot\n",
    "- amazing, thanks\n",
    "- cool, thanks\n",
    "- cool thank you\n",
    "\n",
    "## intent:affirm\n",
    "- y\n",
    "- Y\n",
    "- yes\n",
    "- yes sure\n",
    "- absolutely\n",
    "- for sure\n",
    "- yes yes yes\n",
    "- definitely\n",
    "- yes, it did.\n",
    "\n",
    "## intent:current_matches\n",
    "- what are the current matches\n",
    "- can you list the matches in ipl 2019\n",
    "- which cricket match is happening right now\n",
    "- which ipl match is next\n",
    "- which teams are playing next in ipl\n",
    "- which team will play next in ipl\n",
    "- tell me some ipl news\n",
    "- i want ipl updates\n",
    "- can you give me ipl latest updates\n",
    "- what are the latest match updates\n",
    "- who won the last ipl match\n",
    "- which teams are competing in the next match\n",
    "- how is ipl going\n",
    "- what was the result of the last match\n",
    "- when is the next match\n",
    "\n",
    "## intent:deny\n",
    "- no\n",
    "- never\n",
    "- I don't think so\n",
    "- don't like that\n",
    "- no way\n",
    "- not really\n",
    "- n\n",
    "- N\n",
    "\"\"\"\n",
    "\n",
    "%store nlu_md > data/nlu.md"
   ]
  },
  {
   "cell_type": "markdown",
   "metadata": {},
   "source": [
    "You can include as many examples as you want for each intent. In fact, make sure to include slangs and short forms that you use while texting. The idea is to make the chatbot understand the way we type text. Feel free to refer to the complete version where I have given plenty of examples for each intent type."
   ]
  },
  {
   "cell_type": "markdown",
   "metadata": {
    "colab_type": "text",
    "id": "ceazcacn9veB"
   },
   "source": [
    "### Defining the NLU Model Configuration\n",
    "\n",
    "This file lets us create a text processing pipeline in Rasa. Luckily for us, Rasa comes with two default settings based on the amount of training data we have:\n",
    "- “spacy_sklearn” pipeline if you have less than 1000 training examples\n",
    "- “tensorflow_embedding” if you have a large amount of data"
   ]
  },
  {
   "cell_type": "code",
   "execution_count": 3,
   "metadata": {
    "colab": {
     "base_uri": "https://localhost:8080/",
     "height": 34
    },
    "colab_type": "code",
    "id": "dF60NWhR4ID6",
    "outputId": "92946645-94fc-4450-aa41-eca8895ff83c"
   },
   "outputs": [
    {
     "name": "stdout",
     "output_type": "stream",
     "text": [
      "Writing 'config' (str) to file 'config.yml'.\n"
     ]
    }
   ],
   "source": [
    "config = \"\"\"\n",
    "language: \"en\"\n",
    "pipeline: supervised_embeddings\n",
    "\"\"\" \n",
    "\n",
    "%store config > config.yml"
   ]
  },
  {
   "cell_type": "markdown",
   "metadata": {},
   "source": [
    "### Setting Policies\n",
    "\n",
    "Rasa Core generates the training data for the conversational part using the stories we provide. It also lets you define a set of policies to use when deciding the next action of the chatbot. These policies are defined in the policies.yml file."
   ]
  },
  {
   "cell_type": "code",
   "execution_count": 4,
   "metadata": {},
   "outputs": [
    {
     "name": "stdout",
     "output_type": "stream",
     "text": [
      "Writing 'policies' (str) to file 'policies.yml'.\n"
     ]
    }
   ],
   "source": [
    "policies = \"\"\"\n",
    "policies:\n",
    "  - name: KerasPolicy\n",
    "    epochs: 100\n",
    "    max_history: 5\n",
    "  - name: FallbackPolicy\n",
    "    fallback_action_name: 'action_default_fallback'\n",
    "  - name: MemoizationPolicy\n",
    "    max_history: 5\n",
    "\"\"\" \n",
    "\n",
    "%store policies > policies.yml"
   ]
  },
  {
   "cell_type": "markdown",
   "metadata": {},
   "source": [
    "Notes:\n",
    "- KerasPolicy uses a neural network implemented in Keras to select the next action. The default architecture is based on an LSTM (Long Short Term Memory) model\n",
    "- MemoizationPolicy memorizes the conversations in your training data. It predicts the next action with confidence 1.0 if this exact conversation exists in the training data, otherwise, it predicts ‘None’ with confidence 0.0\n",
    "- FallbackPolicy invokes a fallback action if the intent recognition has confidence below nlu_threshold or if none of the dialogue policies predict action with confidence higher than core_threshold\n",
    "- One important hyperparameter for Rasa Core policies is the max_history. This controls how much dialogue history the model looks at to decide which action to take next"
   ]
  },
  {
   "cell_type": "markdown",
   "metadata": {
    "colab_type": "text",
    "id": "ieoWk91X9y8X"
   },
   "source": [
    "### Training the NLU Classifier Model\n",
    "\n",
    "On command line you can run following command. IT HAS BEEN DEPRECATED. Use **rasa train nlu** only\n",
    "\n",
    "**python -m rasa_nlu.train -c config.yml --data data/nlu.md -o models --fixed_model_name nlu --project current --verbose**\n",
    "\n",
    "Or programmatically you can write code"
   ]
  },
  {
   "cell_type": "code",
   "execution_count": 5,
   "metadata": {
    "colab": {
     "base_uri": "https://localhost:8080/",
     "height": 445
    },
    "colab_type": "code",
    "id": "dp3AIHmS4L6x",
    "outputId": "8011c4f7-c789-4138-84d7-4710207615d8"
   },
   "outputs": [
    {
     "name": "stderr",
     "output_type": "stream",
     "text": [
      "WARNING:tensorflow:\n",
      "The TensorFlow contrib module will not be included in TensorFlow 2.0.\n",
      "For more information, please see:\n",
      "  * https://github.com/tensorflow/community/blob/master/rfcs/20180907-contrib-sunset.md\n",
      "  * https://github.com/tensorflow/addons\n",
      "  * https://github.com/tensorflow/io (for I/O related ops)\n",
      "If you depend on functionality not listed there, please file an issue.\n",
      "\n",
      "WARNING:tensorflow:From C:\\Users\\yogesh.kulkarni\\AppData\\Local\\Continuum\\anaconda3\\envs\\rasa\\lib\\site-packages\\tensor2tensor\\utils\\adafactor.py:27: The name tf.train.Optimizer is deprecated. Please use tf.compat.v1.train.Optimizer instead.\n",
      "\n",
      "WARNING:tensorflow:From C:\\Users\\yogesh.kulkarni\\AppData\\Local\\Continuum\\anaconda3\\envs\\rasa\\lib\\site-packages\\tensor2tensor\\utils\\multistep_optimizer.py:32: The name tf.train.AdamOptimizer is deprecated. Please use tf.compat.v1.train.AdamOptimizer instead.\n",
      "\n",
      "WARNING:tensorflow:From C:\\Users\\yogesh.kulkarni\\AppData\\Local\\Continuum\\anaconda3\\envs\\rasa\\lib\\site-packages\\mesh_tensorflow\\ops.py:4237: The name tf.train.CheckpointSaverListener is deprecated. Please use tf.estimator.CheckpointSaverListener instead.\n",
      "\n",
      "WARNING:tensorflow:From C:\\Users\\yogesh.kulkarni\\AppData\\Local\\Continuum\\anaconda3\\envs\\rasa\\lib\\site-packages\\mesh_tensorflow\\ops.py:4260: The name tf.train.SessionRunHook is deprecated. Please use tf.estimator.SessionRunHook instead.\n",
      "\n",
      "WARNING:tensorflow:From C:\\Users\\yogesh.kulkarni\\AppData\\Local\\Continuum\\anaconda3\\envs\\rasa\\lib\\site-packages\\tensor2tensor\\models\\research\\neural_stack.py:51: The name tf.nn.rnn_cell.RNNCell is deprecated. Please use tf.compat.v1.nn.rnn_cell.RNNCell instead.\n",
      "\n",
      "INFO:absl:Entry Point [tensor2tensor.envs.tic_tac_toe_env:TicTacToeEnv] registered with id [T2TEnv-TicTacToeEnv-v0]\n",
      "WARNING:tensorflow:From C:\\Users\\yogesh.kulkarni\\AppData\\Local\\Continuum\\anaconda3\\envs\\rasa\\lib\\site-packages\\tensor2tensor\\utils\\trainer_lib.py:111: The name tf.OptimizerOptions is deprecated. Please use tf.compat.v1.OptimizerOptions instead.\n",
      "\n",
      "WARNING:tensorflow:From C:\\Users\\yogesh.kulkarni\\AppData\\Local\\Continuum\\anaconda3\\envs\\rasa\\lib\\site-packages\\tensorflow_gan\\python\\contrib_utils.py:305: The name tf.estimator.tpu.TPUEstimator is deprecated. Please use tf.compat.v1.estimator.tpu.TPUEstimator instead.\n",
      "\n",
      "WARNING:tensorflow:From C:\\Users\\yogesh.kulkarni\\AppData\\Local\\Continuum\\anaconda3\\envs\\rasa\\lib\\site-packages\\tensorflow_gan\\python\\contrib_utils.py:310: The name tf.estimator.tpu.TPUEstimatorSpec is deprecated. Please use tf.compat.v1.estimator.tpu.TPUEstimatorSpec instead.\n",
      "\n",
      "INFO:rasa_nlu.model:Starting to train component WhitespaceTokenizer\n",
      "INFO:rasa_nlu.model:Finished training component.\n",
      "INFO:rasa_nlu.model:Starting to train component RegexFeaturizer\n",
      "INFO:rasa_nlu.model:Finished training component.\n",
      "INFO:rasa_nlu.model:Starting to train component CRFEntityExtractor\n",
      "INFO:rasa_nlu.model:Finished training component.\n",
      "INFO:rasa_nlu.model:Starting to train component EntitySynonymMapper\n",
      "INFO:rasa_nlu.model:Finished training component.\n",
      "INFO:rasa_nlu.model:Starting to train component CountVectorsFeaturizer\n",
      "INFO:rasa_nlu.model:Finished training component.\n",
      "INFO:rasa_nlu.model:Starting to train component CountVectorsFeaturizer\n",
      "INFO:rasa_nlu.model:Finished training component.\n",
      "INFO:rasa_nlu.model:Starting to train component EmbeddingIntentClassifier\n",
      "WARNING:tensorflow:From C:\\Users\\yogesh.kulkarni\\AppData\\Local\\Continuum\\anaconda3\\envs\\rasa\\lib\\site-packages\\rasa\\nlu\\classifiers\\embedding_intent_classifier.py:540: The name tf.set_random_seed is deprecated. Please use tf.compat.v1.set_random_seed instead.\n",
      "\n",
      "WARNING:tensorflow:From C:\\Users\\yogesh.kulkarni\\AppData\\Local\\Continuum\\anaconda3\\envs\\rasa\\lib\\site-packages\\rasa\\nlu\\classifiers\\embedding_intent_classifier.py:543: The name tf.placeholder is deprecated. Please use tf.compat.v1.placeholder instead.\n",
      "\n",
      "WARNING:tensorflow:From C:\\Users\\yogesh.kulkarni\\AppData\\Local\\Continuum\\anaconda3\\envs\\rasa\\lib\\site-packages\\tensorflow\\python\\data\\ops\\dataset_ops.py:494: py_func (from tensorflow.python.ops.script_ops) is deprecated and will be removed in a future version.\n",
      "Instructions for updating:\n",
      "tf.py_func is deprecated in TF V2. Instead, there are two\n",
      "    options available in V2.\n",
      "    - tf.py_function takes a python function which manipulates tf eager\n",
      "    tensors instead of numpy arrays. It's easy to convert a tf eager tensor to\n",
      "    an ndarray (just call tensor.numpy()) but having access to eager tensors\n",
      "    means `tf.py_function`s can use accelerators such as GPUs as well as\n",
      "    being differentiable using a gradient tape.\n",
      "    - tf.numpy_function maintains the semantics of the deprecated tf.py_func\n",
      "    (it is not differentiable, and manipulates numpy arrays). It drops the\n",
      "    stateful argument making all functions stateful.\n",
      "    \n",
      "WARNING:tensorflow:From C:\\Users\\yogesh.kulkarni\\AppData\\Local\\Continuum\\anaconda3\\envs\\rasa\\lib\\site-packages\\rasa\\utils\\train_utils.py:257: The name tf.data.Iterator is deprecated. Please use tf.compat.v1.data.Iterator instead.\n",
      "\n",
      "WARNING:tensorflow:From C:\\Users\\yogesh.kulkarni\\AppData\\Local\\Continuum\\anaconda3\\envs\\rasa\\lib\\site-packages\\rasa\\utils\\train_utils.py:258: DatasetV1.output_types (from tensorflow.python.data.ops.dataset_ops) is deprecated and will be removed in a future version.\n",
      "Instructions for updating:\n",
      "Use `tf.compat.v1.data.get_output_types(dataset)`.\n",
      "WARNING:tensorflow:From C:\\Users\\yogesh.kulkarni\\AppData\\Local\\Continuum\\anaconda3\\envs\\rasa\\lib\\site-packages\\rasa\\utils\\train_utils.py:259: DatasetV1.output_shapes (from tensorflow.python.data.ops.dataset_ops) is deprecated and will be removed in a future version.\n",
      "Instructions for updating:\n",
      "Use `tf.compat.v1.data.get_output_shapes(dataset)`.\n",
      "WARNING:tensorflow:From C:\\Users\\yogesh.kulkarni\\AppData\\Local\\Continuum\\anaconda3\\envs\\rasa\\lib\\site-packages\\rasa\\utils\\train_utils.py:260: DatasetV1.output_classes (from tensorflow.python.data.ops.dataset_ops) is deprecated and will be removed in a future version.\n",
      "Instructions for updating:\n",
      "Use `tf.compat.v1.data.get_output_classes(dataset)`.\n",
      "WARNING:tensorflow:From C:\\Users\\yogesh.kulkarni\\AppData\\Local\\Continuum\\anaconda3\\envs\\rasa\\lib\\site-packages\\tensorflow\\python\\data\\ops\\iterator_ops.py:348: Iterator.output_types (from tensorflow.python.data.ops.iterator_ops) is deprecated and will be removed in a future version.\n",
      "Instructions for updating:\n",
      "Use `tf.compat.v1.data.get_output_types(iterator)`.\n",
      "WARNING:tensorflow:From C:\\Users\\yogesh.kulkarni\\AppData\\Local\\Continuum\\anaconda3\\envs\\rasa\\lib\\site-packages\\tensorflow\\python\\data\\ops\\iterator_ops.py:349: Iterator.output_shapes (from tensorflow.python.data.ops.iterator_ops) is deprecated and will be removed in a future version.\n",
      "Instructions for updating:\n",
      "Use `tf.compat.v1.data.get_output_shapes(iterator)`.\n",
      "WARNING:tensorflow:From C:\\Users\\yogesh.kulkarni\\AppData\\Local\\Continuum\\anaconda3\\envs\\rasa\\lib\\site-packages\\tensorflow\\python\\data\\ops\\iterator_ops.py:351: Iterator.output_classes (from tensorflow.python.data.ops.iterator_ops) is deprecated and will be removed in a future version.\n",
      "Instructions for updating:\n",
      "Use `tf.compat.v1.data.get_output_classes(iterator)`.\n",
      "WARNING:tensorflow:From C:\\Users\\yogesh.kulkarni\\AppData\\Local\\Continuum\\anaconda3\\envs\\rasa\\lib\\site-packages\\rasa\\nlu\\classifiers\\embedding_intent_classifier.py:553: The name tf.placeholder_with_default is deprecated. Please use tf.compat.v1.placeholder_with_default instead.\n",
      "\n",
      "WARNING:tensorflow:From C:\\Users\\yogesh.kulkarni\\AppData\\Local\\Continuum\\anaconda3\\envs\\rasa\\lib\\site-packages\\rasa\\utils\\train_utils.py:300: The name tf.AUTO_REUSE is deprecated. Please use tf.compat.v1.AUTO_REUSE instead.\n",
      "\n",
      "WARNING:tensorflow:From C:\\Users\\yogesh.kulkarni\\AppData\\Local\\Continuum\\anaconda3\\envs\\rasa\\lib\\site-packages\\rasa\\utils\\train_utils.py:300: dense (from tensorflow.python.layers.core) is deprecated and will be removed in a future version.\n",
      "Instructions for updating:\n",
      "Use keras.layers.dense instead.\n",
      "WARNING:tensorflow:From C:\\Users\\yogesh.kulkarni\\AppData\\Local\\Continuum\\anaconda3\\envs\\rasa\\lib\\site-packages\\tensorflow\\python\\ops\\init_ops.py:1251: calling VarianceScaling.__init__ (from tensorflow.python.ops.init_ops) with dtype is deprecated and will be removed in a future version.\n",
      "Instructions for updating:\n",
      "Call initializer instance with the dtype argument instead of passing it to the constructor\n"
     ]
    },
    {
     "name": "stderr",
     "output_type": "stream",
     "text": [
      "WARNING:tensorflow:From C:\\Users\\yogesh.kulkarni\\AppData\\Local\\Continuum\\anaconda3\\envs\\rasa\\lib\\site-packages\\rasa\\utils\\train_utils.py:302: dropout (from tensorflow.python.layers.core) is deprecated and will be removed in a future version.\n",
      "Instructions for updating:\n",
      "Use keras.layers.dropout instead.\n",
      "WARNING:tensorflow:From C:\\Users\\yogesh.kulkarni\\AppData\\Local\\Continuum\\anaconda3\\envs\\rasa\\lib\\site-packages\\tensorflow\\python\\util\\dispatch.py:180: batch_gather (from tensorflow.python.ops.array_ops) is deprecated and will be removed after 2017-10-25.\n",
      "Instructions for updating:\n",
      "`tf.batch_gather` is deprecated, please use `tf.gather` with `batch_dims` instead.\n",
      "WARNING:tensorflow:From C:\\Users\\yogesh.kulkarni\\AppData\\Local\\Continuum\\anaconda3\\envs\\rasa\\lib\\site-packages\\rasa\\utils\\train_utils.py:680: The name tf.losses.softmax_cross_entropy is deprecated. Please use tf.compat.v1.losses.softmax_cross_entropy instead.\n",
      "\n",
      "WARNING:tensorflow:From C:\\Users\\yogesh.kulkarni\\AppData\\Local\\Continuum\\anaconda3\\envs\\rasa\\lib\\site-packages\\tensorflow\\python\\ops\\losses\\losses_impl.py:121: add_dispatch_support.<locals>.wrapper (from tensorflow.python.ops.array_ops) is deprecated and will be removed in a future version.\n",
      "Instructions for updating:\n",
      "Use tf.where in 2.0, which has the same broadcast rule as np.where\n",
      "WARNING:tensorflow:From C:\\Users\\yogesh.kulkarni\\AppData\\Local\\Continuum\\anaconda3\\envs\\rasa\\lib\\site-packages\\rasa\\utils\\train_utils.py:682: The name tf.losses.get_regularization_loss is deprecated. Please use tf.compat.v1.losses.get_regularization_loss instead.\n",
      "\n",
      "Epochs: 100%|█████████████████████████████████████████████████| 300/300 [00:07<00:00, 39.97it/s, loss=0.471, acc=1.000]\n",
      "INFO:rasa.utils.train_utils:Finished training embedding policy, train loss=0.471, train accuracy=1.000\n",
      "INFO:rasa_nlu.model:Finished training component.\n",
      "WARNING:tensorflow:From C:\\Users\\yogesh.kulkarni\\AppData\\Local\\Continuum\\anaconda3\\envs\\rasa\\lib\\site-packages\\rasa\\nlu\\classifiers\\embedding_intent_classifier.py:674: The name tf.train.Saver is deprecated. Please use tf.compat.v1.train.Saver instead.\n",
      "\n",
      "INFO:rasa_nlu.model:Successfully saved model into 'C:\\YogeshKulkarni\\YatiIO\\TeachingDataScience\\Jupyter\\Rasa\\iplbot\\prog_version\\models\\nlu\\current'\n"
     ]
    }
   ],
   "source": [
    "from rasa_nlu.training_data import load_data\n",
    "from rasa_nlu.config import RasaNLUModelConfig\n",
    "from rasa_nlu.model import Trainer\n",
    "from rasa_nlu import config\n",
    "\n",
    "# loading the nlu training samples\n",
    "training_data = load_data(\"data/nlu.md\")\n",
    "\n",
    "# trainer to educate our pipeline\n",
    "trainer = Trainer(config.load(\"config.yml\"))\n",
    "\n",
    "# train the model!\n",
    "interpreter = trainer.train(training_data)\n",
    "\n",
    "# store it for future use\n",
    "model_directory = trainer.persist(\"./models/nlu\", fixed_model_name=\"current\")"
   ]
  },
  {
   "cell_type": "markdown",
   "metadata": {
    "colab_type": "text",
    "id": "Jrfp4xOS95ZZ"
   },
   "source": [
    "### Evaluating the NLU model on a random text (first way)\n",
    "\n",
    "Let’s test how good our model is performing by giving it a sample text that it hasn’t been trained on for extracting intent. "
   ]
  },
  {
   "cell_type": "code",
   "execution_count": 6,
   "metadata": {
    "colab": {
     "base_uri": "https://localhost:8080/",
     "height": 867
    },
    "colab_type": "code",
    "id": "4UjzlqMV4N1k",
    "outputId": "37ea93e5-6a71-4e8e-d2b6-a45144d184ad"
   },
   "outputs": [
    {
     "name": "stdout",
     "output_type": "stream",
     "text": [
      "{\n",
      "  \"intent\": {\n",
      "    \"name\": \"current_matches\",\n",
      "    \"confidence\": 0.9999233484268188\n",
      "  },\n",
      "  \"entities\": [],\n",
      "  \"intent_ranking\": [\n",
      "    {\n",
      "      \"name\": \"current_matches\",\n",
      "      \"confidence\": 0.9999233484268188\n",
      "    },\n",
      "    {\n",
      "      \"name\": \"greet\",\n",
      "      \"confidence\": 6.659787322860211e-05\n",
      "    },\n",
      "    {\n",
      "      \"name\": \"thanks\",\n",
      "      \"confidence\": 5.779260391136631e-06\n",
      "    },\n",
      "    {\n",
      "      \"name\": \"deny\",\n",
      "      \"confidence\": 3.6546798583003692e-06\n",
      "    },\n",
      "    {\n",
      "      \"name\": \"goodbye\",\n",
      "      \"confidence\": 3.378184487701219e-07\n",
      "    },\n",
      "    {\n",
      "      \"name\": \"affirm\",\n",
      "      \"confidence\": 1.9500316739140544e-07\n",
      "    }\n",
      "  ],\n",
      "  \"text\": \"what is happening in the cricket world these days?\"\n",
      "}\n",
      "{\n",
      "  \"intent\": {\n",
      "    \"name\": \"greet\",\n",
      "    \"confidence\": 0.979676365852356\n",
      "  },\n",
      "  \"entities\": [],\n",
      "  \"intent_ranking\": [\n",
      "    {\n",
      "      \"name\": \"greet\",\n",
      "      \"confidence\": 0.979676365852356\n",
      "    },\n",
      "    {\n",
      "      \"name\": \"deny\",\n",
      "      \"confidence\": 0.00581040745601058\n",
      "    },\n",
      "    {\n",
      "      \"name\": \"affirm\",\n",
      "      \"confidence\": 0.004495519679039717\n",
      "    },\n",
      "    {\n",
      "      \"name\": \"goodbye\",\n",
      "      \"confidence\": 0.004046158865094185\n",
      "    },\n",
      "    {\n",
      "      \"name\": \"current_matches\",\n",
      "      \"confidence\": 0.00355693232268095\n",
      "    },\n",
      "    {\n",
      "      \"name\": \"thanks\",\n",
      "      \"confidence\": 0.0024146942887455225\n",
      "    }\n",
      "  ],\n",
      "  \"text\": \"Hi\"\n",
      "}\n"
     ]
    }
   ],
   "source": [
    "# A helper function for prettier output\n",
    "\n",
    "def pprint(o):   \n",
    "    print(json.dumps(o, indent=2))\n",
    "    \n",
    "pprint(interpreter.parse(\"what is happening in the cricket world these days?\"))\n",
    "pprint(interpreter.parse(\"Hi\"))"
   ]
  },
  {
   "cell_type": "markdown",
   "metadata": {},
   "source": [
    "Not only does our NLU model perform well on intent extraction, but it also ranks the other intents based on their confidence scores. This is a nifty little feature that can be really useful when the classifier is confused between multiple intents."
   ]
  },
  {
   "cell_type": "markdown",
   "metadata": {},
   "source": [
    "### Evaluating the NLU model on a random text (2nd way)\n",
    "Let’s test how good our model is performing by giving it a sample text that it hasn’t been trained on for extracting intent. You can open an iPython/Python shell and follow the following steps:"
   ]
  },
  {
   "cell_type": "code",
   "execution_count": 7,
   "metadata": {},
   "outputs": [
    {
     "name": "stderr",
     "output_type": "stream",
     "text": [
      "WARNING:tensorflow:From C:\\Users\\yogesh.kulkarni\\AppData\\Local\\Continuum\\anaconda3\\envs\\rasa\\lib\\site-packages\\tensorflow\\python\\training\\saver.py:1276: checkpoint_exists (from tensorflow.python.training.checkpoint_management) is deprecated and will be removed in a future version.\n",
      "Instructions for updating:\n",
      "Use standard file APIs to check for files with this prefix.\n",
      "INFO:tensorflow:Restoring parameters from ./models/nlu/current\\component_6_EmbeddingIntentClassifier.ckpt\n"
     ]
    },
    {
     "data": {
      "text/plain": [
       "{'intent': {'name': 'current_matches', 'confidence': 0.9999233484268188},\n",
       " 'entities': [],\n",
       " 'intent_ranking': [{'name': 'current_matches',\n",
       "   'confidence': 0.9999233484268188},\n",
       "  {'name': 'greet', 'confidence': 6.659787322860211e-05},\n",
       "  {'name': 'thanks', 'confidence': 5.779260391136631e-06},\n",
       "  {'name': 'deny', 'confidence': 3.6546798583003692e-06},\n",
       "  {'name': 'goodbye', 'confidence': 3.378184487701219e-07},\n",
       "  {'name': 'affirm', 'confidence': 1.9500316739140544e-07}],\n",
       " 'text': 'what is happening in the cricket world these days?'}"
      ]
     },
     "execution_count": 7,
     "metadata": {},
     "output_type": "execute_result"
    }
   ],
   "source": [
    "from rasa_nlu.model import Interpreter\n",
    "nlu_model = Interpreter.load('./models/nlu/current')\n",
    "nlu_model.parse('what is happening in the cricket world these days?')"
   ]
  },
  {
   "cell_type": "markdown",
   "metadata": {
    "colab_type": "text",
    "id": "OPlSd-As-Fz4"
   },
   "source": [
    "### Evaluating the NLU model on a test data\n",
    "(Here we are using the data at hand i.e nlu.md but it isr recommended to use unseen data)"
   ]
  },
  {
   "cell_type": "code",
   "execution_count": 8,
   "metadata": {
    "colab": {
     "base_uri": "https://localhost:8080/",
     "height": 1483
    },
    "colab_type": "code",
    "id": "FmRCylbT4jyw",
    "outputId": "fd1bfd57-ebb3-4541-d3b3-b4cbba781164"
   },
   "outputs": [
    {
     "name": "stderr",
     "output_type": "stream",
     "text": [
      "INFO:tensorflow:Restoring parameters from C:\\YogeshKulkarni\\YatiIO\\TeachingDataScience\\Jupyter\\Rasa\\iplbot\\prog_version\\models\\nlu\\current\\component_6_EmbeddingIntentClassifier.ckpt\n",
      "INFO:rasa_nlu.test:Running model for predictions:\n",
      "100%|█████████████████████████████████████████████████████████████████████████████████| 83/83 [00:00<00:00, 967.69it/s]\n",
      "INFO:rasa_nlu.test:Intent evaluation results:\n",
      "INFO:rasa_nlu.test:Intent Evaluation: Only considering those 83 examples that have a defined intent out of 83 examples\n",
      "INFO:rasa_nlu.test:F1-Score:  1.0\n",
      "INFO:rasa_nlu.test:Precision: 1.0\n",
      "INFO:rasa_nlu.test:Accuracy:  1.0\n",
      "INFO:rasa_nlu.test:Classification report: \n",
      "                 precision    recall  f1-score   support\n",
      "\n",
      "          greet       1.00      1.00      1.00        19\n",
      "         thanks       1.00      1.00      1.00        15\n",
      "        goodbye       1.00      1.00      1.00        17\n",
      "current_matches       1.00      1.00      1.00        15\n",
      "         affirm       1.00      1.00      1.00         9\n",
      "           deny       1.00      1.00      1.00         8\n",
      "\n",
      "      micro avg       1.00      1.00      1.00        83\n",
      "      macro avg       1.00      1.00      1.00        83\n",
      "   weighted avg       1.00      1.00      1.00        83\n",
      "\n",
      "INFO:rasa_nlu.test:Entity evaluation results:\n",
      "INFO:rasa_nlu.test:Evaluation for entity extractor: CRFEntityExtractor \n",
      "WARNING:rasa_nlu.test:No labels to evaluate. Skip evaluation.\n"
     ]
    },
    {
     "data": {
      "text/plain": [
       "{'intent_evaluation': {'predictions': [{'text': 'Bye',\n",
       "    'intent': 'goodbye',\n",
       "    'predicted': 'goodbye',\n",
       "    'confidence': 0.9888939261436462},\n",
       "   {'text': 'Goodbye',\n",
       "    'intent': 'goodbye',\n",
       "    'predicted': 'goodbye',\n",
       "    'confidence': 0.9995291233062744},\n",
       "   {'text': 'See you later',\n",
       "    'intent': 'goodbye',\n",
       "    'predicted': 'goodbye',\n",
       "    'confidence': 0.9996423721313477},\n",
       "   {'text': 'Bye bot',\n",
       "    'intent': 'goodbye',\n",
       "    'predicted': 'goodbye',\n",
       "    'confidence': 0.9983869791030884},\n",
       "   {'text': 'Goodbye friend',\n",
       "    'intent': 'goodbye',\n",
       "    'predicted': 'goodbye',\n",
       "    'confidence': 0.9999921321868896},\n",
       "   {'text': 'bye',\n",
       "    'intent': 'goodbye',\n",
       "    'predicted': 'goodbye',\n",
       "    'confidence': 0.9888939261436462},\n",
       "   {'text': 'bye for now',\n",
       "    'intent': 'goodbye',\n",
       "    'predicted': 'goodbye',\n",
       "    'confidence': 0.9981992840766907},\n",
       "   {'text': 'catch you later',\n",
       "    'intent': 'goodbye',\n",
       "    'predicted': 'goodbye',\n",
       "    'confidence': 0.9961947202682495},\n",
       "   {'text': 'gotta go',\n",
       "    'intent': 'goodbye',\n",
       "    'predicted': 'goodbye',\n",
       "    'confidence': 0.9979153275489807},\n",
       "   {'text': 'See you',\n",
       "    'intent': 'goodbye',\n",
       "    'predicted': 'goodbye',\n",
       "    'confidence': 0.996087908744812},\n",
       "   {'text': 'goodnight',\n",
       "    'intent': 'goodbye',\n",
       "    'predicted': 'goodbye',\n",
       "    'confidence': 0.9961979985237122},\n",
       "   {'text': 'have a nice day',\n",
       "    'intent': 'goodbye',\n",
       "    'predicted': 'goodbye',\n",
       "    'confidence': 0.9987877011299133},\n",
       "   {'text': \"i'm off\",\n",
       "    'intent': 'goodbye',\n",
       "    'predicted': 'goodbye',\n",
       "    'confidence': 0.9964137673377991},\n",
       "   {'text': 'see you later alligator',\n",
       "    'intent': 'goodbye',\n",
       "    'predicted': 'goodbye',\n",
       "    'confidence': 0.9999175071716309},\n",
       "   {'text': \"we'll speak soon\",\n",
       "    'intent': 'goodbye',\n",
       "    'predicted': 'goodbye',\n",
       "    'confidence': 0.9996935129165649},\n",
       "   {'text': 'end',\n",
       "    'intent': 'goodbye',\n",
       "    'predicted': 'goodbye',\n",
       "    'confidence': 0.9875525236129761},\n",
       "   {'text': 'finish',\n",
       "    'intent': 'goodbye',\n",
       "    'predicted': 'goodbye',\n",
       "    'confidence': 0.9897282719612122},\n",
       "   {'text': 'Hi',\n",
       "    'intent': 'greet',\n",
       "    'predicted': 'greet',\n",
       "    'confidence': 0.979676365852356},\n",
       "   {'text': 'Hey',\n",
       "    'intent': 'greet',\n",
       "    'predicted': 'greet',\n",
       "    'confidence': 0.9891396164894104},\n",
       "   {'text': 'Hi bot',\n",
       "    'intent': 'greet',\n",
       "    'predicted': 'greet',\n",
       "    'confidence': 0.9964085221290588},\n",
       "   {'text': 'Hey bot',\n",
       "    'intent': 'greet',\n",
       "    'predicted': 'greet',\n",
       "    'confidence': 0.9984309077262878},\n",
       "   {'text': 'Hello',\n",
       "    'intent': 'greet',\n",
       "    'predicted': 'greet',\n",
       "    'confidence': 0.9884116053581238},\n",
       "   {'text': 'Good morning',\n",
       "    'intent': 'greet',\n",
       "    'predicted': 'greet',\n",
       "    'confidence': 0.9966732263565063},\n",
       "   {'text': 'hi again',\n",
       "    'intent': 'greet',\n",
       "    'predicted': 'greet',\n",
       "    'confidence': 0.9985325336456299},\n",
       "   {'text': 'hi folks',\n",
       "    'intent': 'greet',\n",
       "    'predicted': 'greet',\n",
       "    'confidence': 0.9973725080490112},\n",
       "   {'text': 'hi Mister',\n",
       "    'intent': 'greet',\n",
       "    'predicted': 'greet',\n",
       "    'confidence': 0.9988406300544739},\n",
       "   {'text': 'hi pal!',\n",
       "    'intent': 'greet',\n",
       "    'predicted': 'greet',\n",
       "    'confidence': 0.996885359287262},\n",
       "   {'text': 'hi there',\n",
       "    'intent': 'greet',\n",
       "    'predicted': 'greet',\n",
       "    'confidence': 0.9978982210159302},\n",
       "   {'text': 'greetings',\n",
       "    'intent': 'greet',\n",
       "    'predicted': 'greet',\n",
       "    'confidence': 0.9943662881851196},\n",
       "   {'text': 'hello everybody',\n",
       "    'intent': 'greet',\n",
       "    'predicted': 'greet',\n",
       "    'confidence': 0.9998196959495544},\n",
       "   {'text': 'hello is anybody there',\n",
       "    'intent': 'greet',\n",
       "    'predicted': 'greet',\n",
       "    'confidence': 0.9999768733978271},\n",
       "   {'text': 'hello robot',\n",
       "    'intent': 'greet',\n",
       "    'predicted': 'greet',\n",
       "    'confidence': 0.9980059266090393},\n",
       "   {'text': 'who are you?',\n",
       "    'intent': 'greet',\n",
       "    'predicted': 'greet',\n",
       "    'confidence': 0.9953956007957458},\n",
       "   {'text': 'what are you?',\n",
       "    'intent': 'greet',\n",
       "    'predicted': 'greet',\n",
       "    'confidence': 0.9946820139884949},\n",
       "   {'text': \"what's up\",\n",
       "    'intent': 'greet',\n",
       "    'predicted': 'greet',\n",
       "    'confidence': 0.9912022352218628},\n",
       "   {'text': 'how do you do?',\n",
       "    'intent': 'greet',\n",
       "    'predicted': 'greet',\n",
       "    'confidence': 0.9980523586273193},\n",
       "   {'text': 'Thanks',\n",
       "    'intent': 'thanks',\n",
       "    'predicted': 'thanks',\n",
       "    'confidence': 0.9968871474266052},\n",
       "   {'text': 'Thank you',\n",
       "    'intent': 'thanks',\n",
       "    'predicted': 'thanks',\n",
       "    'confidence': 0.9964107871055603},\n",
       "   {'text': 'Thank you so much',\n",
       "    'intent': 'thanks',\n",
       "    'predicted': 'thanks',\n",
       "    'confidence': 0.9996689558029175},\n",
       "   {'text': 'Thanks bot',\n",
       "    'intent': 'thanks',\n",
       "    'predicted': 'thanks',\n",
       "    'confidence': 0.9991180300712585},\n",
       "   {'text': 'Thanks for that',\n",
       "    'intent': 'thanks',\n",
       "    'predicted': 'thanks',\n",
       "    'confidence': 0.9999029636383057},\n",
       "   {'text': 'cheers',\n",
       "    'intent': 'thanks',\n",
       "    'predicted': 'thanks',\n",
       "    'confidence': 0.9960779547691345},\n",
       "   {'text': 'cheers bro',\n",
       "    'intent': 'thanks',\n",
       "    'predicted': 'thanks',\n",
       "    'confidence': 0.9997019171714783},\n",
       "   {'text': 'ok thanks!',\n",
       "    'intent': 'thanks',\n",
       "    'predicted': 'thanks',\n",
       "    'confidence': 0.999543309211731},\n",
       "   {'text': 'perfect thank you',\n",
       "    'intent': 'thanks',\n",
       "    'predicted': 'thanks',\n",
       "    'confidence': 0.9997790455818176},\n",
       "   {'text': 'thanks a bunch for everything',\n",
       "    'intent': 'thanks',\n",
       "    'predicted': 'thanks',\n",
       "    'confidence': 0.9999281167984009},\n",
       "   {'text': 'thanks for the help',\n",
       "    'intent': 'thanks',\n",
       "    'predicted': 'thanks',\n",
       "    'confidence': 0.9998868703842163},\n",
       "   {'text': 'thanks a lot',\n",
       "    'intent': 'thanks',\n",
       "    'predicted': 'thanks',\n",
       "    'confidence': 0.9996017813682556},\n",
       "   {'text': 'amazing, thanks',\n",
       "    'intent': 'thanks',\n",
       "    'predicted': 'thanks',\n",
       "    'confidence': 0.9997500777244568},\n",
       "   {'text': 'cool, thanks',\n",
       "    'intent': 'thanks',\n",
       "    'predicted': 'thanks',\n",
       "    'confidence': 0.9996057152748108},\n",
       "   {'text': 'cool thank you',\n",
       "    'intent': 'thanks',\n",
       "    'predicted': 'thanks',\n",
       "    'confidence': 0.9996533393859863},\n",
       "   {'text': 'y',\n",
       "    'intent': 'affirm',\n",
       "    'predicted': 'affirm',\n",
       "    'confidence': 0.9516654014587402},\n",
       "   {'text': 'Y',\n",
       "    'intent': 'affirm',\n",
       "    'predicted': 'affirm',\n",
       "    'confidence': 0.9516654014587402},\n",
       "   {'text': 'yes',\n",
       "    'intent': 'affirm',\n",
       "    'predicted': 'affirm',\n",
       "    'confidence': 0.97430419921875},\n",
       "   {'text': 'yes sure',\n",
       "    'intent': 'affirm',\n",
       "    'predicted': 'affirm',\n",
       "    'confidence': 0.999365508556366},\n",
       "   {'text': 'absolutely',\n",
       "    'intent': 'affirm',\n",
       "    'predicted': 'affirm',\n",
       "    'confidence': 0.9986016154289246},\n",
       "   {'text': 'for sure',\n",
       "    'intent': 'affirm',\n",
       "    'predicted': 'affirm',\n",
       "    'confidence': 0.9923431277275085},\n",
       "   {'text': 'yes yes yes',\n",
       "    'intent': 'affirm',\n",
       "    'predicted': 'affirm',\n",
       "    'confidence': 0.9999939203262329},\n",
       "   {'text': 'definitely',\n",
       "    'intent': 'affirm',\n",
       "    'predicted': 'affirm',\n",
       "    'confidence': 0.9992969036102295},\n",
       "   {'text': 'yes, it did.',\n",
       "    'intent': 'affirm',\n",
       "    'predicted': 'affirm',\n",
       "    'confidence': 0.9996416568756104},\n",
       "   {'text': 'what are the current matches',\n",
       "    'intent': 'current_matches',\n",
       "    'predicted': 'current_matches',\n",
       "    'confidence': 0.999619722366333},\n",
       "   {'text': 'can you list the matches in ipl 2019',\n",
       "    'intent': 'current_matches',\n",
       "    'predicted': 'current_matches',\n",
       "    'confidence': 0.9999986886978149},\n",
       "   {'text': 'which cricket match is happening right now',\n",
       "    'intent': 'current_matches',\n",
       "    'predicted': 'current_matches',\n",
       "    'confidence': 0.9999994039535522},\n",
       "   {'text': 'which ipl match is next',\n",
       "    'intent': 'current_matches',\n",
       "    'predicted': 'current_matches',\n",
       "    'confidence': 0.999974250793457},\n",
       "   {'text': 'which teams are playing next in ipl',\n",
       "    'intent': 'current_matches',\n",
       "    'predicted': 'current_matches',\n",
       "    'confidence': 0.99997878074646},\n",
       "   {'text': 'which team will play next in ipl',\n",
       "    'intent': 'current_matches',\n",
       "    'predicted': 'current_matches',\n",
       "    'confidence': 0.9999909400939941},\n",
       "   {'text': 'tell me some ipl news',\n",
       "    'intent': 'current_matches',\n",
       "    'predicted': 'current_matches',\n",
       "    'confidence': 0.9998605251312256},\n",
       "   {'text': 'i want ipl updates',\n",
       "    'intent': 'current_matches',\n",
       "    'predicted': 'current_matches',\n",
       "    'confidence': 0.9998763799667358},\n",
       "   {'text': 'can you give me ipl latest updates',\n",
       "    'intent': 'current_matches',\n",
       "    'predicted': 'current_matches',\n",
       "    'confidence': 0.9999905824661255},\n",
       "   {'text': 'what are the latest match updates',\n",
       "    'intent': 'current_matches',\n",
       "    'predicted': 'current_matches',\n",
       "    'confidence': 0.9999802112579346},\n",
       "   {'text': 'who won the last ipl match',\n",
       "    'intent': 'current_matches',\n",
       "    'predicted': 'current_matches',\n",
       "    'confidence': 0.9999678134918213},\n",
       "   {'text': 'which teams are competing in the next match',\n",
       "    'intent': 'current_matches',\n",
       "    'predicted': 'current_matches',\n",
       "    'confidence': 0.999994158744812},\n",
       "   {'text': 'how is ipl going',\n",
       "    'intent': 'current_matches',\n",
       "    'predicted': 'current_matches',\n",
       "    'confidence': 0.9996508359909058},\n",
       "   {'text': 'what was the result of the last match',\n",
       "    'intent': 'current_matches',\n",
       "    'predicted': 'current_matches',\n",
       "    'confidence': 0.9999963045120239},\n",
       "   {'text': 'when is the next match',\n",
       "    'intent': 'current_matches',\n",
       "    'predicted': 'current_matches',\n",
       "    'confidence': 0.9998906850814819},\n",
       "   {'text': 'no',\n",
       "    'intent': 'deny',\n",
       "    'predicted': 'deny',\n",
       "    'confidence': 0.9806721806526184},\n",
       "   {'text': 'never',\n",
       "    'intent': 'deny',\n",
       "    'predicted': 'deny',\n",
       "    'confidence': 0.9926614761352539},\n",
       "   {'text': \"I don't think so\",\n",
       "    'intent': 'deny',\n",
       "    'predicted': 'deny',\n",
       "    'confidence': 0.999589741230011},\n",
       "   {'text': \"don't like that\",\n",
       "    'intent': 'deny',\n",
       "    'predicted': 'deny',\n",
       "    'confidence': 0.9994526505470276},\n",
       "   {'text': 'no way',\n",
       "    'intent': 'deny',\n",
       "    'predicted': 'deny',\n",
       "    'confidence': 0.998391330242157},\n",
       "   {'text': 'not really',\n",
       "    'intent': 'deny',\n",
       "    'predicted': 'deny',\n",
       "    'confidence': 0.9995154142379761},\n",
       "   {'text': 'n',\n",
       "    'intent': 'deny',\n",
       "    'predicted': 'deny',\n",
       "    'confidence': 0.9593868255615234},\n",
       "   {'text': 'N',\n",
       "    'intent': 'deny',\n",
       "    'predicted': 'deny',\n",
       "    'confidence': 0.9593868255615234}],\n",
       "  'report': '                 precision    recall  f1-score   support\\n\\n          greet       1.00      1.00      1.00        19\\n         thanks       1.00      1.00      1.00        15\\n        goodbye       1.00      1.00      1.00        17\\ncurrent_matches       1.00      1.00      1.00        15\\n         affirm       1.00      1.00      1.00         9\\n           deny       1.00      1.00      1.00         8\\n\\n      micro avg       1.00      1.00      1.00        83\\n      macro avg       1.00      1.00      1.00        83\\n   weighted avg       1.00      1.00      1.00        83\\n',\n",
       "  'precision': 1.0,\n",
       "  'f1_score': 1.0,\n",
       "  'accuracy': 1.0},\n",
       " 'entity_evaluation': {'CRFEntityExtractor': {'report': {},\n",
       "   'precision': 0.0,\n",
       "   'f1_score': 0.0,\n",
       "   'accuracy': 0.0}},\n",
       " 'response_selection_evaluation': None}"
      ]
     },
     "execution_count": 8,
     "metadata": {},
     "output_type": "execute_result"
    }
   ],
   "source": [
    "from rasa_nlu.test  import run_evaluation\n",
    "\n",
    "run_evaluation(\"data/nlu.md\", model_directory)"
   ]
  },
  {
   "cell_type": "markdown",
   "metadata": {
    "colab_type": "text",
    "id": "Av3R2GZZ-WJO"
   },
   "source": [
    "## Rasa Core: Making Interactive Conversations\n",
    "\n",
    "One of the most important aspects of a chatbot application is its ability to be interactive. \n",
    "\n",
    "### Designing the conversational flow\n",
    "\n",
    "Think of the simplest conversation our chatbot can have with a user. What would be the flow of such a conversation?\n",
    "\n",
    "---\n",
    "Me: Hi\n",
    "\n",
    "Iplbot: Hey! How may I help you?\n",
    "\n",
    "Me: What was the result of the last match?\n",
    "\n",
    "Iplbot: Here are some IPL quick info:\n",
    "1.The match between Rajasthan Royals and Delhi Capitals was recently held and Delhi Capitals won.\n",
    "2.The next match is Warriors vs Titans on 22 April 2019\n",
    "\n",
    "Iplbot: Did that help you?\n",
    "\n",
    "Me: yes, thank you!\n",
    "\n",
    "Iplbot: Glad that I could help!\n",
    "\n",
    "---\n",
    "Let’s see how we can teach a simple conversation like that to Rasa:\n"
   ]
  },
  {
   "cell_type": "raw",
   "metadata": {},
   "source": [
    "## news path 1\n",
    "* greet\n",
    "  - utter_greet\n",
    "* current_matches\n",
    "  - action_match_news\n",
    "  - utter_did_that_help\n",
    "* affirm or thanks\n",
    "  - utter_gratitude\n",
    "* goodbye\n",
    "  - utter_goodbye"
   ]
  },
  {
   "cell_type": "markdown",
   "metadata": {},
   "source": [
    "The general format is:"
   ]
  },
  {
   "cell_type": "raw",
   "metadata": {},
   "source": [
    "## news path 1           <--- story name for debugging purposes\n",
    "* greet                  <--- intent detected from the user\n",
    "  - utter_greet          <--- what action the bot should take\n",
    "* current_matches        <--- the following intent in the conversation"
   ]
  },
  {
   "cell_type": "markdown",
   "metadata": {},
   "source": [
    "This is called a user story path. I have provided a few stories in the data/stories.md file for your reference. This is the training data for Rasa Core."
   ]
  },
  {
   "cell_type": "markdown",
   "metadata": {
    "colab_type": "text",
    "id": "BKZ63AuS-ZPV"
   },
   "source": [
    "### Writing  Stories\n",
    "\n",
    "The way it works is:\n",
    "\n",
    "- Give some examples of sample story paths that the user is expected to follow\n",
    "- Rasa Core combines them randomly to create more complex user paths\n",
    "- It then builds a probabilistic model out of that. This model is used to predict the next action Rasa should take\n",
    "\n",
    "<img src=\"images/conversation_flow.png\">\n",
    "\n",
    "The above illustration might look complicated, but it’s simply listing out various possible user stories that I have taught Rasa. Here are a few things to note from the above graph:\n",
    "\n",
    "- Except for the START and END boxes, all the colored boxes indicate user intent\n",
    "- All the white boxes are actions that the chatbot performs\n",
    "- Arrows indicate the flow of the conversation\n",
    "- action_match_news is where we hit the CricAPI to get IPL information"
   ]
  },
  {
   "cell_type": "code",
   "execution_count": 9,
   "metadata": {
    "colab": {
     "base_uri": "https://localhost:8080/",
     "height": 34
    },
    "colab_type": "code",
    "id": "W3q1XJ5O4orY",
    "outputId": "a82511c7-b7e5-462c-c5c2-35df3cabd39a"
   },
   "outputs": [
    {
     "name": "stdout",
     "output_type": "stream",
     "text": [
      "Writing 'stories_md' (str) to file 'data/stories.md'.\n"
     ]
    }
   ],
   "source": [
    "stories_md = \"\"\"\n",
    "## news path 1\n",
    "* greet\n",
    "  - utter_greet\n",
    "* current_matches\n",
    "  - action_match_news\n",
    "  - utter_did_that_help\n",
    "* affirm or thanks\n",
    "  - utter_gratitude\n",
    "* goodbye\n",
    "  - utter_goodbye\n",
    "\n",
    "## news path 2\n",
    "* current_matches\n",
    "  - action_match_news\n",
    "  - utter_did_that_help\n",
    "* affirm or thanks\n",
    "  - utter_gratitude\n",
    "* goodbye\n",
    "  - utter_goodbye\n",
    "\n",
    "## news path 3\n",
    "* greet\n",
    "  - utter_greet\n",
    "* current_matches\n",
    "  - action_match_news\n",
    "  - utter_did_that_help\n",
    "* deny\n",
    "  - utter_ask_again\n",
    "* current_matches\n",
    "  - action_match_news\n",
    "  - utter_did_that_help\n",
    "* affirm or thanks\n",
    "  - utter_gratitude\n",
    "* goodbye\n",
    "  - utter_goodbye\n",
    "\n",
    "## greet path\n",
    "* greet\n",
    "  - utter_greet\n",
    "\n",
    "## goodbye path\n",
    "* goodbye\n",
    "  - utter_goodbye\n",
    "\"\"\"\n",
    "\n",
    "%store stories_md > data/stories.md"
   ]
  },
  {
   "cell_type": "markdown",
   "metadata": {},
   "source": [
    "Now, generate a similar graph for your stories using the following command:\n",
    "\n",
    "**python -m rasa_core.visualize -d domain.yml -s data/ipl_stories.md -o graph.html**\n",
    "\n",
    "This is very helpful when debugging the conversational flow of the chatbot."
   ]
  },
  {
   "cell_type": "markdown",
   "metadata": {
    "colab_type": "text",
    "id": "LnD9v_CX-ePm"
   },
   "source": [
    "### Defining the Domain\n",
    "\n",
    "The domain is the world of your chatbot. It contains everything the chatbot should know, including:\n",
    "\n",
    "- All the actions it is capable of doing\n",
    "- The intents it should understand\n",
    "- The template of all the utterances it should tell the user, and much more"
   ]
  },
  {
   "cell_type": "code",
   "execution_count": 10,
   "metadata": {
    "colab": {
     "base_uri": "https://localhost:8080/",
     "height": 34
    },
    "colab_type": "code",
    "id": "3SzQq1oy5U9T",
    "outputId": "4fde8c0d-9672-457c-cacc-0e86d3ca5c80"
   },
   "outputs": [
    {
     "name": "stdout",
     "output_type": "stream",
     "text": [
      "Writing 'domain_yml' (str) to file 'domain.yml'.\n"
     ]
    }
   ],
   "source": [
    "domain_yml = \"\"\"\n",
    "actions:\n",
    "- utter_greet\n",
    "- utter_did_that_help\n",
    "- utter_goodbye\n",
    "- action_match_news\n",
    "- utter_default\n",
    "- utter_gratitude\n",
    "- utter_ask_again\n",
    "\n",
    "intents:\n",
    "- goodbye\n",
    "- greet\n",
    "- thanks\n",
    "- current_matches\n",
    "- affirm\n",
    "- deny\n",
    "\n",
    "templates:\n",
    "  utter_greet:\n",
    "  - text: \"Hey! What can I do for you?\"\n",
    "  utter_did_that_help:\n",
    "  - text: \"Did that help you?\"\n",
    "  - text: \"I hope that solved your query\"\n",
    "  utter_goodbye:\n",
    "  - text: \"Bye\"\n",
    "  utter_default:\n",
    "  - text: \"I am sorry, I didn't get that. Could you please repeat your query?\"\n",
    "  - text: \"I am not sure what you are aiming for.\"\n",
    "  utter_gratitude:\n",
    "  - text: \"Glad that I could be of help to you!\\nBye\"\n",
    "  utter_ask_again:\n",
    "  - text: \"Okay! Let's start again, please tell me what do you need?\"\n",
    "  - text: \"No issues! Let's try this again.\\n Please repeat your query?\"\n",
    "\"\"\"\n",
    "\n",
    "%store domain_yml > domain.yml"
   ]
  },
  {
   "cell_type": "markdown",
   "metadata": {
    "colab_type": "text",
    "id": "ROL3AYs5-iCg"
   },
   "source": [
    "###  Custom Actions\n",
    "\n",
    "Using CricAPI for fetching IPL related news. It is free for 100 requests per day, which (I hope) is more than enough to satiate that cricket crazy passion you have.\n",
    "\n",
    "You need to first signup on the website to get access to their API:\n",
    "https://www.cricapi.com/\n",
    "\n",
    "You should be able to see your API Key once you are logged in:\n",
    "\n",
    "<img src=\"images/lala-1140x399.png\">\n",
    "\n",
    "Modifications to original code:\n",
    "\n",
    "- Instead of showing API key here it has been stored in ENV variable and fetched here\n",
    "- Key \"toss_winner_team\" was subsituted into depreceated key"
   ]
  },
  {
   "cell_type": "code",
   "execution_count": 11,
   "metadata": {
    "colab": {},
    "colab_type": "code",
    "id": "7SbmLMJa5X0E"
   },
   "outputs": [
    {
     "name": "stdout",
     "output_type": "stream",
     "text": [
      "Writing 'actions_py' (str) to file 'actions.py'.\n"
     ]
    }
   ],
   "source": [
    "actions_py=\"\"\"\n",
    "# -*- coding: utf-8 -*-\n",
    "from __future__ import absolute_import\n",
    "from __future__ import division\n",
    "from __future__ import print_function\n",
    "from __future__ import unicode_literals\n",
    "from datetime import datetime\n",
    "\n",
    "import logging\n",
    "import requests\n",
    "import json\n",
    "import os\n",
    "from rasa_sdk import Action\n",
    "\n",
    "logger = logging.getLogger(__name__)\n",
    "\n",
    "API_URL = \"https://cricapi.com/api/\"\n",
    "API_KEY = os.environ.get('CRICINFOAPI',\"\")\n",
    "\n",
    "class ApiAction(Action):\n",
    "    def name(self):\n",
    "        return \"action_match_news\"\n",
    "\n",
    "    def run(self, dispatcher, tracker, domain):\n",
    "        if API_KEY == \"\":\n",
    "            dispatcher.utter_message(\"Need to define environment variable CRICINFOAPI with key from \" + API_URL)\n",
    "            return []    \n",
    "        print(API_URL + \"matches\" + \"?apikey=\" + API_KEY)\n",
    "        res = requests.get(API_URL + \"matches\" + \"?apikey=\" + API_KEY) #, verify=False\n",
    "        if res.status_code == 200:\n",
    "            data = res.json()[\"matches\"]\n",
    "            recent_match = data[0]\n",
    "            upcoming_match = data[1]\n",
    "            upcoming_match[\"date\"] = datetime.strptime(upcoming_match[\"date\"], \"%Y-%m-%dT%H:%M:%S.%fZ\")\n",
    "            next_date = upcoming_match[\"date\"].strftime(\"%d %B %Y\")\n",
    "\n",
    "            out_message = \"Here some IPL quick info: 1.The match between {} and {} was recently held and {} won the toss.\".format(recent_match[\"team-1\"], recent_match[\"team-2\"], recent_match[\"toss_winner_team\"])\n",
    "\n",
    "            dispatcher.utter_message(out_message)\n",
    "\n",
    "            out_message = \"2.The next match is {} vs {} on {}\".format(upcoming_match[\"team-1\"], upcoming_match[\"team-2\"], next_date)\n",
    "\n",
    "            dispatcher.utter_message(out_message)\n",
    "\n",
    "            return []\n",
    "\"\"\"\n",
    "%store actions_py > actions.py"
   ]
  },
  {
   "cell_type": "markdown",
   "metadata": {},
   "source": [
    "Need endpoints yml to execute the actions server.\n",
    "\n",
    "Note: If you have external API call, like REST, need to have \"webhook\" word at the end, else nothing.\n",
    "\n",
    "My own query on this topic: https://forum.rasa.com/t/rasa-core-sdk-not-working/9228"
   ]
  },
  {
   "cell_type": "code",
   "execution_count": 12,
   "metadata": {},
   "outputs": [
    {
     "name": "stdout",
     "output_type": "stream",
     "text": [
      "Writing 'endpoints_yml' (str) to file 'endpoints.yml'.\n"
     ]
    }
   ],
   "source": [
    "endpoints_yml = \"\"\"\n",
    "#action_endpoint:\n",
    "#  url: \"http://localhost:5055/webhook\"\n",
    "  \n",
    "action_endpoint:\n",
    "  url: http://localhost:5055/webhook\n",
    "\n",
    "#nlg:\n",
    "#  url: http://localhost:5056/nlg\n",
    "\n",
    "core_endpoint:\n",
    "  url: http://localhost:5005\n",
    "\"\"\"\n",
    "%store endpoints_yml > endpoints.yml"
   ]
  },
  {
   "cell_type": "markdown",
   "metadata": {},
   "source": [
    "In a separate shell (cmd for Windows):\n",
    "- **activate rasa**\n",
    "- come to directory where actions.py is and then run\n",
    "- **python -m rasa run actions** ##**python -m rasa_sdk.endpoint --actions ipl_actions**\n",
    "\n",
    "This way, custom action server starts ..."
   ]
  },
  {
   "cell_type": "code",
   "execution_count": 13,
   "metadata": {},
   "outputs": [],
   "source": [
    "# import sys\n",
    "# python = sys.executable\n",
    "# !{python} -m rasa_core_sdk.endpoint --actions actions"
   ]
  },
  {
   "cell_type": "markdown",
   "metadata": {
    "colab_type": "text",
    "id": "M-jn1g_k-o-m"
   },
   "source": [
    "###  Visualising the Training Data"
   ]
  },
  {
   "cell_type": "raw",
   "metadata": {
    "colab": {
     "base_uri": "https://localhost:8080/",
     "height": 1090
    },
    "colab_type": "code",
    "id": "O1gYRXe15amU",
    "outputId": "9c0838e3-56c1-4eeb-a879-cc09619269d3"
   },
   "source": [
    "\n",
    "from IPython.display import Image, display\n",
    "from rasa_core.agent import Agent\n",
    "%matplotlib inline\n",
    "\n",
    "agent = Agent('domain.yml')\n",
    "agent.visualize(\"data/stories.md\", \"ipl_story_graph.png\", max_history=2)\n",
    "i = Image(filename=\"ipl_story_graph.png\")\n",
    "display(i)"
   ]
  },
  {
   "cell_type": "markdown",
   "metadata": {
    "colab_type": "text",
    "id": "pCdKD3l7-ua8"
   },
   "source": [
    "### Training a Dialogue Model\n",
    "\n",
    "You can train the model using the following command. DEPRECATED. USE **rasa train core**\n",
    "\n",
    "** python -m rasa_core.train -d domain.yml -s data/stories.md -o models/current/dialogue -c policies.yml** \n",
    "\n",
    "**python -m rasa_core.train -d domain.yml -s data/stories.md -o models/current/dialogue -c config.yml**\n",
    "\n",
    "Or do it programmatically as:"
   ]
  },
  {
   "cell_type": "code",
   "execution_count": null,
   "metadata": {
    "colab": {
     "base_uri": "https://localhost:8080/",
     "height": 7364
    },
    "colab_type": "code",
    "id": "4D7R-FRO5dxz",
    "outputId": "727adf2a-fa4b-4158-df94-30ad472f62f3"
   },
   "outputs": [],
   "source": [
    "import asyncio\n",
    "# from rasa.core.policies.fallback import FallbackPolicy\n",
    "from rasa.core.policies.keras_policy import KerasPolicy\n",
    "from rasa.core.policies.memoization import MemoizationPolicy\n",
    "from rasa.core.policies.mapping_policy import MappingPolicy\n",
    "\n",
    "# from rasa_core.policies.m import KerasPolicy, MemoizationPolicy, MappingPolicy\n",
    "from rasa_core.agent import Agent\n",
    "\n",
    "# # this will catch predictions the model isn't very certain about\n",
    "# # there is a threshold for the NLU predictions as well as the action predictions\n",
    "# fallback = FallbackPolicy(fallback_action_name=\"utter_unclear\",\n",
    "#                           core_threshold=0.2,\n",
    "#                           nlu_threshold=0.1)\n",
    "\n",
    "# agent = Agent('domain.yml', policies=[MemoizationPolicy(), KerasPolicy(), fallback])\n",
    "\n",
    "agent = Agent('domain.yml', policies = [MemoizationPolicy(max_history=2), KerasPolicy(validation_split=0.2,epochs=200),MappingPolicy()])\n",
    "# loading our neatly defined training dialogues\n",
    "training_data = await agent.load_data('data/stories.md')\n",
    "\n",
    "agent.train(training_data)\n",
    "# FOLLOWING WAY OF giving arguments is depreacted, instead, give these params as arguments to KerasPolicy\n",
    "# agent.train(\n",
    "#     training_data,\n",
    "#     validation_split=0.0,\n",
    "#     epochs=200\n",
    "# )\n",
    "\n",
    "agent.persist('models/core/current')"
   ]
  },
  {
   "cell_type": "markdown",
   "metadata": {
    "colab_type": "text",
    "id": "c4911z6y-5rD"
   },
   "source": [
    "## Running: Talk to your Bot\n",
    "\n",
    "So we have the chatbot ready. It’s time to chat"
   ]
  },
  {
   "cell_type": "markdown",
   "metadata": {},
   "source": [
    "One way is to run following command in shell (windows cmd)\n",
    "- activate the environment,\n",
    "- come to directory where actions.py is and then run\n",
    "- **python -m rasa_core.run -d models/core/current -u models/nlu/current --endpoints endpoints.yml**\n",
    "\n",
    "Or else do programmatically like below\n",
    "\n",
    "Both approaches expect rasa core sdk server running in a separate window, else **python -m rasa_core.endpoint --actions actions**"
   ]
  },
  {
   "cell_type": "code",
   "execution_count": 14,
   "metadata": {
    "colab": {
     "base_uri": "https://localhost:8080/",
     "height": 34
    },
    "colab_type": "code",
    "id": "nE4coPam5hry",
    "outputId": "c8ec135b-882b-4e9e-a955-f3e184177817"
   },
   "outputs": [],
   "source": [
    "# #Starting the Bot\n",
    "\n",
    "# from rasa_core.agent import Agent\n",
    "# agent = Agent.load('models/current/dialogue', interpreter=model_directory)\n",
    "\n",
    "import IPython\n",
    "from IPython.display import clear_output\n",
    "from rasa_core.agent import Agent\n",
    "from rasa_core.interpreter import NaturalLanguageInterpreter\n",
    "from rasa.utils.endpoints import EndpointConfig\n",
    "import asyncio\n",
    "import time\n",
    "\n",
    "def load_assistant():\n",
    "    messages = [\"Hi! you can chat in this window. Type 'stop' to end the conversation.\"]\n",
    "    model_dir = 'models/nlu/current' # or model_directory defined earlier\n",
    "    interpreter = NaturalLanguageInterpreter.create(model_dir)\n",
    "    endpoint = EndpointConfig('http://localhost:5055/webhook')\n",
    "    agent = Agent.load('models/core/current', interpreter=interpreter, action_endpoint = endpoint)\n",
    "\n",
    "    print(\"Your bot is ready to talk! Type your messages here or send 'stop'\")\n",
    "    while True:\n",
    "        a = input()\n",
    "        if a == 'stop':\n",
    "            break\n",
    "        responses = asyncio.run(agent.handle_text(a)) # For Python 3.7\n",
    "        for response in responses:\n",
    "            print(response[\"text\"])"
   ]
  },
  {
   "cell_type": "code",
   "execution_count": null,
   "metadata": {
    "colab": {
     "base_uri": "https://localhost:8080/",
     "height": 292
    },
    "colab_type": "code",
    "id": "DDVLzhAT5yrP",
    "outputId": "aee3fc83-df97-42b4-c7e0-c8929f76337c"
   },
   "outputs": [
    {
     "name": "stderr",
     "output_type": "stream",
     "text": [
      "INFO:tensorflow:Restoring parameters from models/nlu/current\\component_6_EmbeddingIntentClassifier.ckpt\n",
      "WARNING:tensorflow:From C:\\Users\\yogesh.kulkarni\\AppData\\Local\\Continuum\\anaconda3\\envs\\rasa\\lib\\site-packages\\tensorflow\\python\\ops\\init_ops.py:97: calling GlorotUniform.__init__ (from tensorflow.python.ops.init_ops) with dtype is deprecated and will be removed in a future version.\n",
      "Instructions for updating:\n",
      "Call initializer instance with the dtype argument instead of passing it to the constructor\n",
      "WARNING:tensorflow:From C:\\Users\\yogesh.kulkarni\\AppData\\Local\\Continuum\\anaconda3\\envs\\rasa\\lib\\site-packages\\tensorflow\\python\\ops\\init_ops.py:97: calling Orthogonal.__init__ (from tensorflow.python.ops.init_ops) with dtype is deprecated and will be removed in a future version.\n",
      "Instructions for updating:\n",
      "Call initializer instance with the dtype argument instead of passing it to the constructor\n",
      "WARNING:tensorflow:From C:\\Users\\yogesh.kulkarni\\AppData\\Local\\Continuum\\anaconda3\\envs\\rasa\\lib\\site-packages\\tensorflow\\python\\ops\\init_ops.py:97: calling Zeros.__init__ (from tensorflow.python.ops.init_ops) with dtype is deprecated and will be removed in a future version.\n",
      "Instructions for updating:\n",
      "Call initializer instance with the dtype argument instead of passing it to the constructor\n",
      "WARNING:rasa.core.interpreter:Tried to create NLU interpreter from '<rasa_core.interpreter.RasaNLUInterpreter object at 0x0000026C84281388>', which is not possible.Using RegexInterpreter instead.\n"
     ]
    },
    {
     "name": "stdout",
     "output_type": "stream",
     "text": [
      "Your bot is ready to talk! Type your messages here or send 'stop'\n",
      "Hi\n",
      "ERROR! Session/line number was not unique in database. History logging moved to new session 34\n"
     ]
    },
    {
     "name": "stderr",
     "output_type": "stream",
     "text": [
      "WARNING:rasa.core.processor:Interpreter parsed an intent 'Hi' that is not defined in the domain.\n"
     ]
    },
    {
     "name": "stdout",
     "output_type": "stream",
     "text": [
      "Bye\n"
     ]
    }
   ],
   "source": [
    "load_assistant()"
   ]
  },
  {
   "cell_type": "markdown",
   "metadata": {
    "colab": {},
    "colab_type": "code",
    "id": "enJNkbvB54y1"
   },
   "source": [
    "## What Next?\n",
    "\n",
    "- Try to use different pipelines in Rasa Core, explore more Policies, fine-tune those models, \n",
    "- Check out what other features CricAPI provides, etc.\n",
    "- Other APIs\n",
    "- Slot filling\n",
    "- Different languages (Hindi bot?)\n",
    "\n"
   ]
  },
  {
   "cell_type": "code",
   "execution_count": null,
   "metadata": {},
   "outputs": [],
   "source": []
  }
 ],
 "metadata": {
  "accelerator": "GPU",
  "anaconda-cloud": {},
  "colab": {
   "include_colab_link": true,
   "name": "Conversational_Chatbot.ipynb",
   "provenance": [],
   "version": "0.3.2"
  },
  "kernelspec": {
   "display_name": "Python [conda env:conda-rasa] *",
   "language": "python",
   "name": "conda-env-conda-rasa-py"
  },
  "language_info": {
   "codemirror_mode": {
    "name": "ipython",
    "version": 3
   },
   "file_extension": ".py",
   "mimetype": "text/x-python",
   "name": "python",
   "nbconvert_exporter": "python",
   "pygments_lexer": "ipython3",
   "version": "3.7.4"
  }
 },
 "nbformat": 4,
 "nbformat_minor": 1
}
