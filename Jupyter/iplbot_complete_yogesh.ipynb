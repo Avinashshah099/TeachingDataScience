{
 "cells": [
  {
   "cell_type": "markdown",
   "metadata": {
    "colab_type": "text",
    "id": "3oxVq6vQ76r7"
   },
   "source": [
    "# IPL Chatbot\n",
    "\n",
    "Original: Learn how to Build and Deploy a Chatbot in Minutes using Rasa (IPL Case Study!) - Mohd Sanad Zaki Rizvi, Analytics Vidhya https://www.analyticsvidhya.com/blog/2019/04/learn-build-chatbot-rasa-nlp-ipl)"
   ]
  },
  {
   "cell_type": "markdown",
   "metadata": {
    "colab_type": "text",
    "id": "kIFYA-Kp8aK4"
   },
   "source": [
    "**Objectives** To build a chatbot capable of fetching latest info about the ongoing IPL (Indian Premier League) matches from cricapi.com site.\n",
    "\n",
    "<img src=\"images/ipl.jpg\">"
   ]
  },
  {
   "cell_type": "markdown",
   "metadata": {
    "colab_type": "text",
    "id": "yHYeAA859JGq"
   },
   "source": [
    "### Importing Libraries"
   ]
  },
  {
   "cell_type": "code",
   "execution_count": 1,
   "metadata": {
    "colab": {},
    "colab_type": "code",
    "id": "TSw6zFmk3iPu",
    "scrolled": true
   },
   "outputs": [
    {
     "name": "stdout",
     "output_type": "stream",
     "text": [
      "Event loop ready.\n"
     ]
    }
   ],
   "source": [
    "%matplotlib inline\n",
    "\n",
    "# First things first\n",
    "import nest_asyncio\n",
    "nest_asyncio.apply()\n",
    "print(\"Event loop ready.\")\n",
    "\n",
    "import logging, io, json, warnings\n",
    "logging.basicConfig(level=\"INFO\")\n",
    "warnings.filterwarnings('ignore')\n",
    "\n",
    "import rasa_nlu\n",
    "import rasa_core\n",
    "import spacy"
   ]
  },
  {
   "cell_type": "markdown",
   "metadata": {
    "colab_type": "text",
    "id": "oDEAOmaI9o4a"
   },
   "source": [
    "### Preparing the NLU Training Data\n",
    "\n",
    "Training data for extracting the user intent.\n",
    "As you can see, the format of training data for ‘intent’ is quite simple in Rasa. You just have to:\n",
    "\n",
    "- Start the line with “## intent:intent_name”\n",
    "- Supply all the examples in the following lines"
   ]
  },
  {
   "cell_type": "code",
   "execution_count": 2,
   "metadata": {
    "colab": {
     "base_uri": "https://localhost:8080/",
     "height": 34
    },
    "colab_type": "code",
    "id": "RPxeQ1_14CjK",
    "outputId": "bfb5974f-f8ea-46b8-b8cb-9dd4479ed9cc"
   },
   "outputs": [
    {
     "name": "stdout",
     "output_type": "stream",
     "text": [
      "Writing 'nlu_md' (str) to file 'data/ipl_nlu_data.md'.\n"
     ]
    }
   ],
   "source": [
    "nlu_md = \"\"\"\n",
    "## intent:goodbye  \n",
    "- Bye \n",
    "- Goodbye\n",
    "- See you later\n",
    "- Bye bot\n",
    "- Goodbye friend\n",
    "- bye\n",
    "- bye for now\n",
    "- catch you later\n",
    "- gotta go\n",
    "- See you\n",
    "- goodnight\n",
    "- have a nice day\n",
    "- i'm off\n",
    "- see you later alligator\n",
    "- we'll speak soon\n",
    "- end\n",
    "- finish\n",
    "\n",
    "## intent:greet\n",
    "- Hi\n",
    "- Hey\n",
    "- Hi bot\n",
    "- Hey bot\n",
    "- Hello\n",
    "- Good morning\n",
    "- hi again\n",
    "- hi folks\n",
    "- hi Mister\n",
    "- hi pal!\n",
    "- hi there\n",
    "- greetings\n",
    "- hello everybody\n",
    "- hello is anybody there\n",
    "- hello robot\n",
    "- who are you?\n",
    "- what are you?\n",
    "- what's up\n",
    "- how do you do?\n",
    "\n",
    "## intent:thanks\n",
    "- Thanks\n",
    "- Thank you\n",
    "- Thank you so much\n",
    "- Thanks bot\n",
    "- Thanks for that\n",
    "- cheers\n",
    "- cheers bro\n",
    "- ok thanks!\n",
    "- perfect thank you\n",
    "- thanks a bunch for everything\n",
    "- thanks for the help\n",
    "- thanks a lot\n",
    "- amazing, thanks\n",
    "- cool, thanks\n",
    "- cool thank you\n",
    "\n",
    "## intent:affirm\n",
    "- y\n",
    "- Y\n",
    "- yes\n",
    "- yes sure\n",
    "- absolutely\n",
    "- for sure\n",
    "- yes yes yes\n",
    "- definitely\n",
    "- yes, it did.\n",
    "\n",
    "## intent:current_matches\n",
    "- what are the current matches\n",
    "- can you list the matches in ipl 2019\n",
    "- which cricket match is happening right now\n",
    "- which ipl match is next\n",
    "- which teams are playing next in ipl\n",
    "- which team will play next in ipl\n",
    "- tell me some ipl news\n",
    "- i want ipl updates\n",
    "- can you give me ipl latest updates\n",
    "- what are the latest match updates\n",
    "- who won the last ipl match\n",
    "- which teams are competing in the next match\n",
    "- how is ipl going\n",
    "- what was the result of the last match\n",
    "- when is the next match\n",
    "\n",
    "## intent:deny\n",
    "- no\n",
    "- never\n",
    "- I don't think so\n",
    "- don't like that\n",
    "- no way\n",
    "- not really\n",
    "- n\n",
    "- N\n",
    "\"\"\"\n",
    "\n",
    "%store nlu_md > data/ipl_nlu_data.md"
   ]
  },
  {
   "cell_type": "markdown",
   "metadata": {},
   "source": [
    "You can include as many examples as you want for each intent. In fact, make sure to include slangs and short forms that you use while texting. The idea is to make the chatbot understand the way we type text. Feel free to refer to the complete version where I have given plenty of examples for each intent type."
   ]
  },
  {
   "cell_type": "markdown",
   "metadata": {
    "colab_type": "text",
    "id": "ceazcacn9veB"
   },
   "source": [
    "### Defining the NLU Model Configuration\n",
    "\n",
    "This file lets us create a text processing pipeline in Rasa. Luckily for us, Rasa comes with two default settings based on the amount of training data we have:\n",
    "- “spacy_sklearn” pipeline if you have less than 1000 training examples\n",
    "- “tensorflow_embedding” if you have a large amount of data"
   ]
  },
  {
   "cell_type": "code",
   "execution_count": 3,
   "metadata": {
    "colab": {
     "base_uri": "https://localhost:8080/",
     "height": 34
    },
    "colab_type": "code",
    "id": "dF60NWhR4ID6",
    "outputId": "92946645-94fc-4450-aa41-eca8895ff83c"
   },
   "outputs": [
    {
     "name": "stdout",
     "output_type": "stream",
     "text": [
      "Writing 'config' (str) to file 'config/ipl_nlu_config.yml'.\n"
     ]
    }
   ],
   "source": [
    "config = \"\"\"\n",
    "language: \"en\"\n",
    "pipeline: spacy_sklearn\n",
    "\"\"\" \n",
    "\n",
    "%store config > config/ipl_nlu_config.yml"
   ]
  },
  {
   "cell_type": "markdown",
   "metadata": {
    "colab_type": "text",
    "id": "ieoWk91X9y8X"
   },
   "source": [
    "### Training the NLU Classifier Model\n",
    "\n",
    "On command line you can run following command:\n",
    "\n",
    "**python -m rasa_nlu.train -c ipl_nlu_config.yml --data data/ipl_nlu_data.md -o models --fixed_model_name nlu --project current --verbose**\n",
    "\n",
    "Or programmatically you can write code"
   ]
  },
  {
   "cell_type": "code",
   "execution_count": 4,
   "metadata": {
    "colab": {
     "base_uri": "https://localhost:8080/",
     "height": 445
    },
    "colab_type": "code",
    "id": "dp3AIHmS4L6x",
    "outputId": "8011c4f7-c789-4138-84d7-4710207615d8"
   },
   "outputs": [
    {
     "name": "stderr",
     "output_type": "stream",
     "text": [
      "WARNING:tensorflow:\n",
      "The TensorFlow contrib module will not be included in TensorFlow 2.0.\n",
      "For more information, please see:\n",
      "  * https://github.com/tensorflow/community/blob/master/rfcs/20180907-contrib-sunset.md\n",
      "  * https://github.com/tensorflow/addons\n",
      "  * https://github.com/tensorflow/io (for I/O related ops)\n",
      "If you depend on functionality not listed there, please file an issue.\n",
      "\n",
      "WARNING:tensorflow:From C:\\Users\\YogeshKulkarni\\AppData\\Local\\conda\\conda\\envs\\rasa\\lib\\site-packages\\tensor2tensor\\utils\\adafactor.py:27: The name tf.train.Optimizer is deprecated. Please use tf.compat.v1.train.Optimizer instead.\n",
      "\n",
      "WARNING:tensorflow:From C:\\Users\\YogeshKulkarni\\AppData\\Local\\conda\\conda\\envs\\rasa\\lib\\site-packages\\tensor2tensor\\utils\\multistep_optimizer.py:32: The name tf.train.AdamOptimizer is deprecated. Please use tf.compat.v1.train.AdamOptimizer instead.\n",
      "\n",
      "WARNING:tensorflow:From C:\\Users\\YogeshKulkarni\\AppData\\Local\\conda\\conda\\envs\\rasa\\lib\\site-packages\\mesh_tensorflow\\ops.py:4237: The name tf.train.CheckpointSaverListener is deprecated. Please use tf.estimator.CheckpointSaverListener instead.\n",
      "\n",
      "WARNING:tensorflow:From C:\\Users\\YogeshKulkarni\\AppData\\Local\\conda\\conda\\envs\\rasa\\lib\\site-packages\\mesh_tensorflow\\ops.py:4260: The name tf.train.SessionRunHook is deprecated. Please use tf.estimator.SessionRunHook instead.\n",
      "\n",
      "WARNING:tensorflow:From C:\\Users\\YogeshKulkarni\\AppData\\Local\\conda\\conda\\envs\\rasa\\lib\\site-packages\\tensor2tensor\\models\\research\\neural_stack.py:51: The name tf.nn.rnn_cell.RNNCell is deprecated. Please use tf.compat.v1.nn.rnn_cell.RNNCell instead.\n",
      "\n",
      "INFO:absl:Entry Point [tensor2tensor.envs.tic_tac_toe_env:TicTacToeEnv] registered with id [T2TEnv-TicTacToeEnv-v0]\n",
      "WARNING:tensorflow:From C:\\Users\\YogeshKulkarni\\AppData\\Local\\conda\\conda\\envs\\rasa\\lib\\site-packages\\tensor2tensor\\utils\\trainer_lib.py:111: The name tf.OptimizerOptions is deprecated. Please use tf.compat.v1.OptimizerOptions instead.\n",
      "\n",
      "WARNING:tensorflow:From C:\\Users\\YogeshKulkarni\\AppData\\Local\\conda\\conda\\envs\\rasa\\lib\\site-packages\\tensorflow_gan\\python\\contrib_utils.py:305: The name tf.estimator.tpu.TPUEstimator is deprecated. Please use tf.compat.v1.estimator.tpu.TPUEstimator instead.\n",
      "\n",
      "WARNING:tensorflow:From C:\\Users\\YogeshKulkarni\\AppData\\Local\\conda\\conda\\envs\\rasa\\lib\\site-packages\\tensorflow_gan\\python\\contrib_utils.py:310: The name tf.estimator.tpu.TPUEstimatorSpec is deprecated. Please use tf.compat.v1.estimator.tpu.TPUEstimatorSpec instead.\n",
      "\n",
      "WARNING:tensorflow:From C:\\Users\\YogeshKulkarni\\AppData\\Local\\conda\\conda\\envs\\rasa\\lib\\site-packages\\rasa\\utils\\train_utils.py:28: The name tf.ConfigProto is deprecated. Please use tf.compat.v1.ConfigProto instead.\n",
      "\n",
      "WARNING:rasa_nlu.config:You have specified the pipeline template 'spacy_sklearn' which has been renamed to 'pretrained_embeddings_spacy'. Please update your code as it will no longer work with future versions of Rasa NLU.\n",
      "INFO:rasa.nlu.utils.spacy_utils:Trying to load spacy model with name 'en'\n",
      "INFO:rasa.nlu.components:Added 'SpacyNLP' to component cache. Key 'SpacyNLP-en'.\n",
      "INFO:rasa_nlu.model:Starting to train component SpacyNLP\n",
      "INFO:rasa_nlu.model:Finished training component.\n",
      "INFO:rasa_nlu.model:Starting to train component SpacyTokenizer\n",
      "INFO:rasa_nlu.model:Finished training component.\n",
      "INFO:rasa_nlu.model:Starting to train component SpacyFeaturizer\n",
      "INFO:rasa_nlu.model:Finished training component.\n",
      "INFO:rasa_nlu.model:Starting to train component RegexFeaturizer\n",
      "INFO:rasa_nlu.model:Finished training component.\n",
      "INFO:rasa_nlu.model:Starting to train component CRFEntityExtractor\n",
      "INFO:rasa_nlu.model:Finished training component.\n",
      "INFO:rasa_nlu.model:Starting to train component EntitySynonymMapper\n",
      "INFO:rasa_nlu.model:Finished training component.\n",
      "INFO:rasa_nlu.model:Starting to train component SklearnIntentClassifier\n"
     ]
    },
    {
     "name": "stdout",
     "output_type": "stream",
     "text": [
      "Fitting 2 folds for each of 6 candidates, totalling 12 fits\n"
     ]
    },
    {
     "name": "stderr",
     "output_type": "stream",
     "text": [
      "[Parallel(n_jobs=1)]: Using backend SequentialBackend with 1 concurrent workers.\n",
      "[Parallel(n_jobs=1)]: Done  12 out of  12 | elapsed:    0.0s finished\n",
      "C:\\Users\\YogeshKulkarni\\AppData\\Local\\conda\\conda\\envs\\rasa\\lib\\site-packages\\sklearn\\model_selection\\_search.py:842: DeprecationWarning: The default of the `iid` parameter will change from True to False in version 0.22 and will be removed in 0.24. This will change numeric results when test-set sizes are unequal.\n",
      "  DeprecationWarning)\n",
      "INFO:rasa_nlu.model:Finished training component.\n",
      "INFO:rasa_nlu.model:Successfully saved model into 'D:\\Yogesh\\ToDos\\Teaching\\TeachingDataScience\\Jupyter\\models\\ipl_nlu\\current'\n"
     ]
    }
   ],
   "source": [
    "from rasa_nlu.training_data import load_data\n",
    "from rasa_nlu.config import RasaNLUModelConfig\n",
    "from rasa_nlu.model import Trainer\n",
    "from rasa_nlu import config\n",
    "\n",
    "# loading the nlu training samples\n",
    "training_data = load_data(\"data/ipl_nlu_data.md\")\n",
    "\n",
    "# trainer to educate our pipeline\n",
    "trainer = Trainer(config.load(\"config/ipl_nlu_config.yml\"))\n",
    "\n",
    "# train the model!\n",
    "interpreter = trainer.train(training_data)\n",
    "\n",
    "# store it for future use\n",
    "model_directory = trainer.persist(\"./models/ipl_nlu\", fixed_model_name=\"current\")"
   ]
  },
  {
   "cell_type": "markdown",
   "metadata": {
    "colab_type": "text",
    "id": "Jrfp4xOS95ZZ"
   },
   "source": [
    "### Evaluating the NLU model on a random text (first way)\n",
    "\n",
    "Let’s test how good our model is performing by giving it a sample text that it hasn’t been trained on for extracting intent. "
   ]
  },
  {
   "cell_type": "code",
   "execution_count": 5,
   "metadata": {
    "colab": {
     "base_uri": "https://localhost:8080/",
     "height": 867
    },
    "colab_type": "code",
    "id": "4UjzlqMV4N1k",
    "outputId": "37ea93e5-6a71-4e8e-d2b6-a45144d184ad"
   },
   "outputs": [
    {
     "name": "stdout",
     "output_type": "stream",
     "text": [
      "{\n",
      "  \"intent\": {\n",
      "    \"name\": \"current_matches\",\n",
      "    \"confidence\": 0.5116506546638463\n",
      "  },\n",
      "  \"entities\": [],\n",
      "  \"intent_ranking\": [\n",
      "    {\n",
      "      \"name\": \"current_matches\",\n",
      "      \"confidence\": 0.5116506546638463\n",
      "    },\n",
      "    {\n",
      "      \"name\": \"greet\",\n",
      "      \"confidence\": 0.2513309961689086\n",
      "    },\n",
      "    {\n",
      "      \"name\": \"goodbye\",\n",
      "      \"confidence\": 0.09331288630237873\n",
      "    },\n",
      "    {\n",
      "      \"name\": \"affirm\",\n",
      "      \"confidence\": 0.057940554237205524\n",
      "    },\n",
      "    {\n",
      "      \"name\": \"deny\",\n",
      "      \"confidence\": 0.05373056235256777\n",
      "    },\n",
      "    {\n",
      "      \"name\": \"thanks\",\n",
      "      \"confidence\": 0.03203434627509305\n",
      "    }\n",
      "  ],\n",
      "  \"text\": \"what is happening in the cricket world these days?\"\n",
      "}\n"
     ]
    }
   ],
   "source": [
    "# A helper function for prettier output\n",
    "\n",
    "def pprint(o):   \n",
    "    print(json.dumps(o, indent=2))\n",
    "    \n",
    "pprint(interpreter.parse(\"what is happening in the cricket world these days?\"))"
   ]
  },
  {
   "cell_type": "markdown",
   "metadata": {},
   "source": [
    "Not only does our NLU model perform well on intent extraction, but it also ranks the other intents based on their confidence scores. This is a nifty little feature that can be really useful when the classifier is confused between multiple intents."
   ]
  },
  {
   "cell_type": "markdown",
   "metadata": {},
   "source": [
    "### Evaluating the NLU model on a random text (2nd way)\n",
    "Let’s test how good our model is performing by giving it a sample text that it hasn’t been trained on for extracting intent. You can open an iPython/Python shell and follow the following steps:"
   ]
  },
  {
   "cell_type": "code",
   "execution_count": 7,
   "metadata": {},
   "outputs": [
    {
     "name": "stderr",
     "output_type": "stream",
     "text": [
      "INFO:rasa.nlu.components:Added 'SpacyNLP' to component cache. Key 'SpacyNLP-en'.\n"
     ]
    },
    {
     "data": {
      "text/plain": [
       "{'intent': {'name': 'current_matches', 'confidence': 0.5116506546638463},\n",
       " 'entities': [],\n",
       " 'intent_ranking': [{'name': 'current_matches',\n",
       "   'confidence': 0.5116506546638463},\n",
       "  {'name': 'greet', 'confidence': 0.2513309961689086},\n",
       "  {'name': 'goodbye', 'confidence': 0.09331288630237873},\n",
       "  {'name': 'affirm', 'confidence': 0.057940554237205524},\n",
       "  {'name': 'deny', 'confidence': 0.05373056235256777},\n",
       "  {'name': 'thanks', 'confidence': 0.03203434627509305}],\n",
       " 'text': 'what is happening in the cricket world these days?'}"
      ]
     },
     "execution_count": 7,
     "metadata": {},
     "output_type": "execute_result"
    }
   ],
   "source": [
    "from rasa_nlu.model import Interpreter\n",
    "nlu_model = Interpreter.load('./models/ipl_nlu/current')\n",
    "nlu_model.parse('what is happening in the cricket world these days?')"
   ]
  },
  {
   "cell_type": "markdown",
   "metadata": {
    "colab_type": "text",
    "id": "OPlSd-As-Fz4"
   },
   "source": [
    "### Evaluating the NLU model on a test data\n",
    "(Here we are using the data at hand i.e nlu.md but it isr recommended to use unseen data)"
   ]
  },
  {
   "cell_type": "code",
   "execution_count": 9,
   "metadata": {
    "colab": {
     "base_uri": "https://localhost:8080/",
     "height": 1483
    },
    "colab_type": "code",
    "id": "FmRCylbT4jyw",
    "outputId": "fd1bfd57-ebb3-4541-d3b3-b4cbba781164"
   },
   "outputs": [
    {
     "name": "stderr",
     "output_type": "stream",
     "text": [
      "INFO:rasa.nlu.components:Added 'SpacyNLP' to component cache. Key 'SpacyNLP-en'.\n",
      "INFO:rasa_nlu.test:Running model for predictions:\n",
      "100%|█████████████████████████████████████████████████████████████████████████████████| 83/83 [00:00<00:00, 256.50it/s]\n",
      "INFO:rasa_nlu.test:Intent evaluation results:\n",
      "INFO:rasa_nlu.test:Intent Evaluation: Only considering those 83 examples that have a defined intent out of 83 examples\n",
      "INFO:rasa_nlu.test:F1-Score:  1.0\n",
      "INFO:rasa_nlu.test:Precision: 1.0\n",
      "INFO:rasa_nlu.test:Accuracy:  1.0\n",
      "INFO:rasa_nlu.test:Classification report: \n",
      "                 precision    recall  f1-score   support\n",
      "\n",
      "         thanks       1.00      1.00      1.00        15\n",
      "        goodbye       1.00      1.00      1.00        17\n",
      "         affirm       1.00      1.00      1.00         9\n",
      "           deny       1.00      1.00      1.00         8\n",
      "          greet       1.00      1.00      1.00        19\n",
      "current_matches       1.00      1.00      1.00        15\n",
      "\n",
      "      micro avg       1.00      1.00      1.00        83\n",
      "      macro avg       1.00      1.00      1.00        83\n",
      "   weighted avg       1.00      1.00      1.00        83\n",
      "\n",
      "INFO:rasa_nlu.test:Entity evaluation results:\n",
      "INFO:rasa_nlu.test:Evaluation for entity extractor: CRFEntityExtractor \n",
      "WARNING:rasa_nlu.test:No labels to evaluate. Skip evaluation.\n"
     ]
    },
    {
     "data": {
      "text/plain": [
       "{'intent_evaluation': {'predictions': [{'text': 'Bye',\n",
       "    'intent': 'goodbye',\n",
       "    'predicted': 'goodbye',\n",
       "    'confidence': 0.9748266586881329},\n",
       "   {'text': 'Goodbye',\n",
       "    'intent': 'goodbye',\n",
       "    'predicted': 'goodbye',\n",
       "    'confidence': 0.9163411102863716},\n",
       "   {'text': 'See you later',\n",
       "    'intent': 'goodbye',\n",
       "    'predicted': 'goodbye',\n",
       "    'confidence': 0.8333832513722499},\n",
       "   {'text': 'Bye bot',\n",
       "    'intent': 'goodbye',\n",
       "    'predicted': 'goodbye',\n",
       "    'confidence': 0.8528441339859805},\n",
       "   {'text': 'Goodbye friend',\n",
       "    'intent': 'goodbye',\n",
       "    'predicted': 'goodbye',\n",
       "    'confidence': 0.867778311402268},\n",
       "   {'text': 'bye',\n",
       "    'intent': 'goodbye',\n",
       "    'predicted': 'goodbye',\n",
       "    'confidence': 0.9748266586881329},\n",
       "   {'text': 'bye for now',\n",
       "    'intent': 'goodbye',\n",
       "    'predicted': 'goodbye',\n",
       "    'confidence': 0.801965162292347},\n",
       "   {'text': 'catch you later',\n",
       "    'intent': 'goodbye',\n",
       "    'predicted': 'goodbye',\n",
       "    'confidence': 0.8111928854655941},\n",
       "   {'text': 'gotta go',\n",
       "    'intent': 'goodbye',\n",
       "    'predicted': 'goodbye',\n",
       "    'confidence': 0.8451039039116602},\n",
       "   {'text': 'See you',\n",
       "    'intent': 'goodbye',\n",
       "    'predicted': 'goodbye',\n",
       "    'confidence': 0.7954476890519896},\n",
       "   {'text': 'goodnight',\n",
       "    'intent': 'goodbye',\n",
       "    'predicted': 'goodbye',\n",
       "    'confidence': 0.9163411102863716},\n",
       "   {'text': 'have a nice day',\n",
       "    'intent': 'goodbye',\n",
       "    'predicted': 'goodbye',\n",
       "    'confidence': 0.7785774628674144},\n",
       "   {'text': \"i'm off\",\n",
       "    'intent': 'goodbye',\n",
       "    'predicted': 'goodbye',\n",
       "    'confidence': 0.8136454312263302},\n",
       "   {'text': 'see you later alligator',\n",
       "    'intent': 'goodbye',\n",
       "    'predicted': 'goodbye',\n",
       "    'confidence': 0.8118284651739751},\n",
       "   {'text': \"we'll speak soon\",\n",
       "    'intent': 'goodbye',\n",
       "    'predicted': 'goodbye',\n",
       "    'confidence': 0.8025590394971064},\n",
       "   {'text': 'end',\n",
       "    'intent': 'goodbye',\n",
       "    'predicted': 'goodbye',\n",
       "    'confidence': 0.8463888178522896},\n",
       "   {'text': 'finish',\n",
       "    'intent': 'goodbye',\n",
       "    'predicted': 'goodbye',\n",
       "    'confidence': 0.8504256985513796},\n",
       "   {'text': 'Hi',\n",
       "    'intent': 'greet',\n",
       "    'predicted': 'greet',\n",
       "    'confidence': 0.9743164556141093},\n",
       "   {'text': 'Hey',\n",
       "    'intent': 'greet',\n",
       "    'predicted': 'greet',\n",
       "    'confidence': 0.8293025542314333},\n",
       "   {'text': 'Hi bot',\n",
       "    'intent': 'greet',\n",
       "    'predicted': 'greet',\n",
       "    'confidence': 0.8652109612702544},\n",
       "   {'text': 'Hey bot',\n",
       "    'intent': 'greet',\n",
       "    'predicted': 'greet',\n",
       "    'confidence': 0.7608436666454806},\n",
       "   {'text': 'Hello',\n",
       "    'intent': 'greet',\n",
       "    'predicted': 'greet',\n",
       "    'confidence': 0.9340909206326613},\n",
       "   {'text': 'Good morning',\n",
       "    'intent': 'greet',\n",
       "    'predicted': 'greet',\n",
       "    'confidence': 0.7736792738493246},\n",
       "   {'text': 'hi again',\n",
       "    'intent': 'greet',\n",
       "    'predicted': 'greet',\n",
       "    'confidence': 0.8013289850036215},\n",
       "   {'text': 'hi folks',\n",
       "    'intent': 'greet',\n",
       "    'predicted': 'greet',\n",
       "    'confidence': 0.8481074451834368},\n",
       "   {'text': 'hi Mister',\n",
       "    'intent': 'greet',\n",
       "    'predicted': 'greet',\n",
       "    'confidence': 0.9434870781278866},\n",
       "   {'text': 'hi pal!',\n",
       "    'intent': 'greet',\n",
       "    'predicted': 'greet',\n",
       "    'confidence': 0.8559308882470231},\n",
       "   {'text': 'hi there',\n",
       "    'intent': 'greet',\n",
       "    'predicted': 'greet',\n",
       "    'confidence': 0.8272036213868282},\n",
       "   {'text': 'greetings',\n",
       "    'intent': 'greet',\n",
       "    'predicted': 'greet',\n",
       "    'confidence': 0.8418371738254657},\n",
       "   {'text': 'hello everybody',\n",
       "    'intent': 'greet',\n",
       "    'predicted': 'greet',\n",
       "    'confidence': 0.8738408888627576},\n",
       "   {'text': 'hello is anybody there',\n",
       "    'intent': 'greet',\n",
       "    'predicted': 'greet',\n",
       "    'confidence': 0.7262783528584966},\n",
       "   {'text': 'hello robot',\n",
       "    'intent': 'greet',\n",
       "    'predicted': 'greet',\n",
       "    'confidence': 0.8446338403404582},\n",
       "   {'text': 'who are you?',\n",
       "    'intent': 'greet',\n",
       "    'predicted': 'greet',\n",
       "    'confidence': 0.7404955169839076},\n",
       "   {'text': 'what are you?',\n",
       "    'intent': 'greet',\n",
       "    'predicted': 'greet',\n",
       "    'confidence': 0.7701224755113385},\n",
       "   {'text': \"what's up\",\n",
       "    'intent': 'greet',\n",
       "    'predicted': 'greet',\n",
       "    'confidence': 0.7280622924859351},\n",
       "   {'text': 'how do you do?',\n",
       "    'intent': 'greet',\n",
       "    'predicted': 'greet',\n",
       "    'confidence': 0.7394363331572269},\n",
       "   {'text': 'Thanks',\n",
       "    'intent': 'thanks',\n",
       "    'predicted': 'thanks',\n",
       "    'confidence': 0.9976475699644892},\n",
       "   {'text': 'Thank you',\n",
       "    'intent': 'thanks',\n",
       "    'predicted': 'thanks',\n",
       "    'confidence': 0.8674383456886152},\n",
       "   {'text': 'Thank you so much',\n",
       "    'intent': 'thanks',\n",
       "    'predicted': 'thanks',\n",
       "    'confidence': 0.6790332953756856},\n",
       "   {'text': 'Thanks bot',\n",
       "    'intent': 'thanks',\n",
       "    'predicted': 'thanks',\n",
       "    'confidence': 0.7803977185122817},\n",
       "   {'text': 'Thanks for that',\n",
       "    'intent': 'thanks',\n",
       "    'predicted': 'thanks',\n",
       "    'confidence': 0.7204726302495921},\n",
       "   {'text': 'cheers',\n",
       "    'intent': 'thanks',\n",
       "    'predicted': 'thanks',\n",
       "    'confidence': 0.9317742150350049},\n",
       "   {'text': 'cheers bro',\n",
       "    'intent': 'thanks',\n",
       "    'predicted': 'thanks',\n",
       "    'confidence': 0.8232739761762263},\n",
       "   {'text': 'ok thanks!',\n",
       "    'intent': 'thanks',\n",
       "    'predicted': 'thanks',\n",
       "    'confidence': 0.7733478551556718},\n",
       "   {'text': 'perfect thank you',\n",
       "    'intent': 'thanks',\n",
       "    'predicted': 'thanks',\n",
       "    'confidence': 0.7143092913361935},\n",
       "   {'text': 'thanks a bunch for everything',\n",
       "    'intent': 'thanks',\n",
       "    'predicted': 'thanks',\n",
       "    'confidence': 0.6705441748230095},\n",
       "   {'text': 'thanks for the help',\n",
       "    'intent': 'thanks',\n",
       "    'predicted': 'thanks',\n",
       "    'confidence': 0.6811803860274038},\n",
       "   {'text': 'thanks a lot',\n",
       "    'intent': 'thanks',\n",
       "    'predicted': 'thanks',\n",
       "    'confidence': 0.7764150610545125},\n",
       "   {'text': 'amazing, thanks',\n",
       "    'intent': 'thanks',\n",
       "    'predicted': 'thanks',\n",
       "    'confidence': 0.8503469377079347},\n",
       "   {'text': 'cool, thanks',\n",
       "    'intent': 'thanks',\n",
       "    'predicted': 'thanks',\n",
       "    'confidence': 0.7708957784790103},\n",
       "   {'text': 'cool thank you',\n",
       "    'intent': 'thanks',\n",
       "    'predicted': 'thanks',\n",
       "    'confidence': 0.788211605231306},\n",
       "   {'text': 'y',\n",
       "    'intent': 'affirm',\n",
       "    'predicted': 'affirm',\n",
       "    'confidence': 0.782694295629165},\n",
       "   {'text': 'Y',\n",
       "    'intent': 'affirm',\n",
       "    'predicted': 'affirm',\n",
       "    'confidence': 0.782694295629165},\n",
       "   {'text': 'yes',\n",
       "    'intent': 'affirm',\n",
       "    'predicted': 'affirm',\n",
       "    'confidence': 0.830764811862685},\n",
       "   {'text': 'yes sure',\n",
       "    'intent': 'affirm',\n",
       "    'predicted': 'affirm',\n",
       "    'confidence': 0.7615020810406347},\n",
       "   {'text': 'absolutely',\n",
       "    'intent': 'affirm',\n",
       "    'predicted': 'affirm',\n",
       "    'confidence': 0.779309398184021},\n",
       "   {'text': 'for sure',\n",
       "    'intent': 'affirm',\n",
       "    'predicted': 'affirm',\n",
       "    'confidence': 0.7264784539912786},\n",
       "   {'text': 'yes yes yes',\n",
       "    'intent': 'affirm',\n",
       "    'predicted': 'affirm',\n",
       "    'confidence': 0.8307648110641408},\n",
       "   {'text': 'definitely',\n",
       "    'intent': 'affirm',\n",
       "    'predicted': 'affirm',\n",
       "    'confidence': 0.7364008536255875},\n",
       "   {'text': 'yes, it did.',\n",
       "    'intent': 'affirm',\n",
       "    'predicted': 'affirm',\n",
       "    'confidence': 0.7447530746458876},\n",
       "   {'text': 'what are the current matches',\n",
       "    'intent': 'current_matches',\n",
       "    'predicted': 'current_matches',\n",
       "    'confidence': 0.7186102628338393},\n",
       "   {'text': 'can you list the matches in ipl 2019',\n",
       "    'intent': 'current_matches',\n",
       "    'predicted': 'current_matches',\n",
       "    'confidence': 0.8225936914441193},\n",
       "   {'text': 'which cricket match is happening right now',\n",
       "    'intent': 'current_matches',\n",
       "    'predicted': 'current_matches',\n",
       "    'confidence': 0.7387189001970458},\n",
       "   {'text': 'which ipl match is next',\n",
       "    'intent': 'current_matches',\n",
       "    'predicted': 'current_matches',\n",
       "    'confidence': 0.9420896406158287},\n",
       "   {'text': 'which teams are playing next in ipl',\n",
       "    'intent': 'current_matches',\n",
       "    'predicted': 'current_matches',\n",
       "    'confidence': 0.8061446911027446},\n",
       "   {'text': 'which team will play next in ipl',\n",
       "    'intent': 'current_matches',\n",
       "    'predicted': 'current_matches',\n",
       "    'confidence': 0.8535330458593703},\n",
       "   {'text': 'tell me some ipl news',\n",
       "    'intent': 'current_matches',\n",
       "    'predicted': 'current_matches',\n",
       "    'confidence': 0.7198570850569},\n",
       "   {'text': 'i want ipl updates',\n",
       "    'intent': 'current_matches',\n",
       "    'predicted': 'current_matches',\n",
       "    'confidence': 0.7615742022179515},\n",
       "   {'text': 'can you give me ipl latest updates',\n",
       "    'intent': 'current_matches',\n",
       "    'predicted': 'current_matches',\n",
       "    'confidence': 0.7038391079472226},\n",
       "   {'text': 'what are the latest match updates',\n",
       "    'intent': 'current_matches',\n",
       "    'predicted': 'current_matches',\n",
       "    'confidence': 0.7927884951094207},\n",
       "   {'text': 'who won the last ipl match',\n",
       "    'intent': 'current_matches',\n",
       "    'predicted': 'current_matches',\n",
       "    'confidence': 0.9233650422564178},\n",
       "   {'text': 'which teams are competing in the next match',\n",
       "    'intent': 'current_matches',\n",
       "    'predicted': 'current_matches',\n",
       "    'confidence': 0.7162873620653122},\n",
       "   {'text': 'how is ipl going',\n",
       "    'intent': 'current_matches',\n",
       "    'predicted': 'current_matches',\n",
       "    'confidence': 0.736896900920292},\n",
       "   {'text': 'what was the result of the last match',\n",
       "    'intent': 'current_matches',\n",
       "    'predicted': 'current_matches',\n",
       "    'confidence': 0.6851368822520116},\n",
       "   {'text': 'when is the next match',\n",
       "    'intent': 'current_matches',\n",
       "    'predicted': 'current_matches',\n",
       "    'confidence': 0.7114008743922906},\n",
       "   {'text': 'no',\n",
       "    'intent': 'deny',\n",
       "    'predicted': 'deny',\n",
       "    'confidence': 0.8925393858128756},\n",
       "   {'text': 'never',\n",
       "    'intent': 'deny',\n",
       "    'predicted': 'deny',\n",
       "    'confidence': 0.7986695481165528},\n",
       "   {'text': \"I don't think so\",\n",
       "    'intent': 'deny',\n",
       "    'predicted': 'deny',\n",
       "    'confidence': 0.6766169665706973},\n",
       "   {'text': \"don't like that\",\n",
       "    'intent': 'deny',\n",
       "    'predicted': 'deny',\n",
       "    'confidence': 0.6785498640708819},\n",
       "   {'text': 'no way',\n",
       "    'intent': 'deny',\n",
       "    'predicted': 'deny',\n",
       "    'confidence': 0.6749565695444361},\n",
       "   {'text': 'not really',\n",
       "    'intent': 'deny',\n",
       "    'predicted': 'deny',\n",
       "    'confidence': 0.7276201635375787},\n",
       "   {'text': 'n',\n",
       "    'intent': 'deny',\n",
       "    'predicted': 'deny',\n",
       "    'confidence': 0.676156326813696},\n",
       "   {'text': 'N',\n",
       "    'intent': 'deny',\n",
       "    'predicted': 'deny',\n",
       "    'confidence': 0.676156326813696}],\n",
       "  'report': '                 precision    recall  f1-score   support\\n\\n         thanks       1.00      1.00      1.00        15\\n        goodbye       1.00      1.00      1.00        17\\n         affirm       1.00      1.00      1.00         9\\n           deny       1.00      1.00      1.00         8\\n          greet       1.00      1.00      1.00        19\\ncurrent_matches       1.00      1.00      1.00        15\\n\\n      micro avg       1.00      1.00      1.00        83\\n      macro avg       1.00      1.00      1.00        83\\n   weighted avg       1.00      1.00      1.00        83\\n',\n",
       "  'precision': 1.0,\n",
       "  'f1_score': 1.0,\n",
       "  'accuracy': 1.0},\n",
       " 'entity_evaluation': {'CRFEntityExtractor': {'report': {},\n",
       "   'precision': 0.0,\n",
       "   'f1_score': 0.0,\n",
       "   'accuracy': 0.0}},\n",
       " 'response_selection_evaluation': None}"
      ]
     },
     "execution_count": 9,
     "metadata": {},
     "output_type": "execute_result"
    }
   ],
   "source": [
    "from rasa_nlu.test  import run_evaluation\n",
    "\n",
    "run_evaluation(\"data/ipl_nlu_data.md\", model_directory)"
   ]
  },
  {
   "cell_type": "markdown",
   "metadata": {
    "colab_type": "text",
    "id": "Av3R2GZZ-WJO"
   },
   "source": [
    "## Rasa Core: Making Interactive Conversations\n",
    "\n",
    "One of the most important aspects of a chatbot application is its ability to be interactive. \n",
    "\n",
    "### Designing the conversational flow\n",
    "\n",
    "Think of the simplest conversation our chatbot can have with a user. What would be the flow of such a conversation?\n",
    "\n",
    "---\n",
    "Me: Hi\n",
    "\n",
    "Iplbot: Hey! How may I help you?\n",
    "\n",
    "Me: What was the result of the last match?\n",
    "\n",
    "Iplbot: Here are some IPL quick info:\n",
    "1.The match between Rajasthan Royals and Delhi Capitals was recently held and Delhi Capitals won.\n",
    "2.The next match is Warriors vs Titans on 22 April 2019\n",
    "\n",
    "Iplbot: Did that help you?\n",
    "\n",
    "Me: yes, thank you!\n",
    "\n",
    "Iplbot: Glad that I could help!\n",
    "\n",
    "---\n",
    "Let’s see how we can teach a simple conversation like that to Rasa:\n"
   ]
  },
  {
   "cell_type": "raw",
   "metadata": {},
   "source": [
    "## news path 1\n",
    "* greet\n",
    "  - utter_greet\n",
    "* current_matches\n",
    "  - action_match_news\n",
    "  - utter_did_that_help\n",
    "* affirm or thanks\n",
    "  - utter_gratitude\n",
    "* goodbye\n",
    "  - utter_goodbye"
   ]
  },
  {
   "cell_type": "markdown",
   "metadata": {},
   "source": [
    "The general format is:"
   ]
  },
  {
   "cell_type": "raw",
   "metadata": {},
   "source": [
    "## news path 1           <--- story name for debugging purposes\n",
    "* greet                  <--- intent detected from the user\n",
    "  - utter_greet          <--- what action the bot should take\n",
    "* current_matches        <--- the following intent in the conversation"
   ]
  },
  {
   "cell_type": "markdown",
   "metadata": {},
   "source": [
    "This is called a user story path. I have provided a few stories in the data/stories.md file for your reference. This is the training data for Rasa Core."
   ]
  },
  {
   "cell_type": "markdown",
   "metadata": {
    "colab_type": "text",
    "id": "BKZ63AuS-ZPV"
   },
   "source": [
    "### Writing  Stories\n",
    "\n",
    "The way it works is:\n",
    "\n",
    "- Give some examples of sample story paths that the user is expected to follow\n",
    "- Rasa Core combines them randomly to create more complex user paths\n",
    "- It then builds a probabilistic model out of that. This model is used to predict the next action Rasa should take\n",
    "\n",
    "<img src=\"images/conversation_flow.png\">\n",
    "\n",
    "The above illustration might look complicated, but it’s simply listing out various possible user stories that I have taught Rasa. Here are a few things to note from the above graph:\n",
    "\n",
    "- Except for the START and END boxes, all the colored boxes indicate user intent\n",
    "- All the white boxes are actions that the chatbot performs\n",
    "- Arrows indicate the flow of the conversation\n",
    "- action_match_news is where we hit the CricAPI to get IPL information"
   ]
  },
  {
   "cell_type": "code",
   "execution_count": 10,
   "metadata": {
    "colab": {
     "base_uri": "https://localhost:8080/",
     "height": 34
    },
    "colab_type": "code",
    "id": "W3q1XJ5O4orY",
    "outputId": "a82511c7-b7e5-462c-c5c2-35df3cabd39a"
   },
   "outputs": [
    {
     "name": "stdout",
     "output_type": "stream",
     "text": [
      "Writing 'stories_md' (str) to file 'data/ipl_stories.md'.\n"
     ]
    }
   ],
   "source": [
    "stories_md = \"\"\"\n",
    "## news path 1\n",
    "* greet\n",
    "  - utter_greet\n",
    "* current_matches\n",
    "  - action_match_news\n",
    "  - utter_did_that_help\n",
    "* affirm or thanks\n",
    "  - utter_gratitude\n",
    "* goodbye\n",
    "  - utter_goodbye\n",
    "\n",
    "## news path 2\n",
    "* current_matches\n",
    "  - action_match_news\n",
    "  - utter_did_that_help\n",
    "* affirm or thanks\n",
    "  - utter_gratitude\n",
    "* goodbye\n",
    "  - utter_goodbye\n",
    "\n",
    "## news path 3\n",
    "* greet\n",
    "  - utter_greet\n",
    "* current_matches\n",
    "  - action_match_news\n",
    "  - utter_did_that_help\n",
    "* deny\n",
    "  - utter_ask_again\n",
    "* current_matches\n",
    "  - action_match_news\n",
    "  - utter_did_that_help\n",
    "* affirm or thanks\n",
    "  - utter_gratitude\n",
    "* goodbye\n",
    "  - utter_goodbye\n",
    "\n",
    "## greet path\n",
    "* greet\n",
    "  - utter_greet\n",
    "\n",
    "## goodbye path\n",
    "* goodbye\n",
    "  - utter_goodbye\n",
    "\"\"\"\n",
    "\n",
    "%store stories_md > data/ipl_stories.md"
   ]
  },
  {
   "cell_type": "markdown",
   "metadata": {},
   "source": [
    "Now, generate a similar graph for your stories using the following command:\n",
    "\n",
    "**python -m rasa_core.visualize -d domain.yml -s data/ipl_stories.md -o graph.html**\n",
    "\n",
    "This is very helpful when debugging the conversational flow of the chatbot."
   ]
  },
  {
   "cell_type": "markdown",
   "metadata": {
    "colab_type": "text",
    "id": "LnD9v_CX-ePm"
   },
   "source": [
    "### Defining the Domain\n",
    "\n",
    "The domain is the world of your chatbot. It contains everything the chatbot should know, including:\n",
    "\n",
    "- All the actions it is capable of doing\n",
    "- The intents it should understand\n",
    "- The template of all the utterances it should tell the user, and much more"
   ]
  },
  {
   "cell_type": "code",
   "execution_count": 11,
   "metadata": {
    "colab": {
     "base_uri": "https://localhost:8080/",
     "height": 34
    },
    "colab_type": "code",
    "id": "3SzQq1oy5U9T",
    "outputId": "4fde8c0d-9672-457c-cacc-0e86d3ca5c80"
   },
   "outputs": [
    {
     "name": "stdout",
     "output_type": "stream",
     "text": [
      "Writing 'domain_yml' (str) to file 'config/ipl_domain.yml'.\n"
     ]
    }
   ],
   "source": [
    "domain_yml = \"\"\"\n",
    "actions:\n",
    "- utter_greet\n",
    "- utter_did_that_help\n",
    "- utter_goodbye\n",
    "- action_match_news\n",
    "- utter_default\n",
    "- utter_gratitude\n",
    "- utter_ask_again\n",
    "\n",
    "intents:\n",
    "- goodbye\n",
    "- greet\n",
    "- thanks\n",
    "- current_matches\n",
    "- affirm\n",
    "- deny\n",
    "\n",
    "templates:\n",
    "  utter_greet:\n",
    "  - text: \"Hey! What can I do for you?\"\n",
    "  utter_did_that_help:\n",
    "  - text: \"Did that help you?\"\n",
    "  - text: \"I hope that solved your query\"\n",
    "  utter_goodbye:\n",
    "  - text: \"Bye\"\n",
    "  utter_default:\n",
    "  - text: \"I am sorry, I didn't get that. Could you please repeat your query?\"\n",
    "  - text: \"I am not sure what you are aiming for.\"\n",
    "  utter_gratitude:\n",
    "  - text: \"Glad that I could be of help to you!\\nBye\"\n",
    "  utter_ask_again:\n",
    "  - text: \"Okay! Let's start again, please tell me what do you need?\"\n",
    "  - text: \"No issues! Let's try this again.\\n Please repeat your query?\"\n",
    "\"\"\"\n",
    "\n",
    "%store domain_yml > config/ipl_domain.yml"
   ]
  },
  {
   "cell_type": "markdown",
   "metadata": {},
   "source": [
    "### Setting Policies\n",
    "\n",
    "Rasa Core generates the training data for the conversational part using the stories we provide. It also lets you define a set of policies to use when deciding the next action of the chatbot. These policies are defined in the policies.yml file."
   ]
  },
  {
   "cell_type": "code",
   "execution_count": 12,
   "metadata": {},
   "outputs": [
    {
     "name": "stdout",
     "output_type": "stream",
     "text": [
      "Writing 'policies_yml' (str) to file 'config/ipl_policies.yml'.\n"
     ]
    }
   ],
   "source": [
    "policies_yml = \"\"\"\n",
    "policies:\n",
    "  - name: KerasPolicy\n",
    "    epochs: 100\n",
    "    max_history: 5\n",
    "  - name: FallbackPolicy\n",
    "    fallback_action_name: 'action_default_fallback'\n",
    "  - name: MemoizationPolicy\n",
    "    max_history: 5\n",
    "\"\"\"\n",
    "\n",
    "%store policies_yml > config/ipl_policies.yml"
   ]
  },
  {
   "cell_type": "markdown",
   "metadata": {},
   "source": [
    "Notes:\n",
    "- KerasPolicy uses a neural network implemented in Keras to select the next action. The default architecture is based on an LSTM (Long Short Term Memory) model\n",
    "- MemoizationPolicy memorizes the conversations in your training data. It predicts the next action with confidence 1.0 if this exact conversation exists in the training data, otherwise, it predicts ‘None’ with confidence 0.0\n",
    "- FallbackPolicy invokes a fallback action if the intent recognition has confidence below nlu_threshold or if none of the dialogue policies predict action with confidence higher than core_threshold\n",
    "- One important hyperparameter for Rasa Core policies is the max_history. This controls how much dialogue history the model looks at to decide which action to take next"
   ]
  },
  {
   "cell_type": "markdown",
   "metadata": {
    "colab_type": "text",
    "id": "ROL3AYs5-iCg"
   },
   "source": [
    "###  Custom Actions\n",
    "\n",
    "Using CricAPI for fetching IPL related news. It is free for 100 requests per day, which (I hope) is more than enough to satiate that cricket crazy passion you have.\n",
    "\n",
    "You need to first signup on the website to get access to their API:\n",
    "https://www.cricapi.com/\n",
    "\n",
    "You should be able to see your API Key once you are logged in:\n",
    "\n",
    "<img src=\"images/lala-1140x399.png\">\n",
    "\n",
    "Modifications to original code:\n",
    "\n",
    "- Instead of showing API key here it has been stored in ENV variable and fetched here\n",
    "- Key \"toss_winner_team\" was subsituted into depreceated key"
   ]
  },
  {
   "cell_type": "code",
   "execution_count": 13,
   "metadata": {
    "colab": {},
    "colab_type": "code",
    "id": "7SbmLMJa5X0E"
   },
   "outputs": [
    {
     "name": "stdout",
     "output_type": "stream",
     "text": [
      "Writing 'actions_py' (str) to file 'ipl_actions.py'.\n"
     ]
    }
   ],
   "source": [
    "actions_py=\"\"\"\n",
    "# -*- coding: utf-8 -*-\n",
    "from __future__ import absolute_import\n",
    "from __future__ import division\n",
    "from __future__ import print_function\n",
    "from __future__ import unicode_literals\n",
    "from datetime import datetime\n",
    "\n",
    "import logging\n",
    "import requests\n",
    "import json\n",
    "import os\n",
    "from rasa_core_sdk import Action\n",
    "\n",
    "logger = logging.getLogger(__name__)\n",
    "\n",
    "API_URL = \"https://cricapi.com/api/\"\n",
    "API_KEY = os.environ.get('CRICINFOAPI')\n",
    "\n",
    "class ApiAction(Action):\n",
    "    def name(self):\n",
    "        return \"action_match_news\"\n",
    "\n",
    "    def run(self, dispatcher, tracker, domain):\n",
    "        print(API_URL + \"matches\" + \"?apikey=\" + API_KEY)\n",
    "        res = requests.get(API_URL + \"matches\" + \"?apikey=\" + API_KEY) #, verify=False\n",
    "        if res.status_code == 200:\n",
    "            data = res.json()[\"matches\"]\n",
    "            recent_match = data[0]\n",
    "            upcoming_match = data[1]\n",
    "            upcoming_match[\"date\"] = datetime.strptime(upcoming_match[\"date\"], \"%Y-%m-%dT%H:%M:%S.%fZ\")\n",
    "            next_date = upcoming_match[\"date\"].strftime(\"%d %B %Y\")\n",
    "\n",
    "            out_message = \"Here some IPL quick info: 1.The match between {} and {} was recently held and {} won the toss.\".format(recent_match[\"team-1\"], recent_match[\"team-2\"], recent_match[\"toss_winner_team\"])\n",
    "\n",
    "            dispatcher.utter_message(out_message)\n",
    "\n",
    "            out_message = \"2.The next match is {} vs {} on {}\".format(upcoming_match[\"team-1\"], upcoming_match[\"team-2\"], next_date)\n",
    "\n",
    "            dispatcher.utter_message(out_message)\n",
    "\n",
    "            return []\n",
    "\"\"\"\n",
    "%store actions_py > ipl_actions.py"
   ]
  },
  {
   "cell_type": "markdown",
   "metadata": {},
   "source": [
    "Need endpoints yml to execute the actions server.\n",
    "\n",
    "Note: If you have external API call, like REST, need to have \"webhook\" word at the end, else nothing.\n",
    "\n",
    "My own query on this topic: https://forum.rasa.com/t/rasa-core-sdk-not-working/9228"
   ]
  },
  {
   "cell_type": "code",
   "execution_count": 14,
   "metadata": {},
   "outputs": [
    {
     "name": "stdout",
     "output_type": "stream",
     "text": [
      "Writing 'endpoints_yml' (str) to file 'ipl_endpoints.yml'.\n"
     ]
    }
   ],
   "source": [
    "endpoints_yml = \"\"\"\n",
    "#action_endpoint:\n",
    "#  url: \"http://localhost:5055/webhook\"\n",
    "  \n",
    "action_endpoint:\n",
    "  url: http://localhost:5055/webhook\n",
    "\n",
    "#nlg:\n",
    "#  url: http://localhost:5056/nlg\n",
    "\n",
    "core_endpoint:\n",
    "  url: http://localhost:5005\n",
    "\"\"\"\n",
    "%store endpoints_yml > ipl_endpoints.yml"
   ]
  },
  {
   "cell_type": "markdown",
   "metadata": {},
   "source": [
    "In a separate shell (cmd for Windows):\n",
    "- **activate rasa**\n",
    "- come to directory where actions.py is and then run\n",
    "- **python -m rasa_sdk.endpoint --actions ipl_actions --endpoints ipl_endpoints.yml**\n",
    "\n",
    "This way, custom action server starts ..."
   ]
  },
  {
   "cell_type": "code",
   "execution_count": 15,
   "metadata": {},
   "outputs": [],
   "source": [
    "# import sys\n",
    "# python = sys.executable\n",
    "# !{python} -m rasa_core_sdk.endpoint --actions actions"
   ]
  },
  {
   "cell_type": "markdown",
   "metadata": {
    "colab_type": "text",
    "id": "M-jn1g_k-o-m"
   },
   "source": [
    "###  Visualising the Training Data"
   ]
  },
  {
   "cell_type": "raw",
   "metadata": {
    "colab": {
     "base_uri": "https://localhost:8080/",
     "height": 1090
    },
    "colab_type": "code",
    "id": "O1gYRXe15amU",
    "outputId": "9c0838e3-56c1-4eeb-a879-cc09619269d3"
   },
   "source": [
    "\n",
    "from IPython.display import Image, display\n",
    "from rasa_core.agent import Agent\n",
    "%matplotlib inline\n",
    "\n",
    "agent = Agent('config/ipl_domain.yml')\n",
    "agent.visualize(\"data/ipl_stories.md\", \"ipl_story_graph.png\", max_history=2)\n",
    "i = Image(filename=\"ipl_story_graph.png\")\n",
    "display(i)"
   ]
  },
  {
   "cell_type": "markdown",
   "metadata": {
    "colab_type": "text",
    "id": "pCdKD3l7-ua8"
   },
   "source": [
    "### Training a Dialogue Model\n",
    "\n",
    "You can train the model using the following command:\n",
    "\n",
    "**python -m rasa_core.train -d ipl_domain.yml -s data/ipl_stories.md -o models/current/dialogue -c ipl_policies.yml**\n",
    "\n",
    "Or do it programmatically as:"
   ]
  },
  {
   "cell_type": "code",
   "execution_count": null,
   "metadata": {
    "colab": {
     "base_uri": "https://localhost:8080/",
     "height": 7364
    },
    "colab_type": "code",
    "id": "4D7R-FRO5dxz",
    "outputId": "727adf2a-fa4b-4158-df94-30ad472f62f3"
   },
   "outputs": [
    {
     "name": "stderr",
     "output_type": "stream",
     "text": [
      "WARNING:tensorflow:From C:\\Users\\YogeshKulkarni\\AppData\\Local\\conda\\conda\\envs\\rasa\\lib\\site-packages\\rasa\\core\\policies\\keras_policy.py:65: The name tf.Session is deprecated. Please use tf.compat.v1.Session instead.\n",
      "\n",
      "WARNING:rasa.core.training.dsl:Found unknown intent 'affirm or thanks' on line 8. Please, make sure that all intents are listed in your domain yaml.\n",
      "WARNING:rasa.core.training.dsl:Found unknown intent 'affirm or thanks' on line 17. Please, make sure that all intents are listed in your domain yaml.\n",
      "WARNING:rasa.core.training.dsl:Found unknown intent 'affirm or thanks' on line 33. Please, make sure that all intents are listed in your domain yaml.\n",
      "Processed Story Blocks: 100%|████████████████████████████████████████████| 5/5 [00:00<00:00, 1002.61it/s, # trackers=1]\n",
      "Processed Story Blocks: 100%|█████████████████████████████████████████████| 5/5 [00:00<00:00, 455.79it/s, # trackers=3]\n",
      "Processed Story Blocks: 100%|█████████████████████████████████████████████| 5/5 [00:00<00:00, 418.12it/s, # trackers=9]\n",
      "Processed Story Blocks: 100%|████████████████████████████████████████████| 5/5 [00:00<00:00, 294.24it/s, # trackers=16]\n",
      "Processed trackers: 100%|█████████████████████████████████████████████████| 5/5 [00:00<00:00, 119.35it/s, # actions=15]\n",
      "Processed actions: 15it [00:00, 884.64it/s, # examples=15]\n",
      "Processed trackers: 100%|██████████████████████████████████████████████| 121/121 [00:01<00:00, 72.17it/s, # actions=64]\n",
      "WARNING:tensorflow:From C:\\Users\\YogeshKulkarni\\AppData\\Local\\conda\\conda\\envs\\rasa\\lib\\site-packages\\rasa\\core\\policies\\keras_policy.py:185: The name tf.set_random_seed is deprecated. Please use tf.compat.v1.set_random_seed instead.\n",
      "\n",
      "WARNING:tensorflow:From C:\\Users\\YogeshKulkarni\\AppData\\Local\\conda\\conda\\envs\\rasa\\lib\\site-packages\\tensorflow\\python\\ops\\init_ops.py:1251: calling VarianceScaling.__init__ (from tensorflow.python.ops.init_ops) with dtype is deprecated and will be removed in a future version.\n",
      "Instructions for updating:\n",
      "Call initializer instance with the dtype argument instead of passing it to the constructor\n",
      "WARNING:tensorflow:From C:\\Users\\YogeshKulkarni\\AppData\\Local\\conda\\conda\\envs\\rasa\\lib\\site-packages\\tensorflow\\python\\keras\\backend.py:3794: add_dispatch_support.<locals>.wrapper (from tensorflow.python.ops.array_ops) is deprecated and will be removed in a future version.\n",
      "Instructions for updating:\n",
      "Use tf.where in 2.0, which has the same broadcast rule as np.where\n"
     ]
    },
    {
     "name": "stdout",
     "output_type": "stream",
     "text": [
      "Model: \"sequential\"\n",
      "_________________________________________________________________\n",
      "Layer (type)                 Output Shape              Param #   \n",
      "=================================================================\n",
      "masking (Masking)            (None, 5, 21)             0         \n",
      "_________________________________________________________________\n",
      "lstm (LSTM)                  (None, 32)                6912      \n",
      "_________________________________________________________________\n",
      "dense (Dense)                (None, 15)                495       \n",
      "_________________________________________________________________\n",
      "activation (Activation)      (None, 15)                0         \n",
      "=================================================================\n",
      "Total params: 7,407\n",
      "Trainable params: 7,407\n",
      "Non-trainable params: 0\n",
      "_________________________________________________________________\n"
     ]
    },
    {
     "name": "stderr",
     "output_type": "stream",
     "text": [
      "INFO:rasa.core.policies.keras_policy:Fitting model with 64 total samples and a validation split of 0.2\n"
     ]
    },
    {
     "name": "stdout",
     "output_type": "stream",
     "text": [
      "Epoch 1/200\n",
      "64/64 [==============================] - ETA: 0s - loss: 2.7268 - acc: 0.031 - 0s 6ms/sample - loss: 2.7056 - acc: 0.0625\n",
      "Epoch 2/200\n",
      "64/64 [==============================] - ETA: 0s - loss: 2.6934 - acc: 0.031 - 0s 187us/sample - loss: 2.6754 - acc: 0.1094\n",
      "Epoch 3/200\n",
      "64/64 [==============================] - ETA: 0s - loss: 2.6507 - acc: 0.031 - 0s 171us/sample - loss: 2.6433 - acc: 0.0781\n",
      "Epoch 4/200\n",
      "64/64 [==============================] - ETA: 0s - loss: 2.6241 - acc: 0.218 - 0s 219us/sample - loss: 2.6125 - acc: 0.2656\n",
      "Epoch 5/200\n",
      "64/64 [==============================] - ETA: 0s - loss: 2.6096 - acc: 0.218 - 0s 218us/sample - loss: 2.5969 - acc: 0.2969\n",
      "Epoch 6/200\n",
      "64/64 [==============================] - ETA: 0s - loss: 2.5768 - acc: 0.312 - 0s 187us/sample - loss: 2.5681 - acc: 0.3281\n",
      "Epoch 7/200\n",
      "64/64 [==============================] - ETA: 0s - loss: 2.5480 - acc: 0.250 - 0s 187us/sample - loss: 2.5487 - acc: 0.2969\n",
      "Epoch 8/200\n",
      "64/64 [==============================] - ETA: 0s - loss: 2.5022 - acc: 0.343 - 0s 203us/sample - loss: 2.5153 - acc: 0.3594\n",
      "Epoch 9/200\n",
      "64/64 [==============================] - ETA: 0s - loss: 2.4868 - acc: 0.281 - 0s 218us/sample - loss: 2.4946 - acc: 0.3438\n",
      "Epoch 10/200\n",
      "64/64 [==============================] - ETA: 0s - loss: 2.4591 - acc: 0.406 - 0s 187us/sample - loss: 2.4645 - acc: 0.4062\n",
      "Epoch 11/200\n",
      "64/64 [==============================] - ETA: 0s - loss: 2.4438 - acc: 0.375 - 0s 203us/sample - loss: 2.4361 - acc: 0.3750\n",
      "Epoch 12/200\n",
      "64/64 [==============================] - ETA: 0s - loss: 2.3713 - acc: 0.406 - 0s 187us/sample - loss: 2.4009 - acc: 0.3906\n",
      "Epoch 13/200\n",
      "64/64 [==============================] - ETA: 0s - loss: 2.3522 - acc: 0.406 - 0s 171us/sample - loss: 2.3737 - acc: 0.3906\n",
      "Epoch 14/200\n",
      "64/64 [==============================] - ETA: 0s - loss: 2.3350 - acc: 0.437 - 0s 171us/sample - loss: 2.3398 - acc: 0.4062\n",
      "Epoch 15/200\n",
      "64/64 [==============================] - ETA: 0s - loss: 2.2592 - acc: 0.406 - 0s 187us/sample - loss: 2.2989 - acc: 0.3750\n",
      "Epoch 16/200\n",
      "64/64 [==============================] - ETA: 0s - loss: 2.2175 - acc: 0.406 - 0s 187us/sample - loss: 2.2649 - acc: 0.3750\n",
      "Epoch 17/200\n",
      "64/64 [==============================] - ETA: 0s - loss: 2.1791 - acc: 0.406 - 0s 171us/sample - loss: 2.2205 - acc: 0.3906\n",
      "Epoch 18/200\n",
      "64/64 [==============================] - ETA: 0s - loss: 2.1590 - acc: 0.406 - 0s 156us/sample - loss: 2.1933 - acc: 0.3906\n",
      "Epoch 19/200\n",
      "64/64 [==============================] - ETA: 0s - loss: 2.0890 - acc: 0.406 - 0s 156us/sample - loss: 2.1447 - acc: 0.3750\n",
      "Epoch 20/200\n",
      "64/64 [==============================] - ETA: 0s - loss: 2.0791 - acc: 0.406 - 0s 156us/sample - loss: 2.1113 - acc: 0.3750\n",
      "Epoch 21/200\n",
      "64/64 [==============================] - ETA: 0s - loss: 2.0138 - acc: 0.406 - 0s 156us/sample - loss: 2.0602 - acc: 0.3750\n",
      "Epoch 22/200\n",
      "64/64 [==============================] - ETA: 0s - loss: 1.9740 - acc: 0.406 - 0s 187us/sample - loss: 2.0265 - acc: 0.3750\n",
      "Epoch 23/200\n",
      "64/64 [==============================] - ETA: 0s - loss: 1.9312 - acc: 0.406 - 0s 203us/sample - loss: 2.0000 - acc: 0.3750\n",
      "Epoch 24/200\n",
      "64/64 [==============================] - ETA: 0s - loss: 1.8657 - acc: 0.406 - 0s 203us/sample - loss: 1.9444 - acc: 0.3750\n",
      "Epoch 25/200\n",
      "64/64 [==============================] - ETA: 0s - loss: 1.8431 - acc: 0.406 - 0s 203us/sample - loss: 1.9138 - acc: 0.3750\n",
      "Epoch 26/200\n",
      "64/64 [==============================] - ETA: 0s - loss: 1.8452 - acc: 0.406 - 0s 187us/sample - loss: 1.9178 - acc: 0.3750\n",
      "Epoch 27/200\n",
      "64/64 [==============================] - ETA: 0s - loss: 1.7992 - acc: 0.406 - 0s 187us/sample - loss: 1.8864 - acc: 0.3750\n",
      "Epoch 28/200\n",
      "64/64 [==============================] - ETA: 0s - loss: 1.8312 - acc: 0.406 - 0s 187us/sample - loss: 1.8910 - acc: 0.3750\n",
      "Epoch 29/200\n",
      "64/64 [==============================] - ETA: 0s - loss: 1.7582 - acc: 0.406 - 0s 187us/sample - loss: 1.8385 - acc: 0.3750\n",
      "Epoch 30/200\n",
      "64/64 [==============================] - ETA: 0s - loss: 1.8016 - acc: 0.406 - 0s 187us/sample - loss: 1.8876 - acc: 0.3750\n",
      "Epoch 31/200\n",
      "64/64 [==============================] - ETA: 0s - loss: 1.7605 - acc: 0.406 - 0s 202us/sample - loss: 1.8387 - acc: 0.3750\n",
      "Epoch 32/200\n",
      "64/64 [==============================] - ETA: 0s - loss: 1.7366 - acc: 0.406 - 0s 203us/sample - loss: 1.8210 - acc: 0.3750\n",
      "Epoch 33/200\n",
      "64/64 [==============================] - ETA: 0s - loss: 1.7261 - acc: 0.406 - 0s 156us/sample - loss: 1.8258 - acc: 0.3750\n",
      "Epoch 34/200\n",
      "64/64 [==============================] - ETA: 0s - loss: 1.7298 - acc: 0.406 - 0s 156us/sample - loss: 1.8065 - acc: 0.3750\n",
      "Epoch 35/200\n",
      "64/64 [==============================] - ETA: 0s - loss: 1.7266 - acc: 0.406 - 0s 171us/sample - loss: 1.7897 - acc: 0.3906\n",
      "Epoch 36/200\n",
      "64/64 [==============================] - ETA: 0s - loss: 1.6688 - acc: 0.406 - 0s 171us/sample - loss: 1.7552 - acc: 0.3750\n",
      "Epoch 37/200\n",
      "64/64 [==============================] - ETA: 0s - loss: 1.6545 - acc: 0.406 - 0s 156us/sample - loss: 1.7625 - acc: 0.3906\n",
      "Epoch 38/200\n",
      "64/64 [==============================] - ETA: 0s - loss: 1.6605 - acc: 0.406 - 0s 156us/sample - loss: 1.7403 - acc: 0.3906\n",
      "Epoch 39/200\n",
      "64/64 [==============================] - ETA: 0s - loss: 1.6872 - acc: 0.406 - 0s 156us/sample - loss: 1.7614 - acc: 0.3906\n",
      "Epoch 40/200\n",
      "64/64 [==============================] - ETA: 0s - loss: 1.6192 - acc: 0.406 - 0s 156us/sample - loss: 1.7059 - acc: 0.4062\n",
      "Epoch 41/200\n",
      "64/64 [==============================] - ETA: 0s - loss: 1.6498 - acc: 0.406 - 0s 156us/sample - loss: 1.7237 - acc: 0.3906\n",
      "Epoch 42/200\n",
      "64/64 [==============================] - ETA: 0s - loss: 1.6011 - acc: 0.406 - 0s 265us/sample - loss: 1.6866 - acc: 0.4062\n",
      "Epoch 43/200\n",
      "64/64 [==============================] - ETA: 0s - loss: 1.5859 - acc: 0.406 - 0s 203us/sample - loss: 1.6688 - acc: 0.3906\n",
      "Epoch 44/200\n",
      "64/64 [==============================] - ETA: 0s - loss: 1.6184 - acc: 0.406 - 0s 187us/sample - loss: 1.6990 - acc: 0.4062\n",
      "Epoch 45/200\n",
      "64/64 [==============================] - ETA: 0s - loss: 1.6039 - acc: 0.406 - 0s 156us/sample - loss: 1.6706 - acc: 0.4062\n",
      "Epoch 46/200\n",
      "64/64 [==============================] - ETA: 0s - loss: 1.5829 - acc: 0.406 - 0s 171us/sample - loss: 1.6701 - acc: 0.3906\n",
      "Epoch 47/200\n",
      "64/64 [==============================] - ETA: 0s - loss: 1.5541 - acc: 0.437 - 0s 171us/sample - loss: 1.6567 - acc: 0.4219\n",
      "Epoch 48/200\n",
      "64/64 [==============================] - ETA: 0s - loss: 1.5335 - acc: 0.406 - 0s 171us/sample - loss: 1.6313 - acc: 0.3750\n",
      "Epoch 49/200\n",
      "64/64 [==============================] - ETA: 0s - loss: 1.5532 - acc: 0.437 - 0s 171us/sample - loss: 1.6406 - acc: 0.4219\n",
      "Epoch 50/200\n",
      "64/64 [==============================] - ETA: 0s - loss: 1.5428 - acc: 0.406 - 0s 171us/sample - loss: 1.6193 - acc: 0.3906\n",
      "Epoch 51/200\n",
      "64/64 [==============================] - ETA: 0s - loss: 1.5299 - acc: 0.406 - 0s 156us/sample - loss: 1.6175 - acc: 0.4062\n",
      "Epoch 52/200\n",
      "64/64 [==============================] - ETA: 0s - loss: 1.5289 - acc: 0.406 - 0s 171us/sample - loss: 1.6073 - acc: 0.3906\n",
      "Epoch 53/200\n",
      "64/64 [==============================] - ETA: 0s - loss: 1.5119 - acc: 0.437 - 0s 171us/sample - loss: 1.5975 - acc: 0.4219\n",
      "Epoch 54/200\n",
      "64/64 [==============================] - ETA: 0s - loss: 1.4866 - acc: 0.406 - 0s 171us/sample - loss: 1.5728 - acc: 0.3906\n",
      "Epoch 55/200\n",
      "64/64 [==============================] - ETA: 0s - loss: 1.5160 - acc: 0.406 - 0s 156us/sample - loss: 1.5841 - acc: 0.4062\n",
      "Epoch 56/200\n",
      "64/64 [==============================] - ETA: 0s - loss: 1.4896 - acc: 0.406 - 0s 156us/sample - loss: 1.5736 - acc: 0.3906\n",
      "Epoch 57/200\n",
      "64/64 [==============================] - ETA: 0s - loss: 1.4791 - acc: 0.437 - 0s 171us/sample - loss: 1.5908 - acc: 0.4062\n",
      "Epoch 58/200\n",
      "64/64 [==============================] - ETA: 0s - loss: 1.4560 - acc: 0.437 - 0s 156us/sample - loss: 1.5448 - acc: 0.4219\n",
      "Epoch 59/200\n",
      "64/64 [==============================] - ETA: 0s - loss: 1.4376 - acc: 0.437 - 0s 156us/sample - loss: 1.5395 - acc: 0.4219\n",
      "Epoch 60/200\n",
      "64/64 [==============================] - ETA: 0s - loss: 1.4296 - acc: 0.437 - 0s 156us/sample - loss: 1.5213 - acc: 0.4219\n"
     ]
    },
    {
     "name": "stdout",
     "output_type": "stream",
     "text": [
      "Epoch 61/200\n",
      "64/64 [==============================] - ETA: 0s - loss: 1.4034 - acc: 0.437 - 0s 156us/sample - loss: 1.5061 - acc: 0.4219\n",
      "Epoch 62/200\n",
      "64/64 [==============================] - ETA: 0s - loss: 1.4586 - acc: 0.406 - 0s 187us/sample - loss: 1.5318 - acc: 0.3906\n",
      "Epoch 63/200\n",
      "64/64 [==============================] - ETA: 0s - loss: 1.3980 - acc: 0.437 - 0s 156us/sample - loss: 1.4816 - acc: 0.4219\n",
      "Epoch 64/200\n",
      "64/64 [==============================] - ETA: 0s - loss: 1.4091 - acc: 0.437 - 0s 187us/sample - loss: 1.4785 - acc: 0.4219\n",
      "Epoch 65/200\n",
      "64/64 [==============================] - ETA: 0s - loss: 1.3831 - acc: 0.437 - 0s 187us/sample - loss: 1.4735 - acc: 0.4219\n",
      "Epoch 66/200\n",
      "64/64 [==============================] - ETA: 0s - loss: 1.3624 - acc: 0.406 - 0s 171us/sample - loss: 1.4691 - acc: 0.4062\n",
      "Epoch 67/200\n",
      "64/64 [==============================] - ETA: 0s - loss: 1.3348 - acc: 0.437 - 0s 171us/sample - loss: 1.4427 - acc: 0.4375\n",
      "Epoch 68/200\n",
      "64/64 [==============================] - ETA: 0s - loss: 1.3960 - acc: 0.437 - 0s 171us/sample - loss: 1.4880 - acc: 0.4062\n",
      "Epoch 69/200\n",
      "64/64 [==============================] - ETA: 0s - loss: 1.3249 - acc: 0.437 - 0s 156us/sample - loss: 1.4245 - acc: 0.4375\n",
      "Epoch 70/200\n",
      "64/64 [==============================] - ETA: 0s - loss: 1.3239 - acc: 0.562 - 0s 171us/sample - loss: 1.4342 - acc: 0.5000\n",
      "Epoch 71/200\n",
      "64/64 [==============================] - ETA: 0s - loss: 1.3208 - acc: 0.531 - 0s 156us/sample - loss: 1.4397 - acc: 0.4688\n",
      "Epoch 72/200\n",
      "64/64 [==============================] - ETA: 0s - loss: 1.2795 - acc: 0.531 - 0s 171us/sample - loss: 1.3912 - acc: 0.4844\n",
      "Epoch 73/200\n",
      "64/64 [==============================] - ETA: 0s - loss: 1.3069 - acc: 0.531 - 0s 140us/sample - loss: 1.4075 - acc: 0.4688\n",
      "Epoch 74/200\n",
      "64/64 [==============================] - ETA: 0s - loss: 1.2699 - acc: 0.562 - 0s 171us/sample - loss: 1.3951 - acc: 0.5000\n",
      "Epoch 75/200\n",
      "64/64 [==============================] - ETA: 0s - loss: 1.2768 - acc: 0.562 - 0s 156us/sample - loss: 1.3570 - acc: 0.5000\n",
      "Epoch 76/200\n",
      "64/64 [==============================] - ETA: 0s - loss: 1.3138 - acc: 0.500 - 0s 156us/sample - loss: 1.3884 - acc: 0.4844\n",
      "Epoch 77/200\n",
      "64/64 [==============================] - ETA: 0s - loss: 1.2492 - acc: 0.531 - 0s 156us/sample - loss: 1.3392 - acc: 0.4844\n",
      "Epoch 78/200\n",
      "64/64 [==============================] - ETA: 0s - loss: 1.2498 - acc: 0.531 - 0s 156us/sample - loss: 1.3458 - acc: 0.5156\n",
      "Epoch 79/200\n",
      "64/64 [==============================] - ETA: 0s - loss: 1.2968 - acc: 0.500 - 0s 156us/sample - loss: 1.3874 - acc: 0.4531\n",
      "Epoch 80/200\n",
      "64/64 [==============================] - ETA: 0s - loss: 1.2523 - acc: 0.562 - 0s 156us/sample - loss: 1.3481 - acc: 0.5312\n",
      "Epoch 81/200\n",
      "64/64 [==============================] - ETA: 0s - loss: 1.2141 - acc: 0.625 - 0s 156us/sample - loss: 1.3302 - acc: 0.5156\n",
      "Epoch 82/200\n",
      "64/64 [==============================] - ETA: 0s - loss: 1.2309 - acc: 0.562 - 0s 171us/sample - loss: 1.3342 - acc: 0.5156\n",
      "Epoch 83/200\n",
      "64/64 [==============================] - ETA: 0s - loss: 1.1695 - acc: 0.625 - 0s 171us/sample - loss: 1.2971 - acc: 0.5312\n",
      "Epoch 84/200\n",
      "64/64 [==============================] - ETA: 0s - loss: 1.1627 - acc: 0.593 - 0s 171us/sample - loss: 1.3001 - acc: 0.5156\n",
      "Epoch 85/200\n",
      "64/64 [==============================] - ETA: 0s - loss: 1.2036 - acc: 0.593 - 0s 171us/sample - loss: 1.2819 - acc: 0.5625\n",
      "Epoch 86/200\n",
      "64/64 [==============================] - ETA: 0s - loss: 1.1835 - acc: 0.531 - 0s 156us/sample - loss: 1.2758 - acc: 0.5156\n",
      "Epoch 87/200\n",
      "64/64 [==============================] - ETA: 0s - loss: 1.1599 - acc: 0.593 - 0s 171us/sample - loss: 1.2597 - acc: 0.5312\n",
      "Epoch 88/200\n",
      "64/64 [==============================] - ETA: 0s - loss: 1.1299 - acc: 0.625 - 0s 156us/sample - loss: 1.2476 - acc: 0.5469\n",
      "Epoch 89/200\n",
      "64/64 [==============================] - ETA: 0s - loss: 1.1356 - acc: 0.593 - 0s 187us/sample - loss: 1.2468 - acc: 0.5312\n",
      "Epoch 90/200\n",
      "64/64 [==============================] - ETA: 0s - loss: 1.1556 - acc: 0.625 - 0s 171us/sample - loss: 1.2420 - acc: 0.5781\n",
      "Epoch 91/200\n",
      "64/64 [==============================] - ETA: 0s - loss: 1.1461 - acc: 0.593 - 0s 171us/sample - loss: 1.2217 - acc: 0.5938\n",
      "Epoch 92/200\n",
      "64/64 [==============================] - ETA: 0s - loss: 1.1869 - acc: 0.531 - 0s 156us/sample - loss: 1.2657 - acc: 0.5000\n",
      "Epoch 93/200\n",
      "64/64 [==============================] - ETA: 0s - loss: 1.1308 - acc: 0.531 - 0s 156us/sample - loss: 1.2415 - acc: 0.4844\n",
      "Epoch 94/200\n",
      "64/64 [==============================] - ETA: 0s - loss: 1.0537 - acc: 0.687 - 0s 171us/sample - loss: 1.1686 - acc: 0.5938\n",
      "Epoch 95/200\n",
      "64/64 [==============================] - ETA: 0s - loss: 1.0721 - acc: 0.625 - 0s 171us/sample - loss: 1.1906 - acc: 0.5938\n",
      "Epoch 96/200\n",
      "64/64 [==============================] - ETA: 0s - loss: 1.0948 - acc: 0.750 - 0s 187us/sample - loss: 1.1979 - acc: 0.6562\n",
      "Epoch 97/200\n",
      "64/64 [==============================] - ETA: 0s - loss: 1.0476 - acc: 0.750 - 0s 156us/sample - loss: 1.1660 - acc: 0.6719\n",
      "Epoch 98/200\n",
      "64/64 [==============================] - ETA: 0s - loss: 1.0921 - acc: 0.687 - 0s 156us/sample - loss: 1.1633 - acc: 0.6250\n",
      "Epoch 99/200\n",
      "64/64 [==============================] - ETA: 0s - loss: 1.0670 - acc: 0.656 - 0s 171us/sample - loss: 1.1839 - acc: 0.6250\n",
      "Epoch 100/200\n",
      "64/64 [==============================] - ETA: 0s - loss: 1.0737 - acc: 0.750 - 0s 156us/sample - loss: 1.1486 - acc: 0.7188\n",
      "Epoch 101/200\n",
      "64/64 [==============================] - ETA: 0s - loss: 0.9888 - acc: 0.718 - 0s 156us/sample - loss: 1.0817 - acc: 0.6875\n",
      "Epoch 102/200\n",
      "64/64 [==============================] - ETA: 0s - loss: 1.0195 - acc: 0.781 - 0s 156us/sample - loss: 1.1201 - acc: 0.7031\n",
      "Epoch 103/200\n",
      "64/64 [==============================] - ETA: 0s - loss: 0.9794 - acc: 0.750 - 0s 156us/sample - loss: 1.0741 - acc: 0.6719\n",
      "Epoch 104/200\n",
      "64/64 [==============================] - ETA: 0s - loss: 0.9935 - acc: 0.750 - 0s 156us/sample - loss: 1.1149 - acc: 0.7031\n",
      "Epoch 105/200\n",
      "64/64 [==============================] - ETA: 0s - loss: 1.0101 - acc: 0.781 - 0s 156us/sample - loss: 1.0778 - acc: 0.7344\n",
      "Epoch 106/200\n",
      "64/64 [==============================] - ETA: 0s - loss: 0.9492 - acc: 0.750 - 0s 156us/sample - loss: 1.0590 - acc: 0.7031\n",
      "Epoch 107/200\n",
      "64/64 [==============================] - ETA: 0s - loss: 0.9085 - acc: 0.843 - 0s 171us/sample - loss: 1.0324 - acc: 0.7500\n",
      "Epoch 108/200\n",
      "64/64 [==============================] - ETA: 0s - loss: 0.9105 - acc: 0.812 - 0s 171us/sample - loss: 0.9957 - acc: 0.7969\n",
      "Epoch 109/200\n",
      "64/64 [==============================] - ETA: 0s - loss: 0.8816 - acc: 0.812 - 0s 171us/sample - loss: 1.0175 - acc: 0.7344\n",
      "Epoch 110/200\n",
      "64/64 [==============================] - ETA: 0s - loss: 0.8451 - acc: 0.875 - 0s 203us/sample - loss: 0.9510 - acc: 0.7969\n",
      "Epoch 111/200\n",
      "64/64 [==============================] - ETA: 0s - loss: 1.0161 - acc: 0.750 - 0s 156us/sample - loss: 1.0582 - acc: 0.7656\n",
      "Epoch 112/200\n",
      "64/64 [==============================] - ETA: 0s - loss: 0.9178 - acc: 0.843 - 0s 171us/sample - loss: 1.0161 - acc: 0.7656\n",
      "Epoch 113/200\n",
      "64/64 [==============================] - ETA: 0s - loss: 0.9539 - acc: 0.781 - 0s 171us/sample - loss: 1.0087 - acc: 0.7656\n",
      "Epoch 114/200\n",
      "64/64 [==============================] - ETA: 0s - loss: 0.8463 - acc: 0.781 - 0s 156us/sample - loss: 0.9469 - acc: 0.7812\n",
      "Epoch 115/200\n",
      "64/64 [==============================] - ETA: 0s - loss: 0.8814 - acc: 0.843 - 0s 156us/sample - loss: 0.9493 - acc: 0.8281\n",
      "Epoch 116/200\n",
      "64/64 [==============================] - ETA: 0s - loss: 0.8359 - acc: 0.875 - 0s 187us/sample - loss: 0.9508 - acc: 0.8125\n",
      "Epoch 117/200\n",
      "64/64 [==============================] - ETA: 0s - loss: 0.8471 - acc: 0.875 - 0s 156us/sample - loss: 0.9168 - acc: 0.8750\n",
      "Epoch 118/200\n",
      "64/64 [==============================] - ETA: 0s - loss: 0.8217 - acc: 0.843 - 0s 171us/sample - loss: 0.8875 - acc: 0.8438\n",
      "Epoch 119/200\n",
      "64/64 [==============================] - ETA: 0s - loss: 0.8119 - acc: 0.843 - 0s 187us/sample - loss: 0.8928 - acc: 0.8594\n",
      "Epoch 120/200\n"
     ]
    },
    {
     "name": "stdout",
     "output_type": "stream",
     "text": [
      "64/64 [==============================] - ETA: 0s - loss: 0.8458 - acc: 0.875 - 0s 171us/sample - loss: 0.9348 - acc: 0.8281\n",
      "Epoch 121/200\n",
      "64/64 [==============================] - ETA: 0s - loss: 0.7206 - acc: 0.937 - 0s 171us/sample - loss: 0.8353 - acc: 0.8906\n",
      "Epoch 122/200\n",
      "64/64 [==============================] - ETA: 0s - loss: 0.7559 - acc: 0.843 - 0s 171us/sample - loss: 0.8523 - acc: 0.8125\n",
      "Epoch 123/200\n",
      "64/64 [==============================] - ETA: 0s - loss: 0.7435 - acc: 0.906 - 0s 156us/sample - loss: 0.8434 - acc: 0.8750\n",
      "Epoch 124/200\n",
      "64/64 [==============================] - ETA: 0s - loss: 0.7813 - acc: 0.906 - 0s 187us/sample - loss: 0.8638 - acc: 0.8438\n",
      "Epoch 125/200\n",
      "64/64 [==============================] - ETA: 0s - loss: 0.7313 - acc: 0.968 - 0s 187us/sample - loss: 0.8371 - acc: 0.9375\n",
      "Epoch 126/200\n",
      "64/64 [==============================] - ETA: 0s - loss: 0.6948 - acc: 0.906 - 0s 156us/sample - loss: 0.8050 - acc: 0.8906\n",
      "Epoch 127/200\n",
      "64/64 [==============================] - ETA: 0s - loss: 0.6906 - acc: 0.937 - 0s 171us/sample - loss: 0.8156 - acc: 0.8906\n",
      "Epoch 128/200\n",
      "64/64 [==============================] - ETA: 0s - loss: 0.6586 - acc: 0.937 - 0s 171us/sample - loss: 0.7708 - acc: 0.9375\n",
      "Epoch 129/200\n",
      "64/64 [==============================] - ETA: 0s - loss: 0.6576 - acc: 0.906 - 0s 156us/sample - loss: 0.7709 - acc: 0.8750\n",
      "Epoch 130/200\n",
      "64/64 [==============================] - ETA: 0s - loss: 0.6818 - acc: 0.937 - 0s 156us/sample - loss: 0.7641 - acc: 0.9219\n",
      "Epoch 131/200\n",
      "64/64 [==============================] - ETA: 0s - loss: 0.6200 - acc: 0.968 - 0s 156us/sample - loss: 0.7090 - acc: 0.9375\n",
      "Epoch 132/200\n",
      "64/64 [==============================] - ETA: 0s - loss: 0.7221 - acc: 0.937 - 0s 171us/sample - loss: 0.8122 - acc: 0.8906\n",
      "Epoch 133/200\n",
      "64/64 [==============================] - ETA: 0s - loss: 0.6271 - acc: 0.937 - 0s 140us/sample - loss: 0.7030 - acc: 0.9219\n",
      "Epoch 134/200\n",
      "64/64 [==============================] - ETA: 0s - loss: 0.6913 - acc: 0.875 - 0s 140us/sample - loss: 0.7653 - acc: 0.8281\n",
      "Epoch 135/200\n",
      "64/64 [==============================] - ETA: 0s - loss: 0.6957 - acc: 0.875 - 0s 156us/sample - loss: 0.7531 - acc: 0.8750\n",
      "Epoch 136/200\n",
      "64/64 [==============================] - ETA: 0s - loss: 0.6471 - acc: 0.906 - 0s 156us/sample - loss: 0.7322 - acc: 0.8906\n",
      "Epoch 137/200\n",
      "64/64 [==============================] - ETA: 0s - loss: 0.6416 - acc: 0.937 - 0s 156us/sample - loss: 0.7388 - acc: 0.8906\n",
      "Epoch 138/200\n",
      "64/64 [==============================] - ETA: 0s - loss: 0.6149 - acc: 0.937 - 0s 156us/sample - loss: 0.7213 - acc: 0.9219\n",
      "Epoch 139/200\n",
      "64/64 [==============================] - ETA: 0s - loss: 0.6488 - acc: 0.906 - 0s 171us/sample - loss: 0.7200 - acc: 0.8906\n",
      "Epoch 140/200\n",
      "64/64 [==============================] - ETA: 0s - loss: 0.6921 - acc: 0.875 - 0s 187us/sample - loss: 0.6956 - acc: 0.9375\n",
      "Epoch 141/200\n",
      "64/64 [==============================] - ETA: 0s - loss: 0.6215 - acc: 0.906 - 0s 171us/sample - loss: 0.6728 - acc: 0.9375\n",
      "Epoch 142/200\n",
      "64/64 [==============================] - ETA: 0s - loss: 0.6220 - acc: 0.968 - 0s 171us/sample - loss: 0.6923 - acc: 0.9531\n",
      "Epoch 143/200\n",
      "64/64 [==============================] - ETA: 0s - loss: 0.5911 - acc: 0.937 - 0s 171us/sample - loss: 0.6598 - acc: 0.9375\n",
      "Epoch 144/200\n",
      "64/64 [==============================] - ETA: 0s - loss: 0.5462 - acc: 0.875 - 0s 171us/sample - loss: 0.6246 - acc: 0.9062\n",
      "Epoch 145/200\n",
      "64/64 [==============================] - ETA: 0s - loss: 0.5725 - acc: 0.937 - 0s 171us/sample - loss: 0.6604 - acc: 0.9375\n",
      "Epoch 146/200\n",
      "64/64 [==============================] - ETA: 0s - loss: 0.5383 - acc: 0.906 - 0s 171us/sample - loss: 0.6404 - acc: 0.8750\n",
      "Epoch 147/200\n",
      "64/64 [==============================] - ETA: 0s - loss: 0.5235 - acc: 0.937 - 0s 156us/sample - loss: 0.6093 - acc: 0.9688\n",
      "Epoch 148/200\n",
      "64/64 [==============================] - ETA: 0s - loss: 0.5188 - acc: 0.968 - 0s 171us/sample - loss: 0.6257 - acc: 0.9219\n",
      "Epoch 149/200\n",
      "64/64 [==============================] - ETA: 0s - loss: 0.4946 - acc: 0.937 - 0s 156us/sample - loss: 0.6207 - acc: 0.8750\n",
      "Epoch 150/200\n",
      "64/64 [==============================] - ETA: 0s - loss: 0.5207 - acc: 0.906 - 0s 171us/sample - loss: 0.6277 - acc: 0.8750\n",
      "Epoch 151/200\n",
      "64/64 [==============================] - ETA: 0s - loss: 0.4801 - acc: 0.968 - 0s 156us/sample - loss: 0.5770 - acc: 0.9531\n",
      "Epoch 152/200\n",
      "64/64 [==============================] - ETA: 0s - loss: 0.5190 - acc: 0.937 - 0s 171us/sample - loss: 0.5924 - acc: 0.9219\n",
      "Epoch 153/200\n",
      "64/64 [==============================] - ETA: 0s - loss: 0.5521 - acc: 0.875 - 0s 171us/sample - loss: 0.5701 - acc: 0.9375\n",
      "Epoch 154/200\n",
      "64/64 [==============================] - ETA: 0s - loss: 0.4660 - acc: 0.937 - 0s 171us/sample - loss: 0.5480 - acc: 0.9531\n",
      "Epoch 155/200\n",
      "64/64 [==============================] - ETA: 0s - loss: 0.4990 - acc: 0.968 - 0s 171us/sample - loss: 0.5733 - acc: 0.9531\n",
      "Epoch 156/200\n",
      "64/64 [==============================] - ETA: 0s - loss: 0.4798 - acc: 0.937 - 0s 156us/sample - loss: 0.5275 - acc: 0.9375\n",
      "Epoch 157/200\n",
      "64/64 [==============================] - ETA: 0s - loss: 0.4818 - acc: 0.937 - 0s 156us/sample - loss: 0.5676 - acc: 0.9375\n",
      "Epoch 158/200\n",
      "64/64 [==============================] - ETA: 0s - loss: 0.4459 - acc: 0.968 - 0s 171us/sample - loss: 0.5101 - acc: 0.9531\n",
      "Epoch 159/200\n",
      "64/64 [==============================] - ETA: 0s - loss: 0.5290 - acc: 0.875 - 0s 171us/sample - loss: 0.5874 - acc: 0.9062\n",
      "Epoch 160/200\n",
      "64/64 [==============================] - ETA: 0s - loss: 0.4313 - acc: 0.937 - 0s 171us/sample - loss: 0.5318 - acc: 0.9375\n",
      "Epoch 161/200\n",
      "64/64 [==============================] - ETA: 0s - loss: 0.4825 - acc: 0.906 - 0s 156us/sample - loss: 0.5435 - acc: 0.9219\n",
      "Epoch 162/200\n",
      "64/64 [==============================] - ETA: 0s - loss: 0.3853 - acc: 0.937 - 0s 171us/sample - loss: 0.4616 - acc: 0.9531\n",
      "Epoch 163/200\n",
      "64/64 [==============================] - ETA: 0s - loss: 0.4521 - acc: 0.937 - 0s 156us/sample - loss: 0.5166 - acc: 0.9375\n",
      "Epoch 164/200\n",
      "64/64 [==============================] - ETA: 0s - loss: 0.4017 - acc: 0.937 - 0s 156us/sample - loss: 0.4952 - acc: 0.9531\n",
      "Epoch 165/200\n",
      "64/64 [==============================] - ETA: 0s - loss: 0.4275 - acc: 0.937 - 0s 171us/sample - loss: 0.4891 - acc: 0.9375\n",
      "Epoch 166/200\n",
      "64/64 [==============================] - ETA: 0s - loss: 0.3748 - acc: 0.968 - 0s 156us/sample - loss: 0.4714 - acc: 0.9531\n",
      "Epoch 167/200\n",
      "64/64 [==============================] - ETA: 0s - loss: 0.3948 - acc: 0.906 - 0s 156us/sample - loss: 0.5245 - acc: 0.8438\n",
      "Epoch 168/200\n",
      "64/64 [==============================] - ETA: 0s - loss: 0.4281 - acc: 0.906 - 0s 187us/sample - loss: 0.5124 - acc: 0.9062\n",
      "Epoch 169/200\n",
      "64/64 [==============================] - ETA: 0s - loss: 0.3968 - acc: 0.937 - 0s 156us/sample - loss: 0.4672 - acc: 0.9531\n",
      "Epoch 170/200\n",
      "64/64 [==============================] - ETA: 0s - loss: 0.3922 - acc: 0.906 - 0s 156us/sample - loss: 0.4526 - acc: 0.9531\n",
      "Epoch 171/200\n",
      "64/64 [==============================] - ETA: 0s - loss: 0.3935 - acc: 0.906 - 0s 171us/sample - loss: 0.4454 - acc: 0.9219\n",
      "Epoch 172/200\n",
      "64/64 [==============================] - ETA: 0s - loss: 0.3378 - acc: 0.968 - 0s 156us/sample - loss: 0.4194 - acc: 0.9844\n",
      "Epoch 173/200\n",
      "64/64 [==============================] - ETA: 0s - loss: 0.3815 - acc: 0.937 - 0s 156us/sample - loss: 0.4371 - acc: 0.9531\n",
      "Epoch 174/200\n",
      "64/64 [==============================] - ETA: 0s - loss: 0.3735 - acc: 0.906 - 0s 171us/sample - loss: 0.4449 - acc: 0.9219\n",
      "Epoch 175/200\n",
      "64/64 [==============================] - ETA: 0s - loss: 0.3588 - acc: 0.968 - 0s 156us/sample - loss: 0.3985 - acc: 0.9844\n",
      "Epoch 176/200\n",
      "64/64 [==============================] - ETA: 0s - loss: 0.3205 - acc: 0.968 - 0s 156us/sample - loss: 0.4150 - acc: 0.9531\n",
      "Epoch 177/200\n",
      "64/64 [==============================] - ETA: 0s - loss: 0.3727 - acc: 0.937 - 0s 156us/sample - loss: 0.4702 - acc: 0.9531\n",
      "Epoch 178/200\n",
      "64/64 [==============================] - ETA: 0s - loss: 0.3069 - acc: 0.968 - 0s 156us/sample - loss: 0.4066 - acc: 0.9531\n",
      "Epoch 179/200\n"
     ]
    },
    {
     "name": "stdout",
     "output_type": "stream",
     "text": [
      "64/64 [==============================] - ETA: 0s - loss: 0.3156 - acc: 0.968 - 0s 156us/sample - loss: 0.3892 - acc: 0.9688\n",
      "Epoch 180/200\n",
      "64/64 [==============================] - ETA: 0s - loss: 0.3192 - acc: 0.937 - 0s 156us/sample - loss: 0.3996 - acc: 0.9219\n",
      "Epoch 181/200\n",
      "64/64 [==============================] - ETA: 0s - loss: 0.2868 - acc: 0.968 - 0s 171us/sample - loss: 0.3797 - acc: 0.9531\n",
      "Epoch 182/200\n",
      "64/64 [==============================] - ETA: 0s - loss: 0.3009 - acc: 0.968 - 0s 156us/sample - loss: 0.3841 - acc: 0.9688\n",
      "Epoch 183/200\n",
      "64/64 [==============================] - ETA: 0s - loss: 0.3664 - acc: 0.906 - 0s 140us/sample - loss: 0.3947 - acc: 0.9375\n",
      "Epoch 184/200\n",
      "64/64 [==============================] - ETA: 0s - loss: 0.2910 - acc: 0.968 - 0s 140us/sample - loss: 0.3912 - acc: 0.9688\n",
      "Epoch 185/200\n",
      "64/64 [==============================] - ETA: 0s - loss: 0.3414 - acc: 0.937 - 0s 156us/sample - loss: 0.3845 - acc: 0.9688\n",
      "Epoch 186/200\n",
      "64/64 [==============================] - ETA: 0s - loss: 0.3375 - acc: 0.906 - 0s 156us/sample - loss: 0.3903 - acc: 0.9531\n",
      "Epoch 187/200\n",
      "64/64 [==============================] - ETA: 0s - loss: 0.3463 - acc: 0.937 - 0s 156us/sample - loss: 0.4000 - acc: 0.9375\n",
      "Epoch 188/200\n",
      "64/64 [==============================] - ETA: 0s - loss: 0.2861 - acc: 0.968 - 0s 156us/sample - loss: 0.3560 - acc: 0.9844\n",
      "Epoch 189/200\n",
      "64/64 [==============================] - ETA: 0s - loss: 0.3099 - acc: 0.937 - 0s 171us/sample - loss: 0.3708 - acc: 0.9688\n",
      "Epoch 190/200\n",
      "64/64 [==============================] - ETA: 0s - loss: 0.2860 - acc: 0.968 - 0s 171us/sample - loss: 0.3929 - acc: 0.9844\n",
      "Epoch 191/200\n",
      "64/64 [==============================] - ETA: 0s - loss: 0.3515 - acc: 0.937 - 0s 171us/sample - loss: 0.3806 - acc: 0.9531\n",
      "Epoch 192/200\n",
      "64/64 [==============================] - ETA: 0s - loss: 0.2810 - acc: 0.937 - 0s 171us/sample - loss: 0.3575 - acc: 0.9688\n",
      "Epoch 193/200\n",
      "64/64 [==============================] - ETA: 0s - loss: 0.2985 - acc: 0.937 - 0s 171us/sample - loss: 0.3952 - acc: 0.9219\n",
      "Epoch 194/200\n",
      "64/64 [==============================] - ETA: 0s - loss: 0.3008 - acc: 0.937 - 0s 171us/sample - loss: 0.3509 - acc: 0.9688\n",
      "Epoch 195/200\n",
      "64/64 [==============================] - ETA: 0s - loss: 0.2793 - acc: 0.968 - 0s 187us/sample - loss: 0.3321 - acc: 0.9688\n",
      "Epoch 196/200\n",
      "64/64 [==============================] - ETA: 0s - loss: 0.2819 - acc: 0.968 - 0s 187us/sample - loss: 0.3306 - acc: 0.9844\n",
      "Epoch 197/200\n",
      "64/64 [==============================] - ETA: 0s - loss: 0.2646 - acc: 0.968 - 0s 187us/sample - loss: 0.3459 - acc: 0.9844\n",
      "Epoch 198/200\n",
      "64/64 [==============================] - ETA: 0s - loss: 0.2662 - acc: 0.968 - 0s 171us/sample - loss: 0.3374 - acc: 0.9531\n",
      "Epoch 199/200\n",
      "64/64 [==============================] - ETA: 0s - loss: 0.2353 - acc: 0.968 - 0s 171us/sample - loss: 0.3100 - acc: 0.9844\n",
      "Epoch 200/200\n",
      "64/64 [==============================] - ETA: 0s - loss: 0.2815 - acc: 0.968 - 0s 171us/sample - loss: 0.3207 - acc: 0.9844\n"
     ]
    },
    {
     "name": "stderr",
     "output_type": "stream",
     "text": [
      "INFO:rasa.core.policies.keras_policy:Done fitting keras policy model\n",
      "INFO:rasa_core.agent:Persisted model to 'D:\\Yogesh\\ToDos\\Teaching\\TeachingDataScience\\Jupyter\\models\\current\\ipl_dialogue\\core'\n"
     ]
    }
   ],
   "source": [
    "import asyncio\n",
    "from rasa_core.policies import FallbackPolicy, KerasPolicy, MemoizationPolicy, MappingPolicy\n",
    "from rasa_core.agent import Agent\n",
    "\n",
    "# this will catch predictions the model isn't very certain about\n",
    "# there is a threshold for the NLU predictions as well as the action predictions\n",
    "fallback = FallbackPolicy(fallback_action_name=\"utter_unclear\",\n",
    "                          core_threshold=0.2,\n",
    "                          nlu_threshold=0.1)\n",
    "\n",
    "# agent = Agent('domain.yml', policies=[MemoizationPolicy(), KerasPolicy(), fallback])\n",
    "\n",
    "agent = Agent('config/ipl_domain.yml', policies = [MemoizationPolicy(max_history=2), KerasPolicy(validation_split=0.2,epochs=200),MappingPolicy()])\n",
    "# loading our neatly defined training dialogues\n",
    "training_data = await agent.load_data('data/ipl_stories.md')\n",
    "\n",
    "agent.train(training_data)\n",
    "# FOLLOWING WAY OF giving arguments is depreacted, instead, give these params as arguments to KerasPolicy\n",
    "# agent.train(\n",
    "#     training_data,\n",
    "#     validation_split=0.0,\n",
    "#     epochs=200\n",
    "# )\n",
    "\n",
    "agent.persist('models/ipl_dialogue/current')"
   ]
  },
  {
   "cell_type": "markdown",
   "metadata": {
    "colab_type": "text",
    "id": "c4911z6y-5rD"
   },
   "source": [
    "## Running: Talk to your Bot\n",
    "\n",
    "So we have the chatbot ready. It’s time to chat"
   ]
  },
  {
   "cell_type": "markdown",
   "metadata": {},
   "source": [
    "One way is to run following command in shell (windows cmd)\n",
    "- activate the environment,\n",
    "- come to directory where actions.py is and then run\n",
    "- **python -m rasa_core.run -d models/current/ipl_dialogue -u models/current/ipl_nlu --endpoints ipl_endpoints.yml**\n",
    "\n",
    "Or else do programmatically like below\n",
    "\n",
    "Both approaches expect rasa core sdk server running in a separate window, else **python -m rasa_core_sdk.endpoint --actions ipl_actions --endpoints ipl_endpoints.yml**"
   ]
  },
  {
   "cell_type": "code",
   "execution_count": 20,
   "metadata": {
    "colab": {
     "base_uri": "https://localhost:8080/",
     "height": 34
    },
    "colab_type": "code",
    "id": "nE4coPam5hry",
    "outputId": "c8ec135b-882b-4e9e-a955-f3e184177817"
   },
   "outputs": [],
   "source": [
    "# #Starting the Bot\n",
    "\n",
    "# from rasa_core.agent import Agent\n",
    "# agent = Agent.load('models/current/dialogue', interpreter=model_directory)\n",
    "\n",
    "import IPython\n",
    "from IPython.display import clear_output\n",
    "from rasa_core.agent import Agent\n",
    "from rasa_core.interpreter import NaturalLanguageInterpreter\n",
    "from rasa.utils.endpoints import EndpointConfig\n",
    "import asyncio\n",
    "import time\n",
    "\n",
    "def load_assistant():\n",
    "    messages = [\"Hi! you can chat in this window. Type 'stop' to end the conversation.\"]\n",
    "    model_dir = 'models/ipl_nlu/current' # or model_directory defined earlier\n",
    "    interpreter = NaturalLanguageInterpreter.create(model_dir)\n",
    "    endpoint = EndpointConfig('http://localhost:5055/webhook')\n",
    "    agent = Agent.load('models/ipl_dialogue/current', interpreter=interpreter, action_endpoint = endpoint)\n",
    "\n",
    "    print(\"Your bot is ready to talk! Type your messages here or send 'stop'\")\n",
    "    while True:\n",
    "        a = input()\n",
    "        if a == 'stop':\n",
    "            break\n",
    "        responses = asyncio.run(agent.handle_text(a)) # For Python 3.7\n",
    "        for response in responses:\n",
    "            print(response[\"text\"])"
   ]
  },
  {
   "cell_type": "code",
   "execution_count": 21,
   "metadata": {
    "colab": {
     "base_uri": "https://localhost:8080/",
     "height": 292
    },
    "colab_type": "code",
    "id": "DDVLzhAT5yrP",
    "outputId": "aee3fc83-df97-42b4-c7e0-c8929f76337c"
   },
   "outputs": [
    {
     "name": "stderr",
     "output_type": "stream",
     "text": [
      "INFO:rasa.nlu.components:Added 'SpacyNLP' to component cache. Key 'SpacyNLP-en'.\n",
      "WARNING:rasa.core.interpreter:Tried to create NLU interpreter from '<rasa_core.interpreter.RasaNLUInterpreter object at 0x000002451A3BE948>', which is not possible.Using RegexInterpreter instead.\n"
     ]
    },
    {
     "name": "stdout",
     "output_type": "stream",
     "text": [
      "Your bot is ready to talk! Type your messages here or send 'stop'\n",
      "Hi\n",
      "Bye\n",
      "What are the current matches?\n"
     ]
    },
    {
     "name": "stderr",
     "output_type": "stream",
     "text": [
      "ERROR:rasa.core.processor:Encountered an exception while running action 'action_match_news'. Bot will continue, but the actions events are lost. Please check the logs of your action server for more information.\n"
     ]
    },
    {
     "name": "stdout",
     "output_type": "stream",
     "text": [
      "I hope that solved your query\n",
      "no\n",
      "Glad that I could be of help to you! Bye\n",
      "bye\n",
      "Bye\n",
      "stop\n"
     ]
    }
   ],
   "source": [
    "load_assistant()        "
   ]
  },
  {
   "cell_type": "markdown",
   "metadata": {
    "colab": {},
    "colab_type": "code",
    "id": "enJNkbvB54y1"
   },
   "source": [
    "## What Next?\n",
    "\n",
    "- Try to use different pipelines in Rasa Core, explore more Policies, fine-tune those models, \n",
    "- Check out what other features CricAPI provides, etc.\n",
    "- Other APIs\n",
    "- Slot filling\n",
    "- Different languages (Hindi bot?)\n",
    "\n"
   ]
  },
  {
   "cell_type": "code",
   "execution_count": null,
   "metadata": {
    "collapsed": true
   },
   "outputs": [],
   "source": []
  }
 ],
 "metadata": {
  "accelerator": "GPU",
  "anaconda-cloud": {},
  "colab": {
   "include_colab_link": true,
   "name": "Conversational_Chatbot.ipynb",
   "provenance": [],
   "version": "0.3.2"
  },
  "kernelspec": {
   "display_name": "Python [conda env:conda-rasa] *",
   "language": "python",
   "name": "conda-env-conda-rasa-py"
  },
  "language_info": {
   "codemirror_mode": {
    "name": "ipython",
    "version": 3
   },
   "file_extension": ".py",
   "mimetype": "text/x-python",
   "name": "python",
   "nbconvert_exporter": "python",
   "pygments_lexer": "ipython3",
   "version": "3.7.4"
  }
 },
 "nbformat": 4,
 "nbformat_minor": 1
}
