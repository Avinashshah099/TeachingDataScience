{
 "cells": [
  {
   "cell_type": "markdown",
   "metadata": {
    "colab_type": "text",
    "id": "3oxVq6vQ76r7"
   },
   "source": [
    "# IPL Chatbot\n",
    "\n",
    "Original: Learn how to Build and Deploy a Chatbot in Minutes using Rasa (IPL Case Study!) - Mohd Sanad Zaki Rizvi, Analytics Vidhya https://www.analyticsvidhya.com/blog/2019/04/learn-build-chatbot-rasa-nlp-ipl)"
   ]
  },
  {
   "cell_type": "markdown",
   "metadata": {
    "colab_type": "text",
    "id": "kIFYA-Kp8aK4"
   },
   "source": [
    "**Objectives** To build a chatbot capable of fetching latest info about the ongoing IPL (Indian Premier League) matches from cricapi.com site.\n",
    "\n",
    "<img src=\"images/ipl.jpg\">"
   ]
  },
  {
   "cell_type": "markdown",
   "metadata": {
    "colab_type": "text",
    "id": "yHYeAA859JGq"
   },
   "source": [
    "### Importing Libraries"
   ]
  },
  {
   "cell_type": "code",
   "execution_count": 17,
   "metadata": {
    "colab": {},
    "colab_type": "code",
    "id": "TSw6zFmk3iPu",
    "scrolled": true
   },
   "outputs": [
    {
     "name": "stdout",
     "output_type": "stream",
     "text": [
      "Event loop ready.\n"
     ]
    }
   ],
   "source": [
    "%matplotlib inline\n",
    "\n",
    "# First things first\n",
    "import nest_asyncio\n",
    "nest_asyncio.apply()\n",
    "print(\"Event loop ready.\")\n",
    "\n",
    "import logging, io, json, warnings\n",
    "logging.basicConfig(level=\"INFO\")\n",
    "warnings.filterwarnings('ignore')\n",
    "\n",
    "import rasa_nlu\n",
    "import rasa_core\n",
    "import spacy"
   ]
  },
  {
   "cell_type": "markdown",
   "metadata": {
    "colab_type": "text",
    "id": "oDEAOmaI9o4a"
   },
   "source": [
    "### Preparing the NLU Training Data\n",
    "\n",
    "Training data for extracting the user intent.\n",
    "As you can see, the format of training data for ‘intent’ is quite simple in Rasa. You just have to:\n",
    "\n",
    "- Start the line with “## intent:intent_name”\n",
    "- Supply all the examples in the following lines"
   ]
  },
  {
   "cell_type": "code",
   "execution_count": 18,
   "metadata": {
    "colab": {
     "base_uri": "https://localhost:8080/",
     "height": 34
    },
    "colab_type": "code",
    "id": "RPxeQ1_14CjK",
    "outputId": "bfb5974f-f8ea-46b8-b8cb-9dd4479ed9cc",
    "scrolled": true
   },
   "outputs": [
    {
     "name": "stdout",
     "output_type": "stream",
     "text": [
      "Writing 'nlu_md' (str) to file 'data/ipl_nlu_data.md'.\n"
     ]
    }
   ],
   "source": [
    "nlu_md = \"\"\"\n",
    "## intent:goodbye  \n",
    "- Bye \n",
    "- Goodbye\n",
    "- See you later\n",
    "- Bye bot\n",
    "- Goodbye friend\n",
    "- bye\n",
    "- bye for now\n",
    "- catch you later\n",
    "- gotta go\n",
    "- See you\n",
    "- goodnight\n",
    "- have a nice day\n",
    "- i'm off\n",
    "- see you later alligator\n",
    "- we'll speak soon\n",
    "- end\n",
    "- finish\n",
    "\n",
    "## intent:greet\n",
    "- Hi\n",
    "- Hey\n",
    "- Hi bot\n",
    "- Hey bot\n",
    "- Hello\n",
    "- Good morning\n",
    "- hi again\n",
    "- hi folks\n",
    "- hi Mister\n",
    "- hi pal!\n",
    "- hi there\n",
    "- greetings\n",
    "- hello everybody\n",
    "- hello is anybody there\n",
    "- hello robot\n",
    "- who are you?\n",
    "- what are you?\n",
    "- what's up\n",
    "- how do you do?\n",
    "\n",
    "## intent:thanks\n",
    "- Thanks\n",
    "- Thank you\n",
    "- Thank you so much\n",
    "- Thanks bot\n",
    "- Thanks for that\n",
    "- cheers\n",
    "- cheers bro\n",
    "- ok thanks!\n",
    "- perfect thank you\n",
    "- thanks a bunch for everything\n",
    "- thanks for the help\n",
    "- thanks a lot\n",
    "- amazing, thanks\n",
    "- cool, thanks\n",
    "- cool thank you\n",
    "\n",
    "## intent:affirm\n",
    "- y\n",
    "- Y\n",
    "- yes\n",
    "- yes sure\n",
    "- absolutely\n",
    "- for sure\n",
    "- yes yes yes\n",
    "- definitely\n",
    "- yes, it did.\n",
    "\n",
    "## intent:current_matches\n",
    "- what are the current matches\n",
    "- can you list the matches in ipl 2019\n",
    "- which cricket match is happening right now\n",
    "- which ipl match is next\n",
    "- which teams are playing next in ipl\n",
    "- which team will play next in ipl\n",
    "- tell me some ipl news\n",
    "- i want ipl updates\n",
    "- can you give me ipl latest updates\n",
    "- what are the latest match updates\n",
    "- who won the last ipl match\n",
    "- which teams are competing in the next match\n",
    "- how is ipl going\n",
    "- what was the result of the last match\n",
    "- when is the next match\n",
    "\n",
    "## intent:deny\n",
    "- no\n",
    "- never\n",
    "- I don't think so\n",
    "- don't like that\n",
    "- no way\n",
    "- not really\n",
    "- n\n",
    "- N\n",
    "\"\"\"\n",
    "\n",
    "%store nlu_md > data/ipl_nlu_data.md"
   ]
  },
  {
   "cell_type": "markdown",
   "metadata": {},
   "source": [
    "You can include as many examples as you want for each intent. In fact, make sure to include slangs and short forms that you use while texting. The idea is to make the chatbot understand the way we type text. Feel free to refer to the complete version where I have given plenty of examples for each intent type."
   ]
  },
  {
   "cell_type": "markdown",
   "metadata": {
    "colab_type": "text",
    "id": "ceazcacn9veB"
   },
   "source": [
    "### Defining the NLU Model Configuration\n",
    "\n",
    "This file lets us create a text processing pipeline in Rasa. Luckily for us, Rasa comes with two default settings based on the amount of training data we have:\n",
    "- “spacy_sklearn” pipeline if you have less than 1000 training examples\n",
    "- “tensorflow_embedding” if you have a large amount of data"
   ]
  },
  {
   "cell_type": "code",
   "execution_count": 19,
   "metadata": {
    "colab": {
     "base_uri": "https://localhost:8080/",
     "height": 34
    },
    "colab_type": "code",
    "id": "dF60NWhR4ID6",
    "outputId": "92946645-94fc-4450-aa41-eca8895ff83c"
   },
   "outputs": [
    {
     "name": "stdout",
     "output_type": "stream",
     "text": [
      "Writing 'config' (str) to file 'config/ipl_nlu_config.yml'.\n"
     ]
    }
   ],
   "source": [
    "config = \"\"\"\n",
    "language: \"en\"\n",
    "pipeline: spacy_sklearn\n",
    "\"\"\" \n",
    "\n",
    "%store config > config/ipl_nlu_config.yml"
   ]
  },
  {
   "cell_type": "markdown",
   "metadata": {
    "colab_type": "text",
    "id": "ieoWk91X9y8X"
   },
   "source": [
    "### Training the NLU Classifier Model\n",
    "\n",
    "On command line you can run following command:\n",
    "\n",
    "**python -m rasa_nlu.train -c ipl_nlu_config.yml --data data/ipl_nlu_data.md -o models --fixed_model_name nlu --project current --verbose**\n",
    "\n",
    "Or programmatically you can write code"
   ]
  },
  {
   "cell_type": "code",
   "execution_count": 20,
   "metadata": {
    "colab": {
     "base_uri": "https://localhost:8080/",
     "height": 445
    },
    "colab_type": "code",
    "id": "dp3AIHmS4L6x",
    "outputId": "8011c4f7-c789-4138-84d7-4710207615d8"
   },
   "outputs": [
    {
     "name": "stderr",
     "output_type": "stream",
     "text": [
      "WARNING:rasa_nlu.config:You have specified the pipeline template 'spacy_sklearn' which has been renamed to 'pretrained_embeddings_spacy'. Please update your code as it will no longer work with future versions of Rasa NLU.\n",
      "INFO:rasa.nlu.utils.spacy_utils:Trying to load spacy model with name 'en'\n",
      "INFO:rasa.nlu.components:Added 'SpacyNLP' to component cache. Key 'SpacyNLP-en'.\n",
      "INFO:rasa_nlu.model:Starting to train component SpacyNLP\n",
      "INFO:rasa_nlu.model:Finished training component.\n",
      "INFO:rasa_nlu.model:Starting to train component SpacyTokenizer\n",
      "INFO:rasa_nlu.model:Finished training component.\n",
      "INFO:rasa_nlu.model:Starting to train component SpacyFeaturizer\n",
      "INFO:rasa_nlu.model:Finished training component.\n",
      "INFO:rasa_nlu.model:Starting to train component RegexFeaturizer\n",
      "INFO:rasa_nlu.model:Finished training component.\n",
      "INFO:rasa_nlu.model:Starting to train component CRFEntityExtractor\n",
      "INFO:rasa_nlu.model:Finished training component.\n",
      "INFO:rasa_nlu.model:Starting to train component EntitySynonymMapper\n",
      "INFO:rasa_nlu.model:Finished training component.\n",
      "INFO:rasa_nlu.model:Starting to train component SklearnIntentClassifier\n"
     ]
    },
    {
     "name": "stdout",
     "output_type": "stream",
     "text": [
      "Fitting 2 folds for each of 6 candidates, totalling 12 fits\n"
     ]
    },
    {
     "name": "stderr",
     "output_type": "stream",
     "text": [
      "[Parallel(n_jobs=1)]: Using backend SequentialBackend with 1 concurrent workers.\n",
      "[Parallel(n_jobs=1)]: Done  12 out of  12 | elapsed:    0.0s finished\n",
      "INFO:rasa_nlu.model:Finished training component.\n",
      "INFO:rasa_nlu.model:Successfully saved model into 'C:\\YogeshKulkarni\\Training\\TeachingDataScience\\Jupyter\\models\\ipl_nlu\\current'\n"
     ]
    }
   ],
   "source": [
    "from rasa_nlu.training_data import load_data\n",
    "from rasa_nlu.config import RasaNLUModelConfig\n",
    "from rasa_nlu.model import Trainer\n",
    "from rasa_nlu import config\n",
    "\n",
    "# loading the nlu training samples\n",
    "training_data = load_data(\"data/ipl_nlu_data.md\")\n",
    "\n",
    "# trainer to educate our pipeline\n",
    "trainer = Trainer(config.load(\"config/ipl_nlu_config.yml\"))\n",
    "\n",
    "# train the model!\n",
    "interpreter = trainer.train(training_data)\n",
    "\n",
    "# store it for future use\n",
    "model_directory = trainer.persist(\"./models/ipl_nlu\", fixed_model_name=\"current\")"
   ]
  },
  {
   "cell_type": "markdown",
   "metadata": {
    "colab_type": "text",
    "id": "Jrfp4xOS95ZZ"
   },
   "source": [
    "### Evaluating the NLU model on a random text (first way)\n",
    "\n",
    "Let’s test how good our model is performing by giving it a sample text that it hasn’t been trained on for extracting intent. "
   ]
  },
  {
   "cell_type": "code",
   "execution_count": 33,
   "metadata": {
    "colab": {
     "base_uri": "https://localhost:8080/",
     "height": 867
    },
    "colab_type": "code",
    "id": "4UjzlqMV4N1k",
    "outputId": "37ea93e5-6a71-4e8e-d2b6-a45144d184ad"
   },
   "outputs": [
    {
     "name": "stdout",
     "output_type": "stream",
     "text": [
      "{\n",
      "  \"intent\": {\n",
      "    \"name\": \"current_matches\",\n",
      "    \"confidence\": 0.517677511039713\n",
      "  },\n",
      "  \"entities\": [],\n",
      "  \"intent_ranking\": [\n",
      "    {\n",
      "      \"name\": \"current_matches\",\n",
      "      \"confidence\": 0.517677511039713\n",
      "    },\n",
      "    {\n",
      "      \"name\": \"greet\",\n",
      "      \"confidence\": 0.25656597604201004\n",
      "    },\n",
      "    {\n",
      "      \"name\": \"goodbye\",\n",
      "      \"confidence\": 0.09646234821419979\n",
      "    },\n",
      "    {\n",
      "      \"name\": \"affirm\",\n",
      "      \"confidence\": 0.06219961483646996\n",
      "    },\n",
      "    {\n",
      "      \"name\": \"deny\",\n",
      "      \"confidence\": 0.035063641571578326\n",
      "    },\n",
      "    {\n",
      "      \"name\": \"thanks\",\n",
      "      \"confidence\": 0.032030908296028435\n",
      "    }\n",
      "  ],\n",
      "  \"text\": \"what is happening in the cricket world these days?\"\n",
      "}\n"
     ]
    }
   ],
   "source": [
    "# A helper function for prettier output\n",
    "\n",
    "def pprint(o):   \n",
    "    print(json.dumps(o, indent=2))\n",
    "    \n",
    "pprint(interpreter.parse(\"what is happening in the cricket world these days?\"))"
   ]
  },
  {
   "cell_type": "markdown",
   "metadata": {},
   "source": [
    "Not only does our NLU model perform well on intent extraction, but it also ranks the other intents based on their confidence scores. This is a nifty little feature that can be really useful when the classifier is confused between multiple intents."
   ]
  },
  {
   "cell_type": "markdown",
   "metadata": {},
   "source": [
    "### Evaluating the NLU model on a random text (2nd way)\n",
    "Let’s test how good our model is performing by giving it a sample text that it hasn’t been trained on for extracting intent. You can open an iPython/Python shell and follow the following steps:"
   ]
  },
  {
   "cell_type": "code",
   "execution_count": 34,
   "metadata": {},
   "outputs": [
    {
     "name": "stderr",
     "output_type": "stream",
     "text": [
      "INFO:rasa.nlu.components:Added 'SpacyNLP' to component cache. Key 'SpacyNLP-en'.\n"
     ]
    },
    {
     "data": {
      "text/plain": [
       "{'intent': {'name': 'current_matches', 'confidence': 0.517677511039713},\n",
       " 'entities': [],\n",
       " 'intent_ranking': [{'name': 'current_matches',\n",
       "   'confidence': 0.517677511039713},\n",
       "  {'name': 'greet', 'confidence': 0.25656597604201004},\n",
       "  {'name': 'goodbye', 'confidence': 0.09646234821419979},\n",
       "  {'name': 'affirm', 'confidence': 0.06219961483646996},\n",
       "  {'name': 'deny', 'confidence': 0.035063641571578326},\n",
       "  {'name': 'thanks', 'confidence': 0.032030908296028435}],\n",
       " 'text': 'what is happening in the cricket world these days?'}"
      ]
     },
     "execution_count": 34,
     "metadata": {},
     "output_type": "execute_result"
    }
   ],
   "source": [
    "from rasa_nlu.model import Interpreter\n",
    "nlu_model = Interpreter.load('./models/ipl_nlu/current')\n",
    "nlu_model.parse('what is happening in the cricket world these days?')"
   ]
  },
  {
   "cell_type": "markdown",
   "metadata": {
    "colab_type": "text",
    "id": "OPlSd-As-Fz4"
   },
   "source": [
    "### Evaluating the NLU model on a test data\n",
    "(Here we are using the data at hand i.e nlu.md but it isr recommended to use unseen data)"
   ]
  },
  {
   "cell_type": "code",
   "execution_count": 35,
   "metadata": {
    "colab": {
     "base_uri": "https://localhost:8080/",
     "height": 1483
    },
    "colab_type": "code",
    "id": "FmRCylbT4jyw",
    "outputId": "fd1bfd57-ebb3-4541-d3b3-b4cbba781164"
   },
   "outputs": [
    {
     "name": "stderr",
     "output_type": "stream",
     "text": [
      "INFO:rasa.nlu.components:Added 'SpacyNLP' to component cache. Key 'SpacyNLP-en'.\n",
      "INFO:rasa_nlu.test:Running model for predictions:\n",
      "100%|█████████████████████████████████████████████████████████████████████████████████| 83/83 [00:00<00:00, 254.08it/s]\n",
      "INFO:rasa_nlu.test:Intent evaluation results:\n",
      "INFO:rasa_nlu.test:Intent Evaluation: Only considering those 83 examples that have a defined intent out of 83 examples\n",
      "INFO:rasa_nlu.test:F1-Score:  1.0\n",
      "INFO:rasa_nlu.test:Precision: 1.0\n",
      "INFO:rasa_nlu.test:Accuracy:  1.0\n",
      "INFO:rasa_nlu.test:Classification report: \n",
      "                 precision    recall  f1-score   support\n",
      "\n",
      "current_matches       1.00      1.00      1.00        15\n",
      "         thanks       1.00      1.00      1.00        15\n",
      "         affirm       1.00      1.00      1.00         9\n",
      "          greet       1.00      1.00      1.00        19\n",
      "           deny       1.00      1.00      1.00         8\n",
      "        goodbye       1.00      1.00      1.00        17\n",
      "\n",
      "      micro avg       1.00      1.00      1.00        83\n",
      "      macro avg       1.00      1.00      1.00        83\n",
      "   weighted avg       1.00      1.00      1.00        83\n",
      "\n",
      "INFO:rasa_nlu.test:Entity evaluation results:\n",
      "INFO:rasa_nlu.test:Evaluation for entity extractor: CRFEntityExtractor \n",
      "WARNING:rasa_nlu.test:No labels to evaluate. Skip evaluation.\n"
     ]
    },
    {
     "data": {
      "text/plain": [
       "{'intent_evaluation': {'predictions': [{'text': 'Bye',\n",
       "    'intent': 'goodbye',\n",
       "    'predicted': 'goodbye',\n",
       "    'confidence': 0.9678515873146009},\n",
       "   {'text': 'Goodbye',\n",
       "    'intent': 'goodbye',\n",
       "    'predicted': 'goodbye',\n",
       "    'confidence': 0.8876912614811194},\n",
       "   {'text': 'See you later',\n",
       "    'intent': 'goodbye',\n",
       "    'predicted': 'goodbye',\n",
       "    'confidence': 0.7977705943125113},\n",
       "   {'text': 'Bye bot',\n",
       "    'intent': 'goodbye',\n",
       "    'predicted': 'goodbye',\n",
       "    'confidence': 0.8186983759659981},\n",
       "   {'text': 'Goodbye friend',\n",
       "    'intent': 'goodbye',\n",
       "    'predicted': 'goodbye',\n",
       "    'confidence': 0.8325974252404662},\n",
       "   {'text': 'bye',\n",
       "    'intent': 'goodbye',\n",
       "    'predicted': 'goodbye',\n",
       "    'confidence': 0.9678515873146009},\n",
       "   {'text': 'bye for now',\n",
       "    'intent': 'goodbye',\n",
       "    'predicted': 'goodbye',\n",
       "    'confidence': 0.771397988783037},\n",
       "   {'text': 'catch you later',\n",
       "    'intent': 'goodbye',\n",
       "    'predicted': 'goodbye',\n",
       "    'confidence': 0.7673529098380265},\n",
       "   {'text': 'gotta go',\n",
       "    'intent': 'goodbye',\n",
       "    'predicted': 'goodbye',\n",
       "    'confidence': 0.8069571390418452},\n",
       "   {'text': 'See you',\n",
       "    'intent': 'goodbye',\n",
       "    'predicted': 'goodbye',\n",
       "    'confidence': 0.7544228804114048},\n",
       "   {'text': 'goodnight',\n",
       "    'intent': 'goodbye',\n",
       "    'predicted': 'goodbye',\n",
       "    'confidence': 0.8876912614811194},\n",
       "   {'text': 'have a nice day',\n",
       "    'intent': 'goodbye',\n",
       "    'predicted': 'goodbye',\n",
       "    'confidence': 0.743843645364579},\n",
       "   {'text': \"i'm off\",\n",
       "    'intent': 'goodbye',\n",
       "    'predicted': 'goodbye',\n",
       "    'confidence': 0.7795758132341553},\n",
       "   {'text': 'see you later alligator',\n",
       "    'intent': 'goodbye',\n",
       "    'predicted': 'goodbye',\n",
       "    'confidence': 0.7695150398419007},\n",
       "   {'text': \"we'll speak soon\",\n",
       "    'intent': 'goodbye',\n",
       "    'predicted': 'goodbye',\n",
       "    'confidence': 0.7616672620650776},\n",
       "   {'text': 'end',\n",
       "    'intent': 'goodbye',\n",
       "    'predicted': 'goodbye',\n",
       "    'confidence': 0.8245403985071061},\n",
       "   {'text': 'finish',\n",
       "    'intent': 'goodbye',\n",
       "    'predicted': 'goodbye',\n",
       "    'confidence': 0.8280769322302088},\n",
       "   {'text': 'Hi',\n",
       "    'intent': 'greet',\n",
       "    'predicted': 'greet',\n",
       "    'confidence': 0.9400332891434774},\n",
       "   {'text': 'Hey',\n",
       "    'intent': 'greet',\n",
       "    'predicted': 'greet',\n",
       "    'confidence': 0.7990125985474833},\n",
       "   {'text': 'Hi bot',\n",
       "    'intent': 'greet',\n",
       "    'predicted': 'greet',\n",
       "    'confidence': 0.7965478077568655},\n",
       "   {'text': 'Hey bot',\n",
       "    'intent': 'greet',\n",
       "    'predicted': 'greet',\n",
       "    'confidence': 0.7018709616426972},\n",
       "   {'text': 'Hello',\n",
       "    'intent': 'greet',\n",
       "    'predicted': 'greet',\n",
       "    'confidence': 0.8828663577009829},\n",
       "   {'text': 'Good morning',\n",
       "    'intent': 'greet',\n",
       "    'predicted': 'greet',\n",
       "    'confidence': 0.715473808919017},\n",
       "   {'text': 'hi again',\n",
       "    'intent': 'greet',\n",
       "    'predicted': 'greet',\n",
       "    'confidence': 0.7253622250364307},\n",
       "   {'text': 'hi folks',\n",
       "    'intent': 'greet',\n",
       "    'predicted': 'greet',\n",
       "    'confidence': 0.7891127091643872},\n",
       "   {'text': 'hi Mister',\n",
       "    'intent': 'greet',\n",
       "    'predicted': 'greet',\n",
       "    'confidence': 0.8774996085588183},\n",
       "   {'text': 'hi pal!',\n",
       "    'intent': 'greet',\n",
       "    'predicted': 'greet',\n",
       "    'confidence': 0.7653927243833384},\n",
       "   {'text': 'hi there',\n",
       "    'intent': 'greet',\n",
       "    'predicted': 'greet',\n",
       "    'confidence': 0.78818412816001},\n",
       "   {'text': 'greetings',\n",
       "    'intent': 'greet',\n",
       "    'predicted': 'greet',\n",
       "    'confidence': 0.7685250006470561},\n",
       "   {'text': 'hello everybody',\n",
       "    'intent': 'greet',\n",
       "    'predicted': 'greet',\n",
       "    'confidence': 0.8215638365517857},\n",
       "   {'text': 'hello is anybody there',\n",
       "    'intent': 'greet',\n",
       "    'predicted': 'greet',\n",
       "    'confidence': 0.6620277352025528},\n",
       "   {'text': 'hello robot',\n",
       "    'intent': 'greet',\n",
       "    'predicted': 'greet',\n",
       "    'confidence': 0.7740643704271732},\n",
       "   {'text': 'who are you?',\n",
       "    'intent': 'greet',\n",
       "    'predicted': 'greet',\n",
       "    'confidence': 0.6754783285006709},\n",
       "   {'text': 'what are you?',\n",
       "    'intent': 'greet',\n",
       "    'predicted': 'greet',\n",
       "    'confidence': 0.6902433710843614},\n",
       "   {'text': \"what's up\",\n",
       "    'intent': 'greet',\n",
       "    'predicted': 'greet',\n",
       "    'confidence': 0.6711329308729076},\n",
       "   {'text': 'how do you do?',\n",
       "    'intent': 'greet',\n",
       "    'predicted': 'greet',\n",
       "    'confidence': 0.6862242642161233},\n",
       "   {'text': 'Thanks',\n",
       "    'intent': 'thanks',\n",
       "    'predicted': 'thanks',\n",
       "    'confidence': 0.9977735536179467},\n",
       "   {'text': 'Thank you',\n",
       "    'intent': 'thanks',\n",
       "    'predicted': 'thanks',\n",
       "    'confidence': 0.8743249354433857},\n",
       "   {'text': 'Thank you so much',\n",
       "    'intent': 'thanks',\n",
       "    'predicted': 'thanks',\n",
       "    'confidence': 0.6937250670617817},\n",
       "   {'text': 'Thanks bot',\n",
       "    'intent': 'thanks',\n",
       "    'predicted': 'thanks',\n",
       "    'confidence': 0.7929341392458352},\n",
       "   {'text': 'Thanks for that',\n",
       "    'intent': 'thanks',\n",
       "    'predicted': 'thanks',\n",
       "    'confidence': 0.7326614392123779},\n",
       "   {'text': 'cheers',\n",
       "    'intent': 'thanks',\n",
       "    'predicted': 'thanks',\n",
       "    'confidence': 0.9383254509592195},\n",
       "   {'text': 'cheers bro',\n",
       "    'intent': 'thanks',\n",
       "    'predicted': 'thanks',\n",
       "    'confidence': 0.832749525392069},\n",
       "   {'text': 'ok thanks!',\n",
       "    'intent': 'thanks',\n",
       "    'predicted': 'thanks',\n",
       "    'confidence': 0.7830964340722082},\n",
       "   {'text': 'perfect thank you',\n",
       "    'intent': 'thanks',\n",
       "    'predicted': 'thanks',\n",
       "    'confidence': 0.7305879229473129},\n",
       "   {'text': 'thanks a bunch for everything',\n",
       "    'intent': 'thanks',\n",
       "    'predicted': 'thanks',\n",
       "    'confidence': 0.6862168447560033},\n",
       "   {'text': 'thanks for the help',\n",
       "    'intent': 'thanks',\n",
       "    'predicted': 'thanks',\n",
       "    'confidence': 0.6994520921587863},\n",
       "   {'text': 'thanks a lot',\n",
       "    'intent': 'thanks',\n",
       "    'predicted': 'thanks',\n",
       "    'confidence': 0.7839972891079838},\n",
       "   {'text': 'amazing, thanks',\n",
       "    'intent': 'thanks',\n",
       "    'predicted': 'thanks',\n",
       "    'confidence': 0.8539394350296966},\n",
       "   {'text': 'cool, thanks',\n",
       "    'intent': 'thanks',\n",
       "    'predicted': 'thanks',\n",
       "    'confidence': 0.7759723449165119},\n",
       "   {'text': 'cool thank you',\n",
       "    'intent': 'thanks',\n",
       "    'predicted': 'thanks',\n",
       "    'confidence': 0.7984247936506577},\n",
       "   {'text': 'y',\n",
       "    'intent': 'affirm',\n",
       "    'predicted': 'affirm',\n",
       "    'confidence': 0.5755106717559846},\n",
       "   {'text': 'Y',\n",
       "    'intent': 'affirm',\n",
       "    'predicted': 'affirm',\n",
       "    'confidence': 0.5755106717559846},\n",
       "   {'text': 'yes',\n",
       "    'intent': 'affirm',\n",
       "    'predicted': 'affirm',\n",
       "    'confidence': 0.6388383775421675},\n",
       "   {'text': 'yes sure',\n",
       "    'intent': 'affirm',\n",
       "    'predicted': 'affirm',\n",
       "    'confidence': 0.5674290840712146},\n",
       "   {'text': 'absolutely',\n",
       "    'intent': 'affirm',\n",
       "    'predicted': 'affirm',\n",
       "    'confidence': 0.5790077366885462},\n",
       "   {'text': 'for sure',\n",
       "    'intent': 'affirm',\n",
       "    'predicted': 'affirm',\n",
       "    'confidence': 0.5651893674201904},\n",
       "   {'text': 'yes yes yes',\n",
       "    'intent': 'affirm',\n",
       "    'predicted': 'affirm',\n",
       "    'confidence': 0.6388383771460828},\n",
       "   {'text': 'definitely',\n",
       "    'intent': 'affirm',\n",
       "    'predicted': 'affirm',\n",
       "    'confidence': 0.5458799724035501},\n",
       "   {'text': 'yes, it did.',\n",
       "    'intent': 'affirm',\n",
       "    'predicted': 'affirm',\n",
       "    'confidence': 0.5610433606786708},\n",
       "   {'text': 'what are the current matches',\n",
       "    'intent': 'current_matches',\n",
       "    'predicted': 'current_matches',\n",
       "    'confidence': 0.7431659154917045},\n",
       "   {'text': 'can you list the matches in ipl 2019',\n",
       "    'intent': 'current_matches',\n",
       "    'predicted': 'current_matches',\n",
       "    'confidence': 0.8260952519857585},\n",
       "   {'text': 'which cricket match is happening right now',\n",
       "    'intent': 'current_matches',\n",
       "    'predicted': 'current_matches',\n",
       "    'confidence': 0.7568544043024006},\n",
       "   {'text': 'which ipl match is next',\n",
       "    'intent': 'current_matches',\n",
       "    'predicted': 'current_matches',\n",
       "    'confidence': 0.9455334122256446},\n",
       "   {'text': 'which teams are playing next in ipl',\n",
       "    'intent': 'current_matches',\n",
       "    'predicted': 'current_matches',\n",
       "    'confidence': 0.8182811884739958},\n",
       "   {'text': 'which team will play next in ipl',\n",
       "    'intent': 'current_matches',\n",
       "    'predicted': 'current_matches',\n",
       "    'confidence': 0.8609240554341031},\n",
       "   {'text': 'tell me some ipl news',\n",
       "    'intent': 'current_matches',\n",
       "    'predicted': 'current_matches',\n",
       "    'confidence': 0.7344813433758226},\n",
       "   {'text': 'i want ipl updates',\n",
       "    'intent': 'current_matches',\n",
       "    'predicted': 'current_matches',\n",
       "    'confidence': 0.7857473457291245},\n",
       "   {'text': 'can you give me ipl latest updates',\n",
       "    'intent': 'current_matches',\n",
       "    'predicted': 'current_matches',\n",
       "    'confidence': 0.7152554112808631},\n",
       "   {'text': 'what are the latest match updates',\n",
       "    'intent': 'current_matches',\n",
       "    'predicted': 'current_matches',\n",
       "    'confidence': 0.8004694844134569},\n",
       "   {'text': 'who won the last ipl match',\n",
       "    'intent': 'current_matches',\n",
       "    'predicted': 'current_matches',\n",
       "    'confidence': 0.9259890347575737},\n",
       "   {'text': 'which teams are competing in the next match',\n",
       "    'intent': 'current_matches',\n",
       "    'predicted': 'current_matches',\n",
       "    'confidence': 0.7369567184896748},\n",
       "   {'text': 'how is ipl going',\n",
       "    'intent': 'current_matches',\n",
       "    'predicted': 'current_matches',\n",
       "    'confidence': 0.7598539248753707},\n",
       "   {'text': 'what was the result of the last match',\n",
       "    'intent': 'current_matches',\n",
       "    'predicted': 'current_matches',\n",
       "    'confidence': 0.7033911231747516},\n",
       "   {'text': 'when is the next match',\n",
       "    'intent': 'current_matches',\n",
       "    'predicted': 'current_matches',\n",
       "    'confidence': 0.7244056865399302},\n",
       "   {'text': 'no',\n",
       "    'intent': 'deny',\n",
       "    'predicted': 'deny',\n",
       "    'confidence': 0.8001570700414091},\n",
       "   {'text': 'never',\n",
       "    'intent': 'deny',\n",
       "    'predicted': 'deny',\n",
       "    'confidence': 0.6722547819801016},\n",
       "   {'text': \"I don't think so\",\n",
       "    'intent': 'deny',\n",
       "    'predicted': 'deny',\n",
       "    'confidence': 0.5857970083369212},\n",
       "   {'text': \"don't like that\",\n",
       "    'intent': 'deny',\n",
       "    'predicted': 'deny',\n",
       "    'confidence': 0.5832386482860794},\n",
       "   {'text': 'no way',\n",
       "    'intent': 'deny',\n",
       "    'predicted': 'deny',\n",
       "    'confidence': 0.5809598731927255},\n",
       "   {'text': 'not really',\n",
       "    'intent': 'deny',\n",
       "    'predicted': 'deny',\n",
       "    'confidence': 0.6274083850274297},\n",
       "   {'text': 'n',\n",
       "    'intent': 'deny',\n",
       "    'predicted': 'deny',\n",
       "    'confidence': 0.5820461773991311},\n",
       "   {'text': 'N',\n",
       "    'intent': 'deny',\n",
       "    'predicted': 'deny',\n",
       "    'confidence': 0.5820461773991311}],\n",
       "  'report': '                 precision    recall  f1-score   support\\n\\ncurrent_matches       1.00      1.00      1.00        15\\n         thanks       1.00      1.00      1.00        15\\n         affirm       1.00      1.00      1.00         9\\n          greet       1.00      1.00      1.00        19\\n           deny       1.00      1.00      1.00         8\\n        goodbye       1.00      1.00      1.00        17\\n\\n      micro avg       1.00      1.00      1.00        83\\n      macro avg       1.00      1.00      1.00        83\\n   weighted avg       1.00      1.00      1.00        83\\n',\n",
       "  'precision': 1.0,\n",
       "  'f1_score': 1.0,\n",
       "  'accuracy': 1.0},\n",
       " 'entity_evaluation': {'CRFEntityExtractor': {'report': {},\n",
       "   'precision': 0.0,\n",
       "   'f1_score': 0.0,\n",
       "   'accuracy': 0.0}},\n",
       " 'response_selection_evaluation': None}"
      ]
     },
     "execution_count": 35,
     "metadata": {},
     "output_type": "execute_result"
    }
   ],
   "source": [
    "from rasa_nlu.test  import run_evaluation\n",
    "\n",
    "run_evaluation(\"data/ipl_nlu_data.md\", model_directory)"
   ]
  },
  {
   "cell_type": "markdown",
   "metadata": {
    "colab_type": "text",
    "id": "Av3R2GZZ-WJO"
   },
   "source": [
    "## Rasa Core: Making Interactive Conversations\n",
    "\n",
    "One of the most important aspects of a chatbot application is its ability to be interactive. \n",
    "\n",
    "### Designing the conversational flow\n",
    "\n",
    "Think of the simplest conversation our chatbot can have with a user. What would be the flow of such a conversation?\n",
    "\n",
    "---\n",
    "Me: Hi\n",
    "\n",
    "Iplbot: Hey! How may I help you?\n",
    "\n",
    "Me: What was the result of the last match?\n",
    "\n",
    "Iplbot: Here are some IPL quick info:\n",
    "1.The match between Rajasthan Royals and Delhi Capitals was recently held and Delhi Capitals won.\n",
    "2.The next match is Warriors vs Titans on 22 April 2019\n",
    "\n",
    "Iplbot: Did that help you?\n",
    "\n",
    "Me: yes, thank you!\n",
    "\n",
    "Iplbot: Glad that I could help!\n",
    "\n",
    "---\n",
    "Let’s see how we can teach a simple conversation like that to Rasa:\n"
   ]
  },
  {
   "cell_type": "raw",
   "metadata": {},
   "source": [
    "## news path 1\n",
    "* greet\n",
    "  - utter_greet\n",
    "* current_matches\n",
    "  - action_match_news\n",
    "  - utter_did_that_help\n",
    "* affirm or thanks\n",
    "  - utter_gratitude\n",
    "* goodbye\n",
    "  - utter_goodbye"
   ]
  },
  {
   "cell_type": "markdown",
   "metadata": {},
   "source": [
    "The general format is:"
   ]
  },
  {
   "cell_type": "raw",
   "metadata": {},
   "source": [
    "## news path 1           <--- story name for debugging purposes\n",
    "* greet                  <--- intent detected from the user\n",
    "  - utter_greet          <--- what action the bot should take\n",
    "* current_matches        <--- the following intent in the conversation"
   ]
  },
  {
   "cell_type": "markdown",
   "metadata": {},
   "source": [
    "This is called a user story path. I have provided a few stories in the data/stories.md file for your reference. This is the training data for Rasa Core."
   ]
  },
  {
   "cell_type": "markdown",
   "metadata": {
    "colab_type": "text",
    "id": "BKZ63AuS-ZPV"
   },
   "source": [
    "### Writing  Stories\n",
    "\n",
    "The way it works is:\n",
    "\n",
    "- Give some examples of sample story paths that the user is expected to follow\n",
    "- Rasa Core combines them randomly to create more complex user paths\n",
    "- It then builds a probabilistic model out of that. This model is used to predict the next action Rasa should take\n",
    "\n",
    "<img src=\"images/conversation_flow.png\">\n",
    "\n",
    "The above illustration might look complicated, but it’s simply listing out various possible user stories that I have taught Rasa. Here are a few things to note from the above graph:\n",
    "\n",
    "- Except for the START and END boxes, all the colored boxes indicate user intent\n",
    "- All the white boxes are actions that the chatbot performs\n",
    "- Arrows indicate the flow of the conversation\n",
    "- action_match_news is where we hit the CricAPI to get IPL information"
   ]
  },
  {
   "cell_type": "code",
   "execution_count": 36,
   "metadata": {
    "colab": {
     "base_uri": "https://localhost:8080/",
     "height": 34
    },
    "colab_type": "code",
    "id": "W3q1XJ5O4orY",
    "outputId": "a82511c7-b7e5-462c-c5c2-35df3cabd39a"
   },
   "outputs": [
    {
     "name": "stdout",
     "output_type": "stream",
     "text": [
      "Writing 'stories_md' (str) to file 'data/ipl_stories.md'.\n"
     ]
    }
   ],
   "source": [
    "stories_md = \"\"\"\n",
    "## news path 1\n",
    "* greet\n",
    "  - utter_greet\n",
    "* current_matches\n",
    "  - action_match_news\n",
    "  - utter_did_that_help\n",
    "* affirm or thanks\n",
    "  - utter_gratitude\n",
    "* goodbye\n",
    "  - utter_goodbye\n",
    "\n",
    "## news path 2\n",
    "* current_matches\n",
    "  - action_match_news\n",
    "  - utter_did_that_help\n",
    "* affirm or thanks\n",
    "  - utter_gratitude\n",
    "* goodbye\n",
    "  - utter_goodbye\n",
    "\n",
    "## news path 3\n",
    "* greet\n",
    "  - utter_greet\n",
    "* current_matches\n",
    "  - action_match_news\n",
    "  - utter_did_that_help\n",
    "* deny\n",
    "  - utter_ask_again\n",
    "* current_matches\n",
    "  - action_match_news\n",
    "  - utter_did_that_help\n",
    "* affirm or thanks\n",
    "  - utter_gratitude\n",
    "* goodbye\n",
    "  - utter_goodbye\n",
    "\n",
    "## greet path\n",
    "* greet\n",
    "  - utter_greet\n",
    "\n",
    "## goodbye path\n",
    "* goodbye\n",
    "  - utter_goodbye\n",
    "\"\"\"\n",
    "\n",
    "%store stories_md > data/ipl_stories.md"
   ]
  },
  {
   "cell_type": "markdown",
   "metadata": {},
   "source": [
    "Now, generate a similar graph for your stories using the following command:\n",
    "\n",
    "**python -m rasa_core.visualize -d domain.yml -s data/ipl_stories.md -o graph.html**\n",
    "\n",
    "This is very helpful when debugging the conversational flow of the chatbot."
   ]
  },
  {
   "cell_type": "markdown",
   "metadata": {
    "colab_type": "text",
    "id": "LnD9v_CX-ePm"
   },
   "source": [
    "### Defining the Domain\n",
    "\n",
    "The domain is the world of your chatbot. It contains everything the chatbot should know, including:\n",
    "\n",
    "- All the actions it is capable of doing\n",
    "- The intents it should understand\n",
    "- The template of all the utterances it should tell the user, and much more"
   ]
  },
  {
   "cell_type": "code",
   "execution_count": 37,
   "metadata": {
    "colab": {
     "base_uri": "https://localhost:8080/",
     "height": 34
    },
    "colab_type": "code",
    "id": "3SzQq1oy5U9T",
    "outputId": "4fde8c0d-9672-457c-cacc-0e86d3ca5c80"
   },
   "outputs": [
    {
     "name": "stdout",
     "output_type": "stream",
     "text": [
      "Writing 'domain_yml' (str) to file 'config/ipl_domain.yml'.\n"
     ]
    }
   ],
   "source": [
    "domain_yml = \"\"\"\n",
    "actions:\n",
    "- utter_greet\n",
    "- utter_did_that_help\n",
    "- utter_goodbye\n",
    "- action_match_news\n",
    "- utter_default\n",
    "- utter_gratitude\n",
    "- utter_ask_again\n",
    "\n",
    "intents:\n",
    "- goodbye\n",
    "- greet\n",
    "- thanks\n",
    "- current_matches\n",
    "- affirm\n",
    "- deny\n",
    "\n",
    "templates:\n",
    "  utter_greet:\n",
    "  - text: \"Hey! What can I do for you?\"\n",
    "  utter_did_that_help:\n",
    "  - text: \"Did that help you?\"\n",
    "  - text: \"I hope that solved your query\"\n",
    "  utter_goodbye:\n",
    "  - text: \"Bye\"\n",
    "  utter_default:\n",
    "  - text: \"I am sorry, I didn't get that. Could you please repeat your query?\"\n",
    "  - text: \"I am not sure what you are aiming for.\"\n",
    "  utter_gratitude:\n",
    "  - text: \"Glad that I could be of help to you!\\nBye\"\n",
    "  utter_ask_again:\n",
    "  - text: \"Okay! Let's start again, please tell me what do you need?\"\n",
    "  - text: \"No issues! Let's try this again.\\n Please repeat your query?\"\n",
    "\"\"\"\n",
    "\n",
    "%store domain_yml > config/ipl_domain.yml"
   ]
  },
  {
   "cell_type": "markdown",
   "metadata": {},
   "source": [
    "### Setting Policies\n",
    "\n",
    "Rasa Core generates the training data for the conversational part using the stories we provide. It also lets you define a set of policies to use when deciding the next action of the chatbot. These policies are defined in the policies.yml file."
   ]
  },
  {
   "cell_type": "code",
   "execution_count": 38,
   "metadata": {},
   "outputs": [
    {
     "name": "stdout",
     "output_type": "stream",
     "text": [
      "Writing 'policies_yml' (str) to file 'config/ipl_policies.yml'.\n"
     ]
    }
   ],
   "source": [
    "policies_yml = \"\"\"\n",
    "policies:\n",
    "  - name: KerasPolicy\n",
    "    epochs: 100\n",
    "    max_history: 5\n",
    "  - name: FallbackPolicy\n",
    "    fallback_action_name: 'action_default_fallback'\n",
    "  - name: MemoizationPolicy\n",
    "    max_history: 5\n",
    "\"\"\"\n",
    "\n",
    "%store policies_yml > config/ipl_policies.yml"
   ]
  },
  {
   "cell_type": "markdown",
   "metadata": {},
   "source": [
    "Notes:\n",
    "- KerasPolicy uses a neural network implemented in Keras to select the next action. The default architecture is based on an LSTM (Long Short Term Memory) model\n",
    "- MemoizationPolicy memorizes the conversations in your training data. It predicts the next action with confidence 1.0 if this exact conversation exists in the training data, otherwise, it predicts ‘None’ with confidence 0.0\n",
    "- FallbackPolicy invokes a fallback action if the intent recognition has confidence below nlu_threshold or if none of the dialogue policies predict action with confidence higher than core_threshold\n",
    "- One important hyperparameter for Rasa Core policies is the max_history. This controls how much dialogue history the model looks at to decide which action to take next"
   ]
  },
  {
   "cell_type": "markdown",
   "metadata": {
    "colab_type": "text",
    "id": "ROL3AYs5-iCg"
   },
   "source": [
    "###  Custom Actions\n",
    "\n",
    "Using CricAPI for fetching IPL related news. It is free for 100 requests per day, which (I hope) is more than enough to satiate that cricket crazy passion you have.\n",
    "\n",
    "You need to first signup on the website to get access to their API:\n",
    "https://www.cricapi.com/\n",
    "\n",
    "You should be able to see your API Key once you are logged in:\n",
    "\n",
    "<img src=\"images/lala-1140x399.png\">\n",
    "\n",
    "Modifications to original code:\n",
    "\n",
    "- Instead of showing API key here it has been stored in ENV variable and fetched here\n",
    "- Key \"toss_winner_team\" was subsituted into depreceated key"
   ]
  },
  {
   "cell_type": "code",
   "execution_count": 39,
   "metadata": {
    "colab": {},
    "colab_type": "code",
    "id": "7SbmLMJa5X0E"
   },
   "outputs": [
    {
     "name": "stdout",
     "output_type": "stream",
     "text": [
      "Writing 'actions_py' (str) to file 'ipl_actions.py'.\n"
     ]
    }
   ],
   "source": [
    "actions_py=\"\"\"\n",
    "# -*- coding: utf-8 -*-\n",
    "from __future__ import absolute_import\n",
    "from __future__ import division\n",
    "from __future__ import print_function\n",
    "from __future__ import unicode_literals\n",
    "from datetime import datetime\n",
    "\n",
    "import logging\n",
    "import requests\n",
    "import json\n",
    "import os\n",
    "from rasa_sdk import Action\n",
    "\n",
    "logger = logging.getLogger(__name__)\n",
    "\n",
    "API_URL = \"https://cricapi.com/api/\"\n",
    "API_KEY = os.environ.get('CRICINFOAPI')\n",
    "\n",
    "class ApiAction(Action):\n",
    "    def name(self):\n",
    "        return \"action_match_news\"\n",
    "\n",
    "    def run(self, dispatcher, tracker, domain):\n",
    "        print(API_URL + \"matches\" + \"?apikey=\" + API_KEY)\n",
    "        res = requests.get(API_URL + \"matches\" + \"?apikey=\" + API_KEY) #, verify=False\n",
    "        if res.status_code == 200:\n",
    "            data = res.json()[\"matches\"]\n",
    "            recent_match = data[0]\n",
    "            upcoming_match = data[1]\n",
    "            upcoming_match[\"date\"] = datetime.strptime(upcoming_match[\"date\"], \"%Y-%m-%dT%H:%M:%S.%fZ\")\n",
    "            next_date = upcoming_match[\"date\"].strftime(\"%d %B %Y\")\n",
    "\n",
    "            out_message = \"Here some IPL quick info: 1.The match between {} and {} was recently held and {} won the toss.\".format(recent_match[\"team-1\"], recent_match[\"team-2\"], recent_match[\"toss_winner_team\"])\n",
    "\n",
    "            dispatcher.utter_message(out_message)\n",
    "\n",
    "            out_message = \"2.The next match is {} vs {} on {}\".format(upcoming_match[\"team-1\"], upcoming_match[\"team-2\"], next_date)\n",
    "\n",
    "            dispatcher.utter_message(out_message)\n",
    "\n",
    "            return []\n",
    "\"\"\"\n",
    "%store actions_py > ipl_actions.py"
   ]
  },
  {
   "cell_type": "markdown",
   "metadata": {},
   "source": [
    "Need endpoints yml to execute the actions server.\n",
    "\n",
    "Note: If you have external API call, like REST, need to have \"webhook\" word at the end, else nothing.\n",
    "\n",
    "My own query on this topic: https://forum.rasa.com/t/rasa-core-sdk-not-working/9228"
   ]
  },
  {
   "cell_type": "code",
   "execution_count": 40,
   "metadata": {},
   "outputs": [
    {
     "name": "stdout",
     "output_type": "stream",
     "text": [
      "Writing 'endpoints_yml' (str) to file 'endpoints.yml'.\n"
     ]
    }
   ],
   "source": [
    "endpoints_yml = \"\"\"\n",
    "#action_endpoint:\n",
    "#  url: \"http://localhost:5055/webhook\"\n",
    "  \n",
    "action_endpoint:\n",
    "  url: http://localhost:5055/webhook\n",
    "\n",
    "#nlg:\n",
    "#  url: http://localhost:5056/nlg\n",
    "\n",
    "core_endpoint:\n",
    "  url: http://localhost:5005\n",
    "\"\"\"\n",
    "%store endpoints_yml > endpoints.yml"
   ]
  },
  {
   "cell_type": "markdown",
   "metadata": {},
   "source": [
    "In a separate shell (cmd for Windows):\n",
    "- **activate rasa**\n",
    "- come to directory where actions.py is and then run\n",
    "- **python -m rasa_sdk.endpoint --actions ipl_actions**\n",
    "\n",
    "This way, custom action server starts ..."
   ]
  },
  {
   "cell_type": "code",
   "execution_count": 41,
   "metadata": {},
   "outputs": [],
   "source": [
    "# import sys\n",
    "# python = sys.executable\n",
    "# !{python} -m rasa_core_sdk.endpoint --actions actions"
   ]
  },
  {
   "cell_type": "markdown",
   "metadata": {
    "colab_type": "text",
    "id": "M-jn1g_k-o-m"
   },
   "source": [
    "###  Visualising the Training Data"
   ]
  },
  {
   "cell_type": "raw",
   "metadata": {
    "colab": {
     "base_uri": "https://localhost:8080/",
     "height": 1090
    },
    "colab_type": "code",
    "id": "O1gYRXe15amU",
    "outputId": "9c0838e3-56c1-4eeb-a879-cc09619269d3"
   },
   "source": [
    "\n",
    "from IPython.display import Image, display\n",
    "from rasa_core.agent import Agent\n",
    "%matplotlib inline\n",
    "\n",
    "agent = Agent('config/ipl_domain.yml')\n",
    "agent.visualize(\"data/ipl_stories.md\", \"ipl_story_graph.png\", max_history=2)\n",
    "i = Image(filename=\"ipl_story_graph.png\")\n",
    "display(i)"
   ]
  },
  {
   "cell_type": "markdown",
   "metadata": {
    "colab_type": "text",
    "id": "pCdKD3l7-ua8"
   },
   "source": [
    "### Training a Dialogue Model\n",
    "\n",
    "You can train the model using the following command:\n",
    "\n",
    "**python -m rasa_core.train -d ipl_domain.yml -s data/ipl_stories.md -o models/current/dialogue -c ipl_policies.yml**\n",
    "\n",
    "Or do it programmatically as:"
   ]
  },
  {
   "cell_type": "code",
   "execution_count": null,
   "metadata": {
    "colab": {
     "base_uri": "https://localhost:8080/",
     "height": 7364
    },
    "colab_type": "code",
    "id": "4D7R-FRO5dxz",
    "outputId": "727adf2a-fa4b-4158-df94-30ad472f62f3"
   },
   "outputs": [
    {
     "name": "stderr",
     "output_type": "stream",
     "text": [
      "WARNING:rasa.core.training.dsl:Found unknown intent 'affirm or thanks' on line 8. Please, make sure that all intents are listed in your domain yaml.\n",
      "WARNING:rasa.core.training.dsl:Found unknown intent 'affirm or thanks' on line 17. Please, make sure that all intents are listed in your domain yaml.\n",
      "WARNING:rasa.core.training.dsl:Found unknown intent 'affirm or thanks' on line 33. Please, make sure that all intents are listed in your domain yaml.\n",
      "Processed Story Blocks: 100%|█████████████████████████████████████████████| 5/5 [00:00<00:00, 716.14it/s, # trackers=1]\n",
      "Processed Story Blocks: 100%|█████████████████████████████████████████████| 5/5 [00:00<00:00, 501.28it/s, # trackers=3]\n",
      "Processed Story Blocks: 100%|█████████████████████████████████████████████| 5/5 [00:00<00:00, 417.81it/s, # trackers=9]\n",
      "Processed Story Blocks: 100%|████████████████████████████████████████████| 5/5 [00:00<00:00, 264.19it/s, # trackers=16]\n",
      "Processed trackers: 100%|█████████████████████████████████████████████████| 5/5 [00:00<00:00, 116.59it/s, # actions=15]\n",
      "Processed actions: 15it [00:00, 940.06it/s, # examples=15]\n",
      "Processed trackers: 100%|██████████████████████████████████████████████| 121/121 [00:01<00:00, 65.47it/s, # actions=64]\n"
     ]
    },
    {
     "name": "stdout",
     "output_type": "stream",
     "text": [
      "Model: \"sequential\"\n",
      "_________________________________________________________________\n",
      "Layer (type)                 Output Shape              Param #   \n",
      "=================================================================\n",
      "masking (Masking)            (None, 5, 21)             0         \n",
      "_________________________________________________________________\n",
      "lstm (LSTM)                  (None, 32)                6912      \n",
      "_________________________________________________________________\n",
      "dense (Dense)                (None, 15)                495       \n",
      "_________________________________________________________________\n",
      "activation (Activation)      (None, 15)                0         \n",
      "=================================================================\n",
      "Total params: 7,407\n",
      "Trainable params: 7,407\n",
      "Non-trainable params: 0\n",
      "_________________________________________________________________\n"
     ]
    },
    {
     "name": "stderr",
     "output_type": "stream",
     "text": [
      "INFO:rasa.core.policies.keras_policy:Fitting model with 64 total samples and a validation split of 0.2\n"
     ]
    },
    {
     "name": "stdout",
     "output_type": "stream",
     "text": [
      "Epoch 1/200\n",
      "64/64 [==============================] - ETA: 0s - loss: 2.6763 - acc: 0.156 - 0s 7ms/sample - loss: 2.6860 - acc: 0.0781\n",
      "Epoch 2/200\n",
      "64/64 [==============================] - ETA: 0s - loss: 2.6435 - acc: 0.187 - 0s 249us/sample - loss: 2.6514 - acc: 0.1250\n",
      "Epoch 3/200\n",
      "64/64 [==============================] - ETA: 0s - loss: 2.6181 - acc: 0.218 - 0s 187us/sample - loss: 2.6200 - acc: 0.1250\n",
      "Epoch 4/200\n",
      "64/64 [==============================] - ETA: 0s - loss: 2.6004 - acc: 0.250 - 0s 234us/sample - loss: 2.5994 - acc: 0.1406\n",
      "Epoch 5/200\n",
      "64/64 [==============================] - ETA: 0s - loss: 2.5575 - acc: 0.281 - 0s 265us/sample - loss: 2.5659 - acc: 0.1875\n",
      "Epoch 6/200\n",
      "64/64 [==============================] - ETA: 0s - loss: 2.5363 - acc: 0.125 - 0s 249us/sample - loss: 2.5397 - acc: 0.1719\n",
      "Epoch 7/200\n",
      "64/64 [==============================] - ETA: 0s - loss: 2.5168 - acc: 0.312 - 0s 249us/sample - loss: 2.5160 - acc: 0.2500\n",
      "Epoch 8/200\n",
      "64/64 [==============================] - ETA: 0s - loss: 2.4714 - acc: 0.343 - 0s 249us/sample - loss: 2.4815 - acc: 0.3281\n",
      "Epoch 9/200\n",
      "64/64 [==============================] - ETA: 0s - loss: 2.4700 - acc: 0.250 - 0s 300us/sample - loss: 2.4600 - acc: 0.2812\n",
      "Epoch 10/200\n",
      "64/64 [==============================] - ETA: 0s - loss: 2.4338 - acc: 0.218 - 0s 234us/sample - loss: 2.4334 - acc: 0.3125\n",
      "Epoch 11/200\n",
      "64/64 [==============================] - ETA: 0s - loss: 2.4207 - acc: 0.281 - 0s 218us/sample - loss: 2.4084 - acc: 0.3438\n",
      "Epoch 12/200\n",
      "64/64 [==============================] - ETA: 0s - loss: 2.4032 - acc: 0.281 - 0s 187us/sample - loss: 2.3766 - acc: 0.3281\n",
      "Epoch 13/200\n",
      "64/64 [==============================] - ETA: 0s - loss: 2.3525 - acc: 0.312 - 0s 218us/sample - loss: 2.3268 - acc: 0.3750\n",
      "Epoch 14/200\n",
      "64/64 [==============================] - ETA: 0s - loss: 2.3034 - acc: 0.281 - 0s 234us/sample - loss: 2.2842 - acc: 0.3750\n",
      "Epoch 15/200\n",
      "64/64 [==============================] - ETA: 0s - loss: 2.2551 - acc: 0.312 - 0s 218us/sample - loss: 2.2533 - acc: 0.3594\n",
      "Epoch 16/200\n",
      "64/64 [==============================] - ETA: 0s - loss: 2.2396 - acc: 0.343 - 0s 203us/sample - loss: 2.2221 - acc: 0.3906\n",
      "Epoch 17/200\n",
      "64/64 [==============================] - ETA: 0s - loss: 2.2373 - acc: 0.343 - 0s 218us/sample - loss: 2.2091 - acc: 0.3906\n",
      "Epoch 18/200\n",
      "64/64 [==============================] - ETA: 0s - loss: 2.1650 - acc: 0.343 - 0s 234us/sample - loss: 2.1473 - acc: 0.3906\n",
      "Epoch 19/200\n",
      "64/64 [==============================] - ETA: 0s - loss: 2.1458 - acc: 0.343 - 0s 203us/sample - loss: 2.1191 - acc: 0.3906\n",
      "Epoch 20/200\n",
      "64/64 [==============================] - ETA: 0s - loss: 2.0918 - acc: 0.343 - 0s 234us/sample - loss: 2.0865 - acc: 0.3906\n",
      "Epoch 21/200\n",
      "64/64 [==============================] - ETA: 0s - loss: 2.0851 - acc: 0.343 - 0s 218us/sample - loss: 2.0386 - acc: 0.4062\n",
      "Epoch 22/200\n",
      "64/64 [==============================] - ETA: 0s - loss: 2.0307 - acc: 0.343 - 0s 218us/sample - loss: 2.0087 - acc: 0.4062\n",
      "Epoch 23/200\n",
      "64/64 [==============================] - ETA: 0s - loss: 2.0275 - acc: 0.343 - 0s 218us/sample - loss: 1.9905 - acc: 0.3906\n",
      "Epoch 24/200\n",
      "64/64 [==============================] - ETA: 0s - loss: 2.0128 - acc: 0.343 - 0s 218us/sample - loss: 1.9574 - acc: 0.3906\n",
      "Epoch 25/200\n",
      "64/64 [==============================] - ETA: 0s - loss: 1.9442 - acc: 0.343 - 0s 187us/sample - loss: 1.9170 - acc: 0.3750\n",
      "Epoch 26/200\n",
      "64/64 [==============================] - ETA: 0s - loss: 1.9724 - acc: 0.343 - 0s 218us/sample - loss: 1.9066 - acc: 0.3750\n",
      "Epoch 27/200\n",
      "64/64 [==============================] - ETA: 0s - loss: 1.9355 - acc: 0.343 - 0s 218us/sample - loss: 1.8698 - acc: 0.3906\n",
      "Epoch 28/200\n",
      "64/64 [==============================] - ETA: 0s - loss: 1.9162 - acc: 0.343 - 0s 218us/sample - loss: 1.8679 - acc: 0.3906\n",
      "Epoch 29/200\n",
      "64/64 [==============================] - ETA: 0s - loss: 1.9062 - acc: 0.343 - 0s 218us/sample - loss: 1.8521 - acc: 0.3750\n",
      "Epoch 30/200\n",
      "64/64 [==============================] - ETA: 0s - loss: 1.8678 - acc: 0.343 - 0s 249us/sample - loss: 1.8235 - acc: 0.3906\n",
      "Epoch 31/200\n",
      "64/64 [==============================] - ETA: 0s - loss: 1.8675 - acc: 0.343 - 0s 218us/sample - loss: 1.8152 - acc: 0.4062\n",
      "Epoch 32/200\n",
      "64/64 [==============================] - ETA: 0s - loss: 1.8514 - acc: 0.343 - 0s 218us/sample - loss: 1.8112 - acc: 0.3906\n",
      "Epoch 33/200\n",
      "64/64 [==============================] - ETA: 0s - loss: 1.8325 - acc: 0.343 - 0s 203us/sample - loss: 1.7803 - acc: 0.3906\n",
      "Epoch 34/200\n",
      "64/64 [==============================] - ETA: 0s - loss: 1.8371 - acc: 0.343 - 0s 187us/sample - loss: 1.7794 - acc: 0.3906\n",
      "Epoch 35/200\n",
      "64/64 [==============================] - ETA: 0s - loss: 1.8369 - acc: 0.343 - 0s 327us/sample - loss: 1.7985 - acc: 0.3906\n",
      "Epoch 36/200\n",
      "64/64 [==============================] - ETA: 0s - loss: 1.8105 - acc: 0.343 - 0s 203us/sample - loss: 1.7627 - acc: 0.3906\n",
      "Epoch 37/200\n",
      "64/64 [==============================] - ETA: 0s - loss: 1.7806 - acc: 0.343 - 0s 187us/sample - loss: 1.7379 - acc: 0.3906\n",
      "Epoch 38/200\n",
      "64/64 [==============================] - ETA: 0s - loss: 1.7999 - acc: 0.343 - 0s 203us/sample - loss: 1.7415 - acc: 0.3906\n",
      "Epoch 39/200\n",
      "64/64 [==============================] - ETA: 0s - loss: 1.7962 - acc: 0.343 - 0s 203us/sample - loss: 1.7348 - acc: 0.3906\n",
      "Epoch 40/200\n",
      "64/64 [==============================] - ETA: 0s - loss: 1.7861 - acc: 0.343 - 0s 234us/sample - loss: 1.7130 - acc: 0.3906\n",
      "Epoch 41/200\n",
      "64/64 [==============================] - ETA: 0s - loss: 1.7635 - acc: 0.343 - 0s 249us/sample - loss: 1.7166 - acc: 0.3906\n",
      "Epoch 42/200\n",
      "64/64 [==============================] - ETA: 0s - loss: 1.7526 - acc: 0.343 - 0s 218us/sample - loss: 1.7070 - acc: 0.3906\n",
      "Epoch 43/200\n",
      "64/64 [==============================] - ETA: 0s - loss: 1.7590 - acc: 0.343 - 0s 171us/sample - loss: 1.7118 - acc: 0.3906\n",
      "Epoch 44/200\n",
      "64/64 [==============================] - ETA: 0s - loss: 1.7565 - acc: 0.343 - 0s 187us/sample - loss: 1.7043 - acc: 0.3906\n",
      "Epoch 45/200\n",
      "64/64 [==============================] - ETA: 0s - loss: 1.7442 - acc: 0.343 - 0s 218us/sample - loss: 1.6887 - acc: 0.3906\n",
      "Epoch 46/200\n",
      "64/64 [==============================] - ETA: 0s - loss: 1.7253 - acc: 0.343 - 0s 203us/sample - loss: 1.6788 - acc: 0.4062\n",
      "Epoch 47/200\n",
      "64/64 [==============================] - ETA: 0s - loss: 1.7261 - acc: 0.312 - 0s 203us/sample - loss: 1.6809 - acc: 0.3906\n",
      "Epoch 48/200\n",
      "64/64 [==============================] - ETA: 0s - loss: 1.7080 - acc: 0.343 - 0s 187us/sample - loss: 1.6590 - acc: 0.3906\n",
      "Epoch 49/200\n",
      "64/64 [==============================] - ETA: 0s - loss: 1.6917 - acc: 0.343 - 0s 218us/sample - loss: 1.6506 - acc: 0.4219\n",
      "Epoch 50/200\n",
      "64/64 [==============================] - ETA: 0s - loss: 1.6794 - acc: 0.343 - 0s 203us/sample - loss: 1.6562 - acc: 0.3906\n",
      "Epoch 51/200\n",
      "64/64 [==============================] - ETA: 0s - loss: 1.7062 - acc: 0.343 - 0s 187us/sample - loss: 1.6540 - acc: 0.3906\n",
      "Epoch 52/200\n",
      "64/64 [==============================] - ETA: 0s - loss: 1.6586 - acc: 0.312 - 0s 171us/sample - loss: 1.6279 - acc: 0.3750\n",
      "Epoch 53/200\n",
      "64/64 [==============================] - ETA: 0s - loss: 1.6795 - acc: 0.343 - 0s 203us/sample - loss: 1.6217 - acc: 0.4062\n",
      "Epoch 54/200\n",
      "64/64 [==============================] - ETA: 0s - loss: 1.6648 - acc: 0.343 - 0s 203us/sample - loss: 1.6178 - acc: 0.3906\n",
      "Epoch 55/200\n",
      "64/64 [==============================] - ETA: 0s - loss: 1.6592 - acc: 0.343 - 0s 187us/sample - loss: 1.6060 - acc: 0.3906\n",
      "Epoch 56/200\n",
      "64/64 [==============================] - ETA: 0s - loss: 1.6359 - acc: 0.312 - 0s 203us/sample - loss: 1.6040 - acc: 0.3906\n",
      "Epoch 57/200\n",
      "64/64 [==============================] - ETA: 0s - loss: 1.6476 - acc: 0.343 - 0s 218us/sample - loss: 1.6040 - acc: 0.4062\n",
      "Epoch 58/200\n",
      "64/64 [==============================] - ETA: 0s - loss: 1.6607 - acc: 0.312 - 0s 187us/sample - loss: 1.6111 - acc: 0.3750\n",
      "Epoch 59/200\n",
      "64/64 [==============================] - ETA: 0s - loss: 1.6345 - acc: 0.343 - 0s 187us/sample - loss: 1.5921 - acc: 0.3906\n",
      "Epoch 60/200\n",
      "64/64 [==============================] - ETA: 0s - loss: 1.6103 - acc: 0.343 - 0s 218us/sample - loss: 1.5673 - acc: 0.3906\n"
     ]
    },
    {
     "name": "stdout",
     "output_type": "stream",
     "text": [
      "Epoch 61/200\n",
      "64/64 [==============================] - ETA: 0s - loss: 1.6338 - acc: 0.312 - 0s 234us/sample - loss: 1.5736 - acc: 0.4062\n",
      "Epoch 62/200\n",
      "64/64 [==============================] - ETA: 0s - loss: 1.5997 - acc: 0.343 - 0s 218us/sample - loss: 1.5591 - acc: 0.4375\n",
      "Epoch 63/200\n",
      "64/64 [==============================] - ETA: 0s - loss: 1.6133 - acc: 0.375 - 0s 218us/sample - loss: 1.5715 - acc: 0.4219\n",
      "Epoch 64/200\n",
      "64/64 [==============================] - ETA: 0s - loss: 1.5620 - acc: 0.343 - 0s 171us/sample - loss: 1.5119 - acc: 0.4375\n",
      "Epoch 65/200\n",
      "64/64 [==============================] - ETA: 0s - loss: 1.5882 - acc: 0.343 - 0s 172us/sample - loss: 1.5423 - acc: 0.4375\n",
      "Epoch 66/200\n",
      "64/64 [==============================] - ETA: 0s - loss: 1.5399 - acc: 0.343 - 0s 171us/sample - loss: 1.5190 - acc: 0.4531\n",
      "Epoch 67/200\n",
      "64/64 [==============================] - ETA: 0s - loss: 1.5628 - acc: 0.375 - 0s 171us/sample - loss: 1.5111 - acc: 0.4688\n",
      "Epoch 68/200\n",
      "64/64 [==============================] - ETA: 0s - loss: 1.5286 - acc: 0.406 - 0s 187us/sample - loss: 1.4946 - acc: 0.4375\n",
      "Epoch 69/200\n",
      "64/64 [==============================] - ETA: 0s - loss: 1.5306 - acc: 0.375 - 0s 172us/sample - loss: 1.4920 - acc: 0.4219\n",
      "Epoch 70/200\n",
      "64/64 [==============================] - ETA: 0s - loss: 1.5593 - acc: 0.375 - 0s 187us/sample - loss: 1.5009 - acc: 0.4375\n",
      "Epoch 71/200\n",
      "64/64 [==============================] - ETA: 0s - loss: 1.5234 - acc: 0.406 - 0s 187us/sample - loss: 1.4752 - acc: 0.4688\n",
      "Epoch 72/200\n",
      "64/64 [==============================] - ETA: 0s - loss: 1.4925 - acc: 0.500 - 0s 203us/sample - loss: 1.4683 - acc: 0.5000\n",
      "Epoch 73/200\n",
      "64/64 [==============================] - ETA: 0s - loss: 1.5233 - acc: 0.406 - 0s 187us/sample - loss: 1.4859 - acc: 0.4375\n",
      "Epoch 74/200\n",
      "64/64 [==============================] - ETA: 0s - loss: 1.5185 - acc: 0.375 - 0s 203us/sample - loss: 1.4878 - acc: 0.4219\n",
      "Epoch 75/200\n",
      "64/64 [==============================] - ETA: 0s - loss: 1.4901 - acc: 0.406 - 0s 203us/sample - loss: 1.4346 - acc: 0.4531\n",
      "Epoch 76/200\n",
      "64/64 [==============================] - ETA: 0s - loss: 1.4635 - acc: 0.437 - 0s 187us/sample - loss: 1.4420 - acc: 0.4688\n",
      "Epoch 77/200\n",
      "64/64 [==============================] - ETA: 0s - loss: 1.4658 - acc: 0.468 - 0s 187us/sample - loss: 1.4117 - acc: 0.5156\n",
      "Epoch 78/200\n",
      "64/64 [==============================] - ETA: 0s - loss: 1.5271 - acc: 0.375 - 0s 187us/sample - loss: 1.4534 - acc: 0.4688\n",
      "Epoch 79/200\n",
      "64/64 [==============================] - ETA: 0s - loss: 1.4899 - acc: 0.375 - 0s 203us/sample - loss: 1.4346 - acc: 0.4219\n",
      "Epoch 80/200\n",
      "64/64 [==============================] - ETA: 0s - loss: 1.4000 - acc: 0.500 - 0s 203us/sample - loss: 1.3999 - acc: 0.5000\n",
      "Epoch 81/200\n",
      "64/64 [==============================] - ETA: 0s - loss: 1.4664 - acc: 0.375 - 0s 203us/sample - loss: 1.4179 - acc: 0.4531\n",
      "Epoch 82/200\n",
      "64/64 [==============================] - ETA: 0s - loss: 1.4710 - acc: 0.406 - 0s 226us/sample - loss: 1.4170 - acc: 0.4375\n",
      "Epoch 83/200\n",
      "64/64 [==============================] - ETA: 0s - loss: 1.4235 - acc: 0.437 - 0s 203us/sample - loss: 1.3908 - acc: 0.4531\n",
      "Epoch 84/200\n",
      "64/64 [==============================] - ETA: 0s - loss: 1.4007 - acc: 0.437 - 0s 203us/sample - loss: 1.3798 - acc: 0.4844\n",
      "Epoch 85/200\n",
      "64/64 [==============================] - ETA: 0s - loss: 1.3880 - acc: 0.468 - 0s 203us/sample - loss: 1.3696 - acc: 0.4688\n",
      "Epoch 86/200\n",
      "64/64 [==============================] - ETA: 0s - loss: 1.3851 - acc: 0.468 - 0s 218us/sample - loss: 1.3411 - acc: 0.5156\n",
      "Epoch 87/200\n",
      "64/64 [==============================] - ETA: 0s - loss: 1.4021 - acc: 0.437 - 0s 203us/sample - loss: 1.3753 - acc: 0.5000\n",
      "Epoch 88/200\n",
      "64/64 [==============================] - ETA: 0s - loss: 1.3842 - acc: 0.468 - 0s 218us/sample - loss: 1.3626 - acc: 0.4844\n",
      "Epoch 89/200\n",
      "64/64 [==============================] - ETA: 0s - loss: 1.3242 - acc: 0.562 - 0s 203us/sample - loss: 1.3255 - acc: 0.5312\n",
      "Epoch 90/200\n",
      "64/64 [==============================] - ETA: 0s - loss: 1.3387 - acc: 0.468 - 0s 187us/sample - loss: 1.3344 - acc: 0.4688\n",
      "Epoch 91/200\n",
      "64/64 [==============================] - ETA: 0s - loss: 1.3044 - acc: 0.468 - 0s 203us/sample - loss: 1.2815 - acc: 0.5000\n",
      "Epoch 92/200\n",
      "64/64 [==============================] - ETA: 0s - loss: 1.3333 - acc: 0.437 - 0s 203us/sample - loss: 1.2999 - acc: 0.4688\n",
      "Epoch 93/200\n",
      "64/64 [==============================] - ETA: 0s - loss: 1.3155 - acc: 0.531 - 0s 187us/sample - loss: 1.2861 - acc: 0.5156\n",
      "Epoch 94/200\n",
      "64/64 [==============================] - ETA: 0s - loss: 1.3935 - acc: 0.468 - 0s 187us/sample - loss: 1.3118 - acc: 0.5000\n",
      "Epoch 95/200\n",
      "64/64 [==============================] - ETA: 0s - loss: 1.3548 - acc: 0.531 - 0s 203us/sample - loss: 1.2840 - acc: 0.5312\n",
      "Epoch 96/200\n",
      "64/64 [==============================] - ETA: 0s - loss: 1.3055 - acc: 0.500 - 0s 218us/sample - loss: 1.2831 - acc: 0.5312\n",
      "Epoch 97/200\n",
      "64/64 [==============================] - ETA: 0s - loss: 1.2703 - acc: 0.500 - 0s 218us/sample - loss: 1.2533 - acc: 0.5156\n",
      "Epoch 98/200\n",
      "64/64 [==============================] - ETA: 0s - loss: 1.2580 - acc: 0.531 - 0s 203us/sample - loss: 1.2324 - acc: 0.5625\n",
      "Epoch 99/200\n",
      "64/64 [==============================] - ETA: 0s - loss: 1.2603 - acc: 0.531 - 0s 187us/sample - loss: 1.2652 - acc: 0.5156\n",
      "Epoch 100/200\n",
      "64/64 [==============================] - ETA: 0s - loss: 1.2201 - acc: 0.562 - 0s 187us/sample - loss: 1.2125 - acc: 0.5781\n",
      "Epoch 101/200\n",
      "64/64 [==============================] - ETA: 0s - loss: 1.2830 - acc: 0.500 - 0s 187us/sample - loss: 1.2249 - acc: 0.5781\n",
      "Epoch 102/200\n",
      "64/64 [==============================] - ETA: 0s - loss: 1.2818 - acc: 0.500 - 0s 187us/sample - loss: 1.2152 - acc: 0.5781\n",
      "Epoch 103/200\n",
      "64/64 [==============================] - ETA: 0s - loss: 1.2374 - acc: 0.531 - 0s 171us/sample - loss: 1.1894 - acc: 0.6094\n",
      "Epoch 104/200\n",
      "64/64 [==============================] - ETA: 0s - loss: 1.3092 - acc: 0.531 - 0s 171us/sample - loss: 1.2588 - acc: 0.5469\n",
      "Epoch 105/200\n",
      "64/64 [==============================] - ETA: 0s - loss: 1.2260 - acc: 0.593 - 0s 218us/sample - loss: 1.1871 - acc: 0.6250\n",
      "Epoch 106/200\n",
      "64/64 [==============================] - ETA: 0s - loss: 1.2124 - acc: 0.656 - 0s 187us/sample - loss: 1.1713 - acc: 0.6250\n",
      "Epoch 107/200\n",
      "64/64 [==============================] - ETA: 0s - loss: 1.1869 - acc: 0.593 - 0s 187us/sample - loss: 1.1587 - acc: 0.6250\n",
      "Epoch 108/200\n",
      "64/64 [==============================] - ETA: 0s - loss: 1.1472 - acc: 0.656 - 0s 218us/sample - loss: 1.1594 - acc: 0.6250\n",
      "Epoch 109/200\n",
      "64/64 [==============================] - ETA: 0s - loss: 1.1643 - acc: 0.656 - 0s 203us/sample - loss: 1.1584 - acc: 0.6406\n",
      "Epoch 110/200\n",
      "64/64 [==============================] - ETA: 0s - loss: 1.1680 - acc: 0.625 - 0s 203us/sample - loss: 1.1560 - acc: 0.6250\n",
      "Epoch 111/200\n",
      "64/64 [==============================] - ETA: 0s - loss: 1.1421 - acc: 0.687 - 0s 171us/sample - loss: 1.1461 - acc: 0.6562\n",
      "Epoch 112/200\n",
      "64/64 [==============================] - ETA: 0s - loss: 1.1873 - acc: 0.625 - 0s 187us/sample - loss: 1.1337 - acc: 0.6562\n",
      "Epoch 113/200\n",
      "64/64 [==============================] - ETA: 0s - loss: 1.1946 - acc: 0.593 - 0s 187us/sample - loss: 1.1431 - acc: 0.6094\n",
      "Epoch 114/200\n",
      "64/64 [==============================] - ETA: 0s - loss: 1.1246 - acc: 0.687 - 0s 171us/sample - loss: 1.1209 - acc: 0.6562\n",
      "Epoch 115/200\n",
      "64/64 [==============================] - ETA: 0s - loss: 1.1687 - acc: 0.625 - 0s 171us/sample - loss: 1.1147 - acc: 0.6719\n",
      "Epoch 116/200\n",
      "64/64 [==============================] - ETA: 0s - loss: 1.1059 - acc: 0.656 - 0s 171us/sample - loss: 1.0929 - acc: 0.6719\n",
      "Epoch 117/200\n",
      "64/64 [==============================] - ETA: 0s - loss: 1.0872 - acc: 0.656 - 0s 187us/sample - loss: 1.1011 - acc: 0.6406\n",
      "Epoch 118/200\n",
      "64/64 [==============================] - ETA: 0s - loss: 1.1301 - acc: 0.687 - 0s 343us/sample - loss: 1.0877 - acc: 0.7188\n",
      "Epoch 119/200\n",
      "64/64 [==============================] - ETA: 0s - loss: 1.1128 - acc: 0.687 - 0s 187us/sample - loss: 1.0744 - acc: 0.7031\n",
      "Epoch 120/200\n"
     ]
    },
    {
     "name": "stdout",
     "output_type": "stream",
     "text": [
      "64/64 [==============================] - ETA: 0s - loss: 1.1598 - acc: 0.687 - 0s 203us/sample - loss: 1.0817 - acc: 0.7344\n",
      "Epoch 121/200\n",
      "64/64 [==============================] - ETA: 0s - loss: 1.0608 - acc: 0.625 - 0s 171us/sample - loss: 1.0401 - acc: 0.6562\n",
      "Epoch 122/200\n",
      "64/64 [==============================] - ETA: 0s - loss: 1.1009 - acc: 0.625 - 0s 187us/sample - loss: 1.0433 - acc: 0.6875\n",
      "Epoch 123/200\n",
      "64/64 [==============================] - ETA: 0s - loss: 1.0040 - acc: 0.687 - 0s 171us/sample - loss: 1.0156 - acc: 0.7344\n",
      "Epoch 124/200\n",
      "64/64 [==============================] - ETA: 0s - loss: 1.1041 - acc: 0.687 - 0s 171us/sample - loss: 1.0753 - acc: 0.6719\n",
      "Epoch 125/200\n",
      "64/64 [==============================] - ETA: 0s - loss: 1.0034 - acc: 0.750 - 0s 171us/sample - loss: 0.9951 - acc: 0.7656\n",
      "Epoch 126/200\n",
      "64/64 [==============================] - ETA: 0s - loss: 1.0917 - acc: 0.625 - 0s 171us/sample - loss: 1.0371 - acc: 0.7344\n",
      "Epoch 127/200\n",
      "64/64 [==============================] - ETA: 0s - loss: 1.0218 - acc: 0.750 - 0s 187us/sample - loss: 0.9867 - acc: 0.7656\n",
      "Epoch 128/200\n",
      "64/64 [==============================] - ETA: 0s - loss: 1.0481 - acc: 0.687 - 0s 187us/sample - loss: 1.0024 - acc: 0.7344\n",
      "Epoch 129/200\n",
      "64/64 [==============================] - ETA: 0s - loss: 0.9891 - acc: 0.750 - 0s 187us/sample - loss: 0.9706 - acc: 0.7656\n",
      "Epoch 130/200\n",
      "64/64 [==============================] - ETA: 0s - loss: 1.0190 - acc: 0.656 - 0s 187us/sample - loss: 0.9629 - acc: 0.7500\n",
      "Epoch 131/200\n",
      "64/64 [==============================] - ETA: 0s - loss: 1.0559 - acc: 0.625 - 0s 171us/sample - loss: 0.9881 - acc: 0.7031\n",
      "Epoch 132/200\n",
      "64/64 [==============================] - ETA: 0s - loss: 0.9711 - acc: 0.687 - 0s 187us/sample - loss: 0.9510 - acc: 0.7656\n",
      "Epoch 133/200\n",
      "64/64 [==============================] - ETA: 0s - loss: 0.9948 - acc: 0.718 - 0s 187us/sample - loss: 0.9687 - acc: 0.7812\n",
      "Epoch 134/200\n",
      "64/64 [==============================] - ETA: 0s - loss: 0.9668 - acc: 0.781 - 0s 187us/sample - loss: 0.9602 - acc: 0.7656\n",
      "Epoch 135/200\n",
      "64/64 [==============================] - ETA: 0s - loss: 1.0132 - acc: 0.687 - 0s 187us/sample - loss: 0.9504 - acc: 0.7812\n",
      "Epoch 136/200\n",
      "64/64 [==============================] - ETA: 0s - loss: 0.9358 - acc: 0.812 - 0s 203us/sample - loss: 0.8887 - acc: 0.8594\n",
      "Epoch 137/200\n",
      "64/64 [==============================] - ETA: 0s - loss: 1.0136 - acc: 0.781 - 0s 203us/sample - loss: 0.9519 - acc: 0.7812\n",
      "Epoch 138/200\n",
      "64/64 [==============================] - ETA: 0s - loss: 0.8927 - acc: 0.906 - 0s 187us/sample - loss: 0.8767 - acc: 0.8594\n",
      "Epoch 139/200\n",
      "64/64 [==============================] - ETA: 0s - loss: 0.8895 - acc: 0.843 - 0s 187us/sample - loss: 0.8751 - acc: 0.8281\n",
      "Epoch 140/200\n",
      "64/64 [==============================] - ETA: 0s - loss: 0.9299 - acc: 0.781 - 0s 203us/sample - loss: 0.8846 - acc: 0.8281\n",
      "Epoch 141/200\n",
      "64/64 [==============================] - ETA: 0s - loss: 0.8534 - acc: 0.937 - 0s 203us/sample - loss: 0.8554 - acc: 0.9219\n",
      "Epoch 142/200\n",
      "64/64 [==============================] - ETA: 0s - loss: 0.9268 - acc: 0.812 - 0s 187us/sample - loss: 0.8748 - acc: 0.8594\n",
      "Epoch 143/200\n",
      "64/64 [==============================] - ETA: 0s - loss: 0.9123 - acc: 0.812 - 0s 187us/sample - loss: 0.8751 - acc: 0.8438\n",
      "Epoch 144/200\n",
      "64/64 [==============================] - ETA: 0s - loss: 0.8348 - acc: 0.906 - 0s 203us/sample - loss: 0.8435 - acc: 0.8906\n",
      "Epoch 145/200\n",
      "64/64 [==============================] - ETA: 0s - loss: 0.8392 - acc: 0.937 - 0s 203us/sample - loss: 0.8068 - acc: 0.9219\n",
      "Epoch 146/200\n",
      "64/64 [==============================] - ETA: 0s - loss: 0.8269 - acc: 0.937 - 0s 171us/sample - loss: 0.8231 - acc: 0.8906\n",
      "Epoch 147/200\n",
      "64/64 [==============================] - ETA: 0s - loss: 0.8962 - acc: 0.812 - 0s 171us/sample - loss: 0.8433 - acc: 0.8750\n",
      "Epoch 148/200\n",
      "64/64 [==============================] - ETA: 0s - loss: 0.8156 - acc: 0.937 - 0s 187us/sample - loss: 0.7730 - acc: 0.9531\n",
      "Epoch 149/200\n",
      "64/64 [==============================] - ETA: 0s - loss: 0.9549 - acc: 0.843 - 0s 187us/sample - loss: 0.8549 - acc: 0.9062\n",
      "Epoch 150/200\n",
      "64/64 [==============================] - ETA: 0s - loss: 0.8192 - acc: 0.906 - 0s 171us/sample - loss: 0.8129 - acc: 0.9219\n",
      "Epoch 151/200\n",
      "64/64 [==============================] - ETA: 0s - loss: 0.8184 - acc: 0.812 - 0s 187us/sample - loss: 0.7888 - acc: 0.8594\n",
      "Epoch 152/200\n",
      "64/64 [==============================] - ETA: 0s - loss: 0.7894 - acc: 0.937 - 0s 203us/sample - loss: 0.7875 - acc: 0.8750\n",
      "Epoch 153/200\n",
      "64/64 [==============================] - ETA: 0s - loss: 0.8145 - acc: 0.937 - 0s 171us/sample - loss: 0.7733 - acc: 0.9375\n",
      "Epoch 154/200\n",
      "64/64 [==============================] - ETA: 0s - loss: 0.7906 - acc: 0.937 - 0s 203us/sample - loss: 0.7688 - acc: 0.9219\n",
      "Epoch 155/200\n",
      "64/64 [==============================] - ETA: 0s - loss: 0.7996 - acc: 0.875 - 0s 187us/sample - loss: 0.7545 - acc: 0.8906\n",
      "Epoch 156/200\n",
      "64/64 [==============================] - ETA: 0s - loss: 0.7935 - acc: 0.937 - 0s 187us/sample - loss: 0.7732 - acc: 0.9375\n",
      "Epoch 157/200\n",
      "64/64 [==============================] - ETA: 0s - loss: 0.8179 - acc: 0.968 - 0s 187us/sample - loss: 0.7707 - acc: 0.9688\n",
      "Epoch 158/200\n",
      "64/64 [==============================] - ETA: 0s - loss: 0.8154 - acc: 0.906 - 0s 218us/sample - loss: 0.7416 - acc: 0.9062\n",
      "Epoch 159/200\n",
      "64/64 [==============================] - ETA: 0s - loss: 0.7992 - acc: 1.000 - 0s 187us/sample - loss: 0.7513 - acc: 0.9375\n",
      "Epoch 160/200\n",
      "64/64 [==============================] - ETA: 0s - loss: 0.7690 - acc: 0.906 - 0s 187us/sample - loss: 0.7240 - acc: 0.9219\n",
      "Epoch 161/200\n",
      "64/64 [==============================] - ETA: 0s - loss: 0.7113 - acc: 1.000 - 0s 187us/sample - loss: 0.7011 - acc: 0.9688\n",
      "Epoch 162/200\n",
      "64/64 [==============================] - ETA: 0s - loss: 0.7272 - acc: 0.937 - 0s 203us/sample - loss: 0.6973 - acc: 0.9375\n",
      "Epoch 163/200\n",
      "64/64 [==============================] - ETA: 0s - loss: 0.8096 - acc: 0.937 - 0s 202us/sample - loss: 0.7490 - acc: 0.9531\n",
      "Epoch 164/200\n",
      "64/64 [==============================] - ETA: 0s - loss: 0.6495 - acc: 1.000 - 0s 186us/sample - loss: 0.6889 - acc: 0.9531\n",
      "Epoch 165/200\n",
      "64/64 [==============================] - ETA: 0s - loss: 0.6876 - acc: 0.937 - 0s 171us/sample - loss: 0.6813 - acc: 0.9062\n",
      "Epoch 166/200\n",
      "64/64 [==============================] - ETA: 0s - loss: 0.6847 - acc: 1.000 - 0s 171us/sample - loss: 0.6797 - acc: 0.9219\n",
      "Epoch 167/200\n",
      "64/64 [==============================] - ETA: 0s - loss: 0.7145 - acc: 0.937 - 0s 171us/sample - loss: 0.6539 - acc: 0.9531\n",
      "Epoch 168/200\n",
      "64/64 [==============================] - ETA: 0s - loss: 0.6956 - acc: 0.937 - 0s 171us/sample - loss: 0.6501 - acc: 0.9375\n",
      "Epoch 169/200\n",
      "64/64 [==============================] - ETA: 0s - loss: 0.7416 - acc: 0.937 - 0s 186us/sample - loss: 0.7150 - acc: 0.9219\n",
      "Epoch 170/200\n",
      "64/64 [==============================] - ETA: 0s - loss: 0.7280 - acc: 0.937 - 0s 187us/sample - loss: 0.6819 - acc: 0.9375\n",
      "Epoch 171/200\n",
      "64/64 [==============================] - ETA: 0s - loss: 0.6744 - acc: 0.968 - 0s 187us/sample - loss: 0.6402 - acc: 0.9688\n",
      "Epoch 172/200\n",
      "64/64 [==============================] - ETA: 0s - loss: 0.7033 - acc: 0.937 - 0s 171us/sample - loss: 0.6697 - acc: 0.9375\n",
      "Epoch 173/200\n",
      "64/64 [==============================] - ETA: 0s - loss: 0.7042 - acc: 0.906 - 0s 187us/sample - loss: 0.6772 - acc: 0.9219\n",
      "Epoch 174/200\n",
      "64/64 [==============================] - ETA: 0s - loss: 0.6233 - acc: 0.937 - 0s 187us/sample - loss: 0.6146 - acc: 0.9375\n",
      "Epoch 175/200\n",
      "64/64 [==============================] - ETA: 0s - loss: 0.6272 - acc: 0.937 - 0s 203us/sample - loss: 0.6291 - acc: 0.9375\n",
      "Epoch 176/200\n",
      "64/64 [==============================] - ETA: 0s - loss: 0.5893 - acc: 1.000 - 0s 280us/sample - loss: 0.6290 - acc: 0.9531\n",
      "Epoch 177/200\n",
      "64/64 [==============================] - ETA: 0s - loss: 0.6220 - acc: 0.968 - 0s 187us/sample - loss: 0.6247 - acc: 0.9531\n",
      "Epoch 178/200\n",
      "64/64 [==============================] - ETA: 0s - loss: 0.6405 - acc: 0.968 - 0s 203us/sample - loss: 0.5873 - acc: 0.9688\n",
      "Epoch 179/200\n"
     ]
    },
    {
     "name": "stdout",
     "output_type": "stream",
     "text": [
      "64/64 [==============================] - ETA: 0s - loss: 0.6701 - acc: 0.937 - 0s 203us/sample - loss: 0.6273 - acc: 0.9219\n",
      "Epoch 180/200\n",
      "64/64 [==============================] - ETA: 0s - loss: 0.5924 - acc: 0.968 - 0s 187us/sample - loss: 0.5593 - acc: 0.9688\n",
      "Epoch 181/200\n",
      "64/64 [==============================] - ETA: 0s - loss: 0.6149 - acc: 1.000 - 0s 187us/sample - loss: 0.5851 - acc: 0.9688\n",
      "Epoch 182/200\n",
      "64/64 [==============================] - ETA: 0s - loss: 0.5701 - acc: 1.000 - 0s 171us/sample - loss: 0.5609 - acc: 0.9844\n",
      "Epoch 183/200\n",
      "64/64 [==============================] - ETA: 0s - loss: 0.5437 - acc: 1.000 - 0s 171us/sample - loss: 0.5607 - acc: 0.9688\n",
      "Epoch 184/200\n",
      "64/64 [==============================] - ETA: 0s - loss: 0.5969 - acc: 0.968 - 0s 187us/sample - loss: 0.5681 - acc: 0.9688\n",
      "Epoch 185/200\n",
      "64/64 [==============================] - ETA: 0s - loss: 0.5112 - acc: 1.000 - 0s 171us/sample - loss: 0.5273 - acc: 0.9688\n",
      "Epoch 186/200\n",
      "64/64 [==============================] - ETA: 0s - loss: 0.5792 - acc: 1.000 - 0s 171us/sample - loss: 0.5571 - acc: 0.9844\n",
      "Epoch 187/200\n",
      "64/64 [==============================] - ETA: 0s - loss: 0.5625 - acc: 0.937 - 0s 187us/sample - loss: 0.5303 - acc: 0.9531\n",
      "Epoch 188/200\n",
      "64/64 [==============================] - ETA: 0s - loss: 0.5762 - acc: 0.968 - 0s 187us/sample - loss: 0.5540 - acc: 0.9688\n",
      "Epoch 189/200\n",
      "64/64 [==============================] - ETA: 0s - loss: 0.5529 - acc: 0.968 - 0s 187us/sample - loss: 0.5150 - acc: 0.9688\n",
      "Epoch 190/200\n",
      "64/64 [==============================] - ETA: 0s - loss: 0.5200 - acc: 1.000 - 0s 187us/sample - loss: 0.5118 - acc: 0.9844\n",
      "Epoch 191/200\n",
      "64/64 [==============================] - ETA: 0s - loss: 0.5435 - acc: 0.968 - 0s 187us/sample - loss: 0.5086 - acc: 0.9531\n",
      "Epoch 192/200\n",
      "64/64 [==============================] - ETA: 0s - loss: 0.6048 - acc: 0.937 - 0s 187us/sample - loss: 0.5754 - acc: 0.9219\n",
      "Epoch 193/200\n",
      "64/64 [==============================] - ETA: 0s - loss: 0.5329 - acc: 0.968 - 0s 187us/sample - loss: 0.5529 - acc: 0.9219\n",
      "Epoch 194/200\n",
      "64/64 [==============================] - ETA: 0s - loss: 0.5673 - acc: 0.937 - 0s 187us/sample - loss: 0.5181 - acc: 0.9375\n",
      "Epoch 195/200\n",
      "64/64 [==============================] - ETA: 0s - loss: 0.5086 - acc: 0.968 - 0s 172us/sample - loss: 0.4937 - acc: 0.9688\n",
      "Epoch 196/200\n",
      "64/64 [==============================] - ETA: 0s - loss: 0.5190 - acc: 1.000 - 0s 171us/sample - loss: 0.4740 - acc: 0.9844\n",
      "Epoch 197/200\n",
      "64/64 [==============================] - ETA: 0s - loss: 0.5084 - acc: 0.937 - 0s 187us/sample - loss: 0.4616 - acc: 0.9375\n",
      "Epoch 198/200\n",
      "64/64 [==============================] - ETA: 0s - loss: 0.5155 - acc: 0.937 - 0s 187us/sample - loss: 0.4821 - acc: 0.9375\n",
      "Epoch 199/200\n",
      "64/64 [==============================] - ETA: 0s - loss: 0.5209 - acc: 0.968 - 0s 187us/sample - loss: 0.4890 - acc: 0.9531\n",
      "Epoch 200/200\n",
      "64/64 [==============================] - ETA: 0s - loss: 0.5001 - acc: 0.968 - 0s 187us/sample - loss: 0.4621 - acc: 0.9688\n"
     ]
    },
    {
     "name": "stderr",
     "output_type": "stream",
     "text": [
      "INFO:rasa.core.policies.keras_policy:Done fitting keras policy model\n",
      "INFO:rasa_core.agent:Persisted model to 'C:\\YogeshKulkarni\\Training\\TeachingDataScience\\Jupyter\\models\\ipl_dialogue\\current\\core'\n"
     ]
    }
   ],
   "source": [
    "import asyncio\n",
    "from rasa_core.policies import FallbackPolicy, KerasPolicy, MemoizationPolicy, MappingPolicy\n",
    "from rasa_core.agent import Agent\n",
    "\n",
    "# this will catch predictions the model isn't very certain about\n",
    "# there is a threshold for the NLU predictions as well as the action predictions\n",
    "fallback = FallbackPolicy(fallback_action_name=\"utter_unclear\",\n",
    "                          core_threshold=0.2,\n",
    "                          nlu_threshold=0.1)\n",
    "\n",
    "# agent = Agent('domain.yml', policies=[MemoizationPolicy(), KerasPolicy(), fallback])\n",
    "\n",
    "agent = Agent('config/ipl_domain.yml', policies = [MemoizationPolicy(max_history=2), KerasPolicy(validation_split=0.2,epochs=200),MappingPolicy()])\n",
    "# loading our neatly defined training dialogues\n",
    "training_data = await agent.load_data('data/ipl_stories.md')\n",
    "\n",
    "agent.train(training_data)\n",
    "# FOLLOWING WAY OF giving arguments is depreacted, instead, give these params as arguments to KerasPolicy\n",
    "# agent.train(\n",
    "#     training_data,\n",
    "#     validation_split=0.0,\n",
    "#     epochs=200\n",
    "# )\n",
    "\n",
    "agent.persist('models/ipl_dialogue/current')"
   ]
  },
  {
   "cell_type": "markdown",
   "metadata": {
    "colab_type": "text",
    "id": "c4911z6y-5rD"
   },
   "source": [
    "## Running: Talk to your Bot\n",
    "\n",
    "So we have the chatbot ready. It’s time to chat"
   ]
  },
  {
   "cell_type": "markdown",
   "metadata": {},
   "source": [
    "One way is to run following command in shell (windows cmd)\n",
    "- activate the environment,\n",
    "- come to directory where actions.py is and then run\n",
    "- **python -m rasa_core.run -d models/current/ipl_dialogue -u models/current/ipl_nlu --endpoints ipl_endpoints.yml**\n",
    "\n",
    "Or else do programmatically like below\n",
    "\n",
    "Both approaches expect rasa core sdk server running in a separate window, else **python -m rasa_core_sdk.endpoint --actions ipl_actions --endpoints ipl_endpoints.yml**"
   ]
  },
  {
   "cell_type": "code",
   "execution_count": 2,
   "metadata": {
    "colab": {
     "base_uri": "https://localhost:8080/",
     "height": 34
    },
    "colab_type": "code",
    "id": "nE4coPam5hry",
    "outputId": "c8ec135b-882b-4e9e-a955-f3e184177817"
   },
   "outputs": [
    {
     "name": "stderr",
     "output_type": "stream",
     "text": [
      "C:\\Users\\yogesh.kulkarni\\AppData\\Local\\Continuum\\anaconda3\\envs\\rasa\\lib\\site-packages\\rasa_core\\__init__.py:12: UserWarning: The 'rasa_core' package has been renamed. You should change your imports to use 'rasa.core' instead.\n",
      "  UserWarning,\n",
      "C:\\Users\\yogesh.kulkarni\\AppData\\Local\\Continuum\\anaconda3\\envs\\rasa\\lib\\site-packages\\tensorflow\\python\\framework\\dtypes.py:516: FutureWarning: Passing (type, 1) or '1type' as a synonym of type is deprecated; in a future version of numpy, it will be understood as (type, (1,)) / '(1,)type'.\n",
      "  _np_qint8 = np.dtype([(\"qint8\", np.int8, 1)])\n",
      "C:\\Users\\yogesh.kulkarni\\AppData\\Local\\Continuum\\anaconda3\\envs\\rasa\\lib\\site-packages\\tensorflow\\python\\framework\\dtypes.py:517: FutureWarning: Passing (type, 1) or '1type' as a synonym of type is deprecated; in a future version of numpy, it will be understood as (type, (1,)) / '(1,)type'.\n",
      "  _np_quint8 = np.dtype([(\"quint8\", np.uint8, 1)])\n",
      "C:\\Users\\yogesh.kulkarni\\AppData\\Local\\Continuum\\anaconda3\\envs\\rasa\\lib\\site-packages\\tensorflow\\python\\framework\\dtypes.py:518: FutureWarning: Passing (type, 1) or '1type' as a synonym of type is deprecated; in a future version of numpy, it will be understood as (type, (1,)) / '(1,)type'.\n",
      "  _np_qint16 = np.dtype([(\"qint16\", np.int16, 1)])\n",
      "C:\\Users\\yogesh.kulkarni\\AppData\\Local\\Continuum\\anaconda3\\envs\\rasa\\lib\\site-packages\\tensorflow\\python\\framework\\dtypes.py:519: FutureWarning: Passing (type, 1) or '1type' as a synonym of type is deprecated; in a future version of numpy, it will be understood as (type, (1,)) / '(1,)type'.\n",
      "  _np_quint16 = np.dtype([(\"quint16\", np.uint16, 1)])\n",
      "C:\\Users\\yogesh.kulkarni\\AppData\\Local\\Continuum\\anaconda3\\envs\\rasa\\lib\\site-packages\\tensorflow\\python\\framework\\dtypes.py:520: FutureWarning: Passing (type, 1) or '1type' as a synonym of type is deprecated; in a future version of numpy, it will be understood as (type, (1,)) / '(1,)type'.\n",
      "  _np_qint32 = np.dtype([(\"qint32\", np.int32, 1)])\n",
      "C:\\Users\\yogesh.kulkarni\\AppData\\Local\\Continuum\\anaconda3\\envs\\rasa\\lib\\site-packages\\tensorflow\\python\\framework\\dtypes.py:525: FutureWarning: Passing (type, 1) or '1type' as a synonym of type is deprecated; in a future version of numpy, it will be understood as (type, (1,)) / '(1,)type'.\n",
      "  np_resource = np.dtype([(\"resource\", np.ubyte, 1)])\n",
      "C:\\Users\\yogesh.kulkarni\\AppData\\Local\\Continuum\\anaconda3\\envs\\rasa\\lib\\site-packages\\tensorboard\\compat\\tensorflow_stub\\dtypes.py:541: FutureWarning: Passing (type, 1) or '1type' as a synonym of type is deprecated; in a future version of numpy, it will be understood as (type, (1,)) / '(1,)type'.\n",
      "  _np_qint8 = np.dtype([(\"qint8\", np.int8, 1)])\n",
      "C:\\Users\\yogesh.kulkarni\\AppData\\Local\\Continuum\\anaconda3\\envs\\rasa\\lib\\site-packages\\tensorboard\\compat\\tensorflow_stub\\dtypes.py:542: FutureWarning: Passing (type, 1) or '1type' as a synonym of type is deprecated; in a future version of numpy, it will be understood as (type, (1,)) / '(1,)type'.\n",
      "  _np_quint8 = np.dtype([(\"quint8\", np.uint8, 1)])\n",
      "C:\\Users\\yogesh.kulkarni\\AppData\\Local\\Continuum\\anaconda3\\envs\\rasa\\lib\\site-packages\\tensorboard\\compat\\tensorflow_stub\\dtypes.py:543: FutureWarning: Passing (type, 1) or '1type' as a synonym of type is deprecated; in a future version of numpy, it will be understood as (type, (1,)) / '(1,)type'.\n",
      "  _np_qint16 = np.dtype([(\"qint16\", np.int16, 1)])\n",
      "C:\\Users\\yogesh.kulkarni\\AppData\\Local\\Continuum\\anaconda3\\envs\\rasa\\lib\\site-packages\\tensorboard\\compat\\tensorflow_stub\\dtypes.py:544: FutureWarning: Passing (type, 1) or '1type' as a synonym of type is deprecated; in a future version of numpy, it will be understood as (type, (1,)) / '(1,)type'.\n",
      "  _np_quint16 = np.dtype([(\"quint16\", np.uint16, 1)])\n",
      "C:\\Users\\yogesh.kulkarni\\AppData\\Local\\Continuum\\anaconda3\\envs\\rasa\\lib\\site-packages\\tensorboard\\compat\\tensorflow_stub\\dtypes.py:545: FutureWarning: Passing (type, 1) or '1type' as a synonym of type is deprecated; in a future version of numpy, it will be understood as (type, (1,)) / '(1,)type'.\n",
      "  _np_qint32 = np.dtype([(\"qint32\", np.int32, 1)])\n",
      "C:\\Users\\yogesh.kulkarni\\AppData\\Local\\Continuum\\anaconda3\\envs\\rasa\\lib\\site-packages\\tensorboard\\compat\\tensorflow_stub\\dtypes.py:550: FutureWarning: Passing (type, 1) or '1type' as a synonym of type is deprecated; in a future version of numpy, it will be understood as (type, (1,)) / '(1,)type'.\n",
      "  np_resource = np.dtype([(\"resource\", np.ubyte, 1)])\n"
     ]
    },
    {
     "name": "stdout",
     "output_type": "stream",
     "text": [
      "WARNING:tensorflow:\n",
      "The TensorFlow contrib module will not be included in TensorFlow 2.0.\n",
      "For more information, please see:\n",
      "  * https://github.com/tensorflow/community/blob/master/rfcs/20180907-contrib-sunset.md\n",
      "  * https://github.com/tensorflow/addons\n",
      "  * https://github.com/tensorflow/io (for I/O related ops)\n",
      "If you depend on functionality not listed there, please file an issue.\n",
      "\n",
      "WARNING:tensorflow:From C:\\Users\\yogesh.kulkarni\\AppData\\Local\\Continuum\\anaconda3\\envs\\rasa\\lib\\site-packages\\tensor2tensor\\utils\\adafactor.py:27: The name tf.train.Optimizer is deprecated. Please use tf.compat.v1.train.Optimizer instead.\n",
      "\n",
      "WARNING:tensorflow:From C:\\Users\\yogesh.kulkarni\\AppData\\Local\\Continuum\\anaconda3\\envs\\rasa\\lib\\site-packages\\tensor2tensor\\utils\\multistep_optimizer.py:32: The name tf.train.AdamOptimizer is deprecated. Please use tf.compat.v1.train.AdamOptimizer instead.\n",
      "\n",
      "WARNING:tensorflow:From C:\\Users\\yogesh.kulkarni\\AppData\\Local\\Continuum\\anaconda3\\envs\\rasa\\lib\\site-packages\\mesh_tensorflow\\ops.py:4237: The name tf.train.CheckpointSaverListener is deprecated. Please use tf.estimator.CheckpointSaverListener instead.\n",
      "\n",
      "WARNING:tensorflow:From C:\\Users\\yogesh.kulkarni\\AppData\\Local\\Continuum\\anaconda3\\envs\\rasa\\lib\\site-packages\\mesh_tensorflow\\ops.py:4260: The name tf.train.SessionRunHook is deprecated. Please use tf.estimator.SessionRunHook instead.\n",
      "\n",
      "WARNING:tensorflow:From C:\\Users\\yogesh.kulkarni\\AppData\\Local\\Continuum\\anaconda3\\envs\\rasa\\lib\\site-packages\\tensor2tensor\\models\\research\\neural_stack.py:51: The name tf.nn.rnn_cell.RNNCell is deprecated. Please use tf.compat.v1.nn.rnn_cell.RNNCell instead.\n",
      "\n",
      "WARNING:tensorflow:From C:\\Users\\yogesh.kulkarni\\AppData\\Local\\Continuum\\anaconda3\\envs\\rasa\\lib\\site-packages\\tensor2tensor\\utils\\trainer_lib.py:111: The name tf.OptimizerOptions is deprecated. Please use tf.compat.v1.OptimizerOptions instead.\n",
      "\n"
     ]
    },
    {
     "name": "stderr",
     "output_type": "stream",
     "text": [
      "WARNING:tensorflow:From C:\\Users\\yogesh.kulkarni\\AppData\\Local\\Continuum\\anaconda3\\envs\\rasa\\lib\\site-packages\\tensor2tensor\\utils\\trainer_lib.py:111: The name tf.OptimizerOptions is deprecated. Please use tf.compat.v1.OptimizerOptions instead.\n",
      "\n"
     ]
    },
    {
     "name": "stdout",
     "output_type": "stream",
     "text": [
      "WARNING:tensorflow:From C:\\Users\\yogesh.kulkarni\\AppData\\Local\\Continuum\\anaconda3\\envs\\rasa\\lib\\site-packages\\tensorflow_gan\\python\\contrib_utils.py:305: The name tf.estimator.tpu.TPUEstimator is deprecated. Please use tf.compat.v1.estimator.tpu.TPUEstimator instead.\n",
      "\n"
     ]
    },
    {
     "name": "stderr",
     "output_type": "stream",
     "text": [
      "WARNING:tensorflow:From C:\\Users\\yogesh.kulkarni\\AppData\\Local\\Continuum\\anaconda3\\envs\\rasa\\lib\\site-packages\\tensorflow_gan\\python\\contrib_utils.py:305: The name tf.estimator.tpu.TPUEstimator is deprecated. Please use tf.compat.v1.estimator.tpu.TPUEstimator instead.\n",
      "\n"
     ]
    },
    {
     "name": "stdout",
     "output_type": "stream",
     "text": [
      "WARNING:tensorflow:From C:\\Users\\yogesh.kulkarni\\AppData\\Local\\Continuum\\anaconda3\\envs\\rasa\\lib\\site-packages\\tensorflow_gan\\python\\contrib_utils.py:310: The name tf.estimator.tpu.TPUEstimatorSpec is deprecated. Please use tf.compat.v1.estimator.tpu.TPUEstimatorSpec instead.\n",
      "\n"
     ]
    },
    {
     "name": "stderr",
     "output_type": "stream",
     "text": [
      "WARNING:tensorflow:From C:\\Users\\yogesh.kulkarni\\AppData\\Local\\Continuum\\anaconda3\\envs\\rasa\\lib\\site-packages\\tensorflow_gan\\python\\contrib_utils.py:310: The name tf.estimator.tpu.TPUEstimatorSpec is deprecated. Please use tf.compat.v1.estimator.tpu.TPUEstimatorSpec instead.\n",
      "\n"
     ]
    },
    {
     "name": "stdout",
     "output_type": "stream",
     "text": [
      "WARNING:tensorflow:From C:\\Users\\yogesh.kulkarni\\AppData\\Local\\Continuum\\anaconda3\\envs\\rasa\\lib\\site-packages\\rasa\\utils\\train_utils.py:28: The name tf.ConfigProto is deprecated. Please use tf.compat.v1.ConfigProto instead.\n",
      "\n"
     ]
    },
    {
     "name": "stderr",
     "output_type": "stream",
     "text": [
      "WARNING:tensorflow:From C:\\Users\\yogesh.kulkarni\\AppData\\Local\\Continuum\\anaconda3\\envs\\rasa\\lib\\site-packages\\rasa\\utils\\train_utils.py:28: The name tf.ConfigProto is deprecated. Please use tf.compat.v1.ConfigProto instead.\n",
      "\n"
     ]
    },
    {
     "name": "stdout",
     "output_type": "stream",
     "text": [
      "WARNING:tensorflow:From C:\\Users\\yogesh.kulkarni\\AppData\\Local\\Continuum\\anaconda3\\envs\\rasa\\lib\\site-packages\\rasa\\core\\policies\\keras_policy.py:65: The name tf.Session is deprecated. Please use tf.compat.v1.Session instead.\n",
      "\n"
     ]
    },
    {
     "name": "stderr",
     "output_type": "stream",
     "text": [
      "WARNING:tensorflow:From C:\\Users\\yogesh.kulkarni\\AppData\\Local\\Continuum\\anaconda3\\envs\\rasa\\lib\\site-packages\\rasa\\core\\policies\\keras_policy.py:65: The name tf.Session is deprecated. Please use tf.compat.v1.Session instead.\n",
      "\n"
     ]
    }
   ],
   "source": [
    "# #Starting the Bot\n",
    "\n",
    "# from rasa_core.agent import Agent\n",
    "# agent = Agent.load('models/current/dialogue', interpreter=model_directory)\n",
    "\n",
    "import IPython\n",
    "from IPython.display import clear_output\n",
    "from rasa_core.agent import Agent\n",
    "from rasa_core.interpreter import NaturalLanguageInterpreter\n",
    "from rasa.utils.endpoints import EndpointConfig\n",
    "import asyncio\n",
    "import time\n",
    "\n",
    "def load_assistant():\n",
    "    messages = [\"Hi! you can chat in this window. Type 'stop' to end the conversation.\"]\n",
    "    model_dir = 'models/ipl_nlu/current' # or model_directory defined earlier\n",
    "    interpreter = NaturalLanguageInterpreter.create(model_dir)\n",
    "    endpoint = EndpointConfig('http://localhost:5055/webhook')\n",
    "    agent = Agent.load('models/ipl_dialogue/current', interpreter=interpreter, action_endpoint = endpoint)\n",
    "\n",
    "    print(\"Your bot is ready to talk! Type your messages here or send 'stop'\")\n",
    "    while True:\n",
    "        a = input()\n",
    "        if a == 'stop':\n",
    "            break\n",
    "        responses = asyncio.run(agent.handle_text(a)) # For Python 3.7\n",
    "        for response in responses:\n",
    "            print(response[\"text\"])"
   ]
  },
  {
   "cell_type": "code",
   "execution_count": 3,
   "metadata": {
    "colab": {
     "base_uri": "https://localhost:8080/",
     "height": 292
    },
    "colab_type": "code",
    "id": "DDVLzhAT5yrP",
    "outputId": "aee3fc83-df97-42b4-c7e0-c8929f76337c"
   },
   "outputs": [
    {
     "name": "stdout",
     "output_type": "stream",
     "text": [
      "WARNING:tensorflow:From C:\\Users\\yogesh.kulkarni\\AppData\\Local\\Continuum\\anaconda3\\envs\\rasa\\lib\\site-packages\\tensorflow\\python\\ops\\init_ops.py:97: calling GlorotUniform.__init__ (from tensorflow.python.ops.init_ops) with dtype is deprecated and will be removed in a future version.\n",
      "Instructions for updating:\n",
      "Call initializer instance with the dtype argument instead of passing it to the constructor\n"
     ]
    },
    {
     "name": "stderr",
     "output_type": "stream",
     "text": [
      "WARNING:tensorflow:From C:\\Users\\yogesh.kulkarni\\AppData\\Local\\Continuum\\anaconda3\\envs\\rasa\\lib\\site-packages\\tensorflow\\python\\ops\\init_ops.py:97: calling GlorotUniform.__init__ (from tensorflow.python.ops.init_ops) with dtype is deprecated and will be removed in a future version.\n",
      "Instructions for updating:\n",
      "Call initializer instance with the dtype argument instead of passing it to the constructor\n"
     ]
    },
    {
     "name": "stdout",
     "output_type": "stream",
     "text": [
      "WARNING:tensorflow:From C:\\Users\\yogesh.kulkarni\\AppData\\Local\\Continuum\\anaconda3\\envs\\rasa\\lib\\site-packages\\tensorflow\\python\\ops\\init_ops.py:1251: calling VarianceScaling.__init__ (from tensorflow.python.ops.init_ops) with dtype is deprecated and will be removed in a future version.\n",
      "Instructions for updating:\n",
      "Call initializer instance with the dtype argument instead of passing it to the constructor\n"
     ]
    },
    {
     "name": "stderr",
     "output_type": "stream",
     "text": [
      "WARNING:tensorflow:From C:\\Users\\yogesh.kulkarni\\AppData\\Local\\Continuum\\anaconda3\\envs\\rasa\\lib\\site-packages\\tensorflow\\python\\ops\\init_ops.py:1251: calling VarianceScaling.__init__ (from tensorflow.python.ops.init_ops) with dtype is deprecated and will be removed in a future version.\n",
      "Instructions for updating:\n",
      "Call initializer instance with the dtype argument instead of passing it to the constructor\n"
     ]
    },
    {
     "name": "stdout",
     "output_type": "stream",
     "text": [
      "WARNING:tensorflow:From C:\\Users\\yogesh.kulkarni\\AppData\\Local\\Continuum\\anaconda3\\envs\\rasa\\lib\\site-packages\\tensorflow\\python\\ops\\init_ops.py:97: calling Orthogonal.__init__ (from tensorflow.python.ops.init_ops) with dtype is deprecated and will be removed in a future version.\n",
      "Instructions for updating:\n",
      "Call initializer instance with the dtype argument instead of passing it to the constructor\n"
     ]
    },
    {
     "name": "stderr",
     "output_type": "stream",
     "text": [
      "WARNING:tensorflow:From C:\\Users\\yogesh.kulkarni\\AppData\\Local\\Continuum\\anaconda3\\envs\\rasa\\lib\\site-packages\\tensorflow\\python\\ops\\init_ops.py:97: calling Orthogonal.__init__ (from tensorflow.python.ops.init_ops) with dtype is deprecated and will be removed in a future version.\n",
      "Instructions for updating:\n",
      "Call initializer instance with the dtype argument instead of passing it to the constructor\n"
     ]
    },
    {
     "name": "stdout",
     "output_type": "stream",
     "text": [
      "WARNING:tensorflow:From C:\\Users\\yogesh.kulkarni\\AppData\\Local\\Continuum\\anaconda3\\envs\\rasa\\lib\\site-packages\\tensorflow\\python\\ops\\init_ops.py:97: calling Zeros.__init__ (from tensorflow.python.ops.init_ops) with dtype is deprecated and will be removed in a future version.\n",
      "Instructions for updating:\n",
      "Call initializer instance with the dtype argument instead of passing it to the constructor\n"
     ]
    },
    {
     "name": "stderr",
     "output_type": "stream",
     "text": [
      "WARNING:tensorflow:From C:\\Users\\yogesh.kulkarni\\AppData\\Local\\Continuum\\anaconda3\\envs\\rasa\\lib\\site-packages\\tensorflow\\python\\ops\\init_ops.py:97: calling Zeros.__init__ (from tensorflow.python.ops.init_ops) with dtype is deprecated and will be removed in a future version.\n",
      "Instructions for updating:\n",
      "Call initializer instance with the dtype argument instead of passing it to the constructor\n"
     ]
    },
    {
     "name": "stdout",
     "output_type": "stream",
     "text": [
      "WARNING:tensorflow:From C:\\Users\\yogesh.kulkarni\\AppData\\Local\\Continuum\\anaconda3\\envs\\rasa\\lib\\site-packages\\tensorflow\\python\\keras\\backend.py:3794: add_dispatch_support.<locals>.wrapper (from tensorflow.python.ops.array_ops) is deprecated and will be removed in a future version.\n",
      "Instructions for updating:\n",
      "Use tf.where in 2.0, which has the same broadcast rule as np.where\n"
     ]
    },
    {
     "name": "stderr",
     "output_type": "stream",
     "text": [
      "WARNING:tensorflow:From C:\\Users\\yogesh.kulkarni\\AppData\\Local\\Continuum\\anaconda3\\envs\\rasa\\lib\\site-packages\\tensorflow\\python\\keras\\backend.py:3794: add_dispatch_support.<locals>.wrapper (from tensorflow.python.ops.array_ops) is deprecated and will be removed in a future version.\n",
      "Instructions for updating:\n",
      "Use tf.where in 2.0, which has the same broadcast rule as np.where\n",
      "WARNING:rasa.core.interpreter:Tried to create NLU interpreter from '<rasa_core.interpreter.RasaNLUInterpreter object at 0x000001A24F047948>', which is not possible.Using RegexInterpreter instead.\n"
     ]
    },
    {
     "name": "stdout",
     "output_type": "stream",
     "text": [
      "Your bot is ready to talk! Type your messages here or send 'stop'\n",
      "Hi\n"
     ]
    },
    {
     "ename": "RuntimeError",
     "evalue": "asyncio.run() cannot be called from a running event loop",
     "output_type": "error",
     "traceback": [
      "\u001b[1;31m---------------------------------------------------------------------------\u001b[0m",
      "\u001b[1;31mRuntimeError\u001b[0m                              Traceback (most recent call last)",
      "\u001b[1;32m<ipython-input-3-76906f4a1ce5>\u001b[0m in \u001b[0;36m<module>\u001b[1;34m\u001b[0m\n\u001b[1;32m----> 1\u001b[1;33m \u001b[0mload_assistant\u001b[0m\u001b[1;33m(\u001b[0m\u001b[1;33m)\u001b[0m\u001b[1;33m\u001b[0m\u001b[1;33m\u001b[0m\u001b[0m\n\u001b[0m",
      "\u001b[1;32m<ipython-input-2-2d22c432c8ce>\u001b[0m in \u001b[0;36mload_assistant\u001b[1;34m()\u001b[0m\n\u001b[0;32m     24\u001b[0m         \u001b[1;32mif\u001b[0m \u001b[0ma\u001b[0m \u001b[1;33m==\u001b[0m \u001b[1;34m'stop'\u001b[0m\u001b[1;33m:\u001b[0m\u001b[1;33m\u001b[0m\u001b[1;33m\u001b[0m\u001b[0m\n\u001b[0;32m     25\u001b[0m             \u001b[1;32mbreak\u001b[0m\u001b[1;33m\u001b[0m\u001b[1;33m\u001b[0m\u001b[0m\n\u001b[1;32m---> 26\u001b[1;33m         \u001b[0mresponses\u001b[0m \u001b[1;33m=\u001b[0m \u001b[0masyncio\u001b[0m\u001b[1;33m.\u001b[0m\u001b[0mrun\u001b[0m\u001b[1;33m(\u001b[0m\u001b[0magent\u001b[0m\u001b[1;33m.\u001b[0m\u001b[0mhandle_text\u001b[0m\u001b[1;33m(\u001b[0m\u001b[0ma\u001b[0m\u001b[1;33m)\u001b[0m\u001b[1;33m)\u001b[0m \u001b[1;31m# For Python 3.7\u001b[0m\u001b[1;33m\u001b[0m\u001b[1;33m\u001b[0m\u001b[0m\n\u001b[0m\u001b[0;32m     27\u001b[0m         \u001b[1;32mfor\u001b[0m \u001b[0mresponse\u001b[0m \u001b[1;32min\u001b[0m \u001b[0mresponses\u001b[0m\u001b[1;33m:\u001b[0m\u001b[1;33m\u001b[0m\u001b[1;33m\u001b[0m\u001b[0m\n\u001b[0;32m     28\u001b[0m             \u001b[0mprint\u001b[0m\u001b[1;33m(\u001b[0m\u001b[0mresponse\u001b[0m\u001b[1;33m[\u001b[0m\u001b[1;34m\"text\"\u001b[0m\u001b[1;33m]\u001b[0m\u001b[1;33m)\u001b[0m\u001b[1;33m\u001b[0m\u001b[1;33m\u001b[0m\u001b[0m\n",
      "\u001b[1;32m~\\AppData\\Local\\Continuum\\anaconda3\\envs\\rasa\\lib\\asyncio\\runners.py\u001b[0m in \u001b[0;36mrun\u001b[1;34m(main, debug)\u001b[0m\n\u001b[0;32m     32\u001b[0m     \u001b[1;32mif\u001b[0m \u001b[0mevents\u001b[0m\u001b[1;33m.\u001b[0m\u001b[0m_get_running_loop\u001b[0m\u001b[1;33m(\u001b[0m\u001b[1;33m)\u001b[0m \u001b[1;32mis\u001b[0m \u001b[1;32mnot\u001b[0m \u001b[1;32mNone\u001b[0m\u001b[1;33m:\u001b[0m\u001b[1;33m\u001b[0m\u001b[1;33m\u001b[0m\u001b[0m\n\u001b[0;32m     33\u001b[0m         raise RuntimeError(\n\u001b[1;32m---> 34\u001b[1;33m             \"asyncio.run() cannot be called from a running event loop\")\n\u001b[0m\u001b[0;32m     35\u001b[0m \u001b[1;33m\u001b[0m\u001b[0m\n\u001b[0;32m     36\u001b[0m     \u001b[1;32mif\u001b[0m \u001b[1;32mnot\u001b[0m \u001b[0mcoroutines\u001b[0m\u001b[1;33m.\u001b[0m\u001b[0miscoroutine\u001b[0m\u001b[1;33m(\u001b[0m\u001b[0mmain\u001b[0m\u001b[1;33m)\u001b[0m\u001b[1;33m:\u001b[0m\u001b[1;33m\u001b[0m\u001b[1;33m\u001b[0m\u001b[0m\n",
      "\u001b[1;31mRuntimeError\u001b[0m: asyncio.run() cannot be called from a running event loop"
     ]
    }
   ],
   "source": [
    "load_assistant()"
   ]
  },
  {
   "cell_type": "markdown",
   "metadata": {
    "colab": {},
    "colab_type": "code",
    "id": "enJNkbvB54y1"
   },
   "source": [
    "## What Next?\n",
    "\n",
    "- Try to use different pipelines in Rasa Core, explore more Policies, fine-tune those models, \n",
    "- Check out what other features CricAPI provides, etc.\n",
    "- Other APIs\n",
    "- Slot filling\n",
    "- Different languages (Hindi bot?)\n",
    "\n"
   ]
  },
  {
   "cell_type": "code",
   "execution_count": null,
   "metadata": {},
   "outputs": [],
   "source": []
  }
 ],
 "metadata": {
  "accelerator": "GPU",
  "anaconda-cloud": {},
  "colab": {
   "include_colab_link": true,
   "name": "Conversational_Chatbot.ipynb",
   "provenance": [],
   "version": "0.3.2"
  },
  "kernelspec": {
   "display_name": "Python [conda env:rasa] *",
   "language": "python",
   "name": "conda-env-rasa-py"
  },
  "language_info": {
   "codemirror_mode": {
    "name": "ipython",
    "version": 3
   },
   "file_extension": ".py",
   "mimetype": "text/x-python",
   "name": "python",
   "nbconvert_exporter": "python",
   "pygments_lexer": "ipython3",
   "version": "3.7.4"
  }
 },
 "nbformat": 4,
 "nbformat_minor": 1
}
