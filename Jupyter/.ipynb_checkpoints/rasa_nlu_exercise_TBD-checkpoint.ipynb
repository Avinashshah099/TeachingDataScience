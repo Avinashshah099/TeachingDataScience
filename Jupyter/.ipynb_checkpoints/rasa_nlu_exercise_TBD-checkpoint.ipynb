{
 "cells": [
  {
   "cell_type": "markdown",
   "metadata": {
    "colab_type": "text",
    "id": "3oxVq6vQ76r7"
   },
   "source": [
    "# IPL Chatbot\n",
    "\n",
    "Original: Learn how to Build and Deploy a Chatbot in Minutes using Rasa (IPL Case Study!) - Mohd Sanad Zaki Rizvi, Analytics Vidhya https://www.analyticsvidhya.com/blog/2019/04/learn-build-chatbot-rasa-nlp-ipl)"
   ]
  },
  {
   "cell_type": "markdown",
   "metadata": {
    "colab_type": "text",
    "id": "kIFYA-Kp8aK4"
   },
   "source": [
    "**Objectives** To build a chatbot capable of fetching latest info about the ongoing IPL (Indian Premier League) matches from cricapi.com site.\n",
    "\n",
    "<img src=\"images/ipl.jpg\">"
   ]
  },
  {
   "cell_type": "markdown",
   "metadata": {},
   "source": [
    "## Rasa Stack\n",
    "\n",
    "- Lets you focus on improving the “Chatbot” part of your project \n",
    "- Default set up of Rasa works really well right out of the box for intent extraction and dialogue management\n",
    "- LOCAL models, no API calls for intent extraction and dialogue management, except if your business logic needs external calls."
   ]
  },
  {
   "cell_type": "markdown",
   "metadata": {},
   "source": [
    "## Architecture of chatbot\n",
    "\n",
    "<img src=\"images/rasa_full4.png\">\n",
    "\n",
    "\n",
    "- As soon as Rasa receives a message from the end user, it tries to predict or extract the “intent” and “entities” present in the message. This part is handled by Rasa NLU\n",
    "- Once the user’s intent is identified, the Rasa Stack performs an action called action_match_news to get the updates from the latest IPL match\n",
    "- Rasa then tries to predict what it should do next. This decision is taken considering multiple factors and is handled by Rasa Core\n",
    "- In this example, Rasa is showing the result of the most recent match to the user. It has also predicted the next action that our model should take – to check with the user whether the chatbot was able to solve his/her query"
   ]
  },
  {
   "cell_type": "markdown",
   "metadata": {
    "colab_type": "text",
    "id": "IVAF41hr8jU5"
   },
   "source": [
    "## Installations\n",
    "Official Documentation: https://rasa.com/docs/core/installation/\n",
    "* Python\n",
    "* Rasa Starter Pack\n",
    "* Spacy Language Model\n",
    "\n",
    "\n",
    "### Python\n",
    "* Install Anaconda 4.2.0 for Python 3.5 or Ananconda 5.2.0 for Python 3.6 \n",
    "* Windows Build tools: Make sure the Microsoft $VC++$ Compiler Visual Studio 2015 is installed, so python can compile any dependencies or https://visualstudio.microsoft.com/visual-cpp-build-tools/ Download the installer and select VC++ Build tools in the list.\n",
    "\n",
    "(My Note: on main page of Anaconda is https://www.anaconda.com/distribution/ you see Python 3.7, which is problematic, gives HTTP error while creating env. I had to delete 3.7 and get 3.6. Btw, this site does not mention which Anaconda installer has which Python version. WHY? thats the most crucial info. Anyway, I have given them here.)\n",
    "\n",
    "### Python Environment\n",
    "* By installing conda, you get base or the root environment, which is the default.\n",
    "* Practical tip: DO NOT install any packages in the root. ALWAYS create and env and install inside the new env.\n",
    "* Env is needed esepcially for fragile packages like Python (its treated as a package) and rasa.\n",
    "* So, **conda create -n rasa python=3.6** \n",
    "\n",
    "(My Note: Env management is again a sour point. It creates complete copy (deeeep) of python 3.6 and all other packages inside \"envs\" folder. Goes to 1.5 GB!! Can someone optimize it?)\n",
    "\n",
    "\n",
    "### IPL bot code (for reference)\n",
    "\n",
    "* Clone repo from https://github.com/mohdsanadzakirizvi/iplbot.git\n",
    "* \"Complete Version\" gives latest running application (Some modifications are needed, mentioned below)\n",
    "\n",
    "<!---\n",
    "* Let’s take a look at the folder structure and the files that were created \n",
    "<img src=\"images/nlu.png\">\n",
    "* Install git, can git clone above package.\n",
    "-->\n",
    "\n",
    "* **WE WILL BE CODING IT FROM SCRATCH**\n",
    "* Run following commands:\n",
    "\n",
    "* **mkdir code; cd code;mkdir data**\n",
    "* **activate rasa**\n",
    "* **pip install -r iplbot_requirements.txt** or **conda env create -f environment.yml**\n",
    "\n",
    "\n",
    "### Spacy Language Models\n",
    "* Open cmd in Administrator mode and activate the env\n",
    "* Download medium english by **python -m spacy download en_core_web_md** \n",
    "* Link with **python -m spacy link en_core_web_md en --force**\n",
    "\n",
    "\n",
    "(My Note: First command will show that linking is done, but it may not have happened actually. So, do next step anyway.)\n",
    "\n",
    "### Others\n",
    "* Install nb_conda_kernels to let Jupyter Notebook see the new env\n",
    "* Create account on cricapi.com (free, can login using Google account). Note down API Key and set it as CRICINFOAPI env variable\n",
    "\n",
    "<!---\n",
    "* Need Rasa Core SDK for custom actions **pip install rasa_core_sdk** and run it as **python -m rasa_core_sdk.endpoint --actions actions** where actions.py has all the custom actions\n",
    "* Install pygraphviz by **conda install -c alubbock pygraphviz**\n",
    "-->"
   ]
  },
  {
   "cell_type": "markdown",
   "metadata": {
    "colab_type": "text",
    "id": "yHYeAA859JGq"
   },
   "source": [
    "### Importing Libraries"
   ]
  },
  {
   "cell_type": "code",
   "execution_count": 1,
   "metadata": {
    "colab": {},
    "colab_type": "code",
    "id": "TSw6zFmk3iPu",
    "scrolled": true
   },
   "outputs": [],
   "source": [
    "%matplotlib inline\n",
    "\n",
    "import logging, io, json, warnings\n",
    "logging.basicConfig(level=\"INFO\")\n",
    "warnings.filterwarnings('ignore')\n",
    "\n",
    "import rasa_nlu\n",
    "import rasa_core\n",
    "import spacy"
   ]
  },
  {
   "cell_type": "markdown",
   "metadata": {
    "colab_type": "text",
    "id": "aEw5vhSq9gWa"
   },
   "source": [
    "## Rasa NLU: Extracting User Intent from a Message\n",
    "\n",
    "The first thing we want to do is figure out the intent of the user. What does he or she want to accomplish? Let’s utilize Rasa and build an NLU model to identify user intent and its related entities."
   ]
  },
  {
   "cell_type": "markdown",
   "metadata": {
    "colab_type": "text",
    "id": "oDEAOmaI9o4a"
   },
   "source": [
    "### Preparing the NLU Training Data\n",
    "\n",
    "Training data for extracting the user intent.\n",
    "As you can see, the format of training data for ‘intent’ is quite simple in Rasa. You just have to:\n",
    "\n",
    "- Start the line with “## intent:intent_name”\n",
    "- Supply all the examples in the following lines"
   ]
  },
  {
   "cell_type": "code",
   "execution_count": 2,
   "metadata": {
    "colab": {
     "base_uri": "https://localhost:8080/",
     "height": 34
    },
    "colab_type": "code",
    "id": "RPxeQ1_14CjK",
    "outputId": "bfb5974f-f8ea-46b8-b8cb-9dd4479ed9cc"
   },
   "outputs": [
    {
     "name": "stdout",
     "output_type": "stream",
     "text": [
      "Writing 'nlu_md' (str) to file 'data/nlu_data.md'.\n"
     ]
    }
   ],
   "source": [
    "nlu_md = \"\"\"\n",
    "## intent:goodbye  \n",
    "- Bye \n",
    "- Goodbye\n",
    "- See you later\n",
    "- Bye bot\n",
    "- Goodbye friend\n",
    "- bye\n",
    "- bye for now\n",
    "- catch you later\n",
    "- gotta go\n",
    "- See you\n",
    "- goodnight\n",
    "- have a nice day\n",
    "- i'm off\n",
    "- see you later alligator\n",
    "- we'll speak soon\n",
    "- end\n",
    "- finish\n",
    "\n",
    "## intent:greet\n",
    "- Hi\n",
    "- Hey\n",
    "- Hi bot\n",
    "- Hey bot\n",
    "- Hello\n",
    "- Good morning\n",
    "- hi again\n",
    "- hi folks\n",
    "- hi Mister\n",
    "- hi pal!\n",
    "- hi there\n",
    "- greetings\n",
    "- hello everybody\n",
    "- hello is anybody there\n",
    "- hello robot\n",
    "- who are you?\n",
    "- what are you?\n",
    "- what's up\n",
    "- how do you do?\n",
    "\n",
    "## intent:thanks\n",
    "- Thanks\n",
    "- Thank you\n",
    "- Thank you so much\n",
    "- Thanks bot\n",
    "- Thanks for that\n",
    "- cheers\n",
    "- cheers bro\n",
    "- ok thanks!\n",
    "- perfect thank you\n",
    "- thanks a bunch for everything\n",
    "- thanks for the help\n",
    "- thanks a lot\n",
    "- amazing, thanks\n",
    "- cool, thanks\n",
    "- cool thank you\n",
    "\n",
    "## intent:affirm\n",
    "- y\n",
    "- Y\n",
    "- yes\n",
    "- yes sure\n",
    "- absolutely\n",
    "- for sure\n",
    "- yes yes yes\n",
    "- definitely\n",
    "- yes, it did.\n",
    "\n",
    "## intent:current_matches\n",
    "- what are the current matches\n",
    "- can you list the matches in ipl 2019\n",
    "- which cricket match is happening right now\n",
    "- which ipl match is next\n",
    "- which teams are playing next in ipl\n",
    "- which team will play next in ipl\n",
    "- tell me some ipl news\n",
    "- i want ipl updates\n",
    "- can you give me ipl latest updates\n",
    "- what are the latest match updates\n",
    "- who won the last ipl match\n",
    "- which teams are competing in the next match\n",
    "- how is ipl going\n",
    "- what was the result of the last match\n",
    "- when is the next match\n",
    "\n",
    "## intent:deny\n",
    "- no\n",
    "- never\n",
    "- I don't think so\n",
    "- don't like that\n",
    "- no way\n",
    "- not really\n",
    "- n\n",
    "- N\n",
    "\"\"\"\n",
    "\n",
    "%store nlu_md > data/nlu_data.md"
   ]
  },
  {
   "cell_type": "markdown",
   "metadata": {},
   "source": [
    "You can include as many examples as you want for each intent. In fact, make sure to include slangs and short forms that you use while texting. The idea is to make the chatbot understand the way we type text. Feel free to refer to the complete version where I have given plenty of examples for each intent type."
   ]
  },
  {
   "cell_type": "markdown",
   "metadata": {
    "colab_type": "text",
    "id": "ceazcacn9veB"
   },
   "source": [
    "### Defining the NLU Model Configuration\n",
    "\n",
    "This file lets us create a text processing pipeline in Rasa. Luckily for us, Rasa comes with two default settings based on the amount of training data we have:\n",
    "- “spacy_sklearn” pipeline if you have less than 1000 training examples\n",
    "- “tensorflow_embedding” if you have a large amount of data"
   ]
  },
  {
   "cell_type": "code",
   "execution_count": 4,
   "metadata": {
    "colab": {
     "base_uri": "https://localhost:8080/",
     "height": 34
    },
    "colab_type": "code",
    "id": "dF60NWhR4ID6",
    "outputId": "92946645-94fc-4450-aa41-eca8895ff83c"
   },
   "outputs": [
    {
     "name": "stdout",
     "output_type": "stream",
     "text": [
      "Writing 'config' (str) to file 'config/nlu_config.yml'.\n"
     ]
    }
   ],
   "source": [
    "config = \"\"\"\n",
    "language: \"en\"\n",
    "pipeline: spacy_sklearn\n",
    "\"\"\" \n",
    "\n",
    "%store config > config/nlu_config.yml"
   ]
  },
  {
   "cell_type": "markdown",
   "metadata": {
    "colab_type": "text",
    "id": "ieoWk91X9y8X"
   },
   "source": [
    "### Training the NLU Classifier Model\n",
    "\n",
    "On command line you can run following command:\n",
    "\n",
    "**python -m rasa_nlu.train -c nlu_config.yml --data data/nlu_data.md -o models --fixed_model_name nlu --project current --verbose**\n",
    "\n",
    "Or programmatically you can write code"
   ]
  },
  {
   "cell_type": "code",
   "execution_count": 5,
   "metadata": {
    "colab": {
     "base_uri": "https://localhost:8080/",
     "height": 445
    },
    "colab_type": "code",
    "id": "dp3AIHmS4L6x",
    "outputId": "8011c4f7-c789-4138-84d7-4710207615d8"
   },
   "outputs": [
    {
     "name": "stderr",
     "output_type": "stream",
     "text": [
      "WARNING:tensorflow:\n",
      "The TensorFlow contrib module will not be included in TensorFlow 2.0.\n",
      "For more information, please see:\n",
      "  * https://github.com/tensorflow/community/blob/master/rfcs/20180907-contrib-sunset.md\n",
      "  * https://github.com/tensorflow/addons\n",
      "  * https://github.com/tensorflow/io (for I/O related ops)\n",
      "If you depend on functionality not listed there, please file an issue.\n",
      "\n",
      "WARNING:tensorflow:From C:\\Users\\YogeshKulkarni\\AppData\\Local\\conda\\conda\\envs\\rasa\\lib\\site-packages\\tensor2tensor\\utils\\adafactor.py:27: The name tf.train.Optimizer is deprecated. Please use tf.compat.v1.train.Optimizer instead.\n",
      "\n",
      "WARNING:tensorflow:From C:\\Users\\YogeshKulkarni\\AppData\\Local\\conda\\conda\\envs\\rasa\\lib\\site-packages\\tensor2tensor\\utils\\multistep_optimizer.py:32: The name tf.train.AdamOptimizer is deprecated. Please use tf.compat.v1.train.AdamOptimizer instead.\n",
      "\n",
      "WARNING:tensorflow:From C:\\Users\\YogeshKulkarni\\AppData\\Local\\conda\\conda\\envs\\rasa\\lib\\site-packages\\mesh_tensorflow\\ops.py:4237: The name tf.train.CheckpointSaverListener is deprecated. Please use tf.estimator.CheckpointSaverListener instead.\n",
      "\n",
      "WARNING:tensorflow:From C:\\Users\\YogeshKulkarni\\AppData\\Local\\conda\\conda\\envs\\rasa\\lib\\site-packages\\mesh_tensorflow\\ops.py:4260: The name tf.train.SessionRunHook is deprecated. Please use tf.estimator.SessionRunHook instead.\n",
      "\n",
      "WARNING:tensorflow:From C:\\Users\\YogeshKulkarni\\AppData\\Local\\conda\\conda\\envs\\rasa\\lib\\site-packages\\tensor2tensor\\models\\research\\neural_stack.py:51: The name tf.nn.rnn_cell.RNNCell is deprecated. Please use tf.compat.v1.nn.rnn_cell.RNNCell instead.\n",
      "\n",
      "INFO:absl:Entry Point [tensor2tensor.envs.tic_tac_toe_env:TicTacToeEnv] registered with id [T2TEnv-TicTacToeEnv-v0]\n",
      "WARNING:tensorflow:From C:\\Users\\YogeshKulkarni\\AppData\\Local\\conda\\conda\\envs\\rasa\\lib\\site-packages\\tensor2tensor\\utils\\trainer_lib.py:111: The name tf.OptimizerOptions is deprecated. Please use tf.compat.v1.OptimizerOptions instead.\n",
      "\n",
      "WARNING:tensorflow:From C:\\Users\\YogeshKulkarni\\AppData\\Local\\conda\\conda\\envs\\rasa\\lib\\site-packages\\tensorflow_gan\\python\\contrib_utils.py:305: The name tf.estimator.tpu.TPUEstimator is deprecated. Please use tf.compat.v1.estimator.tpu.TPUEstimator instead.\n",
      "\n",
      "WARNING:tensorflow:From C:\\Users\\YogeshKulkarni\\AppData\\Local\\conda\\conda\\envs\\rasa\\lib\\site-packages\\tensorflow_gan\\python\\contrib_utils.py:310: The name tf.estimator.tpu.TPUEstimatorSpec is deprecated. Please use tf.compat.v1.estimator.tpu.TPUEstimatorSpec instead.\n",
      "\n",
      "WARNING:tensorflow:From C:\\Users\\YogeshKulkarni\\AppData\\Local\\conda\\conda\\envs\\rasa\\lib\\site-packages\\rasa\\utils\\train_utils.py:28: The name tf.ConfigProto is deprecated. Please use tf.compat.v1.ConfigProto instead.\n",
      "\n",
      "WARNING:rasa_nlu.config:You have specified the pipeline template 'spacy_sklearn' which has been renamed to 'pretrained_embeddings_spacy'. Please update your code as it will no longer work with future versions of Rasa NLU.\n",
      "INFO:rasa.nlu.utils.spacy_utils:Trying to load spacy model with name 'en'\n",
      "INFO:rasa.nlu.components:Added 'SpacyNLP' to component cache. Key 'SpacyNLP-en'.\n",
      "INFO:rasa_nlu.model:Starting to train component SpacyNLP\n",
      "INFO:rasa_nlu.model:Finished training component.\n",
      "INFO:rasa_nlu.model:Starting to train component SpacyTokenizer\n",
      "INFO:rasa_nlu.model:Finished training component.\n",
      "INFO:rasa_nlu.model:Starting to train component SpacyFeaturizer\n",
      "INFO:rasa_nlu.model:Finished training component.\n",
      "INFO:rasa_nlu.model:Starting to train component RegexFeaturizer\n",
      "INFO:rasa_nlu.model:Finished training component.\n",
      "INFO:rasa_nlu.model:Starting to train component CRFEntityExtractor\n",
      "INFO:rasa_nlu.model:Finished training component.\n",
      "INFO:rasa_nlu.model:Starting to train component EntitySynonymMapper\n",
      "INFO:rasa_nlu.model:Finished training component.\n",
      "INFO:rasa_nlu.model:Starting to train component SklearnIntentClassifier\n"
     ]
    },
    {
     "name": "stdout",
     "output_type": "stream",
     "text": [
      "Fitting 2 folds for each of 6 candidates, totalling 12 fits\n"
     ]
    },
    {
     "name": "stderr",
     "output_type": "stream",
     "text": [
      "[Parallel(n_jobs=1)]: Using backend SequentialBackend with 1 concurrent workers.\n",
      "[Parallel(n_jobs=1)]: Done  12 out of  12 | elapsed:    0.0s finished\n",
      "C:\\Users\\YogeshKulkarni\\AppData\\Local\\conda\\conda\\envs\\rasa\\lib\\site-packages\\sklearn\\model_selection\\_search.py:842: DeprecationWarning: The default of the `iid` parameter will change from True to False in version 0.22 and will be removed in 0.24. This will change numeric results when test-set sizes are unequal.\n",
      "  DeprecationWarning)\n",
      "INFO:rasa_nlu.model:Finished training component.\n",
      "INFO:rasa_nlu.model:Successfully saved model into 'D:\\Yogesh\\ToDos\\Teaching\\TeachingDataScience\\Jupyter\\models\\nlu\\current'\n"
     ]
    }
   ],
   "source": [
    "from rasa_nlu.training_data import load_data\n",
    "from rasa_nlu.config import RasaNLUModelConfig\n",
    "from rasa_nlu.model import Trainer\n",
    "from rasa_nlu import config\n",
    "\n",
    "# loading the nlu training samples\n",
    "training_data = load_data(\"data/nlu_data.md\")\n",
    "\n",
    "# trainer to educate our pipeline\n",
    "trainer = Trainer(config.load(\"config/nlu_config.yml\"))\n",
    "\n",
    "# train the model!\n",
    "interpreter = trainer.train(training_data)\n",
    "\n",
    "# store it for future use\n",
    "model_directory = trainer.persist(\"./models/nlu\", fixed_model_name=\"current\")"
   ]
  },
  {
   "cell_type": "markdown",
   "metadata": {
    "colab_type": "text",
    "id": "Jrfp4xOS95ZZ"
   },
   "source": [
    "### Evaluating the NLU model on a random text (first way)\n",
    "\n",
    "Let’s test how good our model is performing by giving it a sample text that it hasn’t been trained on for extracting intent. "
   ]
  },
  {
   "cell_type": "code",
   "execution_count": 6,
   "metadata": {
    "colab": {
     "base_uri": "https://localhost:8080/",
     "height": 867
    },
    "colab_type": "code",
    "id": "4UjzlqMV4N1k",
    "outputId": "37ea93e5-6a71-4e8e-d2b6-a45144d184ad"
   },
   "outputs": [
    {
     "name": "stdout",
     "output_type": "stream",
     "text": [
      "{\n",
      "  \"intent\": {\n",
      "    \"name\": \"current_matches\",\n",
      "    \"confidence\": 0.5398919216672282\n",
      "  },\n",
      "  \"entities\": [],\n",
      "  \"intent_ranking\": [\n",
      "    {\n",
      "      \"name\": \"current_matches\",\n",
      "      \"confidence\": 0.5398919216672282\n",
      "    },\n",
      "    {\n",
      "      \"name\": \"greet\",\n",
      "      \"confidence\": 0.258883611593913\n",
      "    },\n",
      "    {\n",
      "      \"name\": \"goodbye\",\n",
      "      \"confidence\": 0.08764150338897336\n",
      "    },\n",
      "    {\n",
      "      \"name\": \"affirm\",\n",
      "      \"confidence\": 0.05091891706981237\n",
      "    },\n",
      "    {\n",
      "      \"name\": \"deny\",\n",
      "      \"confidence\": 0.032140384032668654\n",
      "    },\n",
      "    {\n",
      "      \"name\": \"thanks\",\n",
      "      \"confidence\": 0.030523662247404274\n",
      "    }\n",
      "  ],\n",
      "  \"text\": \"what is happening in the cricket world these days?\"\n",
      "}\n"
     ]
    }
   ],
   "source": [
    "# A helper function for prettier output\n",
    "\n",
    "def pprint(o):   \n",
    "    print(json.dumps(o, indent=2))\n",
    "    \n",
    "pprint(interpreter.parse(\"what is happening in the cricket world these days?\"))"
   ]
  },
  {
   "cell_type": "markdown",
   "metadata": {},
   "source": [
    "Not only does our NLU model perform well on intent extraction, but it also ranks the other intents based on their confidence scores. This is a nifty little feature that can be really useful when the classifier is confused between multiple intents."
   ]
  },
  {
   "cell_type": "markdown",
   "metadata": {},
   "source": [
    "### Evaluating the NLU model on a random text (2nd way)\n",
    "Let’s test how good our model is performing by giving it a sample text that it hasn’t been trained on for extracting intent. You can open an iPython/Python shell and follow the following steps:"
   ]
  },
  {
   "cell_type": "code",
   "execution_count": 8,
   "metadata": {},
   "outputs": [
    {
     "name": "stderr",
     "output_type": "stream",
     "text": [
      "INFO:rasa.nlu.components:Added 'SpacyNLP' to component cache. Key 'SpacyNLP-en'.\n"
     ]
    },
    {
     "data": {
      "text/plain": [
       "{'intent': {'name': 'current_matches', 'confidence': 0.5398919216672282},\n",
       " 'entities': [],\n",
       " 'intent_ranking': [{'name': 'current_matches',\n",
       "   'confidence': 0.5398919216672282},\n",
       "  {'name': 'greet', 'confidence': 0.258883611593913},\n",
       "  {'name': 'goodbye', 'confidence': 0.08764150338897336},\n",
       "  {'name': 'affirm', 'confidence': 0.05091891706981237},\n",
       "  {'name': 'deny', 'confidence': 0.032140384032668654},\n",
       "  {'name': 'thanks', 'confidence': 0.030523662247404274}],\n",
       " 'text': 'what is happening in the cricket world these days?'}"
      ]
     },
     "execution_count": 8,
     "metadata": {},
     "output_type": "execute_result"
    }
   ],
   "source": [
    "from rasa_nlu.model import Interpreter\n",
    "nlu_model = Interpreter.load('./models/nlu/current')\n",
    "nlu_model.parse('what is happening in the cricket world these days?')"
   ]
  },
  {
   "cell_type": "markdown",
   "metadata": {
    "colab_type": "text",
    "id": "OPlSd-As-Fz4"
   },
   "source": [
    "### Evaluating the NLU model on a test data\n",
    "(Here we are using the data at hand i.e nlu.md but it isr recommended to use unseen data)"
   ]
  },
  {
   "cell_type": "code",
   "execution_count": 9,
   "metadata": {
    "colab": {
     "base_uri": "https://localhost:8080/",
     "height": 1483
    },
    "colab_type": "code",
    "id": "FmRCylbT4jyw",
    "outputId": "fd1bfd57-ebb3-4541-d3b3-b4cbba781164"
   },
   "outputs": [
    {
     "ename": "ImportError",
     "evalue": "cannot import name 'run_evaluation'",
     "output_type": "error",
     "traceback": [
      "\u001b[1;31m---------------------------------------------------------------------------\u001b[0m",
      "\u001b[1;31mImportError\u001b[0m                               Traceback (most recent call last)",
      "\u001b[1;32m<ipython-input-9-4f921f29c870>\u001b[0m in \u001b[0;36m<module>\u001b[1;34m\u001b[0m\n\u001b[1;32m----> 1\u001b[1;33m \u001b[1;32mfrom\u001b[0m \u001b[0mrasa_nlu\u001b[0m\u001b[1;33m.\u001b[0m\u001b[0mevaluate\u001b[0m \u001b[1;32mimport\u001b[0m \u001b[0mrun_evaluation\u001b[0m\u001b[1;33m\u001b[0m\u001b[1;33m\u001b[0m\u001b[0m\n\u001b[0m\u001b[0;32m      2\u001b[0m \u001b[1;33m\u001b[0m\u001b[0m\n\u001b[0;32m      3\u001b[0m \u001b[0mrun_evaluation\u001b[0m\u001b[1;33m(\u001b[0m\u001b[1;34m\"data/nlu_data.md\"\u001b[0m\u001b[1;33m,\u001b[0m \u001b[0mmodel_directory\u001b[0m\u001b[1;33m)\u001b[0m\u001b[1;33m\u001b[0m\u001b[1;33m\u001b[0m\u001b[0m\n",
      "\u001b[1;31mImportError\u001b[0m: cannot import name 'run_evaluation'"
     ]
    }
   ],
   "source": [
    "from rasa_nlu.test import run_evaluation\n",
    "\n",
    "run_evaluation(\"data/nlu_data.md\", model_directory)"
   ]
  },
  {
   "cell_type": "markdown",
   "metadata": {
    "colab_type": "text",
    "id": "Av3R2GZZ-WJO"
   },
   "source": [
    "## Rasa Core: Making Interactive Conversations\n",
    "\n",
    "One of the most important aspects of a chatbot application is its ability to be interactive. \n",
    "\n",
    "### Designing the conversational flow\n",
    "\n",
    "Think of the simplest conversation our chatbot can have with a user. What would be the flow of such a conversation?\n",
    "\n",
    "---\n",
    "Me: Hi\n",
    "\n",
    "Iplbot: Hey! How may I help you?\n",
    "\n",
    "Me: What was the result of the last match?\n",
    "\n",
    "Iplbot: Here are some IPL quick info:\n",
    "1.The match between Rajasthan Royals and Delhi Capitals was recently held and Delhi Capitals won.\n",
    "2.The next match is Warriors vs Titans on 22 April 2019\n",
    "\n",
    "Iplbot: Did that help you?\n",
    "\n",
    "Me: yes, thank you!\n",
    "\n",
    "Iplbot: Glad that I could help!\n",
    "\n",
    "---\n",
    "Let’s see how we can teach a simple conversation like that to Rasa:\n"
   ]
  },
  {
   "cell_type": "raw",
   "metadata": {},
   "source": [
    "## news path 1\n",
    "* greet\n",
    "  - utter_greet\n",
    "* current_matches\n",
    "  - action_match_news\n",
    "  - utter_did_that_help\n",
    "* affirm or thanks\n",
    "  - utter_gratitude\n",
    "* goodbye\n",
    "  - utter_goodbye"
   ]
  },
  {
   "cell_type": "markdown",
   "metadata": {},
   "source": [
    "The general format is:"
   ]
  },
  {
   "cell_type": "raw",
   "metadata": {},
   "source": [
    "## news path 1           <--- story name for debugging purposes\n",
    "* greet                  <--- intent detected from the user\n",
    "  - utter_greet          <--- what action the bot should take\n",
    "* current_matches        <--- the following intent in the conversation"
   ]
  },
  {
   "cell_type": "markdown",
   "metadata": {},
   "source": [
    "This is called a user story path. I have provided a few stories in the data/stories.md file for your reference. This is the training data for Rasa Core."
   ]
  },
  {
   "cell_type": "markdown",
   "metadata": {
    "colab_type": "text",
    "id": "BKZ63AuS-ZPV"
   },
   "source": [
    "### Writing  Stories\n",
    "\n",
    "The way it works is:\n",
    "\n",
    "- Give some examples of sample story paths that the user is expected to follow\n",
    "- Rasa Core combines them randomly to create more complex user paths\n",
    "- It then builds a probabilistic model out of that. This model is used to predict the next action Rasa should take\n",
    "\n",
    "<img src=\"images/conversation_flow.png\">\n",
    "\n",
    "The above illustration might look complicated, but it’s simply listing out various possible user stories that I have taught Rasa. Here are a few things to note from the above graph:\n",
    "\n",
    "- Except for the START and END boxes, all the colored boxes indicate user intent\n",
    "- All the white boxes are actions that the chatbot performs\n",
    "- Arrows indicate the flow of the conversation\n",
    "- action_match_news is where we hit the CricAPI to get IPL information"
   ]
  },
  {
   "cell_type": "code",
   "execution_count": 9,
   "metadata": {
    "colab": {
     "base_uri": "https://localhost:8080/",
     "height": 34
    },
    "colab_type": "code",
    "id": "W3q1XJ5O4orY",
    "outputId": "a82511c7-b7e5-462c-c5c2-35df3cabd39a"
   },
   "outputs": [
    {
     "name": "stdout",
     "output_type": "stream",
     "text": [
      "Writing 'stories_md' (str) to file 'data/stories.md'.\n"
     ]
    }
   ],
   "source": [
    "stories_md = \"\"\"\n",
    "## news path 1\n",
    "* greet\n",
    "  - utter_greet\n",
    "* current_matches\n",
    "  - action_match_news\n",
    "  - utter_did_that_help\n",
    "* affirm or thanks\n",
    "  - utter_gratitude\n",
    "* goodbye\n",
    "  - utter_goodbye\n",
    "\n",
    "## news path 2\n",
    "* current_matches\n",
    "  - action_match_news\n",
    "  - utter_did_that_help\n",
    "* affirm or thanks\n",
    "  - utter_gratitude\n",
    "* goodbye\n",
    "  - utter_goodbye\n",
    "\n",
    "## news path 3\n",
    "* greet\n",
    "  - utter_greet\n",
    "* current_matches\n",
    "  - action_match_news\n",
    "  - utter_did_that_help\n",
    "* deny\n",
    "  - utter_ask_again\n",
    "* current_matches\n",
    "  - action_match_news\n",
    "  - utter_did_that_help\n",
    "* affirm or thanks\n",
    "  - utter_gratitude\n",
    "* goodbye\n",
    "  - utter_goodbye\n",
    "\n",
    "## greet path\n",
    "* greet\n",
    "  - utter_greet\n",
    "\n",
    "## goodbye path\n",
    "* goodbye\n",
    "  - utter_goodbye\n",
    "\"\"\"\n",
    "\n",
    "%store stories_md > data/stories.md"
   ]
  },
  {
   "cell_type": "markdown",
   "metadata": {},
   "source": [
    "Now, generate a similar graph for your stories using the following command:\n",
    "\n",
    "**python -m rasa_core.visualize -d domain.yml -s data/stories.md -o graph.html**\n",
    "\n",
    "This is very helpful when debugging the conversational flow of the chatbot."
   ]
  },
  {
   "cell_type": "markdown",
   "metadata": {
    "colab_type": "text",
    "id": "LnD9v_CX-ePm"
   },
   "source": [
    "### Defining the Domain\n",
    "\n",
    "The domain is the world of your chatbot. It contains everything the chatbot should know, including:\n",
    "\n",
    "- All the actions it is capable of doing\n",
    "- The intents it should understand\n",
    "- The template of all the utterances it should tell the user, and much more"
   ]
  },
  {
   "cell_type": "code",
   "execution_count": 10,
   "metadata": {
    "colab": {
     "base_uri": "https://localhost:8080/",
     "height": 34
    },
    "colab_type": "code",
    "id": "3SzQq1oy5U9T",
    "outputId": "4fde8c0d-9672-457c-cacc-0e86d3ca5c80"
   },
   "outputs": [
    {
     "name": "stdout",
     "output_type": "stream",
     "text": [
      "Writing 'domain_yml' (str) to file 'config/domain.yml'.\n"
     ]
    }
   ],
   "source": [
    "domain_yml = \"\"\"\n",
    "actions:\n",
    "- utter_greet\n",
    "- utter_did_that_help\n",
    "- utter_goodbye\n",
    "- action_match_news\n",
    "- utter_default\n",
    "- utter_gratitude\n",
    "- utter_ask_again\n",
    "\n",
    "intents:\n",
    "- goodbye\n",
    "- greet\n",
    "- thanks\n",
    "- current_matches\n",
    "- affirm\n",
    "- deny\n",
    "\n",
    "templates:\n",
    "  utter_greet:\n",
    "  - text: \"Hey! What can I do for you?\"\n",
    "  utter_did_that_help:\n",
    "  - text: \"Did that help you?\"\n",
    "  - text: \"I hope that solved your query\"\n",
    "  utter_goodbye:\n",
    "  - text: \"Bye\"\n",
    "  utter_default:\n",
    "  - text: \"I am sorry, I didn't get that. Could you please repeat your query?\"\n",
    "  - text: \"I am not sure what you are aiming for.\"\n",
    "  utter_gratitude:\n",
    "  - text: \"Glad that I could be of help to you!\\nBye\"\n",
    "  utter_ask_again:\n",
    "  - text: \"Okay! Let's start again, please tell me what do you need?\"\n",
    "  - text: \"No issues! Let's try this again.\\n Please repeat your query?\"\n",
    "\"\"\"\n",
    "\n",
    "%store domain_yml > config/domain.yml"
   ]
  },
  {
   "cell_type": "markdown",
   "metadata": {},
   "source": [
    "### Setting Policies\n",
    "\n",
    "Rasa Core generates the training data for the conversational part using the stories we provide. It also lets you define a set of policies to use when deciding the next action of the chatbot. These policies are defined in the policies.yml file."
   ]
  },
  {
   "cell_type": "code",
   "execution_count": 11,
   "metadata": {},
   "outputs": [
    {
     "name": "stdout",
     "output_type": "stream",
     "text": [
      "Writing 'policies_yml' (str) to file 'config/policies.yml'.\n"
     ]
    }
   ],
   "source": [
    "policies_yml = \"\"\"\n",
    "policies:\n",
    "  - name: KerasPolicy\n",
    "    epochs: 100\n",
    "    max_history: 5\n",
    "  - name: FallbackPolicy\n",
    "    fallback_action_name: 'action_default_fallback'\n",
    "  - name: MemoizationPolicy\n",
    "    max_history: 5\n",
    "\"\"\"\n",
    "\n",
    "%store policies_yml > config/policies.yml"
   ]
  },
  {
   "cell_type": "markdown",
   "metadata": {},
   "source": [
    "Notes:\n",
    "- KerasPolicy uses a neural network implemented in Keras to select the next action. The default architecture is based on an LSTM (Long Short Term Memory) model\n",
    "- MemoizationPolicy memorizes the conversations in your training data. It predicts the next action with confidence 1.0 if this exact conversation exists in the training data, otherwise, it predicts ‘None’ with confidence 0.0\n",
    "- FallbackPolicy invokes a fallback action if the intent recognition has confidence below nlu_threshold or if none of the dialogue policies predict action with confidence higher than core_threshold\n",
    "- One important hyperparameter for Rasa Core policies is the max_history. This controls how much dialogue history the model looks at to decide which action to take next"
   ]
  },
  {
   "cell_type": "markdown",
   "metadata": {
    "colab_type": "text",
    "id": "ROL3AYs5-iCg"
   },
   "source": [
    "###  Custom Actions\n",
    "\n",
    "Using CricAPI for fetching IPL related news. It is free for 100 requests per day, which (I hope) is more than enough to satiate that cricket crazy passion you have.\n",
    "\n",
    "You need to first signup on the website to get access to their API:\n",
    "https://www.cricapi.com/\n",
    "\n",
    "You should be able to see your API Key once you are logged in:\n",
    "\n",
    "<img src=\"images/lala-1140x399.png\">\n",
    "\n",
    "Modifications to original code:\n",
    "\n",
    "- Instead of showing API key here it has been stored in ENV variable and fetched here\n",
    "- Key \"toss_winner_team\" was subsituted into depreceated key"
   ]
  },
  {
   "cell_type": "code",
   "execution_count": 12,
   "metadata": {
    "colab": {},
    "colab_type": "code",
    "id": "7SbmLMJa5X0E"
   },
   "outputs": [
    {
     "name": "stdout",
     "output_type": "stream",
     "text": [
      "Writing 'actions_py' (str) to file 'actions.py'.\n"
     ]
    }
   ],
   "source": [
    "actions_py=\"\"\"\n",
    "# -*- coding: utf-8 -*-\n",
    "from __future__ import absolute_import\n",
    "from __future__ import division\n",
    "from __future__ import print_function\n",
    "from __future__ import unicode_literals\n",
    "from datetime import datetime\n",
    "\n",
    "import logging\n",
    "import requests\n",
    "import json\n",
    "import os\n",
    "from rasa_core_sdk import Action\n",
    "\n",
    "logger = logging.getLogger(__name__)\n",
    "\n",
    "API_URL = \"https://cricapi.com/api/\"\n",
    "API_KEY = os.environ.get('CRICINFOAPI')\n",
    "\n",
    "class ApiAction(Action):\n",
    "    def name(self):\n",
    "        return \"action_match_news\"\n",
    "\n",
    "    def run(self, dispatcher, tracker, domain):\n",
    "        print(API_URL + \"matches\" + \"?apikey=\" + API_KEY)\n",
    "        res = requests.get(API_URL + \"matches\" + \"?apikey=\" + API_KEY) #, verify=False\n",
    "        if res.status_code == 200:\n",
    "            data = res.json()[\"matches\"]\n",
    "            recent_match = data[0]\n",
    "            upcoming_match = data[1]\n",
    "            upcoming_match[\"date\"] = datetime.strptime(upcoming_match[\"date\"], \"%Y-%m-%dT%H:%M:%S.%fZ\")\n",
    "            next_date = upcoming_match[\"date\"].strftime(\"%d %B %Y\")\n",
    "\n",
    "            out_message = \"Here some IPL quick info: 1.The match between {} and {} was recently held and {} won the toss.\".format(recent_match[\"team-1\"], recent_match[\"team-2\"], recent_match[\"toss_winner_team\"])\n",
    "\n",
    "            dispatcher.utter_message(out_message)\n",
    "\n",
    "            out_message = \"2.The next match is {} vs {} on {}\".format(upcoming_match[\"team-1\"], upcoming_match[\"team-2\"], next_date)\n",
    "\n",
    "            dispatcher.utter_message(out_message)\n",
    "\n",
    "            return []\n",
    "\"\"\"\n",
    "%store actions_py > actions.py"
   ]
  },
  {
   "cell_type": "markdown",
   "metadata": {},
   "source": [
    "Need endpoints yml to execute the actions server.\n",
    "\n",
    "Note: If you have external API call, like REST, need to have \"webhook\" word at the end, else nothing.\n",
    "\n",
    "My own query on this topic: https://forum.rasa.com/t/rasa-core-sdk-not-working/9228"
   ]
  },
  {
   "cell_type": "code",
   "execution_count": 13,
   "metadata": {},
   "outputs": [
    {
     "name": "stdout",
     "output_type": "stream",
     "text": [
      "Writing 'endpoints_yml' (str) to file 'endpoints.yml'.\n"
     ]
    }
   ],
   "source": [
    "endpoints_yml = \"\"\"\n",
    "#action_endpoint:\n",
    "#  url: \"http://localhost:5055/webhook\"\n",
    "  \n",
    "action_endpoint:\n",
    "  url: http://localhost:5055/webhook\n",
    "\n",
    "#nlg:\n",
    "#  url: http://localhost:5056/nlg\n",
    "\n",
    "core_endpoint:\n",
    "  url: http://localhost:5005\n",
    "\"\"\"\n",
    "%store endpoints_yml > endpoints.yml"
   ]
  },
  {
   "cell_type": "markdown",
   "metadata": {},
   "source": [
    "In a separate shell (cmd for Windows):\n",
    "- **activate rasa**\n",
    "- come to directory where actions.py is and then run\n",
    "- **python -m rasa_core_sdk.endpoint --actions actions**\n",
    "\n",
    "This way, custom action server starts ..."
   ]
  },
  {
   "cell_type": "code",
   "execution_count": 14,
   "metadata": {},
   "outputs": [],
   "source": [
    "# import sys\n",
    "# python = sys.executable\n",
    "# !{python} -m rasa_core_sdk.endpoint --actions actions"
   ]
  },
  {
   "cell_type": "markdown",
   "metadata": {
    "colab_type": "text",
    "id": "M-jn1g_k-o-m"
   },
   "source": [
    "###  Visualising the Training Data"
   ]
  },
  {
   "cell_type": "code",
   "execution_count": 15,
   "metadata": {
    "colab": {
     "base_uri": "https://localhost:8080/",
     "height": 1090
    },
    "colab_type": "code",
    "id": "O1gYRXe15amU",
    "outputId": "9c0838e3-56c1-4eeb-a879-cc09619269d3"
   },
   "outputs": [
    {
     "name": "stderr",
     "output_type": "stream",
     "text": [
      "INFO:apscheduler.scheduler:Scheduler started\n",
      "WARNING:rasa_core.training.dsl:Found unknown intent 'affirm or thanks' on line 8. Please, make sure that all intents are listed in your domain yaml.\n",
      "WARNING:rasa_core.training.dsl:Found unknown intent 'affirm or thanks' on line 17. Please, make sure that all intents are listed in your domain yaml.\n",
      "WARNING:rasa_core.training.dsl:Found unknown intent 'affirm or thanks' on line 33. Please, make sure that all intents are listed in your domain yaml.\n",
      "Processed Story Blocks: 100%|█████████████████████████████████████████████| 5/5 [00:00<00:00, 557.19it/s, # trackers=1]\n"
     ]
    },
    {
     "data": {
      "image/png": "[encoded data removed]",
      "text/plain": [
       "<IPython.core.display.Image object>"
      ]
     },
     "metadata": {},
     "output_type": "display_data"
    }
   ],
   "source": [
    "\n",
    "from IPython.display import Image, display\n",
    "from rasa_core.agent import Agent\n",
    "%matplotlib inline\n",
    "\n",
    "agent = Agent('config/domain.yml')\n",
    "agent.visualize(\"data/stories.md\", \"story_graph.png\", max_history=2)\n",
    "i = Image(filename=\"story_graph.png\")\n",
    "display(i)"
   ]
  },
  {
   "cell_type": "markdown",
   "metadata": {
    "colab_type": "text",
    "id": "pCdKD3l7-ua8"
   },
   "source": [
    "### Training a Dialogue Model\n",
    "\n",
    "You can train the model using the following command:\n",
    "\n",
    "**python -m rasa_core.train -d domain.yml -s data/stories.md -o models/current/dialogue -c policies.yml**\n",
    "\n",
    "Or do it programmatically as:"
   ]
  },
  {
   "cell_type": "code",
   "execution_count": 16,
   "metadata": {
    "colab": {
     "base_uri": "https://localhost:8080/",
     "height": 7364
    },
    "colab_type": "code",
    "id": "4D7R-FRO5dxz",
    "outputId": "727adf2a-fa4b-4158-df94-30ad472f62f3"
   },
   "outputs": [
    {
     "name": "stderr",
     "output_type": "stream",
     "text": [
      "WARNING:rasa_core.training.dsl:Found unknown intent 'affirm or thanks' on line 8. Please, make sure that all intents are listed in your domain yaml.\n",
      "WARNING:rasa_core.training.dsl:Found unknown intent 'affirm or thanks' on line 17. Please, make sure that all intents are listed in your domain yaml.\n",
      "WARNING:rasa_core.training.dsl:Found unknown intent 'affirm or thanks' on line 33. Please, make sure that all intents are listed in your domain yaml.\n",
      "Processed Story Blocks: 100%|█████████████████████████████████████████████| 5/5 [00:00<00:00, 553.38it/s, # trackers=1]\n",
      "Processed Story Blocks: 100%|█████████████████████████████████████████████| 5/5 [00:00<00:00, 383.60it/s, # trackers=3]\n",
      "Processed Story Blocks: 100%|█████████████████████████████████████████████| 5/5 [00:00<00:00, 356.15it/s, # trackers=9]\n",
      "Processed Story Blocks: 100%|█████████████████████████████████████████████| 5/5 [00:00<00:00, 293.55it/s, # trackers=8]\n",
      "Processed actions: 20it [00:00, 498.58it/s, # examples=20]\n"
     ]
    },
    {
     "name": "stdout",
     "output_type": "stream",
     "text": [
      "_________________________________________________________________\n",
      "Layer (type)                 Output Shape              Param #   \n",
      "=================================================================\n",
      "masking (Masking)            (None, 5, 20)             0         \n",
      "_________________________________________________________________\n",
      "lstm (LSTM)                  (None, 32)                6784      \n",
      "_________________________________________________________________\n",
      "dense (Dense)                (None, 14)                462       \n",
      "_________________________________________________________________\n",
      "activation (Activation)      (None, 14)                0         \n",
      "=================================================================\n",
      "Total params: 7,246\n",
      "Trainable params: 7,246\n",
      "Non-trainable params: 0\n",
      "_________________________________________________________________\n"
     ]
    },
    {
     "name": "stderr",
     "output_type": "stream",
     "text": [
      "INFO:rasa_core.policies.keras_policy:Fitting model with 64 total samples and a validation split of 0.2\n"
     ]
    },
    {
     "name": "stdout",
     "output_type": "stream",
     "text": [
      "Epoch 1/200\n",
      "64/64 [==============================] - ETA: 0s - loss: 2.5758 - acc: 0.406 - 1s 11ms/step - loss: 2.5715 - acc: 0.4062\n",
      "Epoch 2/200\n",
      "64/64 [==============================] - ETA: 0s - loss: 2.5252 - acc: 0.406 - 0s 157us/step - loss: 2.5196 - acc: 0.3594\n",
      "Epoch 3/200\n",
      "64/64 [==============================] - ETA: 0s - loss: 2.4951 - acc: 0.437 - 0s 188us/step - loss: 2.4980 - acc: 0.3906\n",
      "Epoch 4/200\n",
      "64/64 [==============================] - ETA: 0s - loss: 2.4647 - acc: 0.406 - 0s 188us/step - loss: 2.4618 - acc: 0.3906\n",
      "Epoch 5/200\n",
      "64/64 [==============================] - ETA: 0s - loss: 2.4594 - acc: 0.437 - 0s 172us/step - loss: 2.4485 - acc: 0.3906\n",
      "Epoch 6/200\n",
      "64/64 [==============================] - ETA: 0s - loss: 2.4153 - acc: 0.500 - 0s 188us/step - loss: 2.4292 - acc: 0.3906\n",
      "Epoch 7/200\n",
      "64/64 [==============================] - ETA: 0s - loss: 2.3911 - acc: 0.343 - 0s 188us/step - loss: 2.3936 - acc: 0.3125\n",
      "Epoch 8/200\n",
      "64/64 [==============================] - ETA: 0s - loss: 2.3537 - acc: 0.468 - 0s 188us/step - loss: 2.3609 - acc: 0.4062\n",
      "Epoch 9/200\n",
      "64/64 [==============================] - ETA: 0s - loss: 2.3280 - acc: 0.437 - 0s 157us/step - loss: 2.3216 - acc: 0.3906\n",
      "Epoch 10/200\n",
      "64/64 [==============================] - ETA: 0s - loss: 2.3018 - acc: 0.343 - 0s 172us/step - loss: 2.3088 - acc: 0.3594\n",
      "Epoch 11/200\n",
      "64/64 [==============================] - ETA: 0s - loss: 2.2366 - acc: 0.406 - 0s 172us/step - loss: 2.2548 - acc: 0.3750\n",
      "Epoch 12/200\n",
      "64/64 [==============================] - ETA: 0s - loss: 2.2424 - acc: 0.500 - 0s 157us/step - loss: 2.2449 - acc: 0.4062\n",
      "Epoch 13/200\n",
      "64/64 [==============================] - ETA: 0s - loss: 2.1544 - acc: 0.437 - 0s 219us/step - loss: 2.1754 - acc: 0.3750\n",
      "Epoch 14/200\n",
      "64/64 [==============================] - ETA: 0s - loss: 2.1333 - acc: 0.468 - 0s 172us/step - loss: 2.1487 - acc: 0.3750\n",
      "Epoch 15/200\n",
      "64/64 [==============================] - ETA: 0s - loss: 2.1005 - acc: 0.437 - 0s 141us/step - loss: 2.1222 - acc: 0.3750\n",
      "Epoch 16/200\n",
      "64/64 [==============================] - ETA: 0s - loss: 2.0678 - acc: 0.375 - 0s 157us/step - loss: 2.1114 - acc: 0.3438\n",
      "Epoch 17/200\n",
      "64/64 [==============================] - ETA: 0s - loss: 2.0109 - acc: 0.468 - 0s 157us/step - loss: 2.0375 - acc: 0.3906\n",
      "Epoch 18/200\n",
      "64/64 [==============================] - ETA: 0s - loss: 1.9660 - acc: 0.468 - 0s 172us/step - loss: 1.9972 - acc: 0.3906\n",
      "Epoch 19/200\n",
      "64/64 [==============================] - ETA: 0s - loss: 1.9790 - acc: 0.468 - 0s 157us/step - loss: 2.0127 - acc: 0.3906\n",
      "Epoch 20/200\n",
      "64/64 [==============================] - ETA: 0s - loss: 1.9118 - acc: 0.468 - 0s 141us/step - loss: 1.9442 - acc: 0.3906\n",
      "Epoch 21/200\n",
      "64/64 [==============================] - ETA: 0s - loss: 1.8699 - acc: 0.468 - 0s 172us/step - loss: 1.9180 - acc: 0.3906\n",
      "Epoch 22/200\n",
      "64/64 [==============================] - ETA: 0s - loss: 1.8359 - acc: 0.437 - 0s 172us/step - loss: 1.9004 - acc: 0.3750\n",
      "Epoch 23/200\n",
      "64/64 [==============================] - ETA: 0s - loss: 1.7804 - acc: 0.437 - 0s 157us/step - loss: 1.8521 - acc: 0.3750\n",
      "Epoch 24/200\n",
      "64/64 [==============================] - ETA: 0s - loss: 1.8002 - acc: 0.437 - 0s 219us/step - loss: 1.8559 - acc: 0.3750\n",
      "Epoch 25/200\n",
      "64/64 [==============================] - ETA: 0s - loss: 1.7833 - acc: 0.500 - 0s 172us/step - loss: 1.8544 - acc: 0.4062\n",
      "Epoch 26/200\n",
      "64/64 [==============================] - ETA: 0s - loss: 1.7771 - acc: 0.468 - 0s 188us/step - loss: 1.8221 - acc: 0.3906\n",
      "Epoch 27/200\n",
      "64/64 [==============================] - ETA: 0s - loss: 1.7112 - acc: 0.406 - 0s 188us/step - loss: 1.7961 - acc: 0.3594\n",
      "Epoch 28/200\n",
      "64/64 [==============================] - ETA: 0s - loss: 1.7204 - acc: 0.468 - 0s 157us/step - loss: 1.7974 - acc: 0.3906\n",
      "Epoch 29/200\n",
      "64/64 [==============================] - ETA: 0s - loss: 1.7074 - acc: 0.437 - 0s 172us/step - loss: 1.7604 - acc: 0.3750\n",
      "Epoch 30/200\n",
      "64/64 [==============================] - ETA: 0s - loss: 1.7077 - acc: 0.468 - 0s 157us/step - loss: 1.7726 - acc: 0.3906\n",
      "Epoch 31/200\n",
      "64/64 [==============================] - ETA: 0s - loss: 1.6555 - acc: 0.437 - 0s 188us/step - loss: 1.7097 - acc: 0.3750\n",
      "Epoch 32/200\n",
      "64/64 [==============================] - ETA: 0s - loss: 1.6346 - acc: 0.437 - 0s 157us/step - loss: 1.7203 - acc: 0.3906\n",
      "Epoch 33/200\n",
      "64/64 [==============================] - ETA: 0s - loss: 1.6498 - acc: 0.468 - 0s 172us/step - loss: 1.7035 - acc: 0.3906\n",
      "Epoch 34/200\n",
      "64/64 [==============================] - ETA: 0s - loss: 1.6122 - acc: 0.437 - 0s 172us/step - loss: 1.7173 - acc: 0.3750\n",
      "Epoch 35/200\n",
      "64/64 [==============================] - ETA: 0s - loss: 1.5766 - acc: 0.468 - 0s 172us/step - loss: 1.6539 - acc: 0.3906\n",
      "Epoch 36/200\n",
      "64/64 [==============================] - ETA: 0s - loss: 1.5910 - acc: 0.437 - 0s 157us/step - loss: 1.6897 - acc: 0.3750\n",
      "Epoch 37/200\n",
      "64/64 [==============================] - ETA: 0s - loss: 1.5040 - acc: 0.437 - 0s 157us/step - loss: 1.6160 - acc: 0.3750\n",
      "Epoch 38/200\n",
      "64/64 [==============================] - ETA: 0s - loss: 1.5667 - acc: 0.500 - 0s 172us/step - loss: 1.6467 - acc: 0.4219\n",
      "Epoch 39/200\n",
      "64/64 [==============================] - ETA: 0s - loss: 1.4951 - acc: 0.437 - 0s 172us/step - loss: 1.6014 - acc: 0.3750\n",
      "Epoch 40/200\n",
      "64/64 [==============================] - ETA: 0s - loss: 1.5148 - acc: 0.468 - 0s 172us/step - loss: 1.6181 - acc: 0.3906\n",
      "Epoch 41/200\n",
      "64/64 [==============================] - ETA: 0s - loss: 1.4687 - acc: 0.468 - 0s 172us/step - loss: 1.5853 - acc: 0.4219\n",
      "Epoch 42/200\n",
      "64/64 [==============================] - ETA: 0s - loss: 1.4780 - acc: 0.500 - 0s 172us/step - loss: 1.5598 - acc: 0.4062\n",
      "Epoch 43/200\n",
      "64/64 [==============================] - ETA: 0s - loss: 1.5214 - acc: 0.437 - 0s 157us/step - loss: 1.6094 - acc: 0.3750\n",
      "Epoch 44/200\n",
      "64/64 [==============================] - ETA: 0s - loss: 1.5182 - acc: 0.500 - 0s 172us/step - loss: 1.5811 - acc: 0.4531\n",
      "Epoch 45/200\n",
      "64/64 [==============================] - ETA: 0s - loss: 1.4926 - acc: 0.437 - 0s 172us/step - loss: 1.5344 - acc: 0.4062\n",
      "Epoch 46/200\n",
      "64/64 [==============================] - ETA: 0s - loss: 1.4665 - acc: 0.437 - 0s 157us/step - loss: 1.5337 - acc: 0.4062\n",
      "Epoch 47/200\n",
      "64/64 [==============================] - ETA: 0s - loss: 1.4255 - acc: 0.500 - 0s 157us/step - loss: 1.5008 - acc: 0.4219\n",
      "Epoch 48/200\n",
      "64/64 [==============================] - ETA: 0s - loss: 1.4470 - acc: 0.437 - 0s 157us/step - loss: 1.5244 - acc: 0.3750\n",
      "Epoch 49/200\n",
      "64/64 [==============================] - ETA: 0s - loss: 1.4375 - acc: 0.437 - 0s 157us/step - loss: 1.4958 - acc: 0.3750\n",
      "Epoch 50/200\n",
      "64/64 [==============================] - ETA: 0s - loss: 1.3635 - acc: 0.437 - 0s 157us/step - loss: 1.4661 - acc: 0.4062\n",
      "Epoch 51/200\n",
      "64/64 [==============================] - ETA: 0s - loss: 1.3998 - acc: 0.468 - 0s 172us/step - loss: 1.4864 - acc: 0.4219\n",
      "Epoch 52/200\n",
      "64/64 [==============================] - ETA: 0s - loss: 1.3252 - acc: 0.531 - 0s 157us/step - loss: 1.4431 - acc: 0.4531\n",
      "Epoch 53/200\n",
      "64/64 [==============================] - ETA: 0s - loss: 1.3971 - acc: 0.500 - 0s 157us/step - loss: 1.4634 - acc: 0.4531\n",
      "Epoch 54/200\n",
      "64/64 [==============================] - ETA: 0s - loss: 1.3317 - acc: 0.500 - 0s 172us/step - loss: 1.4373 - acc: 0.4219\n",
      "Epoch 55/200\n",
      "64/64 [==============================] - ETA: 0s - loss: 1.3116 - acc: 0.437 - 0s 157us/step - loss: 1.4183 - acc: 0.4219\n",
      "Epoch 56/200\n",
      "64/64 [==============================] - ETA: 0s - loss: 1.3636 - acc: 0.437 - 0s 157us/step - loss: 1.4355 - acc: 0.4062\n",
      "Epoch 57/200\n",
      "64/64 [==============================] - ETA: 0s - loss: 1.3173 - acc: 0.468 - 0s 141us/step - loss: 1.4052 - acc: 0.4219\n",
      "Epoch 58/200\n",
      "64/64 [==============================] - ETA: 0s - loss: 1.2926 - acc: 0.468 - 0s 157us/step - loss: 1.3811 - acc: 0.4688\n",
      "Epoch 59/200\n",
      "64/64 [==============================] - ETA: 0s - loss: 1.2622 - acc: 0.531 - 0s 157us/step - loss: 1.3628 - acc: 0.4844\n",
      "Epoch 60/200\n",
      "64/64 [==============================] - ETA: 0s - loss: 1.3615 - acc: 0.500 - 0s 157us/step - loss: 1.3972 - acc: 0.4688\n",
      "Epoch 61/200\n",
      "64/64 [==============================] - ETA: 0s - loss: 1.2447 - acc: 0.531 - 0s 172us/step - loss: 1.3261 - acc: 0.4688\n"
     ]
    },
    {
     "name": "stdout",
     "output_type": "stream",
     "text": [
      "Epoch 62/200\n",
      "64/64 [==============================] - ETA: 0s - loss: 1.2976 - acc: 0.531 - 0s 141us/step - loss: 1.3497 - acc: 0.5000\n",
      "Epoch 63/200\n",
      "64/64 [==============================] - ETA: 0s - loss: 1.2957 - acc: 0.468 - 0s 172us/step - loss: 1.3833 - acc: 0.4219\n",
      "Epoch 64/200\n",
      "64/64 [==============================] - ETA: 0s - loss: 1.2369 - acc: 0.500 - 0s 141us/step - loss: 1.3041 - acc: 0.5156\n",
      "Epoch 65/200\n",
      "64/64 [==============================] - ETA: 0s - loss: 1.2149 - acc: 0.500 - 0s 172us/step - loss: 1.2940 - acc: 0.5000\n",
      "Epoch 66/200\n",
      "64/64 [==============================] - ETA: 0s - loss: 1.2241 - acc: 0.500 - 0s 141us/step - loss: 1.2802 - acc: 0.4844\n",
      "Epoch 67/200\n",
      "64/64 [==============================] - ETA: 0s - loss: 1.3018 - acc: 0.468 - 0s 157us/step - loss: 1.3364 - acc: 0.4844\n",
      "Epoch 68/200\n",
      "64/64 [==============================] - ETA: 0s - loss: 1.2161 - acc: 0.562 - 0s 172us/step - loss: 1.2845 - acc: 0.5156\n",
      "Epoch 69/200\n",
      "64/64 [==============================] - ETA: 0s - loss: 1.2065 - acc: 0.562 - 0s 172us/step - loss: 1.3095 - acc: 0.5156\n",
      "Epoch 70/200\n",
      "64/64 [==============================] - ETA: 0s - loss: 1.1900 - acc: 0.500 - 0s 157us/step - loss: 1.2942 - acc: 0.4844\n",
      "Epoch 71/200\n",
      "64/64 [==============================] - ETA: 0s - loss: 1.1666 - acc: 0.562 - 0s 172us/step - loss: 1.2391 - acc: 0.4844\n",
      "Epoch 72/200\n",
      "64/64 [==============================] - ETA: 0s - loss: 1.1954 - acc: 0.562 - 0s 141us/step - loss: 1.2980 - acc: 0.5000\n",
      "Epoch 73/200\n",
      "64/64 [==============================] - ETA: 0s - loss: 1.1559 - acc: 0.562 - 0s 141us/step - loss: 1.2492 - acc: 0.5156\n",
      "Epoch 74/200\n",
      "64/64 [==============================] - ETA: 0s - loss: 1.1425 - acc: 0.593 - 0s 188us/step - loss: 1.2066 - acc: 0.5625\n",
      "Epoch 75/200\n",
      "64/64 [==============================] - ETA: 0s - loss: 1.1852 - acc: 0.593 - 0s 172us/step - loss: 1.2678 - acc: 0.5156\n",
      "Epoch 76/200\n",
      "64/64 [==============================] - ETA: 0s - loss: 1.1848 - acc: 0.562 - 0s 188us/step - loss: 1.2312 - acc: 0.5469\n",
      "Epoch 77/200\n",
      "64/64 [==============================] - ETA: 0s - loss: 1.0873 - acc: 0.750 - 0s 157us/step - loss: 1.1757 - acc: 0.6406\n",
      "Epoch 78/200\n",
      "64/64 [==============================] - ETA: 0s - loss: 1.1391 - acc: 0.593 - 0s 157us/step - loss: 1.2074 - acc: 0.5625\n",
      "Epoch 79/200\n",
      "64/64 [==============================] - ETA: 0s - loss: 1.0906 - acc: 0.687 - 0s 157us/step - loss: 1.1874 - acc: 0.5938\n",
      "Epoch 80/200\n",
      "64/64 [==============================] - ETA: 0s - loss: 1.1121 - acc: 0.625 - 0s 141us/step - loss: 1.1465 - acc: 0.5781\n",
      "Epoch 81/200\n",
      "64/64 [==============================] - ETA: 0s - loss: 1.2346 - acc: 0.562 - 0s 172us/step - loss: 1.2192 - acc: 0.5625\n",
      "Epoch 82/200\n",
      "64/64 [==============================] - ETA: 0s - loss: 1.0982 - acc: 0.750 - 0s 157us/step - loss: 1.1741 - acc: 0.6250\n",
      "Epoch 83/200\n",
      "64/64 [==============================] - ETA: 0s - loss: 1.0510 - acc: 0.718 - 0s 172us/step - loss: 1.1539 - acc: 0.6094\n",
      "Epoch 84/200\n",
      "64/64 [==============================] - ETA: 0s - loss: 1.0281 - acc: 0.781 - 0s 157us/step - loss: 1.1199 - acc: 0.6562\n",
      "Epoch 85/200\n",
      "64/64 [==============================] - ETA: 0s - loss: 1.0098 - acc: 0.750 - 0s 157us/step - loss: 1.0938 - acc: 0.6875\n",
      "Epoch 86/200\n",
      "64/64 [==============================] - ETA: 0s - loss: 1.0548 - acc: 0.687 - 0s 172us/step - loss: 1.1088 - acc: 0.6719\n",
      "Epoch 87/200\n",
      "64/64 [==============================] - ETA: 0s - loss: 1.0632 - acc: 0.718 - 0s 157us/step - loss: 1.1147 - acc: 0.7031\n",
      "Epoch 88/200\n",
      "64/64 [==============================] - ETA: 0s - loss: 1.0201 - acc: 0.750 - 0s 172us/step - loss: 1.1039 - acc: 0.6562\n",
      "Epoch 89/200\n",
      "64/64 [==============================] - ETA: 0s - loss: 1.0773 - acc: 0.718 - 0s 188us/step - loss: 1.0737 - acc: 0.7188\n",
      "Epoch 90/200\n",
      "64/64 [==============================] - ETA: 0s - loss: 0.9848 - acc: 0.750 - 0s 188us/step - loss: 1.0499 - acc: 0.7188\n",
      "Epoch 91/200\n",
      "64/64 [==============================] - ETA: 0s - loss: 1.0270 - acc: 0.750 - 0s 157us/step - loss: 1.0511 - acc: 0.7344\n",
      "Epoch 92/200\n",
      "64/64 [==============================] - ETA: 0s - loss: 0.9716 - acc: 0.781 - 0s 172us/step - loss: 1.0568 - acc: 0.7500\n",
      "Epoch 93/200\n",
      "64/64 [==============================] - ETA: 0s - loss: 0.9334 - acc: 0.781 - 0s 188us/step - loss: 1.0124 - acc: 0.7500\n",
      "Epoch 94/200\n",
      "64/64 [==============================] - ETA: 0s - loss: 1.0053 - acc: 0.781 - 0s 157us/step - loss: 1.0585 - acc: 0.7500\n",
      "Epoch 95/200\n",
      "64/64 [==============================] - ETA: 0s - loss: 0.9966 - acc: 0.781 - 0s 172us/step - loss: 1.0152 - acc: 0.7812\n",
      "Epoch 96/200\n",
      "64/64 [==============================] - ETA: 0s - loss: 0.9910 - acc: 0.750 - 0s 172us/step - loss: 1.0166 - acc: 0.7344\n",
      "Epoch 97/200\n",
      "64/64 [==============================] - ETA: 0s - loss: 0.9478 - acc: 0.812 - 0s 172us/step - loss: 1.0439 - acc: 0.7188\n",
      "Epoch 98/200\n",
      "64/64 [==============================] - ETA: 0s - loss: 0.9342 - acc: 0.718 - 0s 157us/step - loss: 0.9944 - acc: 0.6875\n",
      "Epoch 99/200\n",
      "64/64 [==============================] - ETA: 0s - loss: 1.0703 - acc: 0.718 - 0s 188us/step - loss: 1.0715 - acc: 0.7031\n",
      "Epoch 100/200\n",
      "64/64 [==============================] - ETA: 0s - loss: 0.9299 - acc: 0.718 - 0s 157us/step - loss: 1.0000 - acc: 0.7500\n",
      "Epoch 101/200\n",
      "64/64 [==============================] - ETA: 0s - loss: 0.9500 - acc: 0.812 - 0s 172us/step - loss: 1.0056 - acc: 0.7656\n",
      "Epoch 102/200\n",
      "64/64 [==============================] - ETA: 0s - loss: 0.9430 - acc: 0.843 - 0s 157us/step - loss: 0.9835 - acc: 0.7969\n",
      "Epoch 103/200\n",
      "64/64 [==============================] - ETA: 0s - loss: 0.8887 - acc: 0.812 - 0s 172us/step - loss: 0.9371 - acc: 0.8125\n",
      "Epoch 104/200\n",
      "64/64 [==============================] - ETA: 0s - loss: 0.9386 - acc: 0.781 - 0s 172us/step - loss: 0.9916 - acc: 0.7500\n",
      "Epoch 105/200\n",
      "64/64 [==============================] - ETA: 0s - loss: 0.8161 - acc: 0.906 - 0s 141us/step - loss: 0.9065 - acc: 0.8438\n",
      "Epoch 106/200\n",
      "64/64 [==============================] - ETA: 0s - loss: 0.7801 - acc: 0.937 - 0s 188us/step - loss: 0.8379 - acc: 0.8906\n",
      "Epoch 107/200\n",
      "64/64 [==============================] - ETA: 0s - loss: 0.8663 - acc: 0.843 - 0s 157us/step - loss: 0.9449 - acc: 0.8281\n",
      "Epoch 108/200\n",
      "64/64 [==============================] - ETA: 0s - loss: 0.7946 - acc: 0.906 - 0s 157us/step - loss: 0.8588 - acc: 0.8594\n",
      "Epoch 109/200\n",
      "64/64 [==============================] - ETA: 0s - loss: 0.8779 - acc: 0.812 - 0s 172us/step - loss: 0.9147 - acc: 0.7812\n",
      "Epoch 110/200\n",
      "64/64 [==============================] - ETA: 0s - loss: 0.8964 - acc: 0.812 - 0s 172us/step - loss: 0.9084 - acc: 0.7969\n",
      "Epoch 111/200\n",
      "64/64 [==============================] - ETA: 0s - loss: 0.7754 - acc: 0.843 - 0s 141us/step - loss: 0.8432 - acc: 0.8281\n",
      "Epoch 112/200\n",
      "64/64 [==============================] - ETA: 0s - loss: 0.8011 - acc: 0.937 - 0s 172us/step - loss: 0.8741 - acc: 0.8438\n",
      "Epoch 113/200\n",
      "64/64 [==============================] - ETA: 0s - loss: 0.7609 - acc: 0.968 - 0s 172us/step - loss: 0.8283 - acc: 0.9219\n",
      "Epoch 114/200\n",
      "64/64 [==============================] - ETA: 0s - loss: 0.8208 - acc: 0.843 - 0s 172us/step - loss: 0.8466 - acc: 0.8438\n",
      "Epoch 115/200\n",
      "64/64 [==============================] - ETA: 0s - loss: 0.8137 - acc: 0.906 - 0s 157us/step - loss: 0.8656 - acc: 0.8594\n",
      "Epoch 116/200\n",
      "64/64 [==============================] - ETA: 0s - loss: 0.7602 - acc: 0.906 - 0s 157us/step - loss: 0.8381 - acc: 0.7969\n",
      "Epoch 117/200\n",
      "64/64 [==============================] - ETA: 0s - loss: 0.7893 - acc: 0.906 - 0s 172us/step - loss: 0.8261 - acc: 0.8750\n",
      "Epoch 118/200\n",
      "64/64 [==============================] - ETA: 0s - loss: 0.7516 - acc: 0.968 - 0s 157us/step - loss: 0.7997 - acc: 0.9062\n",
      "Epoch 119/200\n",
      "64/64 [==============================] - ETA: 0s - loss: 0.7087 - acc: 0.968 - 0s 157us/step - loss: 0.7677 - acc: 0.9062\n",
      "Epoch 120/200\n",
      "64/64 [==============================] - ETA: 0s - loss: 0.9020 - acc: 0.781 - 0s 188us/step - loss: 0.8813 - acc: 0.8125\n",
      "Epoch 121/200\n",
      "64/64 [==============================] - ETA: 0s - loss: 0.7652 - acc: 0.937 - 0s 141us/step - loss: 0.8197 - acc: 0.8438\n",
      "Epoch 122/200\n",
      "64/64 [==============================] - ETA: 0s - loss: 0.7103 - acc: 0.937 - 0s 157us/step - loss: 0.7681 - acc: 0.8750\n",
      "Epoch 123/200\n",
      "64/64 [==============================] - ETA: 0s - loss: 0.7104 - acc: 0.843 - 0s 172us/step - loss: 0.7587 - acc: 0.8906\n",
      "Epoch 124/200\n",
      "64/64 [==============================] - ETA: 0s - loss: 0.6520 - acc: 0.937 - 0s 157us/step - loss: 0.7092 - acc: 0.9531\n",
      "Epoch 125/200\n",
      "64/64 [==============================] - ETA: 0s - loss: 0.6944 - acc: 0.937 - 0s 157us/step - loss: 0.7467 - acc: 0.8906\n",
      "Epoch 126/200\n",
      "64/64 [==============================] - ETA: 0s - loss: 0.6390 - acc: 0.968 - 0s 172us/step - loss: 0.7231 - acc: 0.9375\n",
      "Epoch 127/200\n",
      "64/64 [==============================] - ETA: 0s - loss: 0.6114 - acc: 1.000 - 0s 141us/step - loss: 0.7031 - acc: 0.9219\n",
      "Epoch 128/200\n",
      "64/64 [==============================] - ETA: 0s - loss: 0.6222 - acc: 0.968 - 0s 157us/step - loss: 0.6820 - acc: 0.9375\n",
      "Epoch 129/200\n",
      "64/64 [==============================] - ETA: 0s - loss: 0.6334 - acc: 1.000 - 0s 141us/step - loss: 0.7275 - acc: 0.9062\n",
      "Epoch 130/200\n",
      "64/64 [==============================] - ETA: 0s - loss: 0.6505 - acc: 0.906 - 0s 172us/step - loss: 0.6756 - acc: 0.9219\n",
      "Epoch 131/200\n",
      "64/64 [==============================] - ETA: 0s - loss: 0.6243 - acc: 0.937 - 0s 157us/step - loss: 0.6625 - acc: 0.9219\n",
      "Epoch 132/200\n",
      "64/64 [==============================] - ETA: 0s - loss: 0.6916 - acc: 0.875 - 0s 173us/step - loss: 0.7023 - acc: 0.8750\n",
      "Epoch 133/200\n",
      "64/64 [==============================] - ETA: 0s - loss: 0.5743 - acc: 0.937 - 0s 157us/step - loss: 0.6740 - acc: 0.8906\n",
      "Epoch 134/200\n",
      "64/64 [==============================] - ETA: 0s - loss: 0.5568 - acc: 1.000 - 0s 172us/step - loss: 0.6257 - acc: 0.9531\n",
      "Epoch 135/200\n",
      "64/64 [==============================] - ETA: 0s - loss: 0.5479 - acc: 0.937 - 0s 141us/step - loss: 0.6392 - acc: 0.9062\n",
      "Epoch 136/200\n",
      "64/64 [==============================] - ETA: 0s - loss: 0.5045 - acc: 1.000 - 0s 157us/step - loss: 0.6273 - acc: 0.9375\n",
      "Epoch 137/200\n",
      "64/64 [==============================] - ETA: 0s - loss: 0.5171 - acc: 0.968 - 0s 157us/step - loss: 0.5870 - acc: 0.9531\n",
      "Epoch 138/200\n",
      "64/64 [==============================] - ETA: 0s - loss: 0.5120 - acc: 1.000 - 0s 157us/step - loss: 0.5756 - acc: 0.9844\n",
      "Epoch 139/200\n",
      "64/64 [==============================] - ETA: 0s - loss: 0.5952 - acc: 0.875 - 0s 141us/step - loss: 0.6673 - acc: 0.8438\n",
      "Epoch 140/200\n",
      "64/64 [==============================] - ETA: 0s - loss: 0.5278 - acc: 1.000 - 0s 141us/step - loss: 0.5713 - acc: 0.9844\n",
      "Epoch 141/200\n",
      "64/64 [==============================] - ETA: 0s - loss: 0.5973 - acc: 0.937 - 0s 157us/step - loss: 0.6054 - acc: 0.9531\n",
      "Epoch 142/200\n",
      "64/64 [==============================] - ETA: 0s - loss: 0.5011 - acc: 0.968 - 0s 172us/step - loss: 0.5780 - acc: 0.9219\n",
      "Epoch 143/200\n",
      "64/64 [==============================] - ETA: 0s - loss: 0.5083 - acc: 0.968 - 0s 157us/step - loss: 0.5759 - acc: 0.9375\n",
      "Epoch 144/200\n",
      "64/64 [==============================] - ETA: 0s - loss: 0.5654 - acc: 0.937 - 0s 157us/step - loss: 0.5912 - acc: 0.9531\n",
      "Epoch 145/200\n",
      "64/64 [==============================] - ETA: 0s - loss: 0.4866 - acc: 0.968 - 0s 157us/step - loss: 0.5557 - acc: 0.9219\n",
      "Epoch 146/200\n",
      "64/64 [==============================] - ETA: 0s - loss: 0.5004 - acc: 0.968 - 0s 172us/step - loss: 0.5206 - acc: 0.9688\n",
      "Epoch 147/200\n",
      "64/64 [==============================] - ETA: 0s - loss: 0.4558 - acc: 0.937 - 0s 157us/step - loss: 0.5370 - acc: 0.9062\n",
      "Epoch 148/200\n",
      "64/64 [==============================] - ETA: 0s - loss: 0.4768 - acc: 0.968 - 0s 172us/step - loss: 0.6112 - acc: 0.9062\n",
      "Epoch 149/200\n",
      "64/64 [==============================] - ETA: 0s - loss: 0.4419 - acc: 1.000 - 0s 188us/step - loss: 0.5189 - acc: 0.9375\n",
      "Epoch 150/200\n",
      "64/64 [==============================] - ETA: 0s - loss: 0.4913 - acc: 0.937 - 0s 172us/step - loss: 0.5333 - acc: 0.9531\n",
      "Epoch 151/200\n",
      "64/64 [==============================] - ETA: 0s - loss: 0.4785 - acc: 0.937 - 0s 172us/step - loss: 0.5328 - acc: 0.9219\n",
      "Epoch 152/200\n",
      "64/64 [==============================] - ETA: 0s - loss: 0.4824 - acc: 0.906 - 0s 157us/step - loss: 0.5149 - acc: 0.9219\n",
      "Epoch 153/200\n",
      "64/64 [==============================] - ETA: 0s - loss: 0.3720 - acc: 1.000 - 0s 157us/step - loss: 0.4638 - acc: 0.9531\n",
      "Epoch 154/200\n",
      "64/64 [==============================] - ETA: 0s - loss: 0.4467 - acc: 0.937 - 0s 172us/step - loss: 0.4887 - acc: 0.9375\n",
      "Epoch 155/200\n",
      "64/64 [==============================] - ETA: 0s - loss: 0.3888 - acc: 1.000 - 0s 157us/step - loss: 0.5259 - acc: 0.9219\n",
      "Epoch 156/200\n",
      "64/64 [==============================] - ETA: 0s - loss: 0.4189 - acc: 1.000 - 0s 172us/step - loss: 0.5110 - acc: 0.9375\n",
      "Epoch 157/200\n",
      "64/64 [==============================] - ETA: 0s - loss: 0.4259 - acc: 0.937 - 0s 157us/step - loss: 0.4710 - acc: 0.9531\n",
      "Epoch 158/200\n",
      "64/64 [==============================] - ETA: 0s - loss: 0.4048 - acc: 0.968 - 0s 172us/step - loss: 0.4763 - acc: 0.9219\n",
      "Epoch 159/200\n",
      "64/64 [==============================] - ETA: 0s - loss: 0.4386 - acc: 0.937 - 0s 157us/step - loss: 0.4670 - acc: 0.9531\n",
      "Epoch 160/200\n",
      "64/64 [==============================] - ETA: 0s - loss: 0.3840 - acc: 0.937 - 0s 172us/step - loss: 0.4322 - acc: 0.9531\n",
      "Epoch 161/200\n",
      "64/64 [==============================] - ETA: 0s - loss: 0.4102 - acc: 0.875 - 0s 219us/step - loss: 0.4649 - acc: 0.9062\n",
      "Epoch 162/200\n",
      "64/64 [==============================] - ETA: 0s - loss: 0.3803 - acc: 0.968 - 0s 188us/step - loss: 0.4387 - acc: 0.9688\n",
      "Epoch 163/200\n",
      "64/64 [==============================] - ETA: 0s - loss: 0.4343 - acc: 0.843 - 0s 157us/step - loss: 0.4924 - acc: 0.8906\n",
      "Epoch 164/200\n",
      "64/64 [==============================] - ETA: 0s - loss: 0.3519 - acc: 0.968 - 0s 157us/step - loss: 0.4468 - acc: 0.9219\n",
      "Epoch 165/200\n",
      "64/64 [==============================] - ETA: 0s - loss: 0.4132 - acc: 0.937 - 0s 157us/step - loss: 0.4728 - acc: 0.9219\n",
      "Epoch 166/200\n",
      "64/64 [==============================] - ETA: 0s - loss: 0.4100 - acc: 0.906 - 0s 188us/step - loss: 0.4831 - acc: 0.9062\n",
      "Epoch 167/200\n",
      "64/64 [==============================] - ETA: 0s - loss: 0.3660 - acc: 0.968 - 0s 141us/step - loss: 0.4438 - acc: 0.9375\n",
      "Epoch 168/200\n",
      "64/64 [==============================] - ETA: 0s - loss: 0.2973 - acc: 1.000 - 0s 157us/step - loss: 0.3842 - acc: 0.9531\n",
      "Epoch 169/200\n",
      "64/64 [==============================] - ETA: 0s - loss: 0.3020 - acc: 0.968 - 0s 172us/step - loss: 0.4029 - acc: 0.9375\n",
      "Epoch 170/200\n",
      "64/64 [==============================] - ETA: 0s - loss: 0.4622 - acc: 0.875 - 0s 172us/step - loss: 0.4424 - acc: 0.9219\n",
      "Epoch 171/200\n",
      "64/64 [==============================] - ETA: 0s - loss: 0.3047 - acc: 1.000 - 0s 188us/step - loss: 0.3805 - acc: 0.9531\n",
      "Epoch 172/200\n",
      "64/64 [==============================] - ETA: 0s - loss: 0.3732 - acc: 0.906 - 0s 188us/step - loss: 0.4457 - acc: 0.8906\n",
      "Epoch 173/200\n",
      "64/64 [==============================] - ETA: 0s - loss: 0.4006 - acc: 0.937 - 0s 141us/step - loss: 0.4469 - acc: 0.9219\n",
      "Epoch 174/200\n",
      "64/64 [==============================] - ETA: 0s - loss: 0.2991 - acc: 1.000 - 0s 188us/step - loss: 0.3548 - acc: 0.9844\n",
      "Epoch 175/200\n",
      "64/64 [==============================] - ETA: 0s - loss: 0.3132 - acc: 0.968 - 0s 157us/step - loss: 0.3907 - acc: 0.9531\n",
      "Epoch 176/200\n",
      "64/64 [==============================] - ETA: 0s - loss: 0.2951 - acc: 1.000 - 0s 188us/step - loss: 0.3573 - acc: 0.9688\n",
      "Epoch 177/200\n",
      "64/64 [==============================] - ETA: 0s - loss: 0.3502 - acc: 0.906 - 0s 172us/step - loss: 0.3647 - acc: 0.9375\n",
      "Epoch 178/200\n",
      "64/64 [==============================] - ETA: 0s - loss: 0.2981 - acc: 0.968 - 0s 172us/step - loss: 0.3748 - acc: 0.9375\n",
      "Epoch 179/200\n",
      "64/64 [==============================] - ETA: 0s - loss: 0.2639 - acc: 0.968 - 0s 157us/step - loss: 0.3430 - acc: 0.9219\n",
      "Epoch 180/200\n",
      "64/64 [==============================] - ETA: 0s - loss: 0.2242 - acc: 1.000 - 0s 172us/step - loss: 0.3605 - acc: 0.9375\n",
      "Epoch 181/200\n",
      "64/64 [==============================] - ETA: 0s - loss: 0.2503 - acc: 0.968 - 0s 172us/step - loss: 0.3752 - acc: 0.9375\n",
      "Epoch 182/200\n"
     ]
    },
    {
     "name": "stdout",
     "output_type": "stream",
     "text": [
      "64/64 [==============================] - ETA: 0s - loss: 0.2760 - acc: 0.968 - 0s 157us/step - loss: 0.3463 - acc: 0.9375\n",
      "Epoch 183/200\n",
      "64/64 [==============================] - ETA: 0s - loss: 0.3099 - acc: 0.968 - 0s 172us/step - loss: 0.3598 - acc: 0.9688\n",
      "Epoch 184/200\n",
      "64/64 [==============================] - ETA: 0s - loss: 0.2563 - acc: 0.937 - 0s 157us/step - loss: 0.3522 - acc: 0.9062\n",
      "Epoch 185/200\n",
      "64/64 [==============================] - ETA: 0s - loss: 0.2753 - acc: 0.968 - 0s 157us/step - loss: 0.3366 - acc: 0.9688\n",
      "Epoch 186/200\n",
      "64/64 [==============================] - ETA: 0s - loss: 0.2843 - acc: 0.968 - 0s 157us/step - loss: 0.3234 - acc: 0.9688\n",
      "Epoch 187/200\n",
      "64/64 [==============================] - ETA: 0s - loss: 0.3188 - acc: 0.937 - 0s 141us/step - loss: 0.3758 - acc: 0.9219\n",
      "Epoch 188/200\n",
      "64/64 [==============================] - ETA: 0s - loss: 0.2917 - acc: 0.937 - 0s 172us/step - loss: 0.3191 - acc: 0.9531\n",
      "Epoch 189/200\n",
      "64/64 [==============================] - ETA: 0s - loss: 0.2392 - acc: 0.968 - 0s 172us/step - loss: 0.3052 - acc: 0.9531\n",
      "Epoch 190/200\n",
      "64/64 [==============================] - ETA: 0s - loss: 0.2627 - acc: 0.937 - 0s 157us/step - loss: 0.3440 - acc: 0.9219\n",
      "Epoch 191/200\n",
      "64/64 [==============================] - ETA: 0s - loss: 0.1950 - acc: 1.000 - 0s 141us/step - loss: 0.2844 - acc: 0.9688\n",
      "Epoch 192/200\n",
      "64/64 [==============================] - ETA: 0s - loss: 0.2019 - acc: 1.000 - 0s 188us/step - loss: 0.3261 - acc: 0.9531\n",
      "Epoch 193/200\n",
      "64/64 [==============================] - ETA: 0s - loss: 0.2049 - acc: 1.000 - 0s 157us/step - loss: 0.2790 - acc: 0.9688\n",
      "Epoch 194/200\n",
      "64/64 [==============================] - ETA: 0s - loss: 0.2381 - acc: 1.000 - 0s 172us/step - loss: 0.3047 - acc: 0.9844\n",
      "Epoch 195/200\n",
      "64/64 [==============================] - ETA: 0s - loss: 0.2193 - acc: 0.968 - 0s 172us/step - loss: 0.2637 - acc: 0.9688\n",
      "Epoch 196/200\n",
      "64/64 [==============================] - ETA: 0s - loss: 0.2303 - acc: 0.968 - 0s 157us/step - loss: 0.3259 - acc: 0.9375\n",
      "Epoch 197/200\n",
      "64/64 [==============================] - ETA: 0s - loss: 0.2593 - acc: 0.968 - 0s 157us/step - loss: 0.3232 - acc: 0.9531\n",
      "Epoch 198/200\n",
      "64/64 [==============================] - ETA: 0s - loss: 0.1998 - acc: 1.000 - 0s 157us/step - loss: 0.2954 - acc: 0.9375\n",
      "Epoch 199/200\n",
      "64/64 [==============================] - ETA: 0s - loss: 0.2391 - acc: 0.937 - 0s 172us/step - loss: 0.3073 - acc: 0.9219\n",
      "Epoch 200/200\n",
      "64/64 [==============================] - ETA: 0s - loss: 0.1725 - acc: 1.000 - 0s 172us/step - loss: 0.2452 - acc: 0.9844\n"
     ]
    },
    {
     "name": "stderr",
     "output_type": "stream",
     "text": [
      "INFO:rasa_core.policies.keras_policy:Done fitting keras policy model\n",
      "INFO:rasa_core.agent:Model directory models/current/dialogue exists and contains old model files. All files will be overwritten.\n",
      "INFO:rasa_core.agent:Persisted model to 'C:\\YogeshKulkarni\\Training\\TeachingDataScience\\Jupyter\\iplbot\\models\\current\\dialogue'\n"
     ]
    }
   ],
   "source": [
    "from rasa_core.policies import FallbackPolicy, KerasPolicy, MemoizationPolicy\n",
    "from rasa_core.agent import Agent\n",
    "\n",
    "# this will catch predictions the model isn't very certain about\n",
    "# there is a threshold for the NLU predictions as well as the action predictions\n",
    "fallback = FallbackPolicy(fallback_action_name=\"utter_unclear\",\n",
    "                          core_threshold=0.2,\n",
    "                          nlu_threshold=0.1)\n",
    "\n",
    "# agent = Agent('domain.yml', policies=[MemoizationPolicy(), KerasPolicy(), fallback])\n",
    "\n",
    "agent = Agent('config/domain.yml', policies = [MemoizationPolicy(max_history=2), KerasPolicy(validation_split=0.2,epochs=200)])\n",
    "# loading our neatly defined training dialogues\n",
    "training_data = agent.load_data('data/stories.md')\n",
    "\n",
    "agent.train(training_data)\n",
    "# FOLLOWING WAY OF giving arguments is depreacted, instead, give these params as arguments to KerasPolicy\n",
    "# agent.train(\n",
    "#     training_data,\n",
    "#     validation_split=0.0,\n",
    "#     epochs=200\n",
    "# )\n",
    "\n",
    "agent.persist('models/current/dialogue')"
   ]
  },
  {
   "cell_type": "markdown",
   "metadata": {
    "colab_type": "text",
    "id": "c4911z6y-5rD"
   },
   "source": [
    "## Running: Talk to your Bot\n",
    "\n",
    "So we have the chatbot ready. It’s time to chat"
   ]
  },
  {
   "cell_type": "markdown",
   "metadata": {},
   "source": [
    "One way is to run following command in shell (windows cmd)\n",
    "- activate the environment,\n",
    "- come to directory where actions.py is and then run\n",
    "- **python -m rasa_core.run -d models/current/dialogue -u models/current/nlu --endpoints endpoints.yml**\n",
    "\n",
    "Or else do programmatically like below\n",
    "\n",
    "Both approaches expect rasa core sdk server running in a separate window, else **python -m rasa_core_sdk.endpoint --actions actions**"
   ]
  },
  {
   "cell_type": "code",
   "execution_count": 17,
   "metadata": {
    "colab": {
     "base_uri": "https://localhost:8080/",
     "height": 34
    },
    "colab_type": "code",
    "id": "nE4coPam5hry",
    "outputId": "c8ec135b-882b-4e9e-a955-f3e184177817"
   },
   "outputs": [],
   "source": [
    "# #Starting the Bot\n",
    "\n",
    "# from rasa_core.agent import Agent\n",
    "# agent = Agent.load('models/current/dialogue', interpreter=model_directory)\n",
    "\n",
    "import IPython\n",
    "from IPython.display import clear_output\n",
    "from rasa_core.agent import Agent\n",
    "from rasa_core.interpreter import NaturalLanguageInterpreter\n",
    "from rasa_core.utils import EndpointConfig\n",
    "import time\n",
    "\n",
    "def load_assistant():\n",
    "    messages = [\"Hi! you can chat in this window. Type 'stop' to end the conversation.\"]\n",
    "    model_dir = 'models/nlu/default/current' # or model_directory defined earlier\n",
    "    interpreter = NaturalLanguageInterpreter.create(model_dir)\n",
    "    endpoint = EndpointConfig('http://localhost:5055/webhook')\n",
    "    agent = Agent.load('models/current/dialogue', interpreter=interpreter, action_endpoint = endpoint)\n",
    "\n",
    "    print(\"Your bot is ready to talk! Type your messages here or send 'stop'\")\n",
    "    while True:\n",
    "        a = input()\n",
    "        if a == 'stop':\n",
    "            break\n",
    "        responses = agent.handle_text(a)\n",
    "        for response in responses:\n",
    "            print(response[\"text\"])"
   ]
  },
  {
   "cell_type": "code",
   "execution_count": null,
   "metadata": {
    "colab": {
     "base_uri": "https://localhost:8080/",
     "height": 292
    },
    "colab_type": "code",
    "id": "DDVLzhAT5yrP",
    "outputId": "aee3fc83-df97-42b4-c7e0-c8929f76337c"
   },
   "outputs": [
    {
     "name": "stderr",
     "output_type": "stream",
     "text": [
      "INFO:rasa_nlu.components:Added 'nlp_spacy' to component cache. Key 'nlp_spacy-en'.\n"
     ]
    },
    {
     "name": "stdout",
     "output_type": "stream",
     "text": [
      "Your bot is ready to talk! Type your messages here or send 'stop'\n",
      "hi\n",
      "Hey! What can I do for you?\n",
      "bye\n",
      "Bye\n"
     ]
    }
   ],
   "source": [
    "load_assistant()        "
   ]
  },
  {
   "cell_type": "markdown",
   "metadata": {
    "colab": {},
    "colab_type": "code",
    "id": "enJNkbvB54y1"
   },
   "source": [
    "## What Next?\n",
    "\n",
    "- Try to use different pipelines in Rasa Core, explore more Policies, fine-tune those models, \n",
    "- Check out what other features CricAPI provides, etc.\n",
    "- Other APIs\n",
    "- Slot filling\n",
    "- Different languages (Hindi bot?)\n",
    "\n"
   ]
  },
  {
   "cell_type": "code",
   "execution_count": null,
   "metadata": {},
   "outputs": [],
   "source": []
  }
 ],
 "metadata": {
  "accelerator": "GPU",
  "anaconda-cloud": {},
  "colab": {
   "include_colab_link": true,
   "name": "Conversational_Chatbot.ipynb",
   "provenance": [],
   "version": "0.3.2"
  },
  "kernelspec": {
   "display_name": "Python [conda env:conda-rasa] *",
   "language": "python",
   "name": "conda-env-conda-rasa-py"
  },
  "language_info": {
   "codemirror_mode": {
    "name": "ipython",
    "version": 3
   },
   "file_extension": ".py",
   "mimetype": "text/x-python",
   "name": "python",
   "nbconvert_exporter": "python",
   "pygments_lexer": "ipython3",
   "version": "3.6.9"
  }
 },
 "nbformat": 4,
 "nbformat_minor": 1
}
